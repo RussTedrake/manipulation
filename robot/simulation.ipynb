{
 "cells": [
  {
   "cell_type": "markdown",
   "metadata": {
    "colab_type": "text",
    "id": "EgiF12Hf1Dhs"
   },
   "source": [
    "This notebook provides examples to go along with the [textbook](http://manipulation.csail.mit.edu/robot.html).  I recommend having both windows open, side-by-side!"
   ]
  },
  {
   "cell_type": "code",
   "execution_count": 1,
   "metadata": {
    "colab": {},
    "colab_type": "code",
    "id": "eeMrMI0-1Dhu"
   },
   "outputs": [],
   "source": [
    "import numpy as np\n",
    "import pydot\n",
    "from IPython.display import HTML, SVG, display\n",
    "from pydrake.all import (\n",
    "    AddMultibodyPlantSceneGraph,\n",
    "    DiagramBuilder,\n",
    "    GenerateHtml,\n",
    "    InverseDynamicsController,\n",
    "    MeshcatVisualizer,\n",
    "    MeshcatVisualizerParams,\n",
    "    MultibodyPlant,\n",
    "    Parser,\n",
    "    Simulator,\n",
    "    StartMeshcat,\n",
    "    ModelVisualizer,\n",
    ")\n",
    "\n",
    "from manipulation import running_as_notebook"
   ]
  },
  {
   "cell_type": "code",
   "execution_count": 2,
   "metadata": {},
   "outputs": [
    {
     "name": "stderr",
     "output_type": "stream",
     "text": [
      "INFO:drake:Meshcat listening for connections at http://localhost:7001\n"
     ]
    }
   ],
   "source": [
    "# Start the visualizer.\n",
    "meshcat = StartMeshcat()"
   ]
  },
  {
   "cell_type": "markdown",
   "metadata": {
    "colab_type": "text",
    "id": "nPy2VgSH1Dh5"
   },
   "source": [
    "# Simulation with block diagrams\n",
    "\n",
    "In this chapter, and throughout the notes, we will be building up our simulations and controllers using drake's block diagram modeling language (we call it the \"systems framework\").  [This tutorial](https://deepnote.com/workspace/Drake-0b3b2c53-a7ad-441b-80f8-bf8350752305/project/Tutorials-2b4fc509-aef2-417d-a40d-6071dfed9199/%2Fdynamical_systems.ipynb)  provides a brief introduction.  \n"
   ]
  },
  {
   "cell_type": "markdown",
   "metadata": {
    "colab_type": "text",
    "id": "Dl9NDxDR1Dh6"
   },
   "source": [
    "# Simulating the (passive) iiwa\n",
    "\n",
    "Let's load our robot of choice (the Kuka iiwa) into the physics engine, which we call [MultibodyPlant](https://drake.mit.edu/doxygen_cxx/classdrake_1_1multibody_1_1_multibody_plant.html).\n"
   ]
  },
  {
   "cell_type": "code",
   "execution_count": 10,
   "metadata": {
    "colab": {},
    "colab_type": "code",
    "id": "DyfpxsGR1Dh6"
   },
   "outputs": [
    {
     "ename": "TypeError",
     "evalue": "GetPositions(): incompatible function arguments. The following argument types are supported:\n    1. (self: pydrake.multibody.plant.MultibodyPlant, context: pydrake.systems.framework.Context) -> numpy.ndarray[numpy.float64[m, 1]]\n    2. (self: pydrake.multibody.plant.MultibodyPlant, context: pydrake.systems.framework.Context, model_instance: pydrake.multibody.tree.ModelInstanceIndex) -> numpy.ndarray[numpy.float64[m, 1]]\n    3. (self: pydrake.multibody.plant.MultibodyPlant, context: pydrake.systems.framework.Context) -> numpy.ndarray[numpy.float64[m, 1]]\n    4. (self: pydrake.multibody.plant.MultibodyPlant, context: pydrake.systems.framework.Context, model_instance: pydrake.multibody.tree.ModelInstanceIndex) -> numpy.ndarray[numpy.float64[m, 1]]\n\nInvoked with: <pydrake.multibody.plant.MultibodyPlant object at 0x296703af0>, 'iiwa_joint_4'",
     "output_type": "error",
     "traceback": [
      "\u001b[0;31m---------------------------------------------------------------------------\u001b[0m",
      "\u001b[0;31mTypeError\u001b[0m                                 Traceback (most recent call last)",
      "Cell \u001b[0;32mIn[10], line 10\u001b[0m\n\u001b[1;32m      8\u001b[0m plant\u001b[38;5;241m.\u001b[39mget_actuation_input_port()\u001b[38;5;241m.\u001b[39mFixValue(context, np\u001b[38;5;241m.\u001b[39mzeros(\u001b[38;5;241m7\u001b[39m))\n\u001b[1;32m      9\u001b[0m plant\u001b[38;5;241m.\u001b[39mGetJointByName(\u001b[38;5;124m\"\u001b[39m\u001b[38;5;124miiwa_joint_4\u001b[39m\u001b[38;5;124m\"\u001b[39m)\u001b[38;5;241m.\u001b[39mset_angle(context, \u001b[38;5;241m-\u001b[39m\u001b[38;5;241m1.2\u001b[39m)\n\u001b[0;32m---> 10\u001b[0m \u001b[43mplant\u001b[49m\u001b[38;5;241;43m.\u001b[39;49m\u001b[43mGetPositions\u001b[49m\u001b[43m(\u001b[49m\u001b[38;5;124;43m\"\u001b[39;49m\u001b[38;5;124;43miiwa_joint_4\u001b[39;49m\u001b[38;5;124;43m\"\u001b[39;49m\u001b[43m)\u001b[49m\n\u001b[1;32m     11\u001b[0m simulator \u001b[38;5;241m=\u001b[39m Simulator(plant, context)\n\u001b[1;32m     12\u001b[0m simulator\u001b[38;5;241m.\u001b[39mAdvanceTo(\u001b[38;5;241m5.0\u001b[39m)\n",
      "\u001b[0;31mTypeError\u001b[0m: GetPositions(): incompatible function arguments. The following argument types are supported:\n    1. (self: pydrake.multibody.plant.MultibodyPlant, context: pydrake.systems.framework.Context) -> numpy.ndarray[numpy.float64[m, 1]]\n    2. (self: pydrake.multibody.plant.MultibodyPlant, context: pydrake.systems.framework.Context, model_instance: pydrake.multibody.tree.ModelInstanceIndex) -> numpy.ndarray[numpy.float64[m, 1]]\n    3. (self: pydrake.multibody.plant.MultibodyPlant, context: pydrake.systems.framework.Context) -> numpy.ndarray[numpy.float64[m, 1]]\n    4. (self: pydrake.multibody.plant.MultibodyPlant, context: pydrake.systems.framework.Context, model_instance: pydrake.multibody.tree.ModelInstanceIndex) -> numpy.ndarray[numpy.float64[m, 1]]\n\nInvoked with: <pydrake.multibody.plant.MultibodyPlant object at 0x296703af0>, 'iiwa_joint_4'"
     ]
    }
   ],
   "source": [
    "plant = MultibodyPlant(time_step=1e-4)\n",
    "Parser(plant).AddModelsFromUrl(\n",
    "    \"package://drake/manipulation/models/iiwa_description/urdf/iiwa14_no_collision.urdf\"\n",
    ")\n",
    "# plant.WeldFrames(plant.world_frame(), plant.GetFrameByName(\"iiwa_link_0\"))\n",
    "plant.Finalize()\n",
    "context = plant.CreateDefaultContext()\n",
    "plant.get_actuation_input_port().FixValue(context, np.zeros(7))\n",
    "plant.GetJointByName(\"iiwa_joint_4\").set_angle(context, -1.2)\n",
    "plant.GetPositions(\"iiwa_joint_4\")\n",
    "simulator = Simulator(plant, context)\n",
    "simulator.AdvanceTo(5.0)\n",
    "print(context)"
   ]
  },
  {
   "cell_type": "markdown",
   "metadata": {
    "colab_type": "text",
    "id": "H3G-pTB5bit8"
   },
   "source": [
    "In Drake, we are very careful to separate the *state* of a system from the system itself.  For example, let's think of a dynamical system as given by the difference equation: $$x[n+1] = f(n, x[n], u[n]),$$ where $n$ is the \"time\", $x$ is the state, and $u$ is any inputs to the system.  The `System` describes $f()$, but we use a structure called the [`Context`](https://drake.mit.edu/doxygen_cxx/classdrake_1_1systems_1_1_context.html) to hold the runtime values: $n, x, u$.  We use a structure, because some systems have even more runtime values, that describe system parameters, random noise inputs, etc, and it is cleaner to pass a structure around than have each system accept a different list of possible inputs.  As a rule `System` is constant over the duration of a simulation, and you should be able to obtain repeatable, deterministic simulations given any value `Context`.\n",
    "\n",
    "Let's see what the `Context` looks like for the physics engine now that we've loaded the iiwa into it."
   ]
  },
  {
   "cell_type": "markdown",
   "metadata": {
    "colab_type": "text",
    "id": "vr80vD3Be7uZ"
   },
   "source": [
    "The system has 14 state variables -- these are the 7 joint positions and 7 joint velocities for the iiwa.  Those states are discrete, because we passed a non-zero `time_step` to the constructor of the `MultibodyPlant`, which means the physics engine will be use a time-stepping simulation scheme (this will be the most performant when we start simulating contact).  Go ahead and try changing `time_step` to zero, and see what happens.\n",
    "\n",
    "You'll notice the context has lots of parameters (currently these include the mass, the center of mass, and the inertia of each body).  You won't need those any time soon, but it does enable some super cool advanced features.\n",
    "\n",
    "Because the `Context` for a `MultibodyPlant` can get quite complicated, `MultibodyPlant` offers some methods that help you get/set the values.  Let's set some non-zero initial positions."
   ]
  },
  {
   "cell_type": "code",
   "execution_count": 145,
   "metadata": {
    "colab": {},
    "colab_type": "code",
    "id": "73whw6YZf9PP"
   },
   "outputs": [
    {
     "name": "stdout",
     "output_type": "stream",
     "text": [
      "::_ Context\n",
      "------------\n",
      "Time: 0\n",
      "States:\n",
      "  1 discrete state groups with\n",
      "     27 states\n",
      "          1    0    0    0    0    0    0    0    0    0 -1.2    0    0    0    0    0    0    0    0    0    0    0    0    0    0    0    0\n",
      "\n",
      "Parameters:\n",
      "  37 numeric parameter groups with\n",
      "     1 parameters\n",
      "       0.0001321\n",
      "     1 parameters\n",
      "       160\n",
      "     1 parameters\n",
      "       0.0001321\n",
      "     1 parameters\n",
      "       160\n",
      "     1 parameters\n",
      "       0.0001321\n",
      "     1 parameters\n",
      "       160\n",
      "     1 parameters\n",
      "       0.0001321\n",
      "     1 parameters\n",
      "       160\n",
      "     1 parameters\n",
      "       0.0001321\n",
      "     1 parameters\n",
      "       100\n",
      "     1 parameters\n",
      "       4.54e-05\n",
      "     1 parameters\n",
      "       160\n",
      "     1 parameters\n",
      "       4.54e-05\n",
      "     1 parameters\n",
      "       160\n",
      "     10 parameters\n",
      "       nan nan nan nan nan nan nan nan nan nan\n",
      "     10 parameters\n",
      "       0 0 0 0 0 0 0 0 0 0\n",
      "     10 parameters\n",
      "                          5                 -0.1                    0  0.07000000000000001               0.0149               0.0269                0.016                    0 0.007000000000000001                    0\n",
      "     10 parameters\n",
      "                       5.76                    0                -0.03                 0.12  0.02102916666666667           0.02018125 0.003035416666666667                    0                    0               0.0036\n",
      "     10 parameters\n",
      "                       6.35               0.0003                0.059                0.042  0.01004814960629921 0.003496373464566929 0.008268491574803149            -1.77e-05            -1.26e-05            -0.002478\n",
      "     10 parameters\n",
      "                        3.5                    0                 0.03                 0.13  0.02494285714285715               0.0237 0.003071428571428571                    0                    0              -0.0039\n",
      "     10 parameters\n",
      "                         3.5                     0                 0.067                 0.034   0.01050214285714286  0.002870285714285715  0.009174714285714286                     0                     0 -0.002278000000000001\n",
      "     10 parameters\n",
      "                        3.5               0.0001                0.021                0.076 0.009074142857142857 0.008261724285714285 0.001723867142857143             -2.1e-06             -7.6e-06            -0.001596\n",
      "     10 parameters\n",
      "                         1.8                     0 0.0005999999999999999                0.0004  0.002722742222222222  0.002611271111111111            0.00200036                     0                     0              -2.4e-07\n",
      "     10 parameters\n",
      "                         1.2                     0                     0                  0.02  0.001233333333333333  0.001233333333333333 0.0008333333333333334                     0                     0                     0\n",
      "     10 parameters\n",
      "       0 0 0 0 0 0 0 0 0 0\n",
      "     10 parameters\n",
      "       0 0 0 0 0 0 0 0 0 0\n",
      "     12 parameters\n",
      "        1  0 -0  0  1  0  0  0  1  0  0  0\n",
      "     12 parameters\n",
      "            1      0     -0      0      1      0      0      0      1      0      0 0.1575\n",
      "     12 parameters\n",
      "                           -1  1.224646799147353e-16                     -0  4.688644402456635e-32  3.828568698926949e-16                      1  1.224646799147353e-16                      1 -3.828568698926949e-16                      0                      0                 0.2025\n",
      "     12 parameters\n",
      "                           -1  1.224646799147353e-16                     -0  4.688644402456635e-32  3.828568698926949e-16                      1  1.224646799147353e-16                      1 -3.828568698926949e-16                      0                 0.2045                      0\n",
      "     12 parameters\n",
      "                            1                      0                     -0                      0 -3.828568698926949e-16                      1                      0                     -1 -3.828568698926949e-16                      0                      0                 0.2155\n",
      "     12 parameters\n",
      "                           -1                     -0 -1.224646799147353e-16 -1.224646799147353e-16 -3.828568698926949e-16                      1 -4.688644402456635e-32                      1  3.828568698926949e-16                      0                 0.1845                      0\n",
      "     12 parameters\n",
      "                            1                      0                     -0                      0 -3.828568698926949e-16                      1                      0                     -1 -3.828568698926949e-16                      0                      0                 0.2155\n",
      "     12 parameters\n",
      "                           -1                     -0 -1.224646799147353e-16 -1.224646799147353e-16 -3.828568698926949e-16                      1 -4.688644402456635e-32                      1  3.828568698926949e-16                      0                  0.081                      0\n",
      "     12 parameters\n",
      "                            1 -1.224646799147353e-16 -1.224646799147353e-16  1.224646799147353e-16                      1 -1.224646799147353e-16  1.224646799147353e-16  1.224646799147353e-16                      1                      0                      0                  0.045\n",
      "     12 parameters\n",
      "       -3.828568698926949e-16                     -0                      1                     -0                      1                     -0                     -1                     -0 -3.828568698926949e-16                      0                      0                  0.045\n",
      "     12 parameters\n",
      "       -3.828568698926949e-16                      1                     -0                      1  3.828568698926949e-16  1.224646799147353e-16  1.224646799147353e-16  4.688644402456635e-32                     -1                   0.09                      0                      0\n",
      "  12 abstract parameters\n",
      "\n"
     ]
    }
   ],
   "source": [
    "# Set all of the joint positions at once in a single vector.\n",
    "# plant.SetPositions(context, [-1.57, 0.1, 0, 0, 0, 1.6, 0])\n",
    "# You can also set them by referencing particular joints.\n",
    "plant.GetJointByName(\"iiwa_joint_4\").set_angle(context, -1.2)\n",
    "print(context)"
   ]
  },
  {
   "cell_type": "markdown",
   "metadata": {
    "colab_type": "text",
    "id": "LpQlGh1Ai27g"
   },
   "source": [
    "The iiwa model also defined 7 actuators.  Before we can run a simulation, we need to provide some values for those inputs to the `MultibodyPlant` `actuation_input_port`.  For this warm-up, we'll just set them to zero."
   ]
  },
  {
   "cell_type": "markdown",
   "metadata": {
    "colab_type": "text",
    "id": "zqb66IBcierZ"
   },
   "source": [
    "Now we can set up and run a simulation."
   ]
  },
  {
   "cell_type": "code",
   "execution_count": null,
   "metadata": {},
   "outputs": [],
   "source": []
  },
  {
   "cell_type": "code",
   "execution_count": 142,
   "metadata": {
    "colab": {},
    "colab_type": "code",
    "id": "6DYEtGbtimit"
   },
   "outputs": [
    {
     "name": "stdout",
     "output_type": "stream",
     "text": [
      "::_ Context\n",
      "------------\n",
      "Time: 5\n",
      "States:\n",
      "  1 discrete state groups with\n",
      "     27 states\n",
      "                            1  1.254312108222634e-13   1.79525609987905e-11  3.288176398185053e-13 -1.281865861595295e-11  1.021761530360504e-13     -122.6274525000519  1.876244099413926e-15  -2.58209892118863e-11 -1.602549122206329e-13     -1.199999999998997 -3.075996328865888e-12 -2.706413873043157e-12  1.694548131164207e-15  1.198261616720006e-14  1.809045345505331e-11   1.12433416835572e-14 -7.188913779036766e-12  1.127173134434074e-14     -49.05000000003415 -1.553985652812537e-15 -9.343837411181901e-12 -7.565277447509771e-14  2.715861450278614e-12 -2.606757259119624e-12 -9.708911053623635e-13  1.523583664832481e-15\n",
      "\n",
      "Parameters:\n",
      "  37 numeric parameter groups with\n",
      "     1 parameters\n",
      "       0.0001321\n",
      "     1 parameters\n",
      "       160\n",
      "     1 parameters\n",
      "       0.0001321\n",
      "     1 parameters\n",
      "       160\n",
      "     1 parameters\n",
      "       0.0001321\n",
      "     1 parameters\n",
      "       160\n",
      "     1 parameters\n",
      "       0.0001321\n",
      "     1 parameters\n",
      "       160\n",
      "     1 parameters\n",
      "       0.0001321\n",
      "     1 parameters\n",
      "       100\n",
      "     1 parameters\n",
      "       4.54e-05\n",
      "     1 parameters\n",
      "       160\n",
      "     1 parameters\n",
      "       4.54e-05\n",
      "     1 parameters\n",
      "       160\n",
      "     10 parameters\n",
      "       nan nan nan nan nan nan nan nan nan nan\n",
      "     10 parameters\n",
      "       0 0 0 0 0 0 0 0 0 0\n",
      "     10 parameters\n",
      "                          5                 -0.1                    0  0.07000000000000001               0.0149               0.0269                0.016                    0 0.007000000000000001                    0\n",
      "     10 parameters\n",
      "                       5.76                    0                -0.03                 0.12  0.02102916666666667           0.02018125 0.003035416666666667                    0                    0               0.0036\n",
      "     10 parameters\n",
      "                       6.35               0.0003                0.059                0.042  0.01004814960629921 0.003496373464566929 0.008268491574803149            -1.77e-05            -1.26e-05            -0.002478\n",
      "     10 parameters\n",
      "                        3.5                    0                 0.03                 0.13  0.02494285714285715               0.0237 0.003071428571428571                    0                    0              -0.0039\n",
      "     10 parameters\n",
      "                         3.5                     0                 0.067                 0.034   0.01050214285714286  0.002870285714285715  0.009174714285714286                     0                     0 -0.002278000000000001\n",
      "     10 parameters\n",
      "                        3.5               0.0001                0.021                0.076 0.009074142857142857 0.008261724285714285 0.001723867142857143             -2.1e-06             -7.6e-06            -0.001596\n",
      "     10 parameters\n",
      "                         1.8                     0 0.0005999999999999999                0.0004  0.002722742222222222  0.002611271111111111            0.00200036                     0                     0              -2.4e-07\n",
      "     10 parameters\n",
      "                         1.2                     0                     0                  0.02  0.001233333333333333  0.001233333333333333 0.0008333333333333334                     0                     0                     0\n",
      "     10 parameters\n",
      "       0 0 0 0 0 0 0 0 0 0\n",
      "     10 parameters\n",
      "       0 0 0 0 0 0 0 0 0 0\n",
      "     12 parameters\n",
      "        1  0 -0  0  1  0  0  0  1  0  0  0\n",
      "     12 parameters\n",
      "            1      0     -0      0      1      0      0      0      1      0      0 0.1575\n",
      "     12 parameters\n",
      "                           -1  1.224646799147353e-16                     -0  4.688644402456635e-32  3.828568698926949e-16                      1  1.224646799147353e-16                      1 -3.828568698926949e-16                      0                      0                 0.2025\n",
      "     12 parameters\n",
      "                           -1  1.224646799147353e-16                     -0  4.688644402456635e-32  3.828568698926949e-16                      1  1.224646799147353e-16                      1 -3.828568698926949e-16                      0                 0.2045                      0\n",
      "     12 parameters\n",
      "                            1                      0                     -0                      0 -3.828568698926949e-16                      1                      0                     -1 -3.828568698926949e-16                      0                      0                 0.2155\n",
      "     12 parameters\n",
      "                           -1                     -0 -1.224646799147353e-16 -1.224646799147353e-16 -3.828568698926949e-16                      1 -4.688644402456635e-32                      1  3.828568698926949e-16                      0                 0.1845                      0\n",
      "     12 parameters\n",
      "                            1                      0                     -0                      0 -3.828568698926949e-16                      1                      0                     -1 -3.828568698926949e-16                      0                      0                 0.2155\n",
      "     12 parameters\n",
      "                           -1                     -0 -1.224646799147353e-16 -1.224646799147353e-16 -3.828568698926949e-16                      1 -4.688644402456635e-32                      1  3.828568698926949e-16                      0                  0.081                      0\n",
      "     12 parameters\n",
      "                            1 -1.224646799147353e-16 -1.224646799147353e-16  1.224646799147353e-16                      1 -1.224646799147353e-16  1.224646799147353e-16  1.224646799147353e-16                      1                      0                      0                  0.045\n",
      "     12 parameters\n",
      "       -3.828568698926949e-16                     -0                      1                     -0                      1                     -0                     -1                     -0 -3.828568698926949e-16                      0                      0                  0.045\n",
      "     12 parameters\n",
      "       -3.828568698926949e-16                      1                     -0                      1  3.828568698926949e-16  1.224646799147353e-16  1.224646799147353e-16  4.688644402456635e-32                     -1                   0.09                      0                      0\n",
      "  12 abstract parameters\n",
      "\n"
     ]
    }
   ],
   "source": [
    "simulator = Simulator(plant, context)\n",
    "simulator.AdvanceTo(5.0)\n",
    "print(context)"
   ]
  },
  {
   "cell_type": "markdown",
   "metadata": {
    "colab_type": "text",
    "id": "8ZKEl1QU1Dh9"
   },
   "source": [
    "# Visualizing the scene\n",
    "\n",
    "The best way to visualize the results of a physics engine is with a 2D or 3D visualizer. For that, we need to add the system which curates the geometry of a scene (the geometry engine); in Drake with call it the [`SceneGraph`](https://drake.mit.edu/doxygen_cxx/classdrake_1_1geometry_1_1_scene_graph.html). Once we have a `SceneGraph`, then there are a number of different visualizers and sensors that we can add to the system to actually render the scene.\n",
    "\n",
    "We support a number of visualizers in drake (we ship a simple VTK-based \"drake-visualizer\" with our binary releases, or you can use RViz).  But because we're working in a jupyter notebook, and want you to be able to run 3D graphics on any machine without any installation required, we'll use the [MeshCat](https://github.com/rdeits/meshcat) visualizer throughout these notes.  \n",
    "\n",
    "To use all three systems (`MultibodyPlant`, `SceneGraph`, and `MeshcatVisualizer`), we need to assemble them into a [`Diagram`](https://drake.mit.edu/doxygen_cxx/classdrake_1_1systems_1_1_diagram.html) using a [`DiagramBuilder`](https://drake.mit.edu/doxygen_cxx/classdrake_1_1systems_1_1_diagram_builder.html).  Often you would add each system and then connect the ports together, but for common cases like we have here, we provide helper methods to reduce the boilerplate."
   ]
  },
  {
   "cell_type": "code",
   "execution_count": 122,
   "metadata": {
    "colab": {},
    "colab_type": "code",
    "id": "WkfjAgrL1Dh-"
   },
   "outputs": [],
   "source": [
    "meshcat.Delete()\n",
    "meshcat.DeleteAddedControls()\n",
    "builder = DiagramBuilder()\n",
    "\n",
    "# Adds both MultibodyPlant and the SceneGraph, and wires them together.\n",
    "plant, scene_graph = AddMultibodyPlantSceneGraph(builder, time_step=1e-4)\n",
    "# Note that we parse into both the plant and the scene_graph here.\n",
    "Parser(plant, scene_graph).AddModelsFromUrl(\n",
    "    \"package://drake/manipulation/models/iiwa_description/urdf/iiwa14_no_collision.urdf\"\n",
    ")\n",
    "# plant.WeldFrames(plant.world_frame(), plant.GetFrameByName(\"iiwa_link_0\"))\n",
    "plant.Finalize()\n",
    "\n",
    "# Adds the MeshcatVisualizer and wires it to the SceneGraph.\n",
    "visualizer = MeshcatVisualizer.AddToBuilder(builder, scene_graph, meshcat)\n",
    "\n",
    "diagram = builder.Build()\n",
    "diagram.set_name(\"plant and scene_graph\")"
   ]
  },
  {
   "cell_type": "markdown",
   "metadata": {
    "colab_type": "text",
    "id": "Rm4kVRMS1DiF"
   },
   "source": [
    "If you click on the link above, you can open a browser window to see the visualization.\n",
    "\n",
    "But the scene will be empty so far.  We need to actually construct the diagram and ask it to publish.  (You normally don't have to call these; MeshcatVisualizer will automatically load at initialization and publish on a fixed period during simulation)."
   ]
  },
  {
   "cell_type": "code",
   "execution_count": 123,
   "metadata": {
    "colab": {},
    "colab_type": "code",
    "id": "2YMNZBi11DiN"
   },
   "outputs": [],
   "source": [
    "context = diagram.CreateDefaultContext()\n",
    "diagram.ForcedPublish(context)"
   ]
  },
  {
   "cell_type": "markdown",
   "metadata": {
    "colab_type": "text",
    "id": "kPcyp3zv1Dir"
   },
   "source": [
    "We've put together quite a complex system now.  A `Diagram` is just another `System`, so it has an associated context."
   ]
  },
  {
   "cell_type": "code",
   "execution_count": 124,
   "metadata": {
    "colab": {},
    "colab_type": "code",
    "id": "Kr9BgEkcCQaZ"
   },
   "outputs": [
    {
     "name": "stdout",
     "output_type": "stream",
     "text": [
      "::plant and scene_graph Context (of a Diagram)\n",
      "-----------------------------------------------\n",
      "27 total discrete states in 1 groups\n",
      "266 total numeric parameters in 37 groups\n",
      "13 total abstract parameters\n",
      "\n",
      "::plant and scene_graph::plant Context\n",
      "---------------------------------------\n",
      "Time: 0\n",
      "States:\n",
      "  1 discrete state groups with\n",
      "     27 states\n",
      "       1 0 0 0 0 0 0 0 0 0 0 0 0 0 0 0 0 0 0 0 0 0 0 0 0 0 0\n",
      "\n",
      "Parameters:\n",
      "  37 numeric parameter groups with\n",
      "     1 parameters\n",
      "       0.0001321\n",
      "     1 parameters\n",
      "       160\n",
      "     1 parameters\n",
      "       0.0001321\n",
      "     1 parameters\n",
      "       160\n",
      "     1 parameters\n",
      "       0.0001321\n",
      "     1 parameters\n",
      "       160\n",
      "     1 parameters\n",
      "       0.0001321\n",
      "     1 parameters\n",
      "       160\n",
      "     1 parameters\n",
      "       0.0001321\n",
      "     1 parameters\n",
      "       100\n",
      "     1 parameters\n",
      "       4.54e-05\n",
      "     1 parameters\n",
      "       160\n",
      "     1 parameters\n",
      "       4.54e-05\n",
      "     1 parameters\n",
      "       160\n",
      "     10 parameters\n",
      "       nan nan nan nan nan nan nan nan nan nan\n",
      "     10 parameters\n",
      "       0 0 0 0 0 0 0 0 0 0\n",
      "     10 parameters\n",
      "                          5                 -0.1                    0  0.07000000000000001               0.0149               0.0269                0.016                    0 0.007000000000000001                    0\n",
      "     10 parameters\n",
      "                       5.76                    0                -0.03                 0.12  0.02102916666666667           0.02018125 0.003035416666666667                    0                    0               0.0036\n",
      "     10 parameters\n",
      "                       6.35               0.0003                0.059                0.042  0.01004814960629921 0.003496373464566929 0.008268491574803149            -1.77e-05            -1.26e-05            -0.002478\n",
      "     10 parameters\n",
      "                        3.5                    0                 0.03                 0.13  0.02494285714285715               0.0237 0.003071428571428571                    0                    0              -0.0039\n",
      "     10 parameters\n",
      "                         3.5                     0                 0.067                 0.034   0.01050214285714286  0.002870285714285715  0.009174714285714286                     0                     0 -0.002278000000000001\n",
      "     10 parameters\n",
      "                        3.5               0.0001                0.021                0.076 0.009074142857142857 0.008261724285714285 0.001723867142857143             -2.1e-06             -7.6e-06            -0.001596\n",
      "     10 parameters\n",
      "                         1.8                     0 0.0005999999999999999                0.0004  0.002722742222222222  0.002611271111111111            0.00200036                     0                     0              -2.4e-07\n",
      "     10 parameters\n",
      "                         1.2                     0                     0                  0.02  0.001233333333333333  0.001233333333333333 0.0008333333333333334                     0                     0                     0\n",
      "     10 parameters\n",
      "       0 0 0 0 0 0 0 0 0 0\n",
      "     10 parameters\n",
      "       0 0 0 0 0 0 0 0 0 0\n",
      "     12 parameters\n",
      "        1  0 -0  0  1  0  0  0  1  0  0  0\n",
      "     12 parameters\n",
      "            1      0     -0      0      1      0      0      0      1      0      0 0.1575\n",
      "     12 parameters\n",
      "                           -1  1.224646799147353e-16                     -0  4.688644402456635e-32  3.828568698926949e-16                      1  1.224646799147353e-16                      1 -3.828568698926949e-16                      0                      0                 0.2025\n",
      "     12 parameters\n",
      "                           -1  1.224646799147353e-16                     -0  4.688644402456635e-32  3.828568698926949e-16                      1  1.224646799147353e-16                      1 -3.828568698926949e-16                      0                 0.2045                      0\n",
      "     12 parameters\n",
      "                            1                      0                     -0                      0 -3.828568698926949e-16                      1                      0                     -1 -3.828568698926949e-16                      0                      0                 0.2155\n",
      "     12 parameters\n",
      "                           -1                     -0 -1.224646799147353e-16 -1.224646799147353e-16 -3.828568698926949e-16                      1 -4.688644402456635e-32                      1  3.828568698926949e-16                      0                 0.1845                      0\n",
      "     12 parameters\n",
      "                            1                      0                     -0                      0 -3.828568698926949e-16                      1                      0                     -1 -3.828568698926949e-16                      0                      0                 0.2155\n",
      "     12 parameters\n",
      "                           -1                     -0 -1.224646799147353e-16 -1.224646799147353e-16 -3.828568698926949e-16                      1 -4.688644402456635e-32                      1  3.828568698926949e-16                      0                  0.081                      0\n",
      "     12 parameters\n",
      "                            1 -1.224646799147353e-16 -1.224646799147353e-16  1.224646799147353e-16                      1 -1.224646799147353e-16  1.224646799147353e-16  1.224646799147353e-16                      1                      0                      0                  0.045\n",
      "     12 parameters\n",
      "       -3.828568698926949e-16                     -0                      1                     -0                      1                     -0                     -1                     -0 -3.828568698926949e-16                      0                      0                  0.045\n",
      "     12 parameters\n",
      "       -3.828568698926949e-16                      1                     -0                      1  3.828568698926949e-16  1.224646799147353e-16  1.224646799147353e-16  4.688644402456635e-32                     -1                   0.09                      0                      0\n",
      "  12 abstract parameters\n",
      "\n",
      "::plant and scene_graph::scene_graph Context\n",
      "---------------------------------------------\n",
      "Time: 0\n",
      "Parameters:\n",
      "  1 abstract parameters\n",
      "\n"
     ]
    }
   ],
   "source": [
    "print(context)"
   ]
  },
  {
   "cell_type": "markdown",
   "metadata": {
    "colab_type": "text",
    "id": "gu6_NRm_Cl-O"
   },
   "source": [
    "It's also very useful to draw the actual block diagram."
   ]
  },
  {
   "cell_type": "markdown",
   "metadata": {
    "colab_type": "text",
    "id": "5OwrpdeGE5aa"
   },
   "source": [
    "There is one more important detail: **The `Context` for the `Diagram` is not the `Context` of the `MultibodyPlant`.  But you can extract the plant `Context`; and we need to in order to set the initial conditions of the robot."
   ]
  },
  {
   "cell_type": "code",
   "execution_count": 129,
   "metadata": {
    "colab": {},
    "colab_type": "code",
    "id": "aA5dasXyFWXo"
   },
   "outputs": [
    {
     "ename": "SystemExit",
     "evalue": "Failure at bazel-out/darwin_arm64-opt/bin/multibody/plant/_virtual_includes/multibody_plant_core/drake/multibody/plant/multibody_plant.h:2411 in SetPositions(): condition 'q.size() == num_positions()' failed.",
     "output_type": "error",
     "traceback": [
      "An exception has occurred, use %tb to see the full traceback.\n",
      "\u001b[0;31mSystemExit\u001b[0m\u001b[0;31m:\u001b[0m Failure at bazel-out/darwin_arm64-opt/bin/multibody/plant/_virtual_includes/multibody_plant_core/drake/multibody/plant/multibody_plant.h:2411 in SetPositions(): condition 'q.size() == num_positions()' failed.\n"
     ]
    }
   ],
   "source": [
    "plant_context = plant.GetMyMutableContextFromRoot(context)\n",
    "plant.SetPositions(plant_context, [-1.57, 0.1, 1, -1.2, 1, 1.6, -1])\n",
    "plant.get_actuation_input_port().FixValue(plant_context, np.zeros(7))\n",
    "plant.GetJointByName(\"iiwa_joint_4\").set_angle(context, -1.2)\n",
    "print(context)"
   ]
  },
  {
   "cell_type": "markdown",
   "metadata": {
    "colab_type": "text",
    "id": "Js2ulEaFF0yD"
   },
   "source": [
    "Accidentally using `context` instead of `plant_context` is a very common mistake!\n",
    "\n",
    "Ok, now we're ready to simulate.  Make sure your visualizer window is visible, then run the following cell."
   ]
  },
  {
   "cell_type": "code",
   "execution_count": 131,
   "metadata": {
    "colab": {},
    "colab_type": "code",
    "id": "ZySlXAKSGLaS"
   },
   "outputs": [
    {
     "ename": "RuntimeError",
     "evalue": "C++ object must be owned by pybind11 when attempting to release to C++",
     "output_type": "error",
     "traceback": [
      "\u001b[0;31m---------------------------------------------------------------------------\u001b[0m",
      "\u001b[0;31mRuntimeError\u001b[0m                              Traceback (most recent call last)",
      "Cell \u001b[0;32mIn[131], line 1\u001b[0m\n\u001b[0;32m----> 1\u001b[0m simulator \u001b[38;5;241m=\u001b[39m \u001b[43mSimulator\u001b[49m\u001b[43m(\u001b[49m\u001b[43mdiagram\u001b[49m\u001b[43m,\u001b[49m\u001b[43m \u001b[49m\u001b[43mcontext\u001b[49m\u001b[43m)\u001b[49m\n\u001b[1;32m      2\u001b[0m simulator\u001b[38;5;241m.\u001b[39mset_target_realtime_rate(\u001b[38;5;241m1.0\u001b[39m)\n\u001b[1;32m      3\u001b[0m simulator\u001b[38;5;241m.\u001b[39mAdvanceTo(\u001b[38;5;241m5.0\u001b[39m \u001b[38;5;28;01mif\u001b[39;00m running_as_notebook \u001b[38;5;28;01melse\u001b[39;00m \u001b[38;5;241m0.1\u001b[39m)\n",
      "\u001b[0;31mRuntimeError\u001b[0m: C++ object must be owned by pybind11 when attempting to release to C++"
     ]
    }
   ],
   "source": [
    "simulator = Simulator(diagram, context)\n",
    "simulator.set_target_realtime_rate(1.0)\n",
    "simulator.AdvanceTo(5.0 if running_as_notebook else 0.1)"
   ]
  },
  {
   "cell_type": "markdown",
   "metadata": {
    "colab_type": "text",
    "id": "Fdkx17YxGPSz"
   },
   "source": [
    "Glorious!\n",
    "\n",
    "Here's one more trick.  You can ask MeshCat to record the animation, and then review it in the visualizer using the sliders in the controls dialog.  \n",
    "\n",
    "I'll repeat the preamble here to make this cell stand-alone.  (Plus we cannot reuse a system in multiple diagrams; the ownership is restricted)."
   ]
  },
  {
   "cell_type": "code",
   "execution_count": 5,
   "metadata": {
    "colab": {},
    "colab_type": "code",
    "id": "HUeu3reLWw_H"
   },
   "outputs": [
    {
     "ename": "TypeError",
     "evalue": "__init__(): incompatible constructor arguments. The following argument types are supported:\n    1. pydrake.systems.analysis.Simulator(system: pydrake.systems.framework.System, context: pydrake.systems.framework.Context = None)\n\nInvoked with: <pydrake.systems.framework.LeafContext object at 0x10c7dce30>, <pydrake.systems.framework.LeafContext object at 0x10c7dce30>",
     "output_type": "error",
     "traceback": [
      "\u001b[0;31m---------------------------------------------------------------------------\u001b[0m",
      "\u001b[0;31mTypeError\u001b[0m                                 Traceback (most recent call last)",
      "Cell \u001b[0;32mIn[5], line 48\u001b[0m\n\u001b[1;32m     44\u001b[0m     meshcat\u001b[38;5;241m.\u001b[39mPublishRecording()\n\u001b[1;32m     45\u001b[0m \u001b[38;5;66;03m#     print(context)\u001b[39;00m\n\u001b[0;32m---> 48\u001b[0m \u001b[43manimation_demo\u001b[49m\u001b[43m(\u001b[49m\u001b[43m)\u001b[49m\n",
      "Cell \u001b[0;32mIn[5], line 38\u001b[0m, in \u001b[0;36manimation_demo\u001b[0;34m()\u001b[0m\n\u001b[1;32m     35\u001b[0m \u001b[38;5;66;03m#     plant.SetPositions(plant_context, [-1.57, 0.1, 0, -1.2, 0, 1.6, 0])\u001b[39;00m\n\u001b[1;32m     36\u001b[0m     plant\u001b[38;5;241m.\u001b[39mget_actuation_input_port()\u001b[38;5;241m.\u001b[39mFixValue(plant_context, np\u001b[38;5;241m.\u001b[39mzeros(\u001b[38;5;241m7\u001b[39m))\n\u001b[0;32m---> 38\u001b[0m     simulator \u001b[38;5;241m=\u001b[39m \u001b[43mSimulator\u001b[49m\u001b[43m(\u001b[49m\u001b[43mplant_context\u001b[49m\u001b[43m,\u001b[49m\u001b[43m \u001b[49m\u001b[43mcontext\u001b[49m\u001b[43m)\u001b[49m\n\u001b[1;32m     39\u001b[0m     simulator\u001b[38;5;241m.\u001b[39mset_target_realtime_rate(\u001b[38;5;241m1.0\u001b[39m)\n\u001b[1;32m     41\u001b[0m     meshcat\u001b[38;5;241m.\u001b[39mStartRecording()\n",
      "\u001b[0;31mTypeError\u001b[0m: __init__(): incompatible constructor arguments. The following argument types are supported:\n    1. pydrake.systems.analysis.Simulator(system: pydrake.systems.framework.System, context: pydrake.systems.framework.Context = None)\n\nInvoked with: <pydrake.systems.framework.LeafContext object at 0x10c7dce30>, <pydrake.systems.framework.LeafContext object at 0x10c7dce30>"
     ]
    }
   ],
   "source": [
    "meshcat.Delete()\n",
    "meshcat.DeleteAddedControls()\n",
    "def animation_demo():\n",
    "    builder = DiagramBuilder()\n",
    "\n",
    "    # Adds both MultibodyPlant and the SceneGraph, and wires them together.\n",
    "    plant1, scene_graph = AddMultibodyPlantSceneGraph(builder, time_step=1e-4)\n",
    "#     plant = MultibodyPlant(time_step=1e-4)\n",
    "    \n",
    "    # Note that we parse into both the plant and the scene_graph here.\n",
    "\n",
    "    plant = MultibodyPlant(time_step=1e-4)\n",
    "    Parser(plant, scene_graph).AddModelsFromUrl(\n",
    "        \"package://drake/manipulation/models/iiwa_description/urdf/iiwa14_no_collision.urdf\"\n",
    "    )\n",
    "    # plant.WeldFrames(plant.world_frame(), plant.GetFrameByName(\"iiwa_link_0\"))\n",
    "    plant.Finalize()\n",
    "    context = plant.CreateDefaultContext()\n",
    "    plant.get_actuation_input_port().FixValue(context, np.zeros(7))\n",
    "    plant.GetJointByName(\"iiwa_joint_4\").set_angle(context, -1.2)\n",
    "#     simulator = Simulator(plant, context)\n",
    "#     simulator.AdvanceTo(5.0)\n",
    "#     print(context)\n",
    "#     plant.WeldFrames(plant.world_frame(), plant.GetFrameByName(\"iiwa_link_0\"))\n",
    "    \n",
    "\n",
    "    # Adds the MeshcatVisualizer and wires it to the SceneGraph.\n",
    "    visualizer = MeshcatVisualizer.AddToBuilder(builder, scene_graph, meshcat)\n",
    "\n",
    "    diagram = builder.Build()\n",
    "    \n",
    "    plant_context = plant.GetMyMutableContextFromRoot(context)\n",
    "#     print(plant_context)\n",
    "    plant.GetJointByName(\"iiwa_joint_4\").set_angle(context, -1.2)\n",
    "#     plant.SetPositions(plant_context, [-1.57, 0.1, 0, -1.2, 0, 1.6, 0])\n",
    "    plant.get_actuation_input_port().FixValue(plant_context, np.zeros(7))\n",
    "\n",
    "    simulator = Simulator(plant_context, context)\n",
    "    simulator.set_target_realtime_rate(1.0)\n",
    "\n",
    "    meshcat.StartRecording()\n",
    "    simulator.AdvanceTo(5.0 if running_as_notebook else 0.1)\n",
    "    meshcat.StopRecording()\n",
    "    meshcat.PublishRecording()\n",
    "#     print(context)\n",
    "\n",
    "\n",
    "animation_demo()"
   ]
  },
  {
   "cell_type": "markdown",
   "metadata": {
    "colab_type": "text",
    "id": "8SPr8dXoY3IT"
   },
   "source": [
    "# Adding the iiwa controller\n",
    "\n",
    "The iiwa hardware interface runs through a control system provided by the manufacturer.  We can't turn it off.  The best we can do is add our approximation of it to our simulation.  I'll repeat everything we've set up before (to keep this example self-contained), but we'll add one more system for the controller."
   ]
  },
  {
   "cell_type": "code",
   "execution_count": null,
   "metadata": {
    "colab": {},
    "colab_type": "code",
    "id": "Qd245P5kY666"
   },
   "outputs": [],
   "source": [
    "builder = DiagramBuilder()\n",
    "\n",
    "# Adds both MultibodyPlant and the SceneGraph, and wires them together.\n",
    "plant, scene_graph = AddMultibodyPlantSceneGraph(builder, time_step=1e-4)\n",
    "# Note that we parse into both the plant and the scene_graph here.\n",
    "iiwa_model = Parser(plant, scene_graph).AddModelsFromUrl(\n",
    "    \"package://drake/manipulation/models/iiwa_description/sdf/iiwa14_no_collision.sdf\"\n",
    ")[0]\n",
    "plant.WeldFrames(plant.world_frame(), plant.GetFrameByName(\"iiwa_link_0\"))\n",
    "plant.Finalize()\n",
    "\n",
    "# Adds the MeshcatVisualizer and wires it to the SceneGraph.\n",
    "visualizer = MeshcatVisualizer.AddToBuilder(builder, scene_graph, meshcat)\n",
    "\n",
    "# Adds an approximation of the iiwa controller.\n",
    "# TODO(russt): replace this with the joint impedance controller.\n",
    "kp = [100] * plant.num_positions()\n",
    "ki = [1] * plant.num_positions()\n",
    "kd = [20] * plant.num_positions()\n",
    "iiwa_controller = builder.AddSystem(\n",
    "    InverseDynamicsController(plant, kp, ki, kd, False)\n",
    ")\n",
    "iiwa_controller.set_name(\"iiwa_controller\")\n",
    "builder.Connect(\n",
    "    plant.get_state_output_port(iiwa_model),\n",
    "    iiwa_controller.get_input_port_estimated_state(),\n",
    ")\n",
    "builder.Connect(\n",
    "    iiwa_controller.get_output_port_control(), plant.get_actuation_input_port()\n",
    ")\n",
    "diagram = builder.Build()\n",
    "diagram.set_name(\"with iiwa controller\")"
   ]
  },
  {
   "cell_type": "markdown",
   "metadata": {
    "colab_type": "text",
    "id": "SwmwcTcOX-pm"
   },
   "source": [
    "Let's see what our diagram looks like..."
   ]
  },
  {
   "cell_type": "code",
   "execution_count": null,
   "metadata": {
    "colab": {},
    "colab_type": "code",
    "id": "1SMxPMvdxk99"
   },
   "outputs": [],
   "source": [
    "display(\n",
    "    SVG(pydot.graph_from_dot_data(diagram.GetGraphvizString())[0].create_svg())\n",
    ")"
   ]
  },
  {
   "cell_type": "markdown",
   "metadata": {
    "colab_type": "text",
    "id": "ZWoEJzsixwGj"
   },
   "source": [
    "As our diagrams get more complex, you might pass the `max_depth` argument to the `GetGraphvizString` method.\n",
    "\n",
    "TODO(russt): Update to javascript rendering [#13874](https://github.com/RobotLocomotion/drake/issues/13874). "
   ]
  },
  {
   "cell_type": "code",
   "execution_count": null,
   "metadata": {
    "colab": {},
    "colab_type": "code",
    "id": "EjJzh5veYA6e"
   },
   "outputs": [],
   "source": [
    "display(\n",
    "    SVG(\n",
    "        pydot.graph_from_dot_data(diagram.GetGraphvizString(max_depth=1))[\n",
    "            0\n",
    "        ].create_svg()\n",
    "    )\n",
    ")"
   ]
  },
  {
   "cell_type": "markdown",
   "metadata": {
    "colab_type": "text",
    "id": "wuo1q8PgXzrp"
   },
   "source": [
    "To set up the `Context` now, instead of setting the `actuation_input` to zero, we set the `desired_state` of the iiwa controller to be the current position of the arm.  But the desired *state* must also include desired velocities, so we set those to zero."
   ]
  },
  {
   "cell_type": "code",
   "execution_count": null,
   "metadata": {
    "colab": {},
    "colab_type": "code",
    "id": "GHrnvvpXXixB"
   },
   "outputs": [],
   "source": [
    "context = diagram.CreateDefaultContext()\n",
    "plant_context = plant.GetMyMutableContextFromRoot(context)\n",
    "q0 = np.array([-1.57, 0.1, 0, -1.2, 0, 1.6, 0])\n",
    "x0 = np.hstack((q0, 0 * q0))\n",
    "plant.SetPositions(plant_context, q0)\n",
    "iiwa_controller.GetInputPort(\"desired_state\").FixValue(\n",
    "    iiwa_controller.GetMyMutableContextFromRoot(context), x0\n",
    ")\n",
    "print(context)"
   ]
  },
  {
   "cell_type": "markdown",
   "metadata": {
    "colab_type": "text",
    "id": "kAWFX5H7atro"
   },
   "source": [
    "Now, if we simulate, the robot just stays put.  Just like the real robot would."
   ]
  },
  {
   "cell_type": "code",
   "execution_count": null,
   "metadata": {
    "colab": {},
    "colab_type": "code",
    "id": "qvJ2PptyYuz2"
   },
   "outputs": [],
   "source": [
    "simulator = Simulator(diagram, context)\n",
    "simulator.set_target_realtime_rate(1.0)\n",
    "simulator.AdvanceTo(5.0 if running_as_notebook else 0.1);"
   ]
  },
  {
   "cell_type": "code",
   "execution_count": null,
   "metadata": {
    "colab": {},
    "colab_type": "code",
    "id": "5SjOClhTltPk"
   },
   "outputs": [],
   "source": []
  }
 ],
 "metadata": {
  "colab": {
   "collapsed_sections": [],
   "name": "Robotic Manipulation - Let's get you a robot.ipynb",
   "provenance": [],
   "toc_visible": true
  },
  "kernelspec": {
   "display_name": "Python 3 (ipykernel)",
   "language": "python",
   "name": "python3"
  },
  "language_info": {
   "codemirror_mode": {
    "name": "ipython",
    "version": 3
   },
   "file_extension": ".py",
   "mimetype": "text/x-python",
   "name": "python",
   "nbconvert_exporter": "python",
   "pygments_lexer": "ipython3",
   "version": "3.11.3"
  },
  "vscode": {
   "interpreter": {
    "hash": "b0fa6594d8f4cbf19f97940f81e996739fb7646882a419484c72d19e05852a7e"
   }
  }
 },
 "nbformat": 4,
 "nbformat_minor": 2
}
