{
  "cells": [
    {
      "cell_type": "markdown",
      "metadata": {
        "colab_type": "text",
        "id": "EgiF12Hf1Dhs"
      },
      "source": [
        "This notebook provides examples to go along with the [textbook](http://manipulation.csail.mit.edu/robot.html).  I recommend having both windows open, side-by-side!"
      ]
    },
    {
      "cell_type": "code",
      "execution_count": null,
      "metadata": {
        "colab": {},
        "colab_type": "code",
        "id": "eeMrMI0-1Dhu"
      },
      "outputs": [],
      "source": [
        "from pydrake.all import FindResourceOrThrow, StartMeshcat\n",
        "\n",
        "from manipulation import running_as_notebook\n",
        "from manipulation.meshcat_utils import model_inspector\n"
      ]
    },
    {
      "cell_type": "code",
      "execution_count": null,
      "metadata": {},
      "outputs": [],
      "source": [
        "# Start the visualizer.\n",
        "meshcat = StartMeshcat()"
      ]
    },
    {
      "cell_type": "markdown",
      "metadata": {
        "colab_type": "text",
        "id": "wJWL-ldv5REK"
      },
      "source": [
        "# Robot arms\n",
        "\n",
        "The next two cells will give you a simple interface to move the joints around on a variety of robot arm models.\n",
        "\n",
        "Have a favorite robot that I haven't included here?  If you send me a link to a properly licensed URDF or SDF description of the robot and it's mesh files, I'm happy to add it!  It's worth taking a look at the files quickly, to get a sense for how they work: [SDF](https://github.com/RobotLocomotion/drake/blob/master/manipulation/models/iiwa_description/sdf/iiwa14_no_collision.sdf), [URDF](https://github.com/RobotLocomotion/drake/blob/master/manipulation/models/iiwa_description/urdf/iiwa14_no_collision.urdf).\n",
        "\n",
        "Note: The Jaco doesn't visualize properly in this renderer yet.  See drake issue [#13846](https://github.com/RobotLocomotion/drake/issues/13846)."
      ]
    },
    {
      "cell_type": "code",
      "execution_count": null,
      "metadata": {
        "colab": {},
        "colab_type": "code",
        "id": "9GSF52A8ExQa"
      },
      "outputs": [],
      "source": [
        "# First pick your robot by un-commenting one of these:\n",
        "robot = \"Kuka LBR iiwa 7\"\n",
        "#robot = \"Kuka LBR iiwa 14\"\n",
        "#robot = \"Kinova Jaco Gen2 (7 DoF)\"\n",
        "#robot = \"Franka Emika Panda\"\n",
        "\n",
        "def get_model_file(description):\n",
        "  # Note: I could download remote model resources here if necessary.\n",
        "  if description == \"Kuka LBR iiwa 7\":\n",
        "    return FindResourceOrThrow(\"drake/manipulation/models/iiwa_description/iiwa7/iiwa7_no_collision.sdf\")\n",
        "  elif description == \"Kuka LBR iiwa 14\":\n",
        "    return FindResourceOrThrow(\"drake/manipulation/models/iiwa_description/sdf/iiwa14_no_collision.sdf\")\n",
        "  elif description == \"Kinova Jaco Gen2 (7 DoF)\":\n",
        "    return FindResourceOrThrow(\"drake/manipulation/models/jaco_description/urdf/j2s7s300.urdf\")\n",
        "  elif description == \"Franka Emika Panda\":\n",
        "    return FindResourceOrThrow(\"drake/manipulation/models/franka_description/urdf/panda_arm_hand.urdf\")\n",
        "  raise Exception(\"Unknown model\")\n",
        "\n",
        "meshcat.Delete()\n",
        "\n",
        "model_inspector(meshcat, get_model_file(robot))\n",
        "\n",
        "meshcat.DeleteAddedControls()\n"
      ]
    },
    {
      "cell_type": "markdown",
      "metadata": {
        "colab_type": "text",
        "id": "7q0A14bAilIX"
      },
      "source": [
        "# Robot hands\n",
        "\n",
        "I don't have the same smörgåsbord of robot models to offer for robot hands (yet).  We do have the allegro hand model available, and I'm happy to add more here (though many will require some care to handle their kinematic constraints).  For now, you can at least try out the [Allegro Hand](http://www.wonikrobotics.com/Allegro-Hand.htm).\n",
        "\n",
        "TODO(russt): Consider porting Robotiq, Sandia, or IHY-hand from our [openhumanoids](https://github.com/openhumanoids/oh-distro/tree/master/software/models/common_components) project."
      ]
    },
    {
      "cell_type": "code",
      "execution_count": null,
      "metadata": {
        "colab": {},
        "colab_type": "code",
        "id": "ILYLouFTjv6e"
      },
      "outputs": [],
      "source": [
        "meshcat.Delete()\n",
        "\n",
        "model_inspector(meshcat,\n",
        "    FindResourceOrThrow(\n",
        "        \"drake/manipulation/models/allegro_hand_description/sdf/allegro_hand_description_right.sdf\"\n",
        "    ))\n",
        "\n",
        "meshcat.DeleteAddedControls()\n"
      ]
    },
    {
      "cell_type": "code",
      "execution_count": null,
      "metadata": {
        "colab": {},
        "colab_type": "code",
        "id": "5SjOClhTltPk"
      },
      "outputs": [],
      "source": []
    }
  ],
  "metadata": {
    "colab": {
      "collapsed_sections": [],
      "name": "Robotic Manipulation - Let's get you a robot.ipynb",
      "provenance": [],
      "toc_visible": true
    },
    "kernelspec": {
      "display_name": "Python 3.10.6 64-bit",
      "language": "python",
      "name": "python3"
    },
    "language_info": {
      "codemirror_mode": {
        "name": "ipython",
        "version": 3
      },
      "file_extension": ".py",
      "mimetype": "text/x-python",
      "name": "python",
      "nbconvert_exporter": "python",
      "pygments_lexer": "ipython3",
      "version": "3.10.6"
    },
    "vscode": {
      "interpreter": {
        "hash": "b0fa6594d8f4cbf19f97940f81e996739fb7646882a419484c72d19e05852a7e"
      }
    }
  },
  "nbformat": 4,
  "nbformat_minor": 2
}
