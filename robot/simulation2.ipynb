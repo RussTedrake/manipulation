{
 "cells": [
  {
   "cell_type": "markdown",
   "metadata": {
    "colab_type": "text",
    "id": "EgiF12Hf1Dhs"
   },
   "source": [
    "This notebook provides examples to go along with the [textbook](http://manipulation.csail.mit.edu/robot.html).  I recommend having both windows open, side-by-side!"
   ]
  },
  {
   "cell_type": "code",
   "execution_count": 157,
   "metadata": {
    "colab": {},
    "colab_type": "code",
    "id": "eeMrMI0-1Dhu"
   },
   "outputs": [],
   "source": [
    "import numpy as np\n",
    "import pydot\n",
    "from IPython.display import HTML, SVG, display\n",
    "from pydrake.all import (\n",
    "    AddMultibodyPlantSceneGraph,\n",
    "    DiagramBuilder,\n",
    "    GenerateHtml,\n",
    "    InverseDynamicsController,\n",
    "    PidController,\n",
    "    MeshcatVisualizer,\n",
    "    MeshcatVisualizerParams,\n",
    "    MultibodyPlant,\n",
    "    Parser,\n",
    "    Simulator,\n",
    "    StartMeshcat,\n",
    ")\n",
    "\n",
    "from manipulation import running_as_notebook"
   ]
  },
  {
   "cell_type": "code",
   "execution_count": 158,
   "metadata": {},
   "outputs": [
    {
     "name": "stderr",
     "output_type": "stream",
     "text": [
      "INFO:drake:Meshcat listening for connections at http://localhost:7005\n"
     ]
    }
   ],
   "source": [
    "# Start the visualizer.\n",
    "meshcat = StartMeshcat()"
   ]
  },
  {
   "cell_type": "markdown",
   "metadata": {
    "colab_type": "text",
    "id": "nPy2VgSH1Dh5"
   },
   "source": [
    "# Simulation with block diagrams\n",
    "\n",
    "In this chapter, and throughout the notes, we will be building up our simulations and controllers using drake's block diagram modeling language (we call it the \"systems framework\").  [This tutorial](https://deepnote.com/workspace/Drake-0b3b2c53-a7ad-441b-80f8-bf8350752305/project/Tutorials-2b4fc509-aef2-417d-a40d-6071dfed9199/%2Fdynamical_systems.ipynb)  provides a brief introduction.  \n"
   ]
  },
  {
   "cell_type": "markdown",
   "metadata": {
    "colab_type": "text",
    "id": "Dl9NDxDR1Dh6"
   },
   "source": [
    "# Simulating the (passive) iiwa\n",
    "\n",
    "Let's load our robot of choice (the Kuka iiwa) into the physics engine, which we call [MultibodyPlant](https://drake.mit.edu/doxygen_cxx/classdrake_1_1multibody_1_1_multibody_plant.html).\n"
   ]
  },
  {
   "cell_type": "code",
   "execution_count": 3,
   "metadata": {
    "colab": {},
    "colab_type": "code",
    "id": "DyfpxsGR1Dh6"
   },
   "outputs": [],
   "source": [
    "plant = MultibodyPlant(time_step=1e-4)\n",
    "Parser(plant).AddModelsFromUrl(\n",
    "    \"package://drake/manipulation/models/iiwa_description/sdf/iiwa14_no_collision.sdf\"\n",
    ")\n",
    "plant.WeldFrames(plant.world_frame(), plant.GetFrameByName(\"iiwa_link_0\"))\n",
    "plant.Finalize()"
   ]
  },
  {
   "cell_type": "markdown",
   "metadata": {
    "colab_type": "text",
    "id": "H3G-pTB5bit8"
   },
   "source": [
    "In Drake, we are very careful to separate the *state* of a system from the system itself.  For example, let's think of a dynamical system as given by the difference equation: $$x[n+1] = f(n, x[n], u[n]),$$ where $n$ is the \"time\", $x$ is the state, and $u$ is any inputs to the system.  The `System` describes $f()$, but we use a structure called the [`Context`](https://drake.mit.edu/doxygen_cxx/classdrake_1_1systems_1_1_context.html) to hold the runtime values: $n, x, u$.  We use a structure, because some systems have even more runtime values, that describe system parameters, random noise inputs, etc, and it is cleaner to pass a structure around than have each system accept a different list of possible inputs.  As a rule `System` is constant over the duration of a simulation, and you should be able to obtain repeatable, deterministic simulations given any value `Context`.\n",
    "\n",
    "Let's see what the `Context` looks like for the physics engine now that we've loaded the iiwa into it."
   ]
  },
  {
   "cell_type": "code",
   "execution_count": 4,
   "metadata": {
    "colab": {},
    "colab_type": "code",
    "id": "P8HoF2KPdXNL"
   },
   "outputs": [
    {
     "name": "stdout",
     "output_type": "stream",
     "text": [
      "::_ Context\n",
      "------------\n",
      "Time: 0\n",
      "States:\n",
      "  1 discrete state groups with\n",
      "     14 states\n",
      "       0 0 0 0 0 0 0 0 0 0 0 0 0 0\n",
      "\n",
      "Parameters:\n",
      "  38 numeric parameter groups with\n",
      "     1 parameters\n",
      "       0.0001321\n",
      "     1 parameters\n",
      "       160\n",
      "     1 parameters\n",
      "       0.0001321\n",
      "     1 parameters\n",
      "       160\n",
      "     1 parameters\n",
      "       0.0001321\n",
      "     1 parameters\n",
      "       160\n",
      "     1 parameters\n",
      "       0.0001321\n",
      "     1 parameters\n",
      "       160\n",
      "     1 parameters\n",
      "       0.0001321\n",
      "     1 parameters\n",
      "       100\n",
      "     1 parameters\n",
      "       4.54e-05\n",
      "     1 parameters\n",
      "       160\n",
      "     1 parameters\n",
      "       4.54e-05\n",
      "     1 parameters\n",
      "       160\n",
      "     10 parameters\n",
      "       nan nan nan nan nan nan nan nan nan nan\n",
      "     10 parameters\n",
      "                          5                 -0.1                    0  0.07000000000000001               0.0149               0.0269                0.016                    0 0.007000000000000001                    0\n",
      "     10 parameters\n",
      "                       5.76                    0                -0.03                 0.12  0.02102916666666667           0.02018125 0.003035416666666667                    0                    0               0.0036\n",
      "     10 parameters\n",
      "                       6.35               0.0003                0.059                0.042  0.01004814960629921 0.003496373464566929 0.008268491574803149            -1.77e-05            -1.26e-05            -0.002478\n",
      "     10 parameters\n",
      "                        3.5                    0                 0.03                 0.13  0.02494285714285715               0.0237 0.003071428571428571                    0                    0              -0.0039\n",
      "     10 parameters\n",
      "                         3.5                     0                 0.067                 0.034   0.01050214285714286  0.002870285714285715  0.009174714285714286                     0                     0 -0.002278000000000001\n",
      "     10 parameters\n",
      "                        3.5               0.0001                0.021                0.076 0.009074142857142857 0.008261724285714285 0.001723867142857143             -2.1e-06             -7.6e-06            -0.001596\n",
      "     10 parameters\n",
      "                         1.8                     0 0.0005999999999999999                0.0004  0.002722742222222222  0.002611271111111111            0.00200036                     0                     0              -2.4e-07\n",
      "     10 parameters\n",
      "                         1.2                     0                     0                  0.02  0.001233333333333333  0.001233333333333333 0.0008333333333333334                     0                     0                     0\n",
      "     12 parameters\n",
      "       1 0 0 0 1 0 0 0 1 0 0 0\n",
      "     12 parameters\n",
      "            1      0      0      0      1      0      0      0      1      0      0 0.1575\n",
      "     12 parameters\n",
      "       1 0 0 0 1 0 0 0 1 0 0 0\n",
      "     12 parameters\n",
      "                           -1  1.224646799147353e-16                      0  6.162975822039155e-32  4.440892098500626e-16                      1  1.224646799147353e-16                      1 -4.440892098500626e-16                      0                      0                 0.2025\n",
      "     12 parameters\n",
      "       1 0 0 0 1 0 0 0 1 0 0 0\n",
      "     12 parameters\n",
      "                           -1  1.224646799147353e-16  1.232595164407831e-32  7.395570986446986e-32  4.440892098500626e-16                      1  1.224646799147353e-16                      1 -4.440892098500626e-16 -6.162975822039155e-33                 0.2045 -5.551115123125783e-17\n",
      "     12 parameters\n",
      "                            1                      0                      0                      0                      1                      0                      0                      0                      1 -1.232595164407831e-32                      0                      0\n",
      "     12 parameters\n",
      "                            1 -1.743152798421049e-32 -4.105366594701613e-48 -4.105366594701613e-48 -4.440892098500626e-16                      1 -1.743152798421049e-32                     -1 -4.440892098500626e-16 -1.232595164407831e-32  2.775557561562891e-17                 0.2155\n",
      "     12 parameters\n",
      "                            1 -7.658364510198258e-33   7.65836451019828e-33  7.658364510198258e-33                      1  2.932527348553219e-65  -7.65836451019828e-33  2.932527348553219e-65                      1  1.232595164407831e-32                      0 -5.551115123125783e-17\n",
      "     12 parameters\n",
      "                           -1  1.232595164407831e-32 -1.224646799147353e-16 -1.224646799147352e-16 -4.440892098500626e-16                      1 -4.930380657631324e-32                      1  4.440892098500626e-16                      0     0.1844999999999999 -5.551115123125783e-17\n",
      "     12 parameters\n",
      "                            1                      0                      0                      0                      1                      0                      0                      0                      1 -1.232595164407831e-32                      0                      0\n",
      "     12 parameters\n",
      "                            1 -5.229458395263148e-32 -1.743152798421051e-32  1.743152798421048e-32 -4.440892098500626e-16                      1 -5.229458395263149e-32                     -1 -4.440892098500626e-16                      0 -8.038014698286126e-17     0.2154999999999999\n",
      "     12 parameters\n",
      "                            1                      0                      0                      0                      1                      0                      0                      0                      1  3.697785493223493e-32 -2.220446049250313e-16                      0\n",
      "     12 parameters\n",
      "                           -1 -2.465190328815662e-32 -1.224646799147353e-16 -1.224646799147353e-16 -4.440892098500626e-16                      1 -9.860761315262648e-32                      1  4.440892098500626e-16  4.930380657631324e-32    0.08099999999999996                      0\n",
      "     12 parameters\n",
      "       1 0 0 0 1 0 0 0 1 0 0 0\n",
      "  9 abstract parameters\n",
      "\n"
     ]
    }
   ],
   "source": [
    "context = plant.CreateDefaultContext()\n",
    "print(context)"
   ]
  },
  {
   "cell_type": "markdown",
   "metadata": {
    "colab_type": "text",
    "id": "vr80vD3Be7uZ"
   },
   "source": [
    "The system has 14 state variables -- these are the 7 joint positions and 7 joint velocities for the iiwa.  Those states are discrete, because we passed a non-zero `time_step` to the constructor of the `MultibodyPlant`, which means the physics engine will be use a time-stepping simulation scheme (this will be the most performant when we start simulating contact).  Go ahead and try changing `time_step` to zero, and see what happens.\n",
    "\n",
    "You'll notice the context has lots of parameters (currently these include the mass, the center of mass, and the inertia of each body).  You won't need those any time soon, but it does enable some super cool advanced features.\n",
    "\n",
    "Because the `Context` for a `MultibodyPlant` can get quite complicated, `MultibodyPlant` offers some methods that help you get/set the values.  Let's set some non-zero initial positions."
   ]
  },
  {
   "cell_type": "code",
   "execution_count": 5,
   "metadata": {
    "colab": {},
    "colab_type": "code",
    "id": "73whw6YZf9PP"
   },
   "outputs": [
    {
     "name": "stdout",
     "output_type": "stream",
     "text": [
      "::_ Context\n",
      "------------\n",
      "Time: 0\n",
      "States:\n",
      "  1 discrete state groups with\n",
      "     14 states\n",
      "       -1.57   0.1     0  -1.2     0   1.6     0     0     0     0     0     0     0     0\n",
      "\n",
      "Parameters:\n",
      "  38 numeric parameter groups with\n",
      "     1 parameters\n",
      "       0.0001321\n",
      "     1 parameters\n",
      "       160\n",
      "     1 parameters\n",
      "       0.0001321\n",
      "     1 parameters\n",
      "       160\n",
      "     1 parameters\n",
      "       0.0001321\n",
      "     1 parameters\n",
      "       160\n",
      "     1 parameters\n",
      "       0.0001321\n",
      "     1 parameters\n",
      "       160\n",
      "     1 parameters\n",
      "       0.0001321\n",
      "     1 parameters\n",
      "       100\n",
      "     1 parameters\n",
      "       4.54e-05\n",
      "     1 parameters\n",
      "       160\n",
      "     1 parameters\n",
      "       4.54e-05\n",
      "     1 parameters\n",
      "       160\n",
      "     10 parameters\n",
      "       nan nan nan nan nan nan nan nan nan nan\n",
      "     10 parameters\n",
      "                          5                 -0.1                    0  0.07000000000000001               0.0149               0.0269                0.016                    0 0.007000000000000001                    0\n",
      "     10 parameters\n",
      "                       5.76                    0                -0.03                 0.12  0.02102916666666667           0.02018125 0.003035416666666667                    0                    0               0.0036\n",
      "     10 parameters\n",
      "                       6.35               0.0003                0.059                0.042  0.01004814960629921 0.003496373464566929 0.008268491574803149            -1.77e-05            -1.26e-05            -0.002478\n",
      "     10 parameters\n",
      "                        3.5                    0                 0.03                 0.13  0.02494285714285715               0.0237 0.003071428571428571                    0                    0              -0.0039\n",
      "     10 parameters\n",
      "                         3.5                     0                 0.067                 0.034   0.01050214285714286  0.002870285714285715  0.009174714285714286                     0                     0 -0.002278000000000001\n",
      "     10 parameters\n",
      "                        3.5               0.0001                0.021                0.076 0.009074142857142857 0.008261724285714285 0.001723867142857143             -2.1e-06             -7.6e-06            -0.001596\n",
      "     10 parameters\n",
      "                         1.8                     0 0.0005999999999999999                0.0004  0.002722742222222222  0.002611271111111111            0.00200036                     0                     0              -2.4e-07\n",
      "     10 parameters\n",
      "                         1.2                     0                     0                  0.02  0.001233333333333333  0.001233333333333333 0.0008333333333333334                     0                     0                     0\n",
      "     12 parameters\n",
      "       1 0 0 0 1 0 0 0 1 0 0 0\n",
      "     12 parameters\n",
      "            1      0      0      0      1      0      0      0      1      0      0 0.1575\n",
      "     12 parameters\n",
      "       1 0 0 0 1 0 0 0 1 0 0 0\n",
      "     12 parameters\n",
      "                           -1  1.224646799147353e-16                      0  6.162975822039155e-32  4.440892098500626e-16                      1  1.224646799147353e-16                      1 -4.440892098500626e-16                      0                      0                 0.2025\n",
      "     12 parameters\n",
      "       1 0 0 0 1 0 0 0 1 0 0 0\n",
      "     12 parameters\n",
      "                           -1  1.224646799147353e-16  1.232595164407831e-32  7.395570986446986e-32  4.440892098500626e-16                      1  1.224646799147353e-16                      1 -4.440892098500626e-16 -6.162975822039155e-33                 0.2045 -5.551115123125783e-17\n",
      "     12 parameters\n",
      "                            1                      0                      0                      0                      1                      0                      0                      0                      1 -1.232595164407831e-32                      0                      0\n",
      "     12 parameters\n",
      "                            1 -1.743152798421049e-32 -4.105366594701613e-48 -4.105366594701613e-48 -4.440892098500626e-16                      1 -1.743152798421049e-32                     -1 -4.440892098500626e-16 -1.232595164407831e-32  2.775557561562891e-17                 0.2155\n",
      "     12 parameters\n",
      "                            1 -7.658364510198258e-33   7.65836451019828e-33  7.658364510198258e-33                      1  2.932527348553219e-65  -7.65836451019828e-33  2.932527348553219e-65                      1  1.232595164407831e-32                      0 -5.551115123125783e-17\n",
      "     12 parameters\n",
      "                           -1  1.232595164407831e-32 -1.224646799147353e-16 -1.224646799147352e-16 -4.440892098500626e-16                      1 -4.930380657631324e-32                      1  4.440892098500626e-16                      0     0.1844999999999999 -5.551115123125783e-17\n",
      "     12 parameters\n",
      "                            1                      0                      0                      0                      1                      0                      0                      0                      1 -1.232595164407831e-32                      0                      0\n",
      "     12 parameters\n",
      "                            1 -5.229458395263148e-32 -1.743152798421051e-32  1.743152798421048e-32 -4.440892098500626e-16                      1 -5.229458395263149e-32                     -1 -4.440892098500626e-16                      0 -8.038014698286126e-17     0.2154999999999999\n",
      "     12 parameters\n",
      "                            1                      0                      0                      0                      1                      0                      0                      0                      1  3.697785493223493e-32 -2.220446049250313e-16                      0\n",
      "     12 parameters\n",
      "                           -1 -2.465190328815662e-32 -1.224646799147353e-16 -1.224646799147353e-16 -4.440892098500626e-16                      1 -9.860761315262648e-32                      1  4.440892098500626e-16  4.930380657631324e-32    0.08099999999999996                      0\n",
      "     12 parameters\n",
      "       1 0 0 0 1 0 0 0 1 0 0 0\n",
      "  9 abstract parameters\n",
      "\n"
     ]
    }
   ],
   "source": [
    "# Set all of the joint positions at once in a single vector.\n",
    "plant.SetPositions(context, [-1.57, 0.1, 0, 0, 0, 1.6, 0])\n",
    "# You can also set them by referencing particular joints.\n",
    "plant.GetJointByName(\"iiwa_joint_4\").set_angle(context, -1.2)\n",
    "print(context)"
   ]
  },
  {
   "cell_type": "markdown",
   "metadata": {
    "colab_type": "text",
    "id": "LpQlGh1Ai27g"
   },
   "source": [
    "The iiwa model also defined 7 actuators.  Before we can run a simulation, we need to provide some values for those inputs to the `MultibodyPlant` `actuation_input_port`.  For this warm-up, we'll just set them to zero."
   ]
  },
  {
   "cell_type": "code",
   "execution_count": 6,
   "metadata": {
    "colab": {},
    "colab_type": "code",
    "id": "dJx-KrGUjR8x"
   },
   "outputs": [
    {
     "data": {
      "text/plain": [
       "<pydrake.systems.framework.FixedInputPortValue at 0x12ef30e70>"
      ]
     },
     "execution_count": 6,
     "metadata": {},
     "output_type": "execute_result"
    }
   ],
   "source": [
    "plant.get_actuation_input_port().FixValue(context, np.zeros(7))"
   ]
  },
  {
   "cell_type": "markdown",
   "metadata": {
    "colab_type": "text",
    "id": "zqb66IBcierZ"
   },
   "source": [
    "Now we can set up and run a simulation."
   ]
  },
  {
   "cell_type": "code",
   "execution_count": 7,
   "metadata": {
    "colab": {},
    "colab_type": "code",
    "id": "6DYEtGbtimit"
   },
   "outputs": [
    {
     "name": "stdout",
     "output_type": "stream",
     "text": [
      "::_ Context\n",
      "------------\n",
      "Time: 5\n",
      "States:\n",
      "  1 discrete state groups with\n",
      "     14 states\n",
      "          -1.542850271959638     2.070371410137108   0.01369557217375188    -0.771499471017399   -0.1268244194110653   -0.6336390928604009  0.000162346639494986   0.02089873070949772     0.152208325637502    -0.141900656266792    -0.358731044516329   0.02188185915288443     1.222135631867403 8.283929796318227e-05\n",
      "\n",
      "Parameters:\n",
      "  38 numeric parameter groups with\n",
      "     1 parameters\n",
      "       0.0001321\n",
      "     1 parameters\n",
      "       160\n",
      "     1 parameters\n",
      "       0.0001321\n",
      "     1 parameters\n",
      "       160\n",
      "     1 parameters\n",
      "       0.0001321\n",
      "     1 parameters\n",
      "       160\n",
      "     1 parameters\n",
      "       0.0001321\n",
      "     1 parameters\n",
      "       160\n",
      "     1 parameters\n",
      "       0.0001321\n",
      "     1 parameters\n",
      "       100\n",
      "     1 parameters\n",
      "       4.54e-05\n",
      "     1 parameters\n",
      "       160\n",
      "     1 parameters\n",
      "       4.54e-05\n",
      "     1 parameters\n",
      "       160\n",
      "     10 parameters\n",
      "       nan nan nan nan nan nan nan nan nan nan\n",
      "     10 parameters\n",
      "                          5                 -0.1                    0  0.07000000000000001               0.0149               0.0269                0.016                    0 0.007000000000000001                    0\n",
      "     10 parameters\n",
      "                       5.76                    0                -0.03                 0.12  0.02102916666666667           0.02018125 0.003035416666666667                    0                    0               0.0036\n",
      "     10 parameters\n",
      "                       6.35               0.0003                0.059                0.042  0.01004814960629921 0.003496373464566929 0.008268491574803149            -1.77e-05            -1.26e-05            -0.002478\n",
      "     10 parameters\n",
      "                        3.5                    0                 0.03                 0.13  0.02494285714285715               0.0237 0.003071428571428571                    0                    0              -0.0039\n",
      "     10 parameters\n",
      "                         3.5                     0                 0.067                 0.034   0.01050214285714286  0.002870285714285715  0.009174714285714286                     0                     0 -0.002278000000000001\n",
      "     10 parameters\n",
      "                        3.5               0.0001                0.021                0.076 0.009074142857142857 0.008261724285714285 0.001723867142857143             -2.1e-06             -7.6e-06            -0.001596\n",
      "     10 parameters\n",
      "                         1.8                     0 0.0005999999999999999                0.0004  0.002722742222222222  0.002611271111111111            0.00200036                     0                     0              -2.4e-07\n",
      "     10 parameters\n",
      "                         1.2                     0                     0                  0.02  0.001233333333333333  0.001233333333333333 0.0008333333333333334                     0                     0                     0\n",
      "     12 parameters\n",
      "       1 0 0 0 1 0 0 0 1 0 0 0\n",
      "     12 parameters\n",
      "            1      0      0      0      1      0      0      0      1      0      0 0.1575\n",
      "     12 parameters\n",
      "       1 0 0 0 1 0 0 0 1 0 0 0\n",
      "     12 parameters\n",
      "                           -1  1.224646799147353e-16                      0  6.162975822039155e-32  4.440892098500626e-16                      1  1.224646799147353e-16                      1 -4.440892098500626e-16                      0                      0                 0.2025\n",
      "     12 parameters\n",
      "       1 0 0 0 1 0 0 0 1 0 0 0\n",
      "     12 parameters\n",
      "                           -1  1.224646799147353e-16  1.232595164407831e-32  7.395570986446986e-32  4.440892098500626e-16                      1  1.224646799147353e-16                      1 -4.440892098500626e-16 -6.162975822039155e-33                 0.2045 -5.551115123125783e-17\n",
      "     12 parameters\n",
      "                            1                      0                      0                      0                      1                      0                      0                      0                      1 -1.232595164407831e-32                      0                      0\n",
      "     12 parameters\n",
      "                            1 -1.743152798421049e-32 -4.105366594701613e-48 -4.105366594701613e-48 -4.440892098500626e-16                      1 -1.743152798421049e-32                     -1 -4.440892098500626e-16 -1.232595164407831e-32  2.775557561562891e-17                 0.2155\n",
      "     12 parameters\n",
      "                            1 -7.658364510198258e-33   7.65836451019828e-33  7.658364510198258e-33                      1  2.932527348553219e-65  -7.65836451019828e-33  2.932527348553219e-65                      1  1.232595164407831e-32                      0 -5.551115123125783e-17\n",
      "     12 parameters\n",
      "                           -1  1.232595164407831e-32 -1.224646799147353e-16 -1.224646799147352e-16 -4.440892098500626e-16                      1 -4.930380657631324e-32                      1  4.440892098500626e-16                      0     0.1844999999999999 -5.551115123125783e-17\n",
      "     12 parameters\n",
      "                            1                      0                      0                      0                      1                      0                      0                      0                      1 -1.232595164407831e-32                      0                      0\n",
      "     12 parameters\n",
      "                            1 -5.229458395263148e-32 -1.743152798421051e-32  1.743152798421048e-32 -4.440892098500626e-16                      1 -5.229458395263149e-32                     -1 -4.440892098500626e-16                      0 -8.038014698286126e-17     0.2154999999999999\n",
      "     12 parameters\n",
      "                            1                      0                      0                      0                      1                      0                      0                      0                      1  3.697785493223493e-32 -2.220446049250313e-16                      0\n",
      "     12 parameters\n",
      "                           -1 -2.465190328815662e-32 -1.224646799147353e-16 -1.224646799147353e-16 -4.440892098500626e-16                      1 -9.860761315262648e-32                      1  4.440892098500626e-16  4.930380657631324e-32    0.08099999999999996                      0\n",
      "     12 parameters\n",
      "       1 0 0 0 1 0 0 0 1 0 0 0\n",
      "  9 abstract parameters\n",
      "\n"
     ]
    }
   ],
   "source": [
    "simulator = Simulator(plant, context)\n",
    "simulator.AdvanceTo(5.0)\n",
    "print(context)"
   ]
  },
  {
   "cell_type": "markdown",
   "metadata": {
    "colab_type": "text",
    "id": "8ZKEl1QU1Dh9"
   },
   "source": [
    "# Visualizing the scene\n",
    "\n",
    "The best way to visualize the results of a physics engine is with a 2D or 3D visualizer. For that, we need to add the system which curates the geometry of a scene (the geometry engine); in Drake with call it the [`SceneGraph`](https://drake.mit.edu/doxygen_cxx/classdrake_1_1geometry_1_1_scene_graph.html). Once we have a `SceneGraph`, then there are a number of different visualizers and sensors that we can add to the system to actually render the scene.\n",
    "\n",
    "We support a number of visualizers in drake (we ship a simple VTK-based \"drake-visualizer\" with our binary releases, or you can use RViz).  But because we're working in a jupyter notebook, and want you to be able to run 3D graphics on any machine without any installation required, we'll use the [MeshCat](https://github.com/rdeits/meshcat) visualizer throughout these notes.  \n",
    "\n",
    "To use all three systems (`MultibodyPlant`, `SceneGraph`, and `MeshcatVisualizer`), we need to assemble them into a [`Diagram`](https://drake.mit.edu/doxygen_cxx/classdrake_1_1systems_1_1_diagram.html) using a [`DiagramBuilder`](https://drake.mit.edu/doxygen_cxx/classdrake_1_1systems_1_1_diagram_builder.html).  Often you would add each system and then connect the ports together, but for common cases like we have here, we provide helper methods to reduce the boilerplate."
   ]
  },
  {
   "cell_type": "code",
   "execution_count": 8,
   "metadata": {
    "colab": {},
    "colab_type": "code",
    "id": "WkfjAgrL1Dh-"
   },
   "outputs": [],
   "source": [
    "meshcat.Delete()\n",
    "meshcat.DeleteAddedControls()\n",
    "builder = DiagramBuilder()\n",
    "\n",
    "# Adds both MultibodyPlant and the SceneGraph, and wires them together.\n",
    "plant, scene_graph = AddMultibodyPlantSceneGraph(builder, time_step=1e-4)\n",
    "# Note that we parse into both the plant and the scene_graph here.\n",
    "Parser(plant, scene_graph).AddModelsFromUrl(\n",
    "    \"package://drake/manipulation/models/iiwa_description/sdf/iiwa14_no_collision.sdf\"\n",
    ")\n",
    "plant.WeldFrames(plant.world_frame(), plant.GetFrameByName(\"iiwa_link_0\"))\n",
    "plant.Finalize()\n",
    "\n",
    "# Adds the MeshcatVisualizer and wires it to the SceneGraph.\n",
    "visualizer = MeshcatVisualizer.AddToBuilder(builder, scene_graph, meshcat)\n",
    "\n",
    "diagram = builder.Build()\n",
    "diagram.set_name(\"plant and scene_graph\")"
   ]
  },
  {
   "cell_type": "markdown",
   "metadata": {
    "colab_type": "text",
    "id": "Rm4kVRMS1DiF"
   },
   "source": [
    "If you click on the link above, you can open a browser window to see the visualization.\n",
    "\n",
    "But the scene will be empty so far.  We need to actually construct the diagram and ask it to publish.  (You normally don't have to call these; MeshcatVisualizer will automatically load at initialization and publish on a fixed period during simulation)."
   ]
  },
  {
   "cell_type": "code",
   "execution_count": 9,
   "metadata": {
    "colab": {},
    "colab_type": "code",
    "id": "2YMNZBi11DiN"
   },
   "outputs": [],
   "source": [
    "context = diagram.CreateDefaultContext()\n",
    "diagram.ForcedPublish(context)"
   ]
  },
  {
   "cell_type": "markdown",
   "metadata": {
    "colab_type": "text",
    "id": "kPcyp3zv1Dir"
   },
   "source": [
    "We've put together quite a complex system now.  A `Diagram` is just another `System`, so it has an associated context."
   ]
  },
  {
   "cell_type": "code",
   "execution_count": null,
   "metadata": {
    "colab": {},
    "colab_type": "code",
    "id": "Kr9BgEkcCQaZ"
   },
   "outputs": [],
   "source": [
    "print(context)"
   ]
  },
  {
   "cell_type": "markdown",
   "metadata": {
    "colab_type": "text",
    "id": "gu6_NRm_Cl-O"
   },
   "source": [
    "It's also very useful to draw the actual block diagram."
   ]
  },
  {
   "cell_type": "markdown",
   "metadata": {
    "colab_type": "text",
    "id": "5OwrpdeGE5aa"
   },
   "source": [
    "There is one more important detail: **The `Context` for the `Diagram` is not the `Context` of the `MultibodyPlant`.  But you can extract the plant `Context`; and we need to in order to set the initial conditions of the robot."
   ]
  },
  {
   "cell_type": "code",
   "execution_count": 11,
   "metadata": {
    "colab": {},
    "colab_type": "code",
    "id": "aA5dasXyFWXo"
   },
   "outputs": [
    {
     "name": "stdout",
     "output_type": "stream",
     "text": [
      "::plant and scene_graph Context (of a Diagram)\n",
      "-----------------------------------------------\n",
      "14 total discrete states in 1 groups\n",
      "284 total numeric parameters in 38 groups\n",
      "10 total abstract parameters\n",
      "\n",
      "::plant and scene_graph::plant Context\n",
      "---------------------------------------\n",
      "Time: 0\n",
      "States:\n",
      "  1 discrete state groups with\n",
      "     14 states\n",
      "       -1.57   0.1     0  -1.2     0   1.6     0     0     0     0     0     0     0     0\n",
      "\n",
      "Parameters:\n",
      "  38 numeric parameter groups with\n",
      "     1 parameters\n",
      "       0.0001321\n",
      "     1 parameters\n",
      "       160\n",
      "     1 parameters\n",
      "       0.0001321\n",
      "     1 parameters\n",
      "       160\n",
      "     1 parameters\n",
      "       0.0001321\n",
      "     1 parameters\n",
      "       160\n",
      "     1 parameters\n",
      "       0.0001321\n",
      "     1 parameters\n",
      "       160\n",
      "     1 parameters\n",
      "       0.0001321\n",
      "     1 parameters\n",
      "       100\n",
      "     1 parameters\n",
      "       4.54e-05\n",
      "     1 parameters\n",
      "       160\n",
      "     1 parameters\n",
      "       4.54e-05\n",
      "     1 parameters\n",
      "       160\n",
      "     10 parameters\n",
      "       nan nan nan nan nan nan nan nan nan nan\n",
      "     10 parameters\n",
      "                          5                 -0.1                    0  0.07000000000000001               0.0149               0.0269                0.016                    0 0.007000000000000001                    0\n",
      "     10 parameters\n",
      "                       5.76                    0                -0.03                 0.12  0.02102916666666667           0.02018125 0.003035416666666667                    0                    0               0.0036\n",
      "     10 parameters\n",
      "                       6.35               0.0003                0.059                0.042  0.01004814960629921 0.003496373464566929 0.008268491574803149            -1.77e-05            -1.26e-05            -0.002478\n",
      "     10 parameters\n",
      "                        3.5                    0                 0.03                 0.13  0.02494285714285715               0.0237 0.003071428571428571                    0                    0              -0.0039\n",
      "     10 parameters\n",
      "                         3.5                     0                 0.067                 0.034   0.01050214285714286  0.002870285714285715  0.009174714285714286                     0                     0 -0.002278000000000001\n",
      "     10 parameters\n",
      "                        3.5               0.0001                0.021                0.076 0.009074142857142857 0.008261724285714285 0.001723867142857143             -2.1e-06             -7.6e-06            -0.001596\n",
      "     10 parameters\n",
      "                         1.8                     0 0.0005999999999999999                0.0004  0.002722742222222222  0.002611271111111111            0.00200036                     0                     0              -2.4e-07\n",
      "     10 parameters\n",
      "                         1.2                     0                     0                  0.02  0.001233333333333333  0.001233333333333333 0.0008333333333333334                     0                     0                     0\n",
      "     12 parameters\n",
      "       1 0 0 0 1 0 0 0 1 0 0 0\n",
      "     12 parameters\n",
      "            1      0      0      0      1      0      0      0      1      0      0 0.1575\n",
      "     12 parameters\n",
      "       1 0 0 0 1 0 0 0 1 0 0 0\n",
      "     12 parameters\n",
      "                           -1  1.224646799147353e-16                      0  6.162975822039155e-32  4.440892098500626e-16                      1  1.224646799147353e-16                      1 -4.440892098500626e-16                      0                      0                 0.2025\n",
      "     12 parameters\n",
      "       1 0 0 0 1 0 0 0 1 0 0 0\n",
      "     12 parameters\n",
      "                           -1  1.224646799147353e-16  1.232595164407831e-32  7.395570986446986e-32  4.440892098500626e-16                      1  1.224646799147353e-16                      1 -4.440892098500626e-16 -6.162975822039155e-33                 0.2045 -5.551115123125783e-17\n",
      "     12 parameters\n",
      "                            1                      0                      0                      0                      1                      0                      0                      0                      1 -1.232595164407831e-32                      0                      0\n",
      "     12 parameters\n",
      "                            1 -1.743152798421049e-32 -4.105366594701613e-48 -4.105366594701613e-48 -4.440892098500626e-16                      1 -1.743152798421049e-32                     -1 -4.440892098500626e-16 -1.232595164407831e-32  2.775557561562891e-17                 0.2155\n",
      "     12 parameters\n",
      "                            1 -7.658364510198258e-33   7.65836451019828e-33  7.658364510198258e-33                      1  2.932527348553219e-65  -7.65836451019828e-33  2.932527348553219e-65                      1  1.232595164407831e-32                      0 -5.551115123125783e-17\n",
      "     12 parameters\n",
      "                           -1  1.232595164407831e-32 -1.224646799147353e-16 -1.224646799147352e-16 -4.440892098500626e-16                      1 -4.930380657631324e-32                      1  4.440892098500626e-16                      0     0.1844999999999999 -5.551115123125783e-17\n",
      "     12 parameters\n",
      "                            1                      0                      0                      0                      1                      0                      0                      0                      1 -1.232595164407831e-32                      0                      0\n",
      "     12 parameters\n",
      "                            1 -5.229458395263148e-32 -1.743152798421051e-32  1.743152798421048e-32 -4.440892098500626e-16                      1 -5.229458395263149e-32                     -1 -4.440892098500626e-16                      0 -8.038014698286126e-17     0.2154999999999999\n",
      "     12 parameters\n",
      "                            1                      0                      0                      0                      1                      0                      0                      0                      1  3.697785493223493e-32 -2.220446049250313e-16                      0\n",
      "     12 parameters\n",
      "                           -1 -2.465190328815662e-32 -1.224646799147353e-16 -1.224646799147353e-16 -4.440892098500626e-16                      1 -9.860761315262648e-32                      1  4.440892098500626e-16  4.930380657631324e-32    0.08099999999999996                      0\n",
      "     12 parameters\n",
      "       1 0 0 0 1 0 0 0 1 0 0 0\n",
      "  9 abstract parameters\n",
      "\n",
      "::plant and scene_graph::scene_graph Context\n",
      "---------------------------------------------\n",
      "Time: 0\n",
      "Parameters:\n",
      "  1 abstract parameters\n",
      "\n"
     ]
    }
   ],
   "source": [
    "plant_context = plant.GetMyMutableContextFromRoot(context)\n",
    "plant.SetPositions(plant_context, [-1.57, 0.1, 0, -1.2, 0, 1.6, 0])\n",
    "plant.get_actuation_input_port().FixValue(plant_context, np.zeros(7))\n",
    "print(context)"
   ]
  },
  {
   "cell_type": "markdown",
   "metadata": {
    "colab_type": "text",
    "id": "Js2ulEaFF0yD"
   },
   "source": [
    "Accidentally using `context` instead of `plant_context` is a very common mistake!\n",
    "\n",
    "Ok, now we're ready to simulate.  Make sure your visualizer window is visible, then run the following cell."
   ]
  },
  {
   "cell_type": "code",
   "execution_count": 12,
   "metadata": {
    "colab": {},
    "colab_type": "code",
    "id": "ZySlXAKSGLaS"
   },
   "outputs": [
    {
     "data": {
      "text/plain": [
       "<pydrake.systems.analysis.SimulatorStatus at 0x10caa91f0>"
      ]
     },
     "execution_count": 12,
     "metadata": {},
     "output_type": "execute_result"
    }
   ],
   "source": [
    "simulator = Simulator(diagram, context)\n",
    "simulator.set_target_realtime_rate(1.0)\n",
    "simulator.AdvanceTo(5.0 if running_as_notebook else 0.1)"
   ]
  },
  {
   "cell_type": "markdown",
   "metadata": {
    "colab_type": "text",
    "id": "Fdkx17YxGPSz"
   },
   "source": [
    "Glorious!\n",
    "\n",
    "Here's one more trick.  You can ask MeshCat to record the animation, and then review it in the visualizer using the sliders in the controls dialog.  \n",
    "\n",
    "I'll repeat the preamble here to make this cell stand-alone.  (Plus we cannot reuse a system in multiple diagrams; the ownership is restricted)."
   ]
  },
  {
   "cell_type": "code",
   "execution_count": 13,
   "metadata": {
    "colab": {},
    "colab_type": "code",
    "id": "HUeu3reLWw_H"
   },
   "outputs": [],
   "source": [
    "def animation_demo():\n",
    "    builder = DiagramBuilder()\n",
    "\n",
    "    # Adds both MultibodyPlant and the SceneGraph, and wires them together.\n",
    "    plant, scene_graph = AddMultibodyPlantSceneGraph(builder, time_step=1e-4)\n",
    "    # Note that we parse into both the plant and the scene_graph here.\n",
    "    Parser(plant, scene_graph).AddModelsFromUrl(\n",
    "        \"package://drake/manipulation/models/iiwa_description/sdf/iiwa14_no_collision.sdf\"\n",
    "    )\n",
    "    plant.WeldFrames(plant.world_frame(), plant.GetFrameByName(\"iiwa_link_0\"))\n",
    "    plant.Finalize()\n",
    "\n",
    "    # Adds the MeshcatVisualizer and wires it to the SceneGraph.\n",
    "    visualizer = MeshcatVisualizer.AddToBuilder(builder, scene_graph, meshcat)\n",
    "\n",
    "    diagram = builder.Build()\n",
    "    context = diagram.CreateDefaultContext()\n",
    "    plant_context = plant.GetMyMutableContextFromRoot(context)\n",
    "    plant.SetPositions(plant_context, [-1.57, 0.1, 0, -1.2, 0, 1.6, 0])\n",
    "    plant.get_actuation_input_port().FixValue(plant_context, np.zeros(7))\n",
    "\n",
    "    simulator = Simulator(diagram, context)\n",
    "    simulator.set_target_realtime_rate(1.0)\n",
    "\n",
    "    meshcat.StartRecording()\n",
    "    simulator.AdvanceTo(5.0 if running_as_notebook else 0.1)\n",
    "    meshcat.StopRecording()\n",
    "    meshcat.PublishRecording()\n",
    "\n",
    "\n",
    "animation_demo()"
   ]
  },
  {
   "cell_type": "markdown",
   "metadata": {
    "colab_type": "text",
    "id": "8SPr8dXoY3IT"
   },
   "source": [
    "# Adding the iiwa controller\n",
    "\n",
    "The iiwa hardware interface runs through a control system provided by the manufacturer.  We can't turn it off.  The best we can do is add our approximation of it to our simulation.  I'll repeat everything we've set up before (to keep this example self-contained), but we'll add one more system for the controller."
   ]
  },
  {
   "cell_type": "code",
   "execution_count": 161,
   "metadata": {
    "colab": {},
    "colab_type": "code",
    "id": "Qd245P5kY666"
   },
   "outputs": [
    {
     "ename": "RuntimeError",
     "evalue": "error: URI 'package://drake/manipulation/models/z1_description/xacro/z11.urdf' resolved to '/Library/Frameworks/Python.framework/Versions/3.11/lib/python3.11/site-packages/pydrake/share/drake/manipulation/models/z1_description/xacro/z11.urdf' which does not exist.",
     "output_type": "error",
     "traceback": [
      "\u001b[0;31m---------------------------------------------------------------------------\u001b[0m",
      "\u001b[0;31mRuntimeError\u001b[0m                              Traceback (most recent call last)",
      "Cell \u001b[0;32mIn[161], line 8\u001b[0m\n\u001b[1;32m      6\u001b[0m plant, scene_graph \u001b[38;5;241m=\u001b[39m AddMultibodyPlantSceneGraph(builder, time_step\u001b[38;5;241m=\u001b[39m\u001b[38;5;241m1e-4\u001b[39m)\n\u001b[1;32m      7\u001b[0m \u001b[38;5;66;03m# Note that we parse into both the plant and the scene_graph here.\u001b[39;00m\n\u001b[0;32m----> 8\u001b[0m iiwa_model \u001b[38;5;241m=\u001b[39m \u001b[43mParser\u001b[49m\u001b[43m(\u001b[49m\u001b[43mplant\u001b[49m\u001b[43m,\u001b[49m\u001b[43m \u001b[49m\u001b[43mscene_graph\u001b[49m\u001b[43m)\u001b[49m\u001b[38;5;241;43m.\u001b[39;49m\u001b[43mAddModelsFromUrl\u001b[49m\u001b[43m(\u001b[49m\n\u001b[1;32m      9\u001b[0m \u001b[38;5;66;43;03m#     \"package://drake/manipulation/models/iiwa_description/sdf/iiwa14_no_collision.sdf\"\u001b[39;49;00m\n\u001b[1;32m     10\u001b[0m \u001b[38;5;66;43;03m#     \"package://drake/manipulation/models/iiwa_description/urdf/iiwa14_no_collision.urdf\"\u001b[39;49;00m\n\u001b[1;32m     11\u001b[0m \u001b[43m    \u001b[49m\u001b[38;5;124;43m\"\u001b[39;49m\u001b[38;5;124;43mpackage://drake/manipulation/models/z1_description/xacro/z11.urdf\u001b[39;49m\u001b[38;5;124;43m\"\u001b[39;49m\n\u001b[1;32m     12\u001b[0m \u001b[43m)\u001b[49m[\u001b[38;5;241m0\u001b[39m]\n\u001b[1;32m     13\u001b[0m \u001b[38;5;66;03m# plant.WeldFrames(plant.world_frame(), plant.GetFrameByName(\"iiwa_link_0\"))\u001b[39;00m\n\u001b[1;32m     14\u001b[0m plant\u001b[38;5;241m.\u001b[39mFinalize()\n",
      "\u001b[0;31mRuntimeError\u001b[0m: error: URI 'package://drake/manipulation/models/z1_description/xacro/z11.urdf' resolved to '/Library/Frameworks/Python.framework/Versions/3.11/lib/python3.11/site-packages/pydrake/share/drake/manipulation/models/z1_description/xacro/z11.urdf' which does not exist."
     ]
    }
   ],
   "source": [
    "meshcat.Delete()\n",
    "meshcat.DeleteAddedControls()\n",
    "builder = DiagramBuilder()\n",
    "\n",
    "# Adds both MultibodyPlant and the SceneGraph, and wires them together.\n",
    "plant, scene_graph = AddMultibodyPlantSceneGraph(builder, time_step=1e-4)\n",
    "# Note that we parse into both the plant and the scene_graph here.\n",
    "iiwa_model = Parser(plant, scene_graph).AddModelsFromUrl(\n",
    "#     \"package://drake/manipulation/models/iiwa_description/sdf/iiwa14_no_collision.sdf\"\n",
    "#     \"package://drake/manipulation/models/iiwa_description/urdf/iiwa14_no_collision.urdf\"\n",
    "    \"package://drake/manipulation/models/z1_description/xacro/z11.urdf\"\n",
    ")[0]\n",
    "# plant.WeldFrames(plant.world_frame(), plant.GetFrameByName(\"iiwa_link_0\"))\n",
    "plant.Finalize()\n",
    "\n",
    "# Adds the MeshcatVisualizer and wires it to the SceneGraph.\n",
    "visualizer = MeshcatVisualizer.AddToBuilder(builder, scene_graph, meshcat)\n",
    "\n",
    "# Adds an approximation of the iiwa controller.\n",
    "# TODO(russt): replace this with the joint impedance controller.\n",
    "kp = [50] * plant.num_positions()\n",
    "ki = [1] * plant.num_positions()\n",
    "kd = [1] * plant.num_positions()\n",
    "# iiwa_controller = builder.AddSystem(\n",
    "#     InverseDynamicsController(plant, kp, ki, kd, False)\n",
    "# )\n",
    "\n",
    "z1_controller = builder.AddSystem(\n",
    "    PidController(kp, ki, kd)\n",
    "#     InverseDynamicsController(plant, kp, ki, kd, False)\n",
    ")\n",
    "\n",
    "# iiwa_controller.set_name(\"iiwa_controller\")\n",
    "z1_controller.set_name(\"z1_controller\")\n",
    "builder.Connect(\n",
    "    plant.get_state_output_port(iiwa_model),\n",
    "    z1_controller.get_input_port_estimated_state(),\n",
    ")\n",
    "builder.Connect(\n",
    "    z1_controller.get_output_port_control(), plant.get_actuation_input_port()\n",
    ")\n",
    "diagram = builder.Build()\n",
    "diagram.set_name(\"with z1 controller\")"
   ]
  },
  {
   "cell_type": "code",
   "execution_count": 160,
   "metadata": {
    "colab": {},
    "colab_type": "code",
    "id": "GHrnvvpXXixB"
   },
   "outputs": [
    {
     "name": "stdout",
     "output_type": "stream",
     "text": [
      "::with z1 controller Context (of a Diagram)\n",
      "--------------------------------------------\n",
      "6 total continuous states\n",
      "12 total discrete states in 1 groups\n",
      "176 total numeric parameters in 27 groups\n",
      "9 total abstract parameters\n",
      "\n",
      "::with z1 controller::plant Context\n",
      "------------------------------------\n",
      "Time: 0\n",
      "States:\n",
      "  1 discrete state groups with\n",
      "     12 states\n",
      "        0  1 -1  0  0  0  0  0  0  0  0  0\n",
      "\n",
      "Parameters:\n",
      "  27 numeric parameter groups with\n",
      "     1 parameters\n",
      "       0\n",
      "     1 parameters\n",
      "       1\n",
      "     1 parameters\n",
      "       0\n",
      "     1 parameters\n",
      "       1\n",
      "     1 parameters\n",
      "       0\n",
      "     1 parameters\n",
      "       1\n",
      "     1 parameters\n",
      "       0\n",
      "     1 parameters\n",
      "       1\n",
      "     1 parameters\n",
      "       0\n",
      "     1 parameters\n",
      "       1\n",
      "     1 parameters\n",
      "       0\n",
      "     1 parameters\n",
      "       1\n",
      "     10 parameters\n",
      "       nan nan nan nan nan nan nan nan nan nan\n",
      "     10 parameters\n",
      "                   0.47247481            -0.00334984            -0.00013615             0.02495843   0.001425884042381517   0.001512942829478834   0.001134389789491661 -1.196860949341964e-06  6.165848709475383e-05  1.302740441618445e-06\n",
      "     10 parameters\n",
      "                   0.67332551               2.47e-06            -0.00025198             0.02317169   0.002442874241617319   0.001605221814088703   0.001246652241327121 -8.848755564279125e-08  -6.51300382585275e-07  6.581385331556595e-06\n",
      "     10 parameters\n",
      "                   1.19132258            -0.11012601             0.00240029             0.00158266  0.0008656158572778272    0.03252318297968122    0.03283413959445713  0.0007877694153875752  0.0001785981694633844 -5.561589716282481e-06\n",
      "     10 parameters\n",
      "                  0.83940874            0.10609208           -0.00541815            0.03476383  0.002525226840643253   0.02383203120857787   0.02184733239788994 0.0004715477289419565 -0.006167316821685189  0.000172487333254611\n",
      "     10 parameters\n",
      "                   0.56404563             0.04366681             0.00364738            -0.00170192  0.0005760127773362252   0.003558418686066193   0.003655981604514688 -1.513217460647281e-05  0.0001468470103153943 -4.358972040411195e-06\n",
      "     10 parameters\n",
      "                   0.38938492             0.03121533                      0             0.00646316   0.000493895750024731   0.002451663992649828   0.002357603963022282   1.02726114817184e-06 -5.564745544406007e-05 -3.338598731558479e-07\n",
      "     10 parameters\n",
      "                  0.28875807             0.0241569           -0.00017355           -0.00143876 0.0006368183415390396  0.001096434082675031  0.001091969997266649 8.417420139864177e-06 3.662605904910381e-05 2.735173608945424e-08\n",
      "     12 parameters\n",
      "        1  0 -0  0  1  0  0  0  1  0  0  0\n",
      "     12 parameters\n",
      "            1      0     -0      0      1      0      0      0      1      0      0 0.0585\n",
      "     12 parameters\n",
      "           1     0    -0     0     1     0     0     0     1     0     0 0.045\n",
      "     12 parameters\n",
      "           1     0    -0     0     1     0     0     0     1 -0.35     0     0\n",
      "     12 parameters\n",
      "           1     0    -0     0     1     0     0     0     1 0.218     0 0.057\n",
      "     12 parameters\n",
      "                         1                   0                  -0                   0                   1                   0                   0                   0                   1 0.07000000000000001                   0                   0\n",
      "     12 parameters\n",
      "            1      0     -0      0      1      0      0      0      1 0.0492      0      0\n",
      "  8 abstract parameters\n",
      "\n",
      "::with z1 controller::scene_graph Context\n",
      "------------------------------------------\n",
      "Time: 0\n",
      "Parameters:\n",
      "  1 abstract parameters\n",
      "\n",
      "::with z1 controller::z1_controller Context\n",
      "--------------------------------------------\n",
      "Time: 0\n",
      "States:\n",
      "  6 continuous states\n",
      "    0 0 0 0 0 0\n",
      "\n",
      "\n"
     ]
    }
   ],
   "source": [
    "context = diagram.CreateDefaultContext()\n",
    "\n",
    "plant_context = plant.GetMyMutableContextFromRoot(context)\n",
    "\n",
    "# plant.GetJointByName(\"iiwa_joint_4\").set_angle(context, -1.2)\n",
    "q0 = np.array([1, 1, 1, 1, 1, 1])\n",
    "x0 = np.hstack((q0, 0 * q0))\n",
    "plant.SetPositions(plant_context, [0, 1,-1,0,0,0])\n",
    "print(context)\n",
    "z1_controller.GetInputPort(\"desired_state\").FixValue(\n",
    "    z1_controller.GetMyMutableContextFromRoot(context), x0\n",
    ")\n",
    "\n",
    "\n",
    "simulator = Simulator(diagram, context)\n",
    "simulator.set_target_realtime_rate(1)\n",
    "# simulator.AdvanceTo(5.0 if running_as_notebook else 0.1);\n",
    "# simulator.AdvanceTo(30);\n",
    "meshcat.StartRecording()\n",
    "simulator.AdvanceTo(1e-4 if running_as_notebook else 0.1)\n",
    "meshcat.StopRecording()\n",
    "meshcat.PublishRecording()"
   ]
  },
  {
   "cell_type": "code",
   "execution_count": 156,
   "metadata": {},
   "outputs": [
    {
     "data": {
      "text/plain": [
       "array([-0.00000000e+00,  2.30185706e-02,  4.56447654e+00,  1.03434020e+00,\n",
       "        2.23609418e-08,  4.80650740e-04])"
      ]
     },
     "execution_count": 156,
     "metadata": {},
     "output_type": "execute_result"
    }
   ],
   "source": [
    "plant.CalcGravityGeneralizedForces(plant_context)"
   ]
  },
  {
   "cell_type": "code",
   "execution_count": 155,
   "metadata": {},
   "outputs": [
    {
     "data": {
      "text/plain": [
       "array([-1.87180571e-05,  9.99998879e-01, -1.00000827e+00,  6.32975642e-05,\n",
       "        2.01370143e-04,  2.69050650e-03])"
      ]
     },
     "execution_count": 155,
     "metadata": {},
     "output_type": "execute_result"
    }
   ],
   "source": [
    "plant.GetPositions(plant_context)\n"
   ]
  },
  {
   "cell_type": "code",
   "execution_count": 60,
   "metadata": {},
   "outputs": [],
   "source": [
    "plant.SetPositions(plant_context,[0.0, 1.0,-0.93050765,-0.0,  0.0,  0.0 ])"
   ]
  },
  {
   "cell_type": "code",
   "execution_count": 109,
   "metadata": {},
   "outputs": [
    {
     "name": "stdout",
     "output_type": "stream",
     "text": [
      "::with z1 controller Context (of a Diagram)\n",
      "--------------------------------------------\n",
      "6 total continuous states\n",
      "12 total discrete states in 1 groups\n",
      "176 total numeric parameters in 27 groups\n",
      "9 total abstract parameters\n",
      "\n",
      "::with z1 controller::plant Context\n",
      "------------------------------------\n",
      "Time: 10\n",
      "States:\n",
      "  1 discrete state groups with\n",
      "     12 states\n",
      "            1.009825875199271      1.005730762293105   0.006364813959946352     0.8978994389440544       1.00930712513086      1.009826594501045 -1.965229558437639e-05 -1.222556854811005e-05  2.153689448890492e-05  0.0003140281831938888 -1.854861766417461e-05  -1.96513301970979e-05\n",
      "\n",
      "Parameters:\n",
      "  27 numeric parameter groups with\n",
      "     1 parameters\n",
      "       0\n",
      "     1 parameters\n",
      "       1\n",
      "     1 parameters\n",
      "       0\n",
      "     1 parameters\n",
      "       1\n",
      "     1 parameters\n",
      "       0\n",
      "     1 parameters\n",
      "       1\n",
      "     1 parameters\n",
      "       0\n",
      "     1 parameters\n",
      "       1\n",
      "     1 parameters\n",
      "       0\n",
      "     1 parameters\n",
      "       1\n",
      "     1 parameters\n",
      "       0\n",
      "     1 parameters\n",
      "       1\n",
      "     10 parameters\n",
      "       nan nan nan nan nan nan nan nan nan nan\n",
      "     10 parameters\n",
      "                   0.47247481            -0.00334984            -0.00013615             0.02495843   0.001425884042381517   0.001512942829478834   0.001134389789491661 -1.196860949341964e-06  6.165848709475383e-05  1.302740441618445e-06\n",
      "     10 parameters\n",
      "                   0.67332551               2.47e-06            -0.00025198             0.02317169   0.002442874241617319   0.001605221814088703   0.001246652241327121 -8.848755564279125e-08  -6.51300382585275e-07  6.581385331556595e-06\n",
      "     10 parameters\n",
      "                   1.19132258            -0.11012601             0.00240029             0.00158266  0.0008656158572778272    0.03252318297968122    0.03283413959445713  0.0007877694153875752  0.0001785981694633844 -5.561589716282481e-06\n",
      "     10 parameters\n",
      "                  0.83940874            0.10609208           -0.00541815            0.03476383  0.002525226840643253   0.02383203120857787   0.02184733239788994 0.0004715477289419565 -0.006167316821685189  0.000172487333254611\n",
      "     10 parameters\n",
      "                   0.56404563             0.04366681             0.00364738            -0.00170192  0.0005760127773362252   0.003558418686066193   0.003655981604514688 -1.513217460647281e-05  0.0001468470103153943 -4.358972040411195e-06\n",
      "     10 parameters\n",
      "                   0.38938492             0.03121533                      0             0.00646316   0.000493895750024731   0.002451663992649828   0.002357603963022282   1.02726114817184e-06 -5.564745544406007e-05 -3.338598731558479e-07\n",
      "     10 parameters\n",
      "                  0.28875807             0.0241569           -0.00017355           -0.00143876 0.0006368183415390396  0.001096434082675031  0.001091969997266649 8.417420139864177e-06 3.662605904910381e-05 2.735173608945424e-08\n",
      "     12 parameters\n",
      "        1  0 -0  0  1  0  0  0  1  0  0  0\n",
      "     12 parameters\n",
      "            1      0     -0      0      1      0      0      0      1      0      0 0.0585\n",
      "     12 parameters\n",
      "           1     0    -0     0     1     0     0     0     1     0     0 0.045\n",
      "     12 parameters\n",
      "           1     0    -0     0     1     0     0     0     1 -0.35     0     0\n",
      "     12 parameters\n",
      "           1     0    -0     0     1     0     0     0     1 0.218     0 0.057\n",
      "     12 parameters\n",
      "                         1                   0                  -0                   0                   1                   0                   0                   0                   1 0.07000000000000001                   0                   0\n",
      "     12 parameters\n",
      "            1      0     -0      0      1      0      0      0      1 0.0492      0      0\n",
      "  8 abstract parameters\n",
      "\n",
      "::with z1 controller::scene_graph Context\n",
      "------------------------------------------\n",
      "Time: 10\n",
      "Parameters:\n",
      "  1 abstract parameters\n",
      "\n",
      "::with z1 controller::z1_controller Context\n",
      "--------------------------------------------\n",
      "Time: 10\n",
      "States:\n",
      "  6 continuous states\n",
      "    -0.08718044111392076 -0.05663224757547356    9.971152996878306    1.099451727501209 -0.08389498862329921 -0.08581883425252498\n",
      "\n",
      "\n"
     ]
    }
   ],
   "source": [
    "print(context)"
   ]
  },
  {
   "cell_type": "code",
   "execution_count": 61,
   "metadata": {},
   "outputs": [
    {
     "ename": "RuntimeError",
     "evalue": "C++ object must be owned by pybind11 when attempting to release to C++",
     "output_type": "error",
     "traceback": [
      "\u001b[0;31m---------------------------------------------------------------------------\u001b[0m",
      "\u001b[0;31mRuntimeError\u001b[0m                              Traceback (most recent call last)",
      "Cell \u001b[0;32mIn[61], line 6\u001b[0m\n\u001b[1;32m      1\u001b[0m iiwa_controller\u001b[38;5;241m.\u001b[39mGetInputPort(\u001b[38;5;124m\"\u001b[39m\u001b[38;5;124mdesired_state\u001b[39m\u001b[38;5;124m\"\u001b[39m)\u001b[38;5;241m.\u001b[39mFixValue(\n\u001b[1;32m      2\u001b[0m     iiwa_controller\u001b[38;5;241m.\u001b[39mGetMyMutableContextFromRoot(context), x0\n\u001b[1;32m      3\u001b[0m )\n\u001b[0;32m----> 6\u001b[0m simulator \u001b[38;5;241m=\u001b[39m \u001b[43mSimulator\u001b[49m\u001b[43m(\u001b[49m\u001b[43mdiagram\u001b[49m\u001b[43m,\u001b[49m\u001b[43m \u001b[49m\u001b[43mcontext\u001b[49m\u001b[43m)\u001b[49m\n\u001b[1;32m      7\u001b[0m simulator\u001b[38;5;241m.\u001b[39mset_target_realtime_rate(\u001b[38;5;241m1.0\u001b[39m)\n\u001b[1;32m      8\u001b[0m simulator\u001b[38;5;241m.\u001b[39mAdvanceTo(\u001b[38;5;241m5.0\u001b[39m \u001b[38;5;28;01mif\u001b[39;00m running_as_notebook \u001b[38;5;28;01melse\u001b[39;00m \u001b[38;5;241m0.1\u001b[39m);\n",
      "\u001b[0;31mRuntimeError\u001b[0m: C++ object must be owned by pybind11 when attempting to release to C++"
     ]
    }
   ],
   "source": [
    "iiwa_controller.GetInputPort(\"desired_state\").FixValue(\n",
    "    iiwa_controller.GetMyMutableContextFromRoot(context), x0\n",
    ")\n",
    "\n",
    "\n",
    "simulator = Simulator(diagram, context)\n",
    "simulator.set_target_realtime_rate(1.0)\n",
    "simulator.AdvanceTo(5.0 if running_as_notebook else 0.1);"
   ]
  },
  {
   "cell_type": "markdown",
   "metadata": {
    "colab_type": "text",
    "id": "kAWFX5H7atro"
   },
   "source": [
    "Now, if we simulate, the robot just stays put.  Just like the real robot would."
   ]
  },
  {
   "cell_type": "code",
   "execution_count": 17,
   "metadata": {
    "colab": {},
    "colab_type": "code",
    "id": "qvJ2PptyYuz2"
   },
   "outputs": [],
   "source": [
    "simulator = Simulator(diagram, context)\n",
    "simulator.set_target_realtime_rate(1.0)\n",
    "simulator.AdvanceTo(5.0 if running_as_notebook else 0.1);"
   ]
  },
  {
   "cell_type": "code",
   "execution_count": null,
   "metadata": {
    "colab": {},
    "colab_type": "code",
    "id": "5SjOClhTltPk"
   },
   "outputs": [],
   "source": []
  }
 ],
 "metadata": {
  "colab": {
   "collapsed_sections": [],
   "name": "Robotic Manipulation - Let's get you a robot.ipynb",
   "provenance": [],
   "toc_visible": true
  },
  "kernelspec": {
   "display_name": "Python 3 (ipykernel)",
   "language": "python",
   "name": "python3"
  },
  "language_info": {
   "codemirror_mode": {
    "name": "ipython",
    "version": 3
   },
   "file_extension": ".py",
   "mimetype": "text/x-python",
   "name": "python",
   "nbconvert_exporter": "python",
   "pygments_lexer": "ipython3",
   "version": "3.11.3"
  },
  "vscode": {
   "interpreter": {
    "hash": "b0fa6594d8f4cbf19f97940f81e996739fb7646882a419484c72d19e05852a7e"
   }
  }
 },
 "nbformat": 4,
 "nbformat_minor": 2
}
