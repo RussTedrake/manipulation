{
  "cells": [
    {
      "cell_type": "markdown",
      "metadata": {
        "colab_type": "text",
        "id": "EgiF12Hf1Dhs"
      },
      "source": [
        "This notebook provides examples to go along with the [textbook](http://manipulation.csail.mit.edu/pick.html).  I recommend having both windows open, side-by-side!"
      ]
    },
    {
      "cell_type": "code",
      "execution_count": null,
      "metadata": {
        "colab": {},
        "colab_type": "code",
        "id": "eeMrMI0-1Dhu"
      },
      "outputs": [],
      "source": [
        "import numpy as np\n",
        "from IPython.display import display, clear_output\n",
        "from pydrake.all import (AbstractValue, AddMultibodyPlantSceneGraph,\n",
        "                         DiagramBuilder, EventStatus, JointSliders, LeafSystem,\n",
        "                         LoadModelDirectives, MeshcatVisualizer, Parser,\n",
        "                         ProcessModelDirectives, RigidTransform, RollPitchYaw,\n",
        "                         StartMeshcat)\n",
        "\n",
        "from manipulation import FindResource, running_as_notebook\n",
        "from manipulation.scenarios import AddPackagePaths, AddMultibodyTriad\n"
      ]
    },
    {
      "cell_type": "code",
      "execution_count": null,
      "metadata": {},
      "outputs": [],
      "source": [
        "# Start the visualizer.\n",
        "meshcat = StartMeshcat()"
      ]
    },
    {
      "cell_type": "markdown",
      "metadata": {
        "colab_type": "text",
        "id": "wSa5QcU0Piak"
      },
      "source": [
        "# Forward kinematics of the gripper frame\n",
        "\n",
        "Here is a simple example that let's you visualize the frames on the iiwa and the gripper.  If you click on the \"Open Controls\" menu in the MeshCat visualizer, and dig into the menu `meshcat->drake->Source` then you will see elements for each of the models in the `SceneGraph`: one for the iiwa, another for the WSG, and others for the clutter bins.  You can enable/disable their visualization.  Give it a spin!"
      ]
    },
    {
      "cell_type": "code",
      "execution_count": null,
      "metadata": {
        "colab": {},
        "colab_type": "code",
        "id": "5SjOClhTltPk"
      },
      "outputs": [],
      "source": [
        "class PrintPose(LeafSystem):\n",
        "    def __init__(self, body_index):\n",
        "        LeafSystem.__init__(self)\n",
        "        self._body_index = body_index\n",
        "        self.DeclareAbstractInputPort(\"body_poses\",\n",
        "                                    AbstractValue.Make([RigidTransform()]))\n",
        "        self.DeclareForcedPublishEvent(self.Publish)\n",
        "\n",
        "    def Publish(self, context):\n",
        "        pose = self.get_input_port().Eval(context)[self._body_index]\n",
        "        clear_output(wait=True)\n",
        "        print(\"gripper position (m): \" + np.array2string(\n",
        "            pose.translation(), formatter={\n",
        "                'float': lambda x: \"{:3.2f}\".format(x)}))\n",
        "        print(\"gripper roll-pitch-yaw (rad):\" + np.array2string(\n",
        "            RollPitchYaw(pose.rotation()).vector(),\n",
        "                         formatter={'float': lambda x: \"{:3.2f}\".format(x)}))\n",
        "        return EventStatus.Succeeded()\n",
        "\n",
        "def gripper_forward_kinematics_example():\n",
        "    builder = DiagramBuilder()\n",
        "\n",
        "    plant, scene_graph = AddMultibodyPlantSceneGraph(builder, time_step=0)\n",
        "    parser = Parser(plant)\n",
        "    AddPackagePaths(parser)\n",
        "    # TODO: Clean up pending https://github.com/RobotLocomotion/drake/issues/17390\n",
        "    ProcessModelDirectives(\n",
        "        LoadModelDirectives(FindResource(\"models/iiwa_and_wsg.dmd.yaml\")),\n",
        "        parser)\n",
        "    plant.Finalize()\n",
        "\n",
        "    # Draw the frames\n",
        "    for body_name in [\"iiwa_link_1\", \"iiwa_link_2\", \"iiwa_link_3\", \"iiwa_link_4\", \"iiwa_link_5\", \"iiwa_link_6\", \"iiwa_link_7\", \"body\"]:\n",
        "        AddMultibodyTriad(plant.GetFrameByName(body_name), scene_graph)\n",
        "\n",
        "    meshcat.Delete()\n",
        "    meshcat.DeleteAddedControls()\n",
        "    visualizer = MeshcatVisualizer.AddToBuilder(\n",
        "        builder, scene_graph.get_query_output_port(), meshcat)\n",
        "\n",
        "    wsg = plant.GetModelInstanceByName(\"wsg\")\n",
        "    gripper = plant.GetBodyByName(\"body\", wsg)\n",
        "    print_pose = builder.AddSystem(PrintPose(gripper.index()))\n",
        "    builder.Connect(plant.get_body_poses_output_port(),\n",
        "                    print_pose.get_input_port())\n",
        "\n",
        "    default_interactive_timeout = None if running_as_notebook else 1.0\n",
        "    sliders = builder.AddSystem(JointSliders(meshcat, plant))\n",
        "    diagram = builder.Build()\n",
        "    sliders.Run(diagram, default_interactive_timeout)\n",
        "    meshcat.DeleteAddedControls()\n",
        "\n",
        "gripper_forward_kinematics_example()\n"
      ]
    },
    {
      "cell_type": "code",
      "execution_count": null,
      "metadata": {},
      "outputs": [],
      "source": []
    }
  ],
  "metadata": {
    "colab": {
      "collapsed_sections": [],
      "name": "Robotic Manipulation - Basic Pick and Place.ipynb",
      "provenance": []
    },
    "kernelspec": {
      "display_name": "Python 3.10.6 64-bit",
      "language": "python",
      "name": "python3"
    },
    "language_info": {
      "codemirror_mode": {
        "name": "ipython",
        "version": 3
      },
      "file_extension": ".py",
      "mimetype": "text/x-python",
      "name": "python",
      "nbconvert_exporter": "python",
      "pygments_lexer": "ipython3",
      "version": "3.10.6"
    },
    "vscode": {
      "interpreter": {
        "hash": "b0fa6594d8f4cbf19f97940f81e996739fb7646882a419484c72d19e05852a7e"
      }
    }
  },
  "nbformat": 4,
  "nbformat_minor": 2
}
