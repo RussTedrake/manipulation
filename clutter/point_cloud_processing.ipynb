{
 "cells": [
  {
   "cell_type": "markdown",
   "id": "cab49ed4",
   "metadata": {
    "id": "TKvYiJgnYExi"
   },
   "source": [
    "This notebook provides examples to go along with the [textbook](http://manipulation.csail.mit.edu/clutter.html).  I recommend having both windows open, side-by-side!"
   ]
  },
  {
   "cell_type": "code",
   "execution_count": null,
   "id": "4fd3e611",
   "metadata": {
    "id": "A4QOaw_zYLfI",
    "lines_to_end_of_cell_marker": 2
   },
   "outputs": [],
   "source": [
    "from pydrake.all import Concatenate, StartMeshcat\n",
    "\n",
    "from manipulation.mustard_depth_camera_example import MustardExampleSystem"
   ]
  },
  {
   "cell_type": "code",
   "execution_count": null,
   "id": "3cb4d374",
   "metadata": {},
   "outputs": [],
   "source": [
    "# Start the visualizer.\n",
    "meshcat = StartMeshcat()"
   ]
  },
  {
   "cell_type": "markdown",
   "id": "95d946de",
   "metadata": {
    "id": "qxboQZ1IJlGM"
   },
   "source": [
    "# Point cloud processing\n",
    "\n",
    "I've produced a scene with multiple cameras looking at our favorite YCB mustard bottle.  I've taken the individual point clouds, estimated their normals, merged the point clouds, cropped then point clouds (to get rid of the geometry from the other cameras), then down-sampled the point clouds.  (The order is important!)\n",
    "\n",
    "I've pushed all of the point clouds to meshcat, but with many of them set to not be visible by default.  Use the drop-down menu to turn them on and off, and make sure you understand basically what is happening on each of the steps."
   ]
  },
  {
   "cell_type": "code",
   "execution_count": null,
   "id": "4387ca27",
   "metadata": {},
   "outputs": [],
   "source": [
    "def point_cloud_processing_example():\n",
    "    # This just sets up our mustard bottle with three depth cameras positioned\n",
    "    # around it.\n",
    "    system = MustardExampleSystem()\n",
    "\n",
    "    plant = system.GetSubsystemByName(\"plant\")\n",
    "\n",
    "    # Evaluate the camera output ports to get the images.\n",
    "    context = system.CreateDefaultContext()\n",
    "    plant_context = plant.GetMyContextFromRoot(context)\n",
    "\n",
    "    meshcat.Delete()\n",
    "    meshcat.SetProperty(\"/Background\", \"visible\", False)\n",
    "\n",
    "    pcd = []\n",
    "    for i in range(3):\n",
    "        cloud = system.GetOutputPort(f\"camera{i}_point_cloud\").Eval(context)\n",
    "        meshcat.SetObject(f\"pointcloud{i}\", cloud, point_size=0.001)\n",
    "        meshcat.SetProperty(f\"pointcloud{i}\", \"visible\", False)\n",
    "\n",
    "        # Crop to region of interest.\n",
    "        pcd.append(\n",
    "            cloud.Crop(lower_xyz=[-0.3, -0.3, -0.3], upper_xyz=[0.3, 0.3, 0.3])\n",
    "        )\n",
    "        meshcat.SetObject(f\"pointcloud{i}_cropped\", pcd[i], point_size=0.001)\n",
    "        meshcat.SetProperty(f\"pointcloud{i}_cropped\", \"visible\", False)\n",
    "\n",
    "        pcd[i].EstimateNormals(radius=0.1, num_closest=30)\n",
    "\n",
    "        camera = plant.GetModelInstanceByName(f\"camera{i}\")\n",
    "        body = plant.GetBodyByName(\"base\", camera)\n",
    "        X_C = plant.EvalBodyPoseInWorld(plant_context, body)\n",
    "        pcd[i].FlipNormalsTowardPoint(X_C.translation())\n",
    "\n",
    "    # Merge point clouds.  (Note: You might need something more clever here for\n",
    "    # noisier point clouds; but this can often work!)\n",
    "    merged_pcd = Concatenate(pcd)\n",
    "    meshcat.SetObject(\"merged\", merged_pcd, point_size=0.001)\n",
    "\n",
    "    # Voxelize down-sample.  (Note that the normals still look reasonable)\n",
    "    down_sampled_pcd = merged_pcd.VoxelizedDownSample(voxel_size=0.005)\n",
    "    meshcat.SetObject(\"down_sampled\", down_sampled_pcd, point_size=0.001)\n",
    "    meshcat.SetLineSegments(\n",
    "        \"down_sampled_normals\",\n",
    "        down_sampled_pcd.xyzs(),\n",
    "        down_sampled_pcd.xyzs() + 0.01 * down_sampled_pcd.normals(),\n",
    "    )\n",
    "\n",
    "\n",
    "point_cloud_processing_example()"
   ]
  }
 ],
 "metadata": {
  "kernelspec": {
   "display_name": "Python 3.8.10 64-bit",
   "language": "python",
   "name": "python3"
  }
 },
 "nbformat": 4,
 "nbformat_minor": 5
}
