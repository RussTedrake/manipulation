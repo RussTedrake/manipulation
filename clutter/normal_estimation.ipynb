{
  "cells": [
    {
      "cell_type": "markdown",
      "metadata": {
        "id": "TKvYiJgnYExi"
      },
      "source": [
        "This notebook provides examples to go along with the [textbook](http://manipulation.csail.mit.edu/clutter.html).  I recommend having both windows open, side-by-side!"
      ]
    },
    {
      "cell_type": "code",
      "execution_count": null,
      "metadata": {
        "id": "A4QOaw_zYLfI"
      },
      "outputs": [],
      "source": [
        "import time\n",
        "\n",
        "import numpy as np\n",
        "from pydrake.all import (PointCloud, Rgba, RigidTransform, RotationMatrix,\n",
        "                         Sphere, StartMeshcat)\n",
        "from scipy.spatial import KDTree\n",
        "\n",
        "from manipulation import running_as_notebook\n",
        "from manipulation.meshcat_utils import AddMeshcatTriad\n",
        "from manipulation.mustard_depth_camera_example import MustardExampleSystem\n"
      ]
    },
    {
      "cell_type": "code",
      "execution_count": null,
      "metadata": {},
      "outputs": [],
      "source": [
        "# Start the visualizer.\n",
        "meshcat = StartMeshcat()"
      ]
    },
    {
      "cell_type": "markdown",
      "metadata": {},
      "source": [
        "# Estimating normals (and local curvature)\n",
        "\n",
        "TODO: Add the version from depth images (nearest pixels instead of nearest neighbors), and implement it in DepthImageToPointCloud."
      ]
    },
    {
      "cell_type": "code",
      "execution_count": null,
      "metadata": {
        "tags": []
      },
      "outputs": [],
      "source": [
        "def normal_estimation():\n",
        "    system = MustardExampleSystem()\n",
        "    context = system.CreateDefaultContext()\n",
        "\n",
        "    meshcat.Delete()\n",
        "    meshcat.DeleteAddedControls()\n",
        "    meshcat.SetProperty(\"/Background\", \"visible\", False)\n",
        "\n",
        "    point_cloud = system.GetOutputPort(\"camera0_point_cloud\").Eval(context)\n",
        "    cloud = point_cloud.Crop(lower_xyz=[-.3, -.3, -.3], upper_xyz=[.3, .3, .3])\n",
        "    meshcat.SetObject(\"point_cloud\", cloud)\n",
        "\n",
        "    # Extract camera position\n",
        "    plant = system.GetSubsystemByName(\"plant\")\n",
        "    p_WC = plant.GetFrameByName(\"camera0_origin\").CalcPoseInWorld(\n",
        "        plant.GetMyContextFromRoot(context)).translation()\n",
        "\n",
        "    kdtree = KDTree(cloud.xyzs().T)\n",
        "\n",
        "    num_closest = 40\n",
        "    neighbors= PointCloud(num_closest)\n",
        "    AddMeshcatTriad(meshcat, \"least_squares_basis\", length=0.03, radius=0.0005)\n",
        "\n",
        "    meshcat.AddSlider(\"point\",\n",
        "                      min=0,\n",
        "                      max=cloud.size() - 1,\n",
        "                      step=1,\n",
        "                      value=429, #4165,\n",
        "                      decrement_keycode=\"ArrowLeft\",\n",
        "                      increment_keycode=\"ArrowRight\")\n",
        "    meshcat.AddButton(\"Stop Normal Estimation\", \"Escape\")\n",
        "    print(\n",
        "        \"Press ESC or the 'Stop Normal Estimation' button in Meshcat to continue\"\n",
        "    )\n",
        "    last_index = -1\n",
        "    while meshcat.GetButtonClicks(\"Stop Normal Estimation\") < 1:\n",
        "        index = round(meshcat.GetSliderValue(\"point\"))\n",
        "        if index == last_index:\n",
        "            time.sleep(.1)\n",
        "            continue\n",
        "        last_index = index\n",
        "\n",
        "        query = cloud.xyz(index)\n",
        "        meshcat.SetObject(\"query\", Sphere(0.001), Rgba(0, 1, 0))\n",
        "        meshcat.SetTransform(\"query\", RigidTransform(query))\n",
        "        (distances, indices) = kdtree.query(query,\n",
        "                                            k=num_closest,\n",
        "                                            distance_upper_bound=0.1)\n",
        "\n",
        "        neighbors.resize(len(distances))\n",
        "        neighbors.mutable_xyzs()[:] = cloud.xyzs()[:, indices]\n",
        "\n",
        "        meshcat.SetObject(\"neighbors\", neighbors,\n",
        "                          rgba=Rgba(0, 0, 1), point_size=0.001)\n",
        "\n",
        "        neighbor_pts = neighbors.xyzs().T\n",
        "        pstar = np.mean(neighbor_pts,axis=0)\n",
        "        prel = neighbor_pts - pstar\n",
        "        W = np.matmul(prel.T, prel)\n",
        "        w, V = np.linalg.eigh(W)\n",
        "        # V[:, 0] corresponds to the smallest eigenvalue, and V[:, 2] to the\n",
        "        # largest.\n",
        "        R = np.fliplr(V)\n",
        "        # R[:, 0] corresponds to the largest eigenvalue, and R[:, 2] to the\n",
        "        # smallest (the normal).\n",
        "\n",
        "        # Handle improper rotations\n",
        "        R = R @ np.diag([1, 1, np.linalg.det(R)])\n",
        "\n",
        "        # If the normal is not pointing towards the camera...\n",
        "        if (p_WC - -query).dot(R[:,2]) < 0:\n",
        "            # then flip the y and z axes.\n",
        "            R = R @ np.diag([1, -1, -1])\n",
        "\n",
        "        meshcat.SetTransform(\"least_squares_basis\", RigidTransform(\n",
        "            RotationMatrix(R), query))\n",
        "\n",
        "        if not running_as_notebook:\n",
        "            break\n",
        "\n",
        "    meshcat.DeleteAddedControls()\n",
        "\n",
        "normal_estimation()\n"
      ]
    },
    {
      "cell_type": "code",
      "execution_count": null,
      "metadata": {},
      "outputs": [],
      "source": []
    }
  ],
  "metadata": {
    "colab": {
      "collapsed_sections": [],
      "name": "Robotic Manipulation - Bin Picking.ipynb",
      "provenance": [],
      "toc_visible": true
    },
    "kernelspec": {
      "display_name": "Python 3.8.10 64-bit",
      "language": "python",
      "name": "python3"
    },
    "language_info": {
      "codemirror_mode": {
        "name": "ipython",
        "version": 3
      },
      "file_extension": ".py",
      "mimetype": "text/x-python",
      "name": "python",
      "nbconvert_exporter": "python",
      "pygments_lexer": "ipython3",
      "version": "3.8.10"
    },
    "vscode": {
      "interpreter": {
        "hash": "e7370f93d1d0cde622a1f8e1c04877d8463912d04d973331ad4851f04de6915a"
      }
    }
  },
  "nbformat": 4,
  "nbformat_minor": 2
}
