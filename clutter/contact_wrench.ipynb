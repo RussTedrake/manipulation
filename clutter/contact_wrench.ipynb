{
  "cells": [
    {
      "cell_type": "markdown",
      "metadata": {
        "id": "TKvYiJgnYExi"
      },
      "source": [
        "This notebook provides examples to go along with the [textbook](http://manipulation.csail.mit.edu/clutter.html).  I recommend having both windows open, side-by-side!"
      ]
    },
    {
      "cell_type": "code",
      "execution_count": null,
      "metadata": {
        "id": "A4QOaw_zYLfI"
      },
      "outputs": [],
      "source": [
        "import numpy as np\n",
        "from pydrake.all import (AbstractValue, AddMultibodyPlantSceneGraph, Box,\n",
        "                         ContactResults, ContactVisualizer,\n",
        "                         ContactVisualizerParams, CoulombFriction,\n",
        "                         DiagramBuilder, FixedOffsetFrame, JointSliders,\n",
        "                         LeafSystem, MeshcatCone, MeshcatVisualizer,\n",
        "                         PrismaticJoint, Rgba, RigidTransform, RotationMatrix,\n",
        "                         SpatialInertia, Sphere, StartMeshcat, UnitInertia,\n",
        "                         VectorToSkewSymmetric)\n",
        "\n",
        "from manipulation import running_as_notebook\n",
        "from manipulation.scenarios import AddShape\n"
      ]
    },
    {
      "cell_type": "code",
      "execution_count": null,
      "metadata": {},
      "outputs": [],
      "source": [
        "# Start the visualizer.\n",
        "meshcat = StartMeshcat()"
      ]
    },
    {
      "cell_type": "markdown",
      "metadata": {
        "id": "2ctYY0SHJlGB"
      },
      "source": [
        "# Contact wrench cone \"inspector\""
      ]
    },
    {
      "cell_type": "code",
      "execution_count": null,
      "metadata": {
        "id": "648WXpNpJlGF",
        "tags": []
      },
      "outputs": [],
      "source": [
        "from IPython.display import clear_output\n",
        "from pydrake.all import Cylinder, PointCloud\n",
        "mu = 1.0\n",
        "height = .3\n",
        "N = 50\n",
        "t = np.linspace(0, 2*np.pi, N)\n",
        "vertices = np.vstack((height*mu*np.sin(t), height*mu*np.cos(t), height + 0*t))\n",
        "vertices = np.append(np.array([[0], [0], [height]]), vertices, axis=1)\n",
        "vertices = np.append(np.zeros((3,1)), vertices, axis=1)\n",
        "faces = []\n",
        "for i in range(N-1):\n",
        "    faces.append([0, i+2, i+3])\n",
        "    faces.append([1, i+3, i+2])\n",
        "faces = np.asarray(faces, dtype=int).T\n",
        "#color = np.tile(np.array([0, 0, 255]), (vertices.shape[1],1)).T\n",
        "cloud = PointCloud(vertices.shape[1])\n",
        "\n",
        "class DrawContactWrench(LeafSystem):\n",
        "    def __init__(self):\n",
        "        LeafSystem.__init__(self)\n",
        "        self.DeclareAbstractInputPort(\"contact_results\",\n",
        "                                      AbstractValue.Make(ContactResults()))\n",
        "        self.DeclareForcedPublishEvent(self.Publish)\n",
        "\n",
        "    def Publish(self, context):\n",
        "        results = self.get_input_port().Eval(context)\n",
        "\n",
        "        clear_output(wait=True)\n",
        "        for i in range(results.num_point_pair_contacts()):\n",
        "            info = results.point_pair_contact_info(i)\n",
        "            meshcat.SetObject(f\"contact_{i}\",\n",
        "                              MeshcatCone(height, height * mu, height * mu), rgba=Rgba(0.1, 0.9, 0.1, 1.0))\n",
        "            p_WC = info.contact_point()\n",
        "            R_WC = RotationMatrix.MakeFromOneVector(info.point_pair().nhat_BA_W,\n",
        "                                                    2)\n",
        "            X_WC = RigidTransform(R_WC, p_WC)\n",
        "            meshcat.SetTransform(f\"contact_{i}\", X_WC)\n",
        "\n",
        "            X_WB = RigidTransform()  # box center is at world origin\n",
        "            meshcat.SetObject(f\"box_center/contact_{i}/translational\",\n",
        "                              MeshcatCone(height, height * mu, height * mu),\n",
        "                              rgba=Rgba(0.7, 0.1, 0.1, 1.0))\n",
        "            meshcat.SetTransform(\"box_center\", X_WB)\n",
        "            R_BC = X_WB.inverse().rotation() @ R_WC\n",
        "            meshcat.SetTransform(f\"box_center/contact_{i}\",\n",
        "                                 RigidTransform(R_BC))\n",
        "            p_BC_C = R_WC @ (X_WB.inverse() @ p_WC)\n",
        "            A_CCtau = VectorToSkewSymmetric(p_BC_C)\n",
        "            # Three.js does not fully support non-uniform scaling\n",
        "            # https://github.com/mrdoob/three.js/issues/15079.\n",
        "            # So I cannot simply draw the meshcatcone and transform it.\n",
        "            # Instead I will create the vertices myself.\n",
        "            cloud.mutable_xyzs()[:] = A_CCtau @ vertices\n",
        "            meshcat.SetObject(f\"box_center/contact_{i}/rotational_cloud\",\n",
        "                              cloud, point_size=0.002,\n",
        "                              rgba=Rgba(0, 1, 0, 1))\n",
        "            # TODO(russt): Figure out colors.  The surface mesh example works ok in meshcat_manual_test...\n",
        "            meshcat.SetTriangleMesh(f\"box_center/contact_{i}/rotational\",\n",
        "                                    A_CCtau @ vertices,\n",
        "                                    faces, rgba=Rgba(0, 0, 1, 1))\n",
        "\n",
        "\n",
        "def contact_wrench_inspector(second_finger=False):\n",
        "    builder = DiagramBuilder()\n",
        "\n",
        "    plant, scene_graph = AddMultibodyPlantSceneGraph(builder, time_step=0.0)\n",
        "    box_instance = AddShape(plant, Box(1, 2, 3), \"box\", color=[.9, .7, .5, .5])\n",
        "    plant.WeldFrames(plant.world_frame(), plant.GetFrameByName(\"box\"))\n",
        "\n",
        "    finger1 = AddShape(plant, Sphere(0.1), \"finger1\", color=[.2, .2, .2, 1.0])\n",
        "    box_negative_x = plant.AddFrame(\n",
        "        FixedOffsetFrame(\"box_negative_x\", plant.world_frame(),\n",
        "                         RigidTransform([-.58, 0, 0]), box_instance))\n",
        "    finger1_false_body = plant.AddRigidBody(\n",
        "        \"false_body\", finger1, SpatialInertia(0, [0,0,0], UnitInertia(0,0,0)))\n",
        "    finger1_y = plant.AddJoint(\n",
        "        PrismaticJoint(\"finger1_y\", box_negative_x,\n",
        "                       plant.GetFrameByName(\"false_body\", finger1), [0, 1, 0],\n",
        "                       -.5, .5))\n",
        "    finger1_z = plant.AddJoint(PrismaticJoint(\n",
        "        \"finger1_z\", plant.GetFrameByName(\"false_body\", finger1), plant.GetFrameByName(\"finger1\"),\n",
        "        [0, 0, 1], -1.5, 1.5))\n",
        "    decrement_keycodes=[\"ArrowLeft\", \"ArrowDown\"]\n",
        "    increment_keycodes=[\"ArrowRight\", \"ArrowUp\"]\n",
        "\n",
        "    # optionally add a second finger with the same joints, but on a different face\n",
        "    if second_finger:\n",
        "        finger2 = AddShape(plant,\n",
        "                           Sphere(0.1),\n",
        "                           \"finger2\",\n",
        "                           color=[.2, .2, .2, 1.0])\n",
        "        box_positive_x = plant.AddFrame(\n",
        "            FixedOffsetFrame(\"box_positive_x\", plant.world_frame(),\n",
        "                             RigidTransform([.58, 0, 0]), box_instance))\n",
        "        finger2_false_body = plant.AddRigidBody(\n",
        "            \"false_body\", finger2,\n",
        "            SpatialInertia(0, [0, 0, 0], UnitInertia(0, 0, 0)))\n",
        "        finger2_y = plant.AddJoint(\n",
        "            PrismaticJoint(\"finger2_y\", box_positive_x,\n",
        "                           plant.GetFrameByName(\"false_body\", finger2),\n",
        "                           [0, 1, 0], -.5, .5))\n",
        "        finger2_z = plant.AddJoint(\n",
        "            PrismaticJoint(\"finger2_z\",\n",
        "                           plant.GetFrameByName(\"false_body\", finger2),\n",
        "                           plant.GetFrameByName(\"finger2\"), [0, 0, 1], -1.5,\n",
        "                           1.5))\n",
        "        decrement_keycodes.append(\"KeyA\")\n",
        "        decrement_keycodes.append(\"KeyS\")\n",
        "        increment_keycodes.append(\"KeyD\")\n",
        "        increment_keycodes.append(\"KeyW\")\n",
        "\n",
        "    plant.Finalize()\n",
        "\n",
        "    meshcat.Delete()\n",
        "    meshcat.DeleteAddedControls()\n",
        "    meshcat.SetProperty('/Background', 'visible', False)\n",
        "    visualizer = MeshcatVisualizer.AddToBuilder(\n",
        "        builder, scene_graph, meshcat)\n",
        "\n",
        "    cparams = ContactVisualizerParams()\n",
        "    #cparams.force_threshold = 1e-6\n",
        "    cparams.newtons_per_meter = 100.0\n",
        "    cparams.radius = 0.02\n",
        "    contact_visualizer = ContactVisualizer.AddToBuilder(\n",
        "            builder, plant, meshcat, cparams)\n",
        "\n",
        "    draw_contact_wrench = builder.AddSystem(DrawContactWrench())\n",
        "    builder.Connect(plant.get_contact_results_output_port(),\n",
        "                    draw_contact_wrench.get_input_port())\n",
        "\n",
        "    default_interactive_timeout = None if running_as_notebook else 1.0\n",
        "    sliders = builder.AddSystem(\n",
        "        JointSliders(meshcat,\n",
        "                     plant,\n",
        "                     step=[0.05] * (4 if second_finger else 2),\n",
        "                     decrement_keycodes=decrement_keycodes,\n",
        "                     increment_keycodes=increment_keycodes))\n",
        "    diagram = builder.Build()\n",
        "    sliders.Run(diagram, default_interactive_timeout)\n",
        "    meshcat.DeleteAddedControls()\n",
        "\n",
        "contact_wrench_inspector(second_finger=True)\n"
      ]
    },
    {
      "cell_type": "code",
      "execution_count": null,
      "metadata": {},
      "outputs": [],
      "source": []
    }
  ],
  "metadata": {
    "colab": {
      "collapsed_sections": [],
      "name": "Robotic Manipulation - Bin Picking.ipynb",
      "provenance": [],
      "toc_visible": true
    },
    "kernelspec": {
      "display_name": "Python 3.8.10 64-bit",
      "language": "python",
      "name": "python3"
    },
    "language_info": {
      "codemirror_mode": {
        "name": "ipython",
        "version": 3
      },
      "file_extension": ".py",
      "mimetype": "text/x-python",
      "name": "python",
      "nbconvert_exporter": "python",
      "pygments_lexer": "ipython3",
      "version": "3.8.10"
    },
    "vscode": {
      "interpreter": {
        "hash": "e7370f93d1d0cde622a1f8e1c04877d8463912d04d973331ad4851f04de6915a"
      }
    }
  },
  "nbformat": 4,
  "nbformat_minor": 2
}
