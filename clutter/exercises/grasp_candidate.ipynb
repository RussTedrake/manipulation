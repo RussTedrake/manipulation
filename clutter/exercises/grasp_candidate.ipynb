{
 "cells": [
  {
   "cell_type": "markdown",
   "metadata": {
    "id": "VEYe67K6E6j0"
   },
   "source": [
    "## **Grasp Candidate Sampling**\n"
   ]
  },
  {
   "cell_type": "code",
   "execution_count": null,
   "metadata": {
    "id": "v5OrhpSmxkGH"
   },
   "outputs": [],
   "source": [
    "import numpy as np\n",
    "from manipulation import running_as_notebook\n",
    "from manipulation.meshcat_utils import AddMeshcatTriad\n",
    "from manipulation.mustard_depth_camera_example import MustardPointCloud\n",
    "from manipulation.scenarios import AddMultibodyTriad\n",
    "from manipulation.utils import ConfigureParser, LoadDataResource\n",
    "from pydrake.all import (\n",
    "    AddMultibodyPlantSceneGraph,\n",
    "    Box,\n",
    "    DiagramBuilder,\n",
    "    MeshcatVisualizer,\n",
    "    MeshcatVisualizerParams,\n",
    "    Parser,\n",
    "    PointCloud,\n",
    "    Rgba,\n",
    "    RigidTransform,\n",
    "    RotationMatrix,\n",
    "    StartMeshcat,\n",
    ")\n",
    "from scipy.spatial import KDTree"
   ]
  },
  {
   "cell_type": "code",
   "execution_count": null,
   "metadata": {},
   "outputs": [],
   "source": [
    "# Start the visualizer.\n",
    "meshcat = StartMeshcat()"
   ]
  },
  {
   "cell_type": "code",
   "execution_count": null,
   "metadata": {},
   "outputs": [],
   "source": [
    "# Basic setup\n",
    "pcd = MustardPointCloud(normals=True, down_sample=False)\n",
    "\n",
    "meshcat.SetProperty(\"/Background\", \"visible\", False)\n",
    "meshcat.SetObject(\"cloud\", pcd, point_size=0.001)\n",
    "\n",
    "\n",
    "def setup_grasp_diagram(draw_frames=True):\n",
    "    builder = DiagramBuilder()\n",
    "    plant, scene_graph = AddMultibodyPlantSceneGraph(builder, time_step=0.001)\n",
    "    parser = Parser(plant)\n",
    "    ConfigureParser(parser)\n",
    "    parser.AddModelsFromUrl(\n",
    "        \"package://manipulation/schunk_wsg_50_welded_fingers.sdf\"\n",
    "    )\n",
    "    if draw_frames:\n",
    "        AddMultibodyTriad(plant.GetFrameByName(\"body\"), scene_graph)\n",
    "    plant.Finalize()\n",
    "\n",
    "    meshcat_vis = MeshcatVisualizer.AddToBuilder(builder, scene_graph, meshcat)\n",
    "    diagram = builder.Build()\n",
    "    context = diagram.CreateDefaultContext()\n",
    "\n",
    "    return plant, scene_graph, diagram, context\n",
    "\n",
    "\n",
    "def draw_grasp_candidate(\n",
    "    X_G, prefix=\"gripper\", draw_frames=True, refresh=False\n",
    "):\n",
    "    if refresh:\n",
    "        meshcat.Delete()\n",
    "    builder = DiagramBuilder()\n",
    "    plant, scene_graph = AddMultibodyPlantSceneGraph(builder, time_step=0.001)\n",
    "    parser = Parser(plant)\n",
    "    ConfigureParser(parser)\n",
    "    gripper = parser.AddModelsFromUrl(\n",
    "        \"package://manipulation/schunk_wsg_50_welded_fingers.sdf\"\n",
    "    )\n",
    "    plant.WeldFrames(plant.world_frame(), plant.GetFrameByName(\"body\"), X_G)\n",
    "    if draw_frames:\n",
    "        AddMultibodyTriad(plant.GetFrameByName(\"body\"), scene_graph)\n",
    "    plant.Finalize()\n",
    "\n",
    "    params = MeshcatVisualizerParams()\n",
    "    params.prefix = prefix\n",
    "    meshcat_vis = MeshcatVisualizer.AddToBuilder(\n",
    "        builder, scene_graph, meshcat, params\n",
    "    )\n",
    "    diagram = builder.Build()\n",
    "    context = diagram.CreateDefaultContext()\n",
    "    diagram.ForcedPublish(context)\n",
    "\n",
    "\n",
    "def compute_sdf(pcd, X_G, visualize=False):\n",
    "    plant, scene_graph, diagram, context = setup_grasp_diagram()\n",
    "    plant_context = plant.GetMyContextFromRoot(context)\n",
    "    scene_graph_context = scene_graph.GetMyContextFromRoot(context)\n",
    "    plant.SetFreeBodyPose(plant_context, plant.GetBodyByName(\"body\"), X_G)\n",
    "\n",
    "    if visualize:\n",
    "        diagram.ForcedPublish(context)\n",
    "\n",
    "    query_object = scene_graph.get_query_output_port().Eval(\n",
    "        scene_graph_context\n",
    "    )\n",
    "\n",
    "    pcd_sdf = np.inf\n",
    "    for pt in pcd.xyzs().T:\n",
    "        distances = query_object.ComputeSignedDistanceToPoint(pt)\n",
    "        for body_index in range(len(distances)):\n",
    "            distance = distances[body_index].distance\n",
    "            if distance < pcd_sdf:\n",
    "                pcd_sdf = distance\n",
    "\n",
    "    return pcd_sdf\n",
    "\n",
    "\n",
    "def check_collision(pcd, X_G, visualize=False):\n",
    "    sdf = compute_sdf(pcd, X_G, visualize)\n",
    "    return sdf > 0"
   ]
  },
  {
   "cell_type": "markdown",
   "metadata": {
    "id": "ZUg7IbDmIyeo"
   },
   "source": [
    "## Grasp Candidate based on Local Curvature \n",
    "\n",
    "This is an implementation-heavy assignment, where we will implement a variation of the grasp candidate sampling algorithm on [this paper](https://arxiv.org/pdf/1706.09911.pdf). from 2017. Parts of the [library](https://github.com/atenpas/gpg) based on the paper, which the authors have named \"Grasp Pose Generator\" (GPG), is used in real grasp selection systems including the one being run at Toyota Research Institute. \n",
    "\n",
    "As opposed to sampling candidate grasp poses using the \"antipodal heuristic\", this sampling algorithm uses a heuristic based on the local curvature. This heursitic can work quite well especially for smoother / symmetrical objects which has relatively consistent curvature characteristics. \n"
   ]
  },
  {
   "cell_type": "markdown",
   "metadata": {
    "id": "1PAeSQRiHRNi"
   },
   "source": [
    "## Computing the Darboux Frame\n",
    "\n",
    "First, let's work on formalizing our notion of a \"local curvature\" by bringing up the [**Darboux Frame**](https://en.wikipedia.org/wiki/Darboux_frame) from differential geometry. It has a fancy French name (after its creator), but the concept is quite simple.\n",
    "\n",
    "Given a point $p\\in\\mathbb{R}^3$ on a differentiable surface $\\mathcal{S}\\subset\\mathbb{R}^3$, we've seen that we can compute the normal vector at point $p$. Let's denote this vector as $n(p)$. \n",
    "\n",
    "The Darboux frame first aligns the $y$-axis with the inward normal vector, and aligns the $x$ and $z$ axis with principal axii of the tangent surface given the curvature. We will define the axis as \n",
    "- x-axis: aligned with the major axis of curvature at point $p$.\n",
    "- y-axis: aligned with the inward normal vector at point $p$.\n",
    "- z-axis: aligned with the minor axis of curvature at point $p$. \n",
    "\n",
    "Where major axis of curvature has a smaller radius of curvature compared to the minor axis. The below figure might clear things up. \n",
    "\n",
    "<img src=\"https://raw.githubusercontent.com/RussTedrake/manipulation/master/figures/exercises/darboux_frame.png\" width=\"400\">"
   ]
  },
  {
   "cell_type": "markdown",
   "metadata": {
    "id": "J5WdmM8hQkQ7"
   },
   "source": [
    "Below, your job is to compute the RigidTransform from the world to the Darboux frame of a specific point on the pointcloud. \n",
    "\n",
    "Here is a simple outline of the algorithm that we've seeen in class:\n",
    "1. Compute the set of points $\\mathcal{S}$ around the given point using [`kdtree.query`](https://docs.scipy.org/doc/scipy/reference/generated/scipy.spatial.KDTree.query.html), with `ball_radius` as the distance upper bound.  \n",
    "2. Compute the $3\\times3$ matrix with sum of outer-products of the normal vectors. \n",
    "$$\\mathbf{N}=\\sum_{p\\in\\mathcal{S}} n(p)n^T(p)$$\n",
    "3. Run eigen decomposition and get the eigenvectors using `np.linalg.eig`. Denote the eigen vectors as $[v_1, v_2, v_3]$, in order of decreasing corresponding eigenvalues. Convince yourself that:\n",
    "- $v_1$ is the normal vector,\n",
    "- $v_2$ is the major tangent vector, \n",
    "- $v_3$ is the minor tangent vector. \n",
    "Note that `np.linalg.eig` does **not** necessarily return the eigenvectors in the correct order. (The function `np.argsort` may come in handy.)\n",
    "4. If $v_1$ is heading outwards (same direction as $n(p)$), negate $v_1$. (You can check this using the dot product.)\n",
    "5. Using $v_1,v_2,v_3$, construct the Rotation matrix by horizontally stacking the vertical vectors: $\\mathbf{R} = [v_2 | v_1 | v_3]$\n",
    "6. If the rotation is improper, negate $v_2$. (You can check this by checking the sign of the determinant.)\n",
    "5. Return a `RigidTransform` that has the rotation set as defined in the figure above, and translation defined at the desired point.\n",
    "\n",
    "The [textbook example on normal estimation](https://manipulation.csail.mit.edu/clutter.html#normal_estimation) may be useful to reference in this problem.\n",
    "\n",
    "NOTE: Convince yourself of the following: if you knew the orthonormal basis vectors of a frame ${}^W[i,j,k]$, then the Rotation matrix of of that frame with respect to the world ${}^W\\mathbf{R}^F$ can be computed by horizontally stacking the vertical vectors ($[i|j|k]$). Why would this be? (This doesn't necessarily mean the eigenvector matrix is always a rotation matrix due to improper rotations)"
   ]
  },
  {
   "cell_type": "code",
   "execution_count": null,
   "metadata": {
    "id": "WRuwFwcuTQtw"
   },
   "outputs": [],
   "source": [
    "def compute_darboux_frame(index, pcd, kdtree, ball_radius=0.002, max_nn=50):\n",
    "    \"\"\"\n",
    "    Given a index of the pointcloud, return a RigidTransform from world to the\n",
    "    Darboux frame at that point.\n",
    "    Args:\n",
    "    - index (int): index of the pointcloud.\n",
    "    - pcd (PointCloud object): pointcloud of the object.\n",
    "    - kdtree (scipy.spatial.KDTree object): kd tree to use for nn search.\n",
    "    - ball_radius (float): ball_radius used for nearest-neighbors search\n",
    "    - max_nn (int): maximum number of points considered in nearest-neighbors search.\n",
    "    \"\"\"\n",
    "    points = pcd.xyzs()  # 3xN np array of points\n",
    "    normals = pcd.normals()  # 3xN np array of normals\n",
    "\n",
    "    # Fill in your code here.\n",
    "    X_WF = RigidTransform()  # modify here.\n",
    "\n",
    "    return X_WF"
   ]
  },
  {
   "cell_type": "markdown",
   "metadata": {
    "id": "O3Nmr31JUZPB"
   },
   "source": [
    "You can check your work by running the cell below and looking at the frame visualization in Meshcat. "
   ]
  },
  {
   "cell_type": "code",
   "execution_count": null,
   "metadata": {
    "id": "TcNpDwGiZw1n"
   },
   "outputs": [],
   "source": [
    "# 151, 11121 are pretty good verifiers of the implementation.\n",
    "index = 151\n",
    "meshcat.Delete()\n",
    "\n",
    "# Build KD tree.\n",
    "kdtree = KDTree(pcd.xyzs().T)\n",
    "X_WP = compute_darboux_frame(index, pcd, kdtree)\n",
    "print(X_WP.GetAsMatrix4())\n",
    "meshcat.SetObject(\"cloud\", pcd)\n",
    "AddMeshcatTriad(meshcat, \"frame\", length=0.025, radius=0.001, X_PT=X_WP)"
   ]
  },
  {
   "cell_type": "markdown",
   "metadata": {
    "id": "HrdDJyHzU4W_"
   },
   "source": [
    "## Collision Line Search \n",
    "\n",
    "Now we wish to align our gripper frame with the Darboux frame that we found, but naively doing it will result in collision / being too far from the object.\n",
    "\n",
    "An important heuristic that is used in the GPG work is that grasps are more stable when contact area is maximized. For that, we would need the gripper to be as inwards as possible towards the object but avoid collisions.\n",
    "\n",
    "To implement this, we will use a line search along a grid along the y-axis, and find the **maximum** value of $y$ (remember that our $y$ is towards the inwards normal) that results in no-collision. \n",
    "\n",
    "We've given you the grid you should search over, and the function `distance=compute_sdf(pcd, X_WG)` that will return the signed distance function between the set of pointclouds, and the gripper, given the transform `X_WG`. You are required to use this to detect the presence of collisions. \n",
    "\n",
    "Finally, if there is no value of $y$ that results in no collisions, you should return `np.nan` for the signed distance, and `None` for the rigid transform. "
   ]
  },
  {
   "cell_type": "code",
   "execution_count": null,
   "metadata": {
    "id": "tUgWtIoDW-x2"
   },
   "outputs": [],
   "source": [
    "# Compute static rotation between the frame and the gripper.\n",
    "def find_minimum_distance(pcd, X_WG):\n",
    "    \"\"\"\n",
    "    By doing line search, compute the maximum allowable distance along the y axis before penetration.\n",
    "    Return the maximum distance, as well as the new transform.\n",
    "    Args:\n",
    "      - pcd (PointCloud object): pointcloud of the object.\n",
    "      - X_WG (Drake RigidTransform object): RigidTransform. You can expect this to be the return from compute_darboux_frame.\n",
    "    Return:\n",
    "      - Tuple (signed_distance, X_WGnew) where\n",
    "      - signed_distance (float): signed distance between gripper and object pointcloud at X_WGnew.\n",
    "      - X_WGnew: New rigid transform that moves X_WG along the y axis while maximizing the y-translation subject to no collision.\n",
    "      If there is no value of y that results in no collisions, return (np.nan, None).\n",
    "    \"\"\"\n",
    "    y_grid = np.linspace(-0.05, 0.05, 10)  # do not modify\n",
    "\n",
    "    # modify here.\n",
    "    signed_distance = 0.0  # modify here\n",
    "    X_WGnew = RigidTransform()  # modify here\n",
    "\n",
    "    return signed_distance, X_WGnew"
   ]
  },
  {
   "cell_type": "markdown",
   "metadata": {
    "id": "s3E771RFXO7N"
   },
   "source": [
    "You can check your work below by running the cell below. If the visualization results in a collision, or the gripper is excessively far from the object, your implementation is probably wrong. "
   ]
  },
  {
   "cell_type": "code",
   "execution_count": null,
   "metadata": {
    "id": "NvPNcEzpWqzt"
   },
   "outputs": [],
   "source": [
    "meshcat.Delete()\n",
    "meshcat.SetObject(\"cloud\", pcd, point_size=0.001)\n",
    "AddMeshcatTriad(meshcat, \"frame\", length=0.025, radius=0.001, X_PT=X_WP)\n",
    "shortest_distance, X_WGnew = find_minimum_distance(pcd, X_WP)\n",
    "draw_grasp_candidate(X_WGnew, refresh=False)"
   ]
  },
  {
   "cell_type": "markdown",
   "metadata": {},
   "source": [
    "## Nonempty Grasp \n",
    "\n",
    "Let's add one more heuristic: when we close the gripper, we don't want what is in between the two fingers to be an empty region. That would make our robot look not very smart! \n",
    "\n",
    "There is a simple way to check this: let's define a volumetric region swept by the gripper's closing trajectory, and call it $\\mathcal{B}(^{W}X^{G})$. We will also call the gripper body (when fully open) as the set $\\mathcal{C}(^{W}X^G)$. If there are no object pointclouds within the set $\\mathcal{B}(^{W}X^{G})$, we can simply discard it. \n",
    "\n",
    "<img src=\"https://raw.githubusercontent.com/RussTedrake/manipulation/master/figures/exercises/closing_plane.png\" width=\"800\">\n",
    "\n",
    "You're probably thinking - how do I do a rigid transform on a set? Generally it's doable if the transform is affine, the set is polytopic, etc., but there is an easier trick - we just transform all the pointclouds to the gripper frame $G$! \n",
    "\n",
    "The function below follows these steps:\n",
    "  1. Transform the pointcloud points `pcd` from world frame to gripper frame.\n",
    "  2. For each point, check if it is within the bounding box we have provided.\n",
    "  3. If there is a point inside the set, return True. If not, return false. "
   ]
  },
  {
   "cell_type": "code",
   "execution_count": null,
   "metadata": {
    "id": "8aUP5vcLt-Cm"
   },
   "outputs": [],
   "source": [
    "def check_nonempty(pcd, X_WG, visualize=False):\n",
    "    \"\"\"\n",
    "    Check if the \"closing region\" of the gripper is nonempty by transforming the pointclouds to gripper coordinates.\n",
    "    Args:\n",
    "      - pcd (PointCloud object): pointcloud of the object.\n",
    "      - X_WG (Drake RigidTransform): transform of the gripper.\n",
    "    Return:\n",
    "      - is_nonempty (boolean): boolean set to True if there is a point within the cropped region.\n",
    "    \"\"\"\n",
    "    pcd_W_np = pcd.xyzs()\n",
    "\n",
    "    # Bounding box of the closing region written in the coordinate frame of the gripper body.\n",
    "    # Do not modify\n",
    "    crop_min = [-0.05, 0.1, -0.00625]\n",
    "    crop_max = [0.05, 0.1125, 0.00625]\n",
    "\n",
    "    # Transform the pointcloud to gripper frame.\n",
    "    X_GW = X_WG.inverse()\n",
    "    pcd_G_np = X_GW.multiply(pcd_W_np)\n",
    "\n",
    "    # Check if there are any points within the cropped region.\n",
    "    indices = np.all(\n",
    "        (\n",
    "            crop_min[0] <= pcd_G_np[0, :],\n",
    "            pcd_G_np[0, :] <= crop_max[0],\n",
    "            crop_min[1] <= pcd_G_np[1, :],\n",
    "            pcd_G_np[1, :] <= crop_max[1],\n",
    "            crop_min[2] <= pcd_G_np[2, :],\n",
    "            pcd_G_np[2, :] <= crop_max[2],\n",
    "        ),\n",
    "        axis=0,\n",
    "    )\n",
    "\n",
    "    is_nonempty = indices.any()\n",
    "\n",
    "    if visualize:\n",
    "        meshcat.Delete()\n",
    "        pcd_G = PointCloud(pcd)\n",
    "        pcd_G.mutable_xyzs()[:] = pcd_G_np\n",
    "\n",
    "        draw_grasp_candidate(RigidTransform())\n",
    "        meshcat.SetObject(\"cloud\", pcd_G)\n",
    "\n",
    "        box_length = np.array(crop_max) - np.array(crop_min)\n",
    "        box_center = (np.array(crop_max) + np.array(crop_min)) / 2.0\n",
    "        meshcat.SetObject(\n",
    "            \"closing_region\",\n",
    "            Box(box_length[0], box_length[1], box_length[2]),\n",
    "            Rgba(1, 0, 0, 0.3),\n",
    "        )\n",
    "        meshcat.SetTransform(\"closing_region\", RigidTransform(box_center))\n",
    "\n",
    "    return is_nonempty"
   ]
  },
  {
   "cell_type": "markdown",
   "metadata": {},
   "source": [
    "The following cell demonstrates the functionality of `check_nonempty`, where we have visualized the pointclouds and $\\mathcal{B}({}^W X^G)$ from the gripper frame. "
   ]
  },
  {
   "cell_type": "code",
   "execution_count": null,
   "metadata": {
    "id": "BBg0NCWd2qI8"
   },
   "outputs": [],
   "source": [
    "# Lower and upper bounds of the closing region in gripper coordinates. Do not modify.\n",
    "check_nonempty(pcd, X_WGnew, visualize=True)"
   ]
  },
  {
   "cell_type": "markdown",
   "metadata": {
    "id": "dwGE2JDnXmY5"
   },
   "source": [
    "## Grasp Sampling Algorithm\n",
    "\n",
    "That was a lot of subcomponents, but we're finally onto the grand assembly. You will now generate `candidate_num` candidate grasps using everything we have written so far. The sampling algorithm goes as follows:\n",
    "\n",
    "1. Select a random point $p$ from the pointcloud (use `np.random.randint()`)\n",
    "2. Compute the Darboux frame ${}^WX^F(p)$ of the point $p$ using `compute_darboux_frame`. \n",
    "3. Randomly sample an $x$ direction translation $x\\in[x_{min},x_{max}]$, and a $z$ direction rotation $\\phi\\in[\\phi_{min},\\phi_{max}]$. Compute a grasp frame $T$ that has the relative transformation `X_FT=(RotateZ(phi),TranslateX(x))`. Convince yourself this makes the point $p$ stay in the \"closing plane\" (drawn in red) defined in the figure above. (NOTE: For ease of grading, make sure you compute the $x$ direction first with `np.random.rand()`, then compute the $\\phi$ direction with another call to `np.random.rand()`, not the other way around.) \n",
    "4. From the grasp frame $T$, translate along the $y$ axis such that the gripper is closest to the object without collision. Use `find_minimum_distance`, and call this frame $G$. Remember that `find_minimum_distance` can return `np.nan`. Skip the loop if this happens. \n",
    "5. If $G$ results in no collisions (see `check_collision`) and results in non-empty grasp (use `check_nonempty`), append it to the candidate list. If not, continue the loop until we have desired number of candidates. \n"
   ]
  },
  {
   "cell_type": "code",
   "execution_count": null,
   "metadata": {
    "id": "LvKVHqv8fnq1"
   },
   "outputs": [],
   "source": [
    "def compute_candidate_grasps(pcd, candidate_num=10, random_seed=5):\n",
    "    \"\"\"\n",
    "    Compute candidate grasps.\n",
    "    Args:\n",
    "        - pcd (PointCloud object): pointcloud of the object.\n",
    "        - candidate_num (int) : number of desired candidates.\n",
    "        - random_seed (int) : seed for rng, used for grading.\n",
    "    Return:\n",
    "        - candidate_lst (list of drake RigidTransforms) : candidate list of grasps.\n",
    "    \"\"\"\n",
    "\n",
    "    # Do not modify.\n",
    "    x_min = -0.03\n",
    "    x_max = 0.03\n",
    "    phi_min = -np.pi / 3\n",
    "    phi_max = np.pi / 3\n",
    "    np.random.seed(random_seed)\n",
    "\n",
    "    # Build KD tree for the pointcloud.\n",
    "    kdtree = KDTree(pcd.xyzs().T)\n",
    "    ball_radius = 0.002\n",
    "\n",
    "    candidate_count = 0\n",
    "    candidate_lst = []  # list of candidates, given by RigidTransforms.\n",
    "\n",
    "    # Modify from here.\n",
    "\n",
    "    return candidate_lst"
   ]
  },
  {
   "cell_type": "markdown",
   "metadata": {
    "id": "dypaCKcOf9cn"
   },
   "source": [
    "You can check your implementation by running the cell below. Note that although we've only sampled 20 candidates, a lot of them look promising. "
   ]
  },
  {
   "cell_type": "code",
   "execution_count": null,
   "metadata": {
    "id": "ItS9GtKaZ39w"
   },
   "outputs": [],
   "source": [
    "pcd_downsampled = pcd.VoxelizedDownSample(voxel_size=0.005)\n",
    "\n",
    "if running_as_notebook:\n",
    "    grasp_candidates = compute_candidate_grasps(\n",
    "        pcd_downsampled, candidate_num=3, random_seed=5\n",
    "    )\n",
    "\n",
    "    meshcat.Delete()\n",
    "    meshcat.SetObject(\"cloud\", pcd_downsampled)\n",
    "    for i in range(len(grasp_candidates)):\n",
    "        draw_grasp_candidate(\n",
    "            grasp_candidates[i], prefix=\"gripper\" + str(i), draw_frames=False\n",
    "        )"
   ]
  },
  {
   "cell_type": "markdown",
   "metadata": {
    "id": "7jcCyk-q2U3L"
   },
   "source": [
    "## Note on Running Time\n",
    "\n",
    "You might be disappointed in how slowly this runs, but the same algorithm written in C++ with optimized libraries can run much faster. (I would expect around a 20 times speedup). \n",
    "\n",
    "But more fundamentally, it's important to note how trivially parallelizable the candidate sampling process is. With a parallelized and optimized implementation, hundreds of grasp candidates can be sampled in real time."
   ]
  },
  {
   "cell_type": "markdown",
   "metadata": {
    "id": "MwE8yNg58VQN"
   },
   "source": [
    "## How will this notebook be Graded?\n",
    "\n",
    "If you are enrolled in the class, this notebook will be graded using [Gradescope](www.gradescope.com). You should have gotten the enrollement code on our announcement in Piazza. \n",
    "\n",
    "For submission of this assignment, you must do two things. \n",
    "- Download and submit the notebook `grasp_candidate.ipynb` to Gradescope's notebook submission section, along with your notebook for the other problems.\n",
    "\n",
    "We will evaluate the local functions in the notebook to see if the function behaves as we have expected. For this exercise, the rubric is as follows:\n",
    "- [4 pts] `compute_darboux_frame` must be implemented correctly.\n",
    "- [4 pts] `find_minimum_distance` must be implemented correctly.\n",
    "- [4 pts] `compute_candidate_grasps` must be implemented correctly."
   ]
  },
  {
   "cell_type": "code",
   "execution_count": null,
   "metadata": {
    "id": "xj5nAh4g8VQO"
   },
   "outputs": [],
   "source": [
    "from manipulation.exercises.clutter.test_grasp_candidate import (\n",
    "    TestGraspCandidate,\n",
    ")\n",
    "from manipulation.exercises.grader import Grader\n",
    "\n",
    "Grader.grade_output([TestGraspCandidate], [locals()], \"results.json\")\n",
    "Grader.print_test_results(\"results.json\")"
   ]
  },
  {
   "cell_type": "code",
   "execution_count": null,
   "metadata": {},
   "outputs": [],
   "source": []
  }
 ],
 "metadata": {
  "celltoolbar": "Tags",
  "colab": {
   "collapsed_sections": [],
   "name": "grasp_candidate.ipynb",
   "provenance": []
  },
  "kernelspec": {
   "display_name": "Python 3.10.6 64-bit",
   "language": "python",
   "name": "python3"
  },
  "language_info": {
   "codemirror_mode": {
    "name": "ipython",
    "version": 3
   },
   "file_extension": ".py",
   "mimetype": "text/x-python",
   "name": "python",
   "nbconvert_exporter": "python",
   "pygments_lexer": "ipython3",
   "version": "3.11.5"
  },
  "vscode": {
   "interpreter": {
    "hash": "b0fa6594d8f4cbf19f97940f81e996739fb7646882a419484c72d19e05852a7e"
   }
  }
 },
 "nbformat": 4,
 "nbformat_minor": 1
}