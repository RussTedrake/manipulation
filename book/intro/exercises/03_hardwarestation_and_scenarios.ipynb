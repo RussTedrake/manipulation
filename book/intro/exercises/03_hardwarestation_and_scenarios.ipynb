{
 "cells": [
  {
   "cell_type": "markdown",
   "metadata": {
    "cell_id": "3221d764a3e74efcbfc01b07de39a375",
    "deepnote_cell_type": "markdown",
    "vscode": {
     "languageId": "raw"
    }
   },
   "source": [
    "# Notebook 3: HardwareStation and Advanced Scenarios\n",
    "\n",
    "In the previous notebook, we used `Parser`, `MultibodyPlant`, `SceneGraph`, and `DiagramBuilder` to build robot simulations in Drake. Now, we'll see how the `HardwareStation` system and a `scenario.yaml` file can simplify this process for many scenarios.\n",
    "\n",
    "**Learning Objectives:**\n",
    "1. Understand `HardwareStation`: a `System` that provides a convenient, high-level interface for setting up and simulating common robot hardware (like arms, grippers, and cameras) using a simple configuration.\n",
    "2. Get experience with `scenario.yaml` files for declarative scene setup\n",
    "3. Compare the \"manual\" approach with using `HardwareStation`\n",
    "\n",
    "**What you'll build:** A custom manipulation scene using `HardwareStation` and scenario files, featuring your initials from Notebook 2!\n",
    "\n",
    "**Reference:** In this notebook, we will be building on examples from [Chapter 2.5](https://manipulation.csail.mit.edu/robot.html#hardware_station) in the Manipulation Textbook. This chapter contains a good description of what `HardwareStation` is and how you can use it. Make sure to read this chapter before starting the exercises below!\n",
    "\n",
    "---\n"
   ]
  },
  {
   "cell_type": "markdown",
   "metadata": {
    "cell_id": "a1424d875a8c4cb090193a42334177ec",
    "deepnote_cell_type": "markdown",
    "vscode": {
     "languageId": "raw"
    }
   },
   "source": [
    "## Setup and Imports\n",
    "\n",
    "Let's import the Drake functionality we'll need for HardwareStation and scenario files.\n",
    "\n",
    "To build the entire scene we only need to import two functions (that we will explain more soon):\n",
    "- `MakeHardwareStation`\n",
    "- `LoadScenario`\n",
    "\n",
    "(Notice that these two functions, as well as other functionality for `HardwareStation`, lives in the `manipulation` package that is made specifically for this class, not in Drake!)"
   ]
  },
  {
   "cell_type": "code",
   "execution_count": null,
   "metadata": {
    "cell_id": "1437b39750e04ac5a3a77e21fd267541",
    "deepnote_cell_type": "code",
    "execution_context_id": "ddf6ee34-47fc-4603-96df-7f61fb706903",
    "execution_millis": 637,
    "execution_start": 1756479357351,
    "source_hash": "a3d3b92e"
   },
   "outputs": [],
   "source": [
    "from pathlib import Path\n",
    "\n",
    "import numpy as np\n",
    "from pydrake.all import (\n",
    "    Diagram,\n",
    "    DiagramBuilder,\n",
    "    RigidTransform,\n",
    "    Simulator,\n",
    "    StartMeshcat,\n",
    ")\n",
    "\n",
    "from manipulation.exercises.grader import Grader\n",
    "from manipulation.exercises.intro.test_hardwarestation_and_scenarios import (\n",
    "    TestHardwareStationBasic,\n",
    "    TestHardwareStationBimanual,\n",
    "    TestHardwareStationFullSystem,\n",
    ")\n",
    "from manipulation.letter_generation import create_sdf_asset_from_letter\n",
    "from manipulation.station import (\n",
    "    LoadScenario,\n",
    "    MakeHardwareStation,\n",
    "    RobotDiagram,\n",
    ")\n",
    "from manipulation.utils import RenderDiagram, running_as_notebook"
   ]
  },
  {
   "cell_type": "markdown",
   "metadata": {
    "cell_id": "e19ce0abd21f4ad39af341059674be4a",
    "deepnote_cell_type": "markdown",
    "vscode": {
     "languageId": "raw"
    }
   },
   "source": [
    "## Meshcat Visualization\n",
    "\n",
    "As always, let's start Meshcat for our 3D visualization!\n"
   ]
  },
  {
   "cell_type": "code",
   "execution_count": null,
   "metadata": {
    "cell_id": "acc0112dd746439fb7fce897d56fa7ed",
    "deepnote_cell_type": "code",
    "execution_context_id": "ddf6ee34-47fc-4603-96df-7f61fb706903",
    "execution_millis": 0,
    "execution_start": 1756479358041,
    "source_hash": "8229bdd1"
   },
   "outputs": [],
   "source": [
    "# Start meshcat for visualization\n",
    "meshcat = StartMeshcat()\n",
    "print(\"Click the link above to open Meshcat in your browser!\")"
   ]
  },
  {
   "cell_type": "markdown",
   "metadata": {
    "cell_id": "f4976dd45844408fb2a2583681501866",
    "deepnote_cell_type": "markdown",
    "vscode": {
     "languageId": "raw"
    }
   },
   "source": [
    "---\n",
    "\n",
    "## Part 1: From Manual Setup to HardwareStation\n",
    "\n",
    "In Notebook 2, you manually created a simulation by:\n",
    "1. Creating `DiagramBuilder`, `MultibodyPlant`, `SceneGraph`\n",
    "2. Adding `Parser`, loading robots, welding frames\n",
    "3. Adding visualization, finalizing, building...\n",
    "\n",
    "The function `MakeHardwareStation` does all of this for you automatically! Let's see the difference.\n",
    "\n",
    "**YOUR TASK:** Let's start by creating a simple simulation with just the passive IIWA14 as in the last notebook, but using `HardwareStation` instead of manual setup.\n",
    "\n",
    "**Key Concepts:**\n",
    "- Specify the scene with scenario directives (in YAML format)\n",
    "- Call `LoadScenario` to parse the YAML string into a `scenario` object\n",
    "- Call `MakeHardwareStation` with the `scenario` to set up the entire scene\n",
    "\n",
    "**Reference:** To understand how to write scenario directives and use the functions above, we recommend looking at the [Bimanual Manipulation Example](https://deepnote.com/workspace/Manipulation-ac8201a1-470a-4c77-afd0-2cc45bc229ff/project/8f86172b-b597-4ceb-9bad-92d11ac7a6cc/notebook/bimanual-3df3abe2b1b949eb9daaf3748b16a218) before you start.\n"
   ]
  },
  {
   "cell_type": "code",
   "execution_count": null,
   "metadata": {
    "cell_id": "872ee1eac76b48dda8775f7262e28c89",
    "deepnote_cell_type": "code",
    "execution_context_id": "ddf6ee34-47fc-4603-96df-7f61fb706903",
    "execution_millis": 1,
    "execution_start": 1756479358160,
    "source_hash": "4168dd9c"
   },
   "outputs": [],
   "source": [
    "# TODO: Create a simple IIWA14 simulation using HardwareStation\n",
    "\n",
    "\n",
    "def create_IIWA14_with_hardware_station() -> Diagram:\n",
    "    # TODO: Write a simple scenario string for loading the IIWA14 robot.\n",
    "    #       Remember to weld the robot to the world frame!\n",
    "    # HINT: Look at the Bimanual Manipulation Example in the reference above.\n",
    "    #       In particular, look at the `directives` section, which adds two\n",
    "    #       IIWA7 robots to the scene. Here are some tips:\n",
    "    #       - You can pick `name` to be anything you want.\n",
    "    #       - The example uses the IIWA7, but you can use the IIWA14 from earlier.\n",
    "    #       - The example adds a `wsg` gripper to the robot, feel free to do the same!\n",
    "    #       - Under `model_drivers` the example specifies controllers for the robot.\n",
    "    #         We haven't learned about this yet, so feel free to ignore it for now.\n",
    "    # TODO: Add the IIWA14 robot model\n",
    "    # TODO: Set default joint positions\n",
    "    # HINT: The names for the joints that are used in the `default_joint_positions` come\n",
    "    #       from the URDF/SDF file. In this case, have a look at the\n",
    "    #       `iiwa14_primitive_collision.urdf` file:\n",
    "    #       https://github.com/RobotLocomotion/models/blob/master/iiwa_description/urdf/iiwa14_primitive_collision.urdf\n",
    "    # TODO: Weld the robot base to the world frame\n",
    "    scenario_string = \"\"\"directives:\n",
    "    \"\"\"\n",
    "\n",
    "    # TODO: Load the scenario directly from the string using the `LoadScenario` function\n",
    "\n",
    "    # TODO: Create HardwareStation with this scenario and meshcat,\n",
    "    #       using the `MakeHardwareStation` function\n",
    "\n",
    "    # TODO: Create a DiagramBuilder, add the station to it, and build the diagram\n",
    "\n",
    "    # TODO: Return the diagram built by DiagramBuilder\n",
    "\n",
    "    pass"
   ]
  },
  {
   "cell_type": "code",
   "execution_count": null,
   "metadata": {},
   "outputs": [],
   "source": [
    "# Use this to test your implementation if you want!\n",
    "Grader.grade_output([TestHardwareStationBasic], [locals()], \"results.json\")\n",
    "Grader.print_test_results(\"results.json\")"
   ]
  },
  {
   "cell_type": "markdown",
   "metadata": {
    "cell_id": "49122d68538f478982bb8ad20bf07f5e",
    "deepnote_cell_type": "markdown"
   },
   "source": [
    "Let us look at the block diagram for the system:"
   ]
  },
  {
   "cell_type": "code",
   "execution_count": null,
   "metadata": {
    "cell_id": "edafd5ad8b8b455db9042634a47164e6",
    "deepnote_cell_type": "code",
    "execution_context_id": "ddf6ee34-47fc-4603-96df-7f61fb706903",
    "execution_millis": 844,
    "execution_start": 1756479358273,
    "source_hash": "92a704da"
   },
   "outputs": [],
   "source": [
    "diagram = create_IIWA14_with_hardware_station()\n",
    "RenderDiagram(diagram, max_depth=1)"
   ]
  },
  {
   "cell_type": "code",
   "execution_count": null,
   "metadata": {
    "cell_id": "d78772584fba448f8636fe759e1e063f",
    "deepnote_cell_type": "code",
    "execution_context_id": "ddf6ee34-47fc-4603-96df-7f61fb706903",
    "execution_millis": 14961,
    "execution_start": 1756479359170,
    "source_hash": "64f449a0"
   },
   "outputs": [],
   "source": [
    "print(f\"Check your Meshcat window ({meshcat.web_url()}) to see the robot simulation!\")\n",
    "\n",
    "# Let us also simulate the simple IIWA14 setup to make sure it works as expected!\n",
    "# TODO: Create a context for the diagram\n",
    "\n",
    "# TODO: Create a simulator\n",
    "\n",
    "# TODO: Set real-time rate to 1.0\n",
    "\n",
    "# TODO: Run simulation for 15 seconds"
   ]
  },
  {
   "cell_type": "markdown",
   "metadata": {
    "cell_id": "0896327422e3407a9f7140a9a5fa454d",
    "deepnote_cell_type": "markdown"
   },
   "source": [
    "---\n",
    "\n",
    "## Part 2: Bimanual IIWA setup\n",
    "\n",
    "Great! To highlight how easy it is to modify a scene using scenario directives, let's add another IIWA14 to the scene.\n",
    "\n",
    "**YOUR TASK:** Create a new scenario with two IIWA14 robots, each welded to the world at different positions.\n",
    "\n",
    "\n",
    "**Key concept:** Scenario files make it simple and flexible to modify your scene\u2014adding robots, changing positions, or updating configurations can be done with just a few lines.\n",
    "\n",
    "\n",
    "**Reference:** To understand how to write scenario directives and use the functions above, we recommend looking at the [Bimanual Manipulation Example](https://deepnote.com/workspace/Manipulation-ac8201a1-470a-4c77-afd0-2cc45bc229ff/project/8f86172b-b597-4ceb-9bad-92d11ac7a6cc/notebook/bimanual-3df3abe2b1b949eb9daaf3748b16a218).\n"
   ]
  },
  {
   "cell_type": "code",
   "execution_count": null,
   "metadata": {
    "cell_id": "3ddd8efbddca4e3685f691284e2601a5",
    "deepnote_cell_type": "code",
    "execution_context_id": "ddf6ee34-47fc-4603-96df-7f61fb706903",
    "execution_millis": 8,
    "execution_start": 1756479374817,
    "source_hash": "b6bd7cc7"
   },
   "outputs": [],
   "source": [
    "def create_bimanual_IIWA14_with_hardware_station() -> Diagram:\n",
    "    # TODO: Write a simple scenario string for loading the two IIWA14 robots.\n",
    "    # TODO: Remember to weld the robots to the world frame at different positions!\n",
    "\n",
    "    # TODO: Add the IIWA14 robot model for the left arm\n",
    "    # TODO: Set default joint positions\n",
    "    # TODO: Weld the robot base to the world frame\n",
    "    # TODO: Add the IIWA14 robot model for the right arm\n",
    "    # TODO: Set default joint positions\n",
    "    # TODO: Weld the robot base to the world frame\n",
    "    scenario_string = \"\"\"directives:\n",
    "    \"\"\"\n",
    "\n",
    "    # TODO: Load the scenario directly from the string\n",
    "\n",
    "    # TODO: Create HardwareStation with this scenario and meshcat\n",
    "\n",
    "    # TODO: Make a DiagramBuilder, add the station to it, build the diagram\n",
    "\n",
    "    # TODO: Return the diagram\n",
    "    return None  # Remove this when you have implemented the function\n",
    "\n",
    "\n",
    "diagram = create_bimanual_IIWA14_with_hardware_station()"
   ]
  },
  {
   "cell_type": "code",
   "execution_count": null,
   "metadata": {},
   "outputs": [],
   "source": [
    "# Use this to test your implementation if you want!\n",
    "Grader.grade_output([TestHardwareStationBimanual], [locals()], \"results.json\")\n",
    "Grader.print_test_results(\"results.json\")"
   ]
  },
  {
   "cell_type": "markdown",
   "metadata": {
    "cell_id": "81884c576edb4a49beaf843738af79b6",
    "deepnote_cell_type": "markdown"
   },
   "source": [
    "Next, let us simulate the setup to make sure it works as expected:"
   ]
  },
  {
   "cell_type": "code",
   "execution_count": null,
   "metadata": {
    "cell_id": "01131bde3ae04c67a78d30528365006e",
    "deepnote_cell_type": "code",
    "execution_context_id": "ddf6ee34-47fc-4603-96df-7f61fb706903",
    "execution_millis": 14987,
    "execution_start": 1756479374880,
    "source_hash": "308262ab"
   },
   "outputs": [],
   "source": [
    "print(f\"Check your Meshcat window ({meshcat.web_url()}) to see the robot simulation!\")\n",
    "\n",
    "# Let us also simulate the simple IIWA14 setup to make sure it works as expected!\n",
    "# TODO: Create a context for the station\n",
    "# TODO: Create a simulator\n",
    "# TODO: Set real-time rate to 1.0\n",
    "# TODO: Run simulation for 15 seconds"
   ]
  },
  {
   "cell_type": "markdown",
   "metadata": {
    "cell_id": "83866d296ae54aafae3f57f7cb961f3f",
    "deepnote_cell_type": "markdown",
    "vscode": {
     "languageId": "raw"
    }
   },
   "source": [
    "---\n",
    "\n",
    "## Part 3: Custom Assets with Scenario Files and Model Directives\n",
    "\n",
    "Now let's learn how to use scenario files to load your custom assets! We'll create scenario YAML files that can reference your custom models and load them into `HardwareStation`.\n",
    "\n",
    "**YOUR TASK:** Create scenario files from scratch and load your custom assets using model directives.\n",
    "\n",
    "**Goal:** Export a video of the simulation with the bimanual IIWA14 setup and your assets, and upload it to Gradescope.\n",
    "\n",
    "**Reference:** To understand how to write scenario directives and use the functions above, we recommend looking at the [Bimanual Manipulation Example](https://deepnote.com/workspace/Manipulation-ac8201a1-470a-4c77-afd0-2cc45bc229ff/project/8f86172b-b597-4ceb-9bad-92d11ac7a6cc/notebook/bimanual-3df3abe2b1b949eb9daaf3748b16a218).\n"
   ]
  },
  {
   "cell_type": "markdown",
   "metadata": {},
   "source": [
    "First, let us make sure that we have our letters generated in the right folder. Run the code below. Feel free to change the letter properties!"
   ]
  },
  {
   "cell_type": "code",
   "execution_count": null,
   "metadata": {},
   "outputs": [],
   "source": [
    "# The `work` directory in Deepnote contains all the files you see under the `Files`\n",
    "# tab on the left (this is just a Deepnote specific thing).\n",
    "# We will store the generated files in the `assets/` folder in the `Files` menu on the left!\n",
    "output_dir = Path(\"work/assets/\")\n",
    "\n",
    "# TODO: Insert your initials here!\n",
    "your_initials = \"BPG\"\n",
    "\n",
    "for letter in your_initials:\n",
    "    create_sdf_asset_from_letter(\n",
    "        text=letter,\n",
    "        font_name=\"Arial\",\n",
    "        letter_height_meters=0.2,\n",
    "        extrusion_depth_meters=0.07,\n",
    "        output_dir=output_dir / f\"{letter}_model\",\n",
    "    )"
   ]
  },
  {
   "cell_type": "markdown",
   "metadata": {
    "cell_id": "d252c33ac7bb46209e362485151a7fbb",
    "deepnote_cell_type": "markdown"
   },
   "source": [
    "In order to load assets using the model directives we need to have them as local files. Let us save our table asset from the previous notebook to a local file. Fill out the missing code below:"
   ]
  },
  {
   "cell_type": "code",
   "execution_count": null,
   "metadata": {
    "cell_id": "9e0e40bb717d476a8365885c69c9cdf7",
    "deepnote_cell_type": "code",
    "execution_context_id": "ddf6ee34-47fc-4603-96df-7f61fb706903",
    "execution_millis": 304,
    "execution_start": 1756479390330,
    "source_hash": "57856523"
   },
   "outputs": [],
   "source": [
    "# TODO: Paste your table_sdf = ... code from Notebook 2 here\n",
    "table_sdf = \"\"\"<?xml version=\"1.0\"?>\n",
    "\"\"\"\n",
    "\n",
    "# TODO: Write the table SDF to a file\n",
    "table_sdf_path = \"work/assets/table.sdf\"\n",
    "with open(table_sdf_path, \"w\") as f:\n",
    "    f.write(table_sdf)"
   ]
  },
  {
   "cell_type": "markdown",
   "metadata": {
    "cell_id": "cdf5d461352748ba8005e4ec52b2ce26",
    "deepnote_cell_type": "markdown"
   },
   "source": [
    "Great. Now we should be able to load our custom assets, similar to what we did before with the IIWA14 in the scenario directives. To access a local file in the scenario directives, use the following syntax:\n",
    "- `file://absolute/path/to/your/file.sdf`\n",
    "\n",
    "For example, for the letter `B` in the (relative) folder `work/assets` one could use the following f-string:\n",
    "- `f\"file://{Path.cwd()}/work/assets/B_model/B.sdf\"`\n",
    "\n",
    "**NOTE**: The asset path must be absolute, which is why we call `Path.cwd()` to get the current working directory above! The asset path is also sensitive to spaces and indentation. If you're unable to load your assets, make sure there are no double spaces anywhere!\n",
    "\n",
    "We want to weld the table to the world so it doesn't fall down.\n",
    "\n",
    "We also want to specify a default free-body pose for the initials, which you can do as follows (inside an f-string):\n",
    "```\n",
    "- add_model:\n",
    "    name: {YOUR_OBJECT_NAME}\n",
    "    file: {PATH_TO_OBJECT}\n",
    "    default_free_body_pose:\n",
    "        {BASE_LINK_NAME}:\n",
    "            translation: [x_pos, y_pos, z_pos]\n",
    "            rotation: !Rpy {{ deg: [x_rot, y_rot, z_rot] }}\n",
    "```\n",
    "Make sure to replace:\n",
    "- `{YOUR_OBJECT_NAME}`: any name you prefer\n",
    "- `{PATH_TO_OBJECT}`: the path to the `.sdf` or `.urdf` file (can be either a local file or the path in the `package` repo, like `drake-models`)\n",
    "- `{BASE_LINK_NAME}`: the name of the base link in the `.sdf` or `.urdf` file.\n",
    "\n",
    "For instance, for the letter `B`, you could do (within an f-string):\n",
    "\n",
    "```\n",
    "- add_model:\n",
    "    name: B_letter\n",
    "    file: file://{Path.cwd()/work/assets/B_model.sdf}\n",
    "    default_free_body_pose:\n",
    "        B_body_link:\n",
    "            translation: [0, 1.0, 0.75]\n",
    "            rotation: !Rpy {{ deg: [42, 33, 18] }}\n",
    "```\n",
    "\n",
    "In addition, we want to load an object from [drake-models](https://github.com/RobotLocomotion/models), \n",
    "also specified as a free-floating body (for instance one of [these objects](https://github.com/RobotLocomotion/models/tree/master/ycb))\n",
    "\n",
    "**To summarize, here is everything you need to do for the scene you should create below:**\n",
    "- Load two Kuka IIWA14 robots with default joint positions, welded to the world frame\n",
    "- Load the table from the local `.sdf` file, welded to the world frame\n",
    "- Load your letter initials from the local `.sdf` files, with default free-body poses \n",
    "- Load one or more objects from [drake-models](https://github.com/RobotLocomotion/models) into your scene, with default free-body poses"
   ]
  },
  {
   "cell_type": "code",
   "execution_count": null,
   "metadata": {
    "cell_id": "9e14e323a892465fa84c052ea1a9fd3a",
    "deepnote_cell_type": "code",
    "execution_context_id": "ddf6ee34-47fc-4603-96df-7f61fb706903",
    "execution_millis": 11306,
    "execution_start": 1756479390680,
    "source_hash": "71c9337d"
   },
   "outputs": [],
   "source": [
    "def create_bimanual_IIWA14_with_table_and_initials_and_assets() -> (\n",
    "    tuple[Diagram, RobotDiagram]\n",
    "):\n",
    "    # TODO: Write a scenario YAML string that includes:\n",
    "    #       - IIWA14 robot with default joint positions\n",
    "    #       - Welding the robot to the world\n",
    "    #       - Your table using file://your/absolute/path/to/table.sdf\n",
    "    #       - Welding the table with a translation offset\n",
    "    #       - Load your initials using file://your/absolute/path/to/B_model/B.sdf\n",
    "    #       - Load an object from drake-models as a free-floating body\n",
    "    scenario_yaml = f\"\"\"directives:\n",
    "    \"\"\"\n",
    "\n",
    "    # TODO: Save the scenario YAML to a file\n",
    "\n",
    "    # TODO: Load the scenario from the file\n",
    "\n",
    "    # TODO: Create HardwareStation with the scenario and meshcat\n",
    "\n",
    "    # TODO: Make a DiagramBuilder, add the station, and build the diagram\n",
    "\n",
    "    # TODO: Return the diagram AND the station (notice that here we will need both)\n",
    "\n",
    "    return None, None  # Remove this when you have implemented the function"
   ]
  },
  {
   "cell_type": "markdown",
   "metadata": {
    "cell_id": "95ebbe2d29ce41ddaf85fa67f51f4b07",
    "deepnote_cell_type": "markdown"
   },
   "source": [
    "Let us visualize the block diagram:"
   ]
  },
  {
   "cell_type": "code",
   "execution_count": null,
   "metadata": {
    "cell_id": "fb3b3940b60745928741a884748e7afb",
    "deepnote_cell_type": "code",
    "execution_context_id": "ddf6ee34-47fc-4603-96df-7f61fb706903",
    "execution_millis": 14,
    "execution_start": 1756479402050,
    "source_hash": "92a704da"
   },
   "outputs": [],
   "source": [
    "diagram, station = create_bimanual_IIWA14_with_table_and_initials_and_assets()\n",
    "RenderDiagram(diagram, max_depth=1)"
   ]
  },
  {
   "cell_type": "markdown",
   "metadata": {
    "cell_id": "c9b4cba0a45046278da309928793669f",
    "deepnote_cell_type": "markdown",
    "vscode": {
     "languageId": "raw"
    }
   },
   "source": [
    "Let's run a quick simulation to see the HardwareStation in action:\n"
   ]
  },
  {
   "cell_type": "code",
   "execution_count": null,
   "metadata": {
    "cell_id": "9806d5b7aa164a7582879e37a5d901b3",
    "deepnote_cell_type": "code",
    "execution_context_id": "ddf6ee34-47fc-4603-96df-7f61fb706903",
    "execution_millis": 1,
    "execution_start": 1756479402110,
    "source_hash": "3937006b"
   },
   "outputs": [],
   "source": [
    "# TODO: Simulate the HardwareStation\n",
    "\n",
    "\n",
    "def simulate_full_system(\n",
    "    iiwa_left_q0: np.ndarray,\n",
    "    iiwa_right_q0: np.ndarray,\n",
    "    letter_poses: list[RigidTransform],\n",
    "    object_poses: list[RigidTransform],\n",
    "    simulation_time: float = 3.0,\n",
    "    use_realtime: bool = True,\n",
    ") -> None:\n",
    "    # TODO: Create the diagram and the station using your function above\n",
    "\n",
    "    # TODO: Create simulator and mutable simulator context\n",
    "\n",
    "    # TODO: Get the plant subsystem from the station\n",
    "\n",
    "    # TODO: Get the plant context from the root context\n",
    "\n",
    "    # NOTE: Next, we will set the initial configurations of the robots and assets.\n",
    "    #       As we already set it in the scenario file, we don't technically need to do\n",
    "    #       anything here. However, if you want to change the configuration after\n",
    "    #       loading the scenario, this is how you can do it.\n",
    "\n",
    "    # TODO: Set the initial configuration for the left IIWA robot\n",
    "    # TODO: Get the left IIWA model instance by name\n",
    "    # HINT: The name is the `name` field in the add_model directive\n",
    "    # HINT: Make sure to use the plant context and not the root context!\n",
    "\n",
    "    # TODO: Set the initial configuration for the right IIWA robot\n",
    "    # TODO: Get the right IIWA model instance by name\n",
    "\n",
    "    # TODO: Set the initial pose for the initials\n",
    "    # HINT: First get the model instance by name (the `name` field in the add_model directive),\n",
    "    #       then get the RigidBody associated with the letter (i.e. `B_body_link`, this is hardcoded in the SDF file)\n",
    "    #       and then set its pose (i.e. `plant.SetFreeBodyPose(context_plant, body, letter_poses[0])`)\n",
    "\n",
    "    # TODO: Configure the simulator to run at realtime rate\n",
    "\n",
    "    # TODO: Run the simulation\n",
    "\n",
    "    pass"
   ]
  },
  {
   "cell_type": "code",
   "execution_count": null,
   "metadata": {
    "cell_id": "d5f3f47ea797436baa4074bbb68c7346",
    "deepnote_cell_type": "code",
    "execution_context_id": "ddf6ee34-47fc-4603-96df-7f61fb706903",
    "execution_millis": 19391,
    "execution_start": 1756479402160,
    "source_hash": "14613153"
   },
   "outputs": [],
   "source": [
    "# Test your simulation\n",
    "print(f\"Check your Meshcat window ({meshcat.web_url()}) to see the robot simulation!\")\n",
    "print(\"Running HardwareStation simulation...\")\n",
    "\n",
    "meshcat.StartRecording()\n",
    "simulate_full_system(\n",
    "    iiwa_left_q0=np.array([0, 0, 0, 0, 0, 0, 0]),\n",
    "    iiwa_right_q0=np.array([0, 0, 0, 0, 0, 0, 0]),\n",
    "    # NOTE: Here we have provided the initial poses for three letters, and one object, as\n",
    "    # an example. Change these to match your setup!\n",
    "    letter_poses=[\n",
    "        # You can add rotations to the RigidTransform if you want, but we will learn more about that later!\n",
    "        # The letters should be placed such that they are not in collision with each other, and such that\n",
    "        # they fall onto the table.\n",
    "        RigidTransform([0.7, 0.0, 1.0]),\n",
    "        RigidTransform([0.9, 0.0, 1.0]),\n",
    "        RigidTransform([1.1, 0.0, 1.0]),\n",
    "    ],\n",
    "    object_poses=[\n",
    "        RigidTransform([0.5, 0.0, 0.75]),\n",
    "    ],\n",
    "    simulation_time=5.0 if running_as_notebook else 5.0,\n",
    "    use_realtime=running_as_notebook,\n",
    ")\n",
    "meshcat.StopRecording()\n",
    "meshcat.PublishRecording()\n",
    "\n",
    "print(\"HardwareStation simulation completed!\")"
   ]
  },
  {
   "cell_type": "markdown",
   "metadata": {
    "cell_id": "cd6e6c0f739a400f9c4565cf2f162a80",
    "deepnote_cell_type": "markdown",
    "vscode": {
     "languageId": "raw"
    }
   },
   "source": [
    "---\n",
    "\n",
    "# Congratulations!\n",
    "\n",
    "You've successfully completed the notebook on **HardwareStation and Advanced Scenarios**! You've learned:\n",
    "\n",
    "- **HardwareStation** - A convenient high-level tool that automates complex robot setup\n",
    "- **Scenario files** - Declarative YAML-based scene configuration  \n",
    "- **Custom assets** - Loading your own models into scenarios  \n",
    "\n",
    "---\n",
    "\n",
    "# VERIFICATION IN GRADESCOPE\n",
    "Congratulations! You are all done with this notebook. Now play the simulation back in your browser, and upload a screen recording of it in Gradescope.\n"
   ]
  }
 ],
 "metadata": {
  "deepnote_notebook_id": "8b2abd2ac9d0406699bc2a3284eddf73",
  "kernelspec": {
   "display_name": ".venv",
   "language": "python",
   "name": "python3"
  },
  "language_info": {
   "codemirror_mode": {
    "name": "ipython",
    "version": 3
   },
   "file_extension": ".py",
   "mimetype": "text/x-python",
   "name": "python",
   "nbconvert_exporter": "python",
   "pygments_lexer": "ipython3",
   "version": "3.13.7"
  }
 },
 "nbformat": 4,
 "nbformat_minor": 0
}