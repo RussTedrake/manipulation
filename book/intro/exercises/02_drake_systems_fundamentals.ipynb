{
 "cells": [
  {
   "cell_type": "markdown",
   "metadata": {
    "cell_id": "b06b92b313954888a0192e8a2eaa1fbf",
    "deepnote_cell_type": "markdown",
    "vscode": {
     "languageId": "raw"
    }
   },
   "source": [
    "# Drake Systems Fundamentals\n",
    "\n",
    "**Learning Objectives:**\n",
    "1. Implement a custom `LeafSystem` from scratch\n",
    "2. Understand Drake's block diagram systems framework\n",
    "3. Build and wire block diagrams yourself\n",
    "4. Write simulation code\n",
    "5. Use Drake documentation and tutorials effectively\n",
    "\n",
    "**What you'll implement:** You'll implement an inverted pendulum system from scratch, and simulate it using Drake's built-in simulation tools.\n",
    "\n",
    "---\n"
   ]
  },
  {
   "cell_type": "markdown",
   "metadata": {
    "cell_id": "0d3b0aa32e384173969223c89a474191",
    "deepnote_cell_type": "markdown",
    "vscode": {
     "languageId": "raw"
    }
   },
   "source": [
    "## Setup and Imports\n",
    "\n",
    "Let us first import Drake functionality. We will cover them as we go along, so don't worry about them for now. "
   ]
  },
  {
   "cell_type": "code",
   "execution_count": null,
   "metadata": {
    "cell_id": "4bf67c16c5104699a58f203312da3442",
    "deepnote_cell_type": "code",
    "execution_context_id": "e378a144-d93b-498b-8d5b-dea297a7d550",
    "execution_millis": 773,
    "execution_start": 1756174685375,
    "source_hash": "f033b898"
   },
   "outputs": [],
   "source": [
    "import matplotlib.pyplot as plt\n",
    "import numpy as np\n",
    "from pydrake.all import (\n",
    "    BasicVector,\n",
    "    ConstantVectorSource,\n",
    "    Context,\n",
    "    ContinuousState,\n",
    "    Diagram,\n",
    "    DiagramBuilder,\n",
    "    LeafSystem,\n",
    "    LogVectorOutput,\n",
    "    Simulator,\n",
    ")\n",
    "from pydrake.systems.drawing import plot_system_graphviz\n",
    "\n",
    "from manipulation.exercises.grader import Grader\n",
    "from manipulation.exercises.intro.test_intro_fundamentals import (\n",
    "    TestIntroFundamentalsPendulumImplementation,\n",
    "    TestIntroFundamentalsSimulationExercises,\n",
    ")"
   ]
  },
  {
   "cell_type": "markdown",
   "metadata": {
    "cell_id": "046b2e4715784b6197e05d1042b7dc8a",
    "deepnote_cell_type": "markdown",
    "vscode": {
     "languageId": "raw"
    }
   },
   "source": [
    "---\n",
    "\n",
    "## Part 1: Writing Your Own Dynamics\n",
    "\n",
    "Drake models complex systems as **block diagrams** composed of simple building blocks. Each block is a `System` that:\n",
    "- Has **input ports** (receives signals)\n",
    "- Has **output ports** (sends signals) \n",
    "- Maintains internal **state**\n",
    "- Defines **dynamics** (how state evolves over time)\n",
    "\n",
    "A `System` can be just a simple, single system, or it can be a collection of multiple smaller subsystems, for instance connected together in a `Diagram` (which we will learn more about in a second). For now, we will look only at a single custom system, which you will usually implement by inheriting from the Drake class `LeafSystem`. In this part of the notebook, you will implement your own simple physical system (an inverted pendulum) using `LeafSystem`. Later in the class and for the project you might find yourself inheriting from `LeafSystem` when you are writing custom controllers, estimators, sensors, etc!\n",
    "\n",
    "Below you can see an example of a `Diagram` consisting of smaller subsystems: an inverted pendulum with a constant input source, which outputs to a logging system. In fact, this is the `Diagram` we will be building from scratch in this notebook!\n",
    "\n",
    "<img src=\"https://raw.githubusercontent.com/RussTedrake/manipulation/master/book/figures/exercises/simple_inverted_pendulum_diagram.svg\" width=\"1000\">"
   ]
  },
  {
   "cell_type": "markdown",
   "metadata": {},
   "source": [
    "**References:** To implement the tasks in this notebook, you will be referencing the official Drake tutorials. You don't have to read everything in them right now, we provide hints in the code pointing you towards the relevant sections. The tutorials we will be referencing are:\n",
    "- [Dynamical Systems Tutorial](https://github.com/RobotLocomotion/drake/blob/master/tutorials/dynamical_systems.ipynb)\n",
    "- [Authoring Leaf Systmes](https://github.com/RobotLocomotion/drake/blob/7abd7dc1a95387490e2d5fa23fe938f57eddecfc/tutorials/authoring_leaf_systems.ipynb)\n",
    "\n",
    "If you are unsure about how to use a function, refer to the [Official Drake documentation](https://drake.mit.edu/pydrake/index.html). For example, the documentation for `DeclareVectorInputPort` and similar functions can be found [on this page](https://drake.mit.edu/pydrake/pydrake.systems.framework.html) which we found by searching for \"DeclareVectorInputPort) and then by cmd+F for \"DeclareVectorInputPort\". \n",
    "\n",
    "(**A note on the Drake documentation:** There are two sets of documentation for Drake: one for Python and [one for C++](https://drake.mit.edu/doxygen_cxx/index.html). The C++ and Python APIs for Drake are the same, but the C++ documentation is usually a bit more detailed and easier to navigate than the Python documentation, so most users of Drake tend to prefer the C++ documentation. So as you get more familiar with Drake, you might want to check out the C++ documentation instead!)\n",
    "\n",
    "**YOUR TASK:** Implement an inverted pendulum (with zero friction) as a custom `LeafSystem`\n",
    "Here are the system specifications you will need:\n",
    "- **State:** $x = [\\theta, \\dot{\\theta}]$ (angle and angular velocity)\n",
    "- **Input:** $u$ (torque applied at the base)  \n",
    "- **Dynamics:** $\\ddot{\\theta} = -\\frac{g}{l}\\sin(\\theta) + \\frac{u}{ml^2}$\n",
    "- **Output:** $y = \\theta$ (just the angle)"
   ]
  },
  {
   "cell_type": "code",
   "execution_count": null,
   "metadata": {},
   "outputs": [],
   "source": [
    "# TODO: Implement your own InvertedPendulum class\n",
    "\n",
    "\n",
    "class InvertedPendulum(LeafSystem):\n",
    "    def __init__(\n",
    "        self, mass: float = 1.0, length: float = 1.0, gravity: float = 9.81\n",
    "    ) -> None:\n",
    "        # HINT: Look at the Dynamical Systems Tutorial,\n",
    "        #       section \"Deriving from LeafSystem\"\n",
    "        # TODO: Call the parent constructor\n",
    "\n",
    "        # TODO: Store the physical parameters as instance variables\n",
    "\n",
    "        # TODO: Declare continuous state for [theta, theta_dot]\n",
    "        #       (note that we won't need the state_index they use in the tutorial,\n",
    "        #        so you can disregard the return value)\n",
    "\n",
    "        # HINT: Look at the Authoring Leaf Systems Tutorial,\n",
    "        #       section \"Vector-valued Ports\"\n",
    "        # TODO: Declare input port for torque\n",
    "        # TODO: Save the input port as an instance variable so we can\n",
    "        #       access it in `DoCalcTimeDerivatives`\n",
    "\n",
    "        # TODO: Declare output port for **just** theta (not theta_dot)\n",
    "\n",
    "        pass  # Remove this when you implement\n",
    "\n",
    "    def DoCalcTimeDerivatives(\n",
    "        self, context: Context, derivatives: ContinuousState\n",
    "    ) -> None:\n",
    "        # HINT: Look at the Dynamical Systems Tutorial,\n",
    "        #       section \"Deriving from LeafSystem\"\n",
    "        # TODO: Get current state from context (extract theta and theta_dot)\n",
    "        # HINT: Note that context.get_continuous_state_vector() returns a VectorBase\n",
    "        #       object, which you can index into to get the theta and theta_dot using\n",
    "        #       .GetAtIndex(), or simply context.get_continuous_state_vector()[index]\n",
    "        #       or simply context.get_continuous_state_vector()[index]\n",
    "\n",
    "        # HINT: Look at the Authoring Leaf Systems Tutorial,\n",
    "        #       section \"Vector-valued Ports\"\n",
    "        # TODO: Get input torque by evaluating the input port\n",
    "\n",
    "        # HINT: Look at the Dynamical Systems Tutorial,\n",
    "        #       section \"Deriving from LeafSystem\"\n",
    "        # TODO: Compute pendulum dynamics\n",
    "        # TODO: Set the derivatives [theta_dot, theta_ddot]\n",
    "\n",
    "        pass  # Remove this when you implement\n",
    "\n",
    "    def OutputTheta(self, context: Context, output: BasicVector) -> None:\n",
    "        # HINT: Look at the Authoring Leaf Systems Tutorial,\n",
    "        #       section \"Vector-valued Ports\"\n",
    "        # TODO: Get state from context, and extract theta (first element)\n",
    "\n",
    "        # TODO: Set the output port to theta\n",
    "\n",
    "        pass  # Remove this when you implement"
   ]
  },
  {
   "cell_type": "code",
   "execution_count": null,
   "metadata": {},
   "outputs": [],
   "source": [
    "# TODO: Implement your own InvertedPendulum class\n",
    "\n",
    "\n",
    "class InvertedPendulum(LeafSystem):\n",
    "    def __init__(\n",
    "        self, mass: float = 1.0, length: float = 1.0, gravity: float = 9.81\n",
    "    ) -> None:\n",
    "        # HINT: Look at the Dynamical Systems Tutorial,\n",
    "        #       section \"Deriving from LeafSystem\"\n",
    "        # TODO: Call the parent constructor\n",
    "        super().__init__()\n",
    "        # TODO: Store the physical parameters as instance variables\n",
    "        self.mass = mass\n",
    "        self.length = length\n",
    "        self.gravity = gravity\n",
    "        # TODO: Declare continuous state for [theta, theta_dot]\n",
    "        #       (note that we won't need the state_index they use in the tutorial,\n",
    "        #        so you can disregard the return value)\n",
    "        self.DeclareContinuousState(2)\n",
    "\n",
    "        # HINT: Look at the Authoring Leaf Systems Tutorial,\n",
    "        #       section \"Vector-valued Ports\"\n",
    "        # TODO: Declare input port for torque\n",
    "        # TODO: Save the input port as an instance variable so we can\n",
    "        #       access it in `DoCalcTimeDerivatives`\n",
    "        self.input_port = self.DeclareVectorInputPort(\"torque\", 1)\n",
    "        # TODO: Declare output port for **just** theta (not theta_dot)\n",
    "        self.DeclareVectorOutputPort(\"theta\", 1, self.OutputTheta)\n",
    "\n",
    "    def DoCalcTimeDerivatives(\n",
    "        self, context: Context, derivatives: ContinuousState\n",
    "    ) -> None:\n",
    "        # HINT: Look at the Dynamical Systems Tutorial,\n",
    "        #       section \"Deriving from LeafSystem\"\n",
    "        # TODO: Get current state from context (extract theta and theta_dot)\n",
    "        # HINT: Note that context.get_continuous_state_vector() returns a VectorBase\n",
    "        #       object, which you can index into to get the theta and theta_dot using\n",
    "        #       .GetAtIndex(), or simply context.get_continuous_state_vector()[index]\n",
    "        #       or simply context.get_continuous_state_vector()[index]\n",
    "        state = context.get_continuous_state_vector()\n",
    "        theta = state[0]\n",
    "        theta_dot = state[1]\n",
    "\n",
    "        # HINT: Look at the Authoring Leaf Systems Tutorial,\n",
    "        #       section \"Vector-valued Ports\"\n",
    "        # TODO: Get input torque by evaluating the input port\n",
    "        torque = self.get_input_port(0).Eval(context)[0]\n",
    "\n",
    "        # HINT: Look at the Dynamical Systems Tutorial,\n",
    "        #       section \"Deriving from LeafSystem\"\n",
    "        # TODO: Compute pendulum dynamics\n",
    "        theta_ddot = -(self.gravity / self.length) * np.sin(theta) + (\n",
    "            torque / (self.mass * self.length**2)\n",
    "        )\n",
    "        # TODO: Set the derivatives [theta_dot, theta_ddot]\n",
    "        derivatives.get_mutable_vector().SetFromVector([theta_dot, theta_ddot])\n",
    "\n",
    "    def OutputTheta(self, context: Context, output: BasicVector) -> None:\n",
    "        # HINT: Look at the Authoring Leaf Systems Tutorial,\n",
    "        #       section \"Vector-valued Ports\"\n",
    "        # TODO: Get state from context, and extract theta (first element)\n",
    "        state = context.get_continuous_state_vector()\n",
    "        theta = state[0]\n",
    "        # TODO: Set the output port to theta\n",
    "        output.SetFromVector([theta])"
   ]
  },
  {
   "cell_type": "markdown",
   "metadata": {
    "cell_id": "e851fe64939249b5bbdeb4b3f602330a",
    "deepnote_cell_type": "markdown"
   },
   "source": [
    "**When you are done, make sure to run the tests below to make sure everything is working as expected!**"
   ]
  },
  {
   "cell_type": "code",
   "execution_count": null,
   "metadata": {
    "cell_id": "4b0b0aabf6b046d984e1960237389db1",
    "deepnote_cell_type": "code",
    "execution_context_id": "e378a144-d93b-498b-8d5b-dea297a7d550",
    "execution_millis": 5,
    "execution_start": 1756174686265,
    "source_hash": "5d1b4f6e"
   },
   "outputs": [],
   "source": [
    "Grader.grade_output(\n",
    "    [TestIntroFundamentalsPendulumImplementation], [locals()], \"results.json\"\n",
    ")\n",
    "Grader.print_test_results(\"results.json\")"
   ]
  },
  {
   "cell_type": "markdown",
   "metadata": {
    "cell_id": "1e8df4e8dc324815a7928d0a0fd738f4",
    "deepnote_cell_type": "markdown"
   },
   "source": [
    "### System `Context`\n",
    "In the code above, you probably noticed the use of something called the `context`. In Drake, the `context` contains all the dynamical information about your simulation and all the systems in it.\n",
    "\n",
    "Please read the following tutorial section before proceeding:\n",
    "- [Dynamical Systems Tutorial](https://github.com/RobotLocomotion/drake/blob/master/tutorials/dynamical_systems.ipynb): **The System \"Context\"**\n",
    "\n",
    "Next, let us create a default context for our Pendulum, change it a bit, and have a look at it!"
   ]
  },
  {
   "cell_type": "markdown",
   "metadata": {
    "cell_id": "6142f53eae20411c9822f71fb60a19b3",
    "deepnote_cell_type": "markdown"
   },
   "source": [
    "For this simple system, you see that the context only contains the current time, as well as the two states we defined for our system."
   ]
  },
  {
   "cell_type": "code",
   "execution_count": null,
   "metadata": {
    "cell_id": "6192bc9b80f74c2eb5f7218f01b4fdf9",
    "deepnote_cell_type": "code",
    "execution_context_id": "e378a144-d93b-498b-8d5b-dea297a7d550",
    "execution_millis": 1,
    "execution_start": 1756174686326,
    "source_hash": "83949696"
   },
   "outputs": [],
   "source": [
    "# TODO: Set the values for time and state to some reasonable values\n",
    "# time =\n",
    "# theta =\n",
    "# theta_dot =\n",
    "\n",
    "# TODO: Uncomment the following lines:\n",
    "# pendulum = InvertedPendulum()\n",
    "# pendulum_context = pendulum.CreateDefaultContext()\n",
    "# pendulum_context.get_mutable_continuous_state().SetFromVector([theta, theta_dot])\n",
    "# pendulum_context.SetTime(time)\n",
    "# print(pendulum_context)"
   ]
  },
  {
   "cell_type": "markdown",
   "metadata": {
    "cell_id": "2ed4cebab0f74404bd8cee814b0a2910",
    "deepnote_cell_type": "markdown",
    "vscode": {
     "languageId": "raw"
    }
   },
   "source": [
    "--- \n",
    "## Part 2: Connecting Systems in a Diagram\n",
    "\n",
    "In this part, you will create a complete `Diagram` that we will later use for simulation by connecting multiple Drake `System`s together:\n",
    "1. **InvertedPendulum** - your dynamical system\n",
    "2. **ConstantVectorSource** - provides constant torque input  \n",
    "3. **LogVectorOutput** - records output data over time\n",
    "\n",
    "**YOUR TASK:** Build a `Diagram` for simulation of the inverted pendulum, where the pendulum is provided with a constant input torque, and we log the outputs.\n",
    "\n",
    "**References:** In this part, we will only be referencing this tutorial (we will keep pointing you towards the relevant sections in the code):\n",
    "- [Dynamical Systems Tutorial](https://github.com/RobotLocomotion/drake/blob/master/tutorials/dynamical_systems.ipynb): section **\"Simulation\"** and **\"Combinations of Systems: Diagram and DiagramBuilder\"**"
   ]
  },
  {
   "cell_type": "code",
   "execution_count": null,
   "metadata": {
    "cell_id": "33f7331c4f194a34a7b46d9dfa3df560",
    "deepnote_cell_type": "code",
    "execution_context_id": "e378a144-d93b-498b-8d5b-dea297a7d550",
    "execution_millis": 1,
    "execution_start": 1756174686385,
    "source_hash": "41260bcc"
   },
   "outputs": [],
   "source": [
    "# TODO: Implement the diagram builder function\n",
    "\n",
    "\n",
    "def build_pendulum_diagram(\n",
    "    input_torque: float = 0.0,\n",
    ") -> tuple[Diagram, InvertedPendulum, LogVectorOutput]:\n",
    "\n",
    "    # HINT: Look at the Dynamical Systems Tutorial, section \"Simulation\"\n",
    "    # TODO: Create a DiagramBuilder\n",
    "\n",
    "    # TODO: Add your inverted pendulum system to the builder\n",
    "\n",
    "    # TODO: Add a constant torque source\n",
    "    # HINT: This is not in the tutorial, so we have provided the code for you.\n",
    "    torque_source = ConstantVectorSource(np.array([input_torque]))\n",
    "\n",
    "    # TODO: Add data logging system\n",
    "\n",
    "    # TODO: Connect the systems together\n",
    "    # HINT: Look at the Dynamical Systems Tutorial, section\n",
    "    #       \"Combinations of Systems: Diagram and DiagramBuilder\"\n",
    "    # HINT: The constant torque source should be connected to the pendulum's input port,\n",
    "    #       but the LogVectorOutput is already connected to the pendulum's output port.\n",
    "\n",
    "    # TODO: Build and return the final diagram, system, and logger\n",
    "\n",
    "    return None, None, None  # Remove this when you implement\n",
    "\n",
    "\n",
    "# TODO: Uncomment the following line:\n",
    "# diagram, pendulum, logger = build_pendulum_diagram(input_torque=0.1)"
   ]
  },
  {
   "cell_type": "markdown",
   "metadata": {
    "cell_id": "1db2baf8f0a0462b970e5ab5c5e44cf4",
    "deepnote_cell_type": "markdown",
    "vscode": {
     "languageId": "raw"
    }
   },
   "source": [
    "**Next, we will visualize the block diagram.**\n",
    "\n",
    "Drake can automatically generate graphical representations of your block diagrams, which can be very helpful for understanding the system connections and debug wiring issues.\n",
    "\n",
    "Run the code below to visualize your diagram:"
   ]
  },
  {
   "cell_type": "code",
   "execution_count": null,
   "metadata": {
    "cell_id": "0855072d57364bb4aecc807cedf91300",
    "deepnote_cell_type": "code",
    "execution_context_id": "e378a144-d93b-498b-8d5b-dea297a7d550",
    "execution_millis": 363,
    "execution_start": 1756174686435,
    "source_hash": "9935e892"
   },
   "outputs": [],
   "source": [
    "diagram, pendulum, logger = build_pendulum_diagram(input_torque=0.1)\n",
    "plot_system_graphviz(diagram)"
   ]
  },
  {
   "cell_type": "markdown",
   "metadata": {
    "cell_id": "9335321570ac4caf961d5da4ca3d60d5",
    "deepnote_cell_type": "markdown"
   },
   "source": [
    "After visualizing, make sure to have a look at the diagram. Are the connections and the number of ports as you would expect?\n",
    "\n",
    "Let us also have a look at the Diagram context (notice how it includes the pendulum context from earlier!):"
   ]
  },
  {
   "cell_type": "code",
   "execution_count": null,
   "metadata": {
    "cell_id": "ecf38fe62d184c21bae2e65a3e14b7b7",
    "deepnote_cell_type": "code",
    "execution_context_id": "e378a144-d93b-498b-8d5b-dea297a7d550",
    "execution_millis": 1,
    "execution_start": 1756174686845,
    "source_hash": "8998869b"
   },
   "outputs": [],
   "source": [
    "# TODO: Uncomment the following line:\n",
    "# diagram, pendulum, logger = build_pendulum_diagram(input_torque=0.1)\n",
    "\n",
    "# TODO: Create a context for the diagram\n",
    "\n",
    "# TODO: Print the context for the diagram"
   ]
  },
  {
   "cell_type": "markdown",
   "metadata": {
    "cell_id": "8e7d81f2268c4af480600cb2197c5d85",
    "deepnote_cell_type": "markdown"
   },
   "source": [
    "**TIP:** This is not in the tutorial, but will be **very** useful soon in the class and for your project: \n",
    "\n",
    "If you ever want to get the context of a specific system from the entire diagram context, use the method:\n",
    "\n",
    "`system.GetMyContextFromRoot(diagram_context)`.\n",
    "\n",
    "Try it below for the inverted pendulum, and notice how we get back the simple pendulum context we printed earlier!\n"
   ]
  },
  {
   "cell_type": "code",
   "execution_count": null,
   "metadata": {
    "cell_id": "ffca430e0ed2449388566a02e250f1dc",
    "deepnote_cell_type": "code",
    "execution_context_id": "e378a144-d93b-498b-8d5b-dea297a7d550",
    "execution_millis": 1,
    "execution_start": 1756174686895,
    "source_hash": "d01ecd8e"
   },
   "outputs": [],
   "source": [
    "# TODO: Get the context of the pendulum from the diagram context\n",
    "\n",
    "# TODO: Print the pendulum context"
   ]
  },
  {
   "cell_type": "markdown",
   "metadata": {
    "cell_id": "bd33bd3669184d47950e4a645570baec",
    "deepnote_cell_type": "markdown",
    "vscode": {
     "languageId": "raw"
    }
   },
   "source": [
    "## Part 3: Simulation\n",
    "In this part, we will finally put everything together and run the full simulation of our pendulum.\n",
    "\n",
    "**YOUR TASK:** Implement the full simulation for your inverted pendulum system.\n",
    "\n",
    "**References:** In this part, we will only be referencing this tutorial (we will keep pointing you towards the relevant sections in the code):\n",
    "- [Dynamical Systems Tutorial](https://github.com/RobotLocomotion/drake/blob/master/tutorials/dynamical_systems.ipynb): section **\"Simulation\"**"
   ]
  },
  {
   "cell_type": "code",
   "execution_count": null,
   "metadata": {
    "cell_id": "fa6548d45b7343a2a01dad6abafba551",
    "deepnote_cell_type": "code",
    "execution_context_id": "e378a144-d93b-498b-8d5b-dea297a7d550",
    "execution_millis": 0,
    "execution_start": 1756174686945,
    "source_hash": "aedc5678"
   },
   "outputs": [],
   "source": [
    "# TODO: Implement the simulation function\n",
    "\n",
    "\n",
    "def simulate_pendulum(\n",
    "    initial_state: np.ndarray, simulation_time: float = 5.0, torque: float = 0.0\n",
    ") -> tuple[np.ndarray, np.ndarray]:\n",
    "    # TODO: Build your diagram using the function you implemented\n",
    "\n",
    "    # HINT: Look at the Dynamical Systems Tutorial, section \"Simulation\"\n",
    "    # TODO: Create a context for the diagram\n",
    "\n",
    "    # TODO: Create a simulator for the diagram with the context\n",
    "\n",
    "    # TODO: Set initial conditions for the pendulum\n",
    "\n",
    "    # TODO: Run the simulation to the specified time\n",
    "\n",
    "    # TODO: Extract the logged data from the logger\n",
    "\n",
    "    # TODO: Return the time and state data from the log\n",
    "\n",
    "    return np.array([]), np.array([])  # Remove this when you implement"
   ]
  },
  {
   "cell_type": "markdown",
   "metadata": {
    "cell_id": "6f8f08f3f48e4d3796942f149470d0a7",
    "deepnote_cell_type": "markdown"
   },
   "source": [
    "When you are done, let us run the code below to test the implementation. We will check that the pendulum swings past the downright equilibrium point, and also do some visualization so you can see what is happening!"
   ]
  },
  {
   "cell_type": "code",
   "execution_count": null,
   "metadata": {
    "cell_id": "307d084b7c034e1ca35231eab0a520e3",
    "deepnote_cell_type": "code",
    "execution_context_id": "e378a144-d93b-498b-8d5b-dea297a7d550",
    "execution_millis": 235,
    "execution_start": 1756174687005,
    "source_hash": "59023190"
   },
   "outputs": [],
   "source": [
    "# Test your implementation (you do not need to modify this code)\n",
    "initial_state = [0.5, 0.0]  # small angle, zero velocity\n",
    "times, outputs = simulate_pendulum(initial_state, simulation_time=10.0, torque=0.0)\n",
    "\n",
    "print(f\"Simulation complete! Recorded {len(times)} timesteps\")\n",
    "print(f\"Initial angle: {outputs[0, 0]:.4f} rad ({np.degrees(outputs[0, 0]):.1f}\u00b0)\")\n",
    "print(f\"Final angle: {outputs[0, -1]:.4f} rad ({np.degrees(outputs[0, -1]):.1f}\u00b0)\")\n",
    "\n",
    "# Check if pendulum swung past the equilibrium point\n",
    "min_angle = np.min(np.abs(outputs[0, :]))\n",
    "if np.isclose(min_angle, 0.0, atol=1e-3):\n",
    "    print(\"\u2705 Physics check PASSED - pendulum oscillated as expected\")\n",
    "else:\n",
    "    print(\"\u274c Physics check FAILED - pendulum didn't swing properly\")\n",
    "\n",
    "print(\n",
    "    \"Let us plot the angle over time (notice how there is no friction, hence the pendulum swings indefinitely!):\"\n",
    ")\n",
    "# Plot the angle over time\n",
    "plt.figure(figsize=(10, 4))\n",
    "plt.plot(times, outputs[0, :], \"b-\", linewidth=2, label=\"\u03b8 (angle)\")\n",
    "plt.xlabel(\"Time (s)\")\n",
    "plt.ylabel(\"Angle (rad)\")\n",
    "plt.title(\"Inverted Pendulum Angle vs Time\")\n",
    "plt.grid(True, alpha=0.3)\n",
    "plt.legend()\n",
    "\n",
    "# Add degree labels on right y-axis\n",
    "ax2 = plt.gca().twinx()\n",
    "ax2.set_ylabel(\"Angle (degrees)\")\n",
    "ax2.set_ylim(np.degrees(plt.gca().get_ylim()[0]), np.degrees(plt.gca().get_ylim()[1]))\n",
    "\n",
    "plt.tight_layout()\n",
    "plt.show()"
   ]
  },
  {
   "cell_type": "markdown",
   "metadata": {
    "cell_id": "a92d896f141f47c38be3dc51bc3c222d",
    "deepnote_cell_type": "markdown",
    "vscode": {
     "languageId": "raw"
    }
   },
   "source": [
    "---\n",
    "\n",
    "# VERIFICATION IN GRADESCOPE \n",
    "\n",
    "**Prerequisites:** You must complete ALL the TODOs above before these verification exercises will work!\n",
    "\n",
    "**Instructions:** Implement the exercises below. Copy the exact numerical values (to 4 decimal places) for your verification keys, which you can copy/paste to Gradescope.\n",
    "\n"
   ]
  },
  {
   "cell_type": "markdown",
   "metadata": {
    "cell_id": "7f8b67233614446684cbc190e99cae76",
    "deepnote_cell_type": "markdown",
    "vscode": {
     "languageId": "raw"
    }
   },
   "source": [
    "## Verification 1: Basic Simulation\n",
    "\n",
    "**Task:** Simulate the inverted pendulum with:\n",
    "- Initial state: \u03b8 = 0.15 rad, \u03b8\u0307 = 0.0 rad/s  \n",
    "- No applied torque (torque = 0.0)\n",
    "- Simulation time: 2.5 seconds\n",
    "\n",
    "**Question:** What is the angle \u03b8 at t = 2.5 seconds? (Report to 4 decimal places)\n"
   ]
  },
  {
   "cell_type": "code",
   "execution_count": null,
   "metadata": {
    "cell_id": "9241c8416a5f43498062d96ad0596bc6",
    "deepnote_cell_type": "code",
    "execution_context_id": "e378a144-d93b-498b-8d5b-dea297a7d550",
    "execution_millis": 1,
    "execution_start": 1756174687295,
    "source_hash": "b4ec98bc"
   },
   "outputs": [],
   "source": [
    "# TODO: Implement the simulation exercise"
   ]
  },
  {
   "cell_type": "markdown",
   "metadata": {
    "cell_id": "ce3a219f4eee40b287174e90a1450121",
    "deepnote_cell_type": "markdown",
    "vscode": {
     "languageId": "raw"
    }
   },
   "source": [
    "## Verification 2: With Applied Torque\n",
    "\n",
    "**Task:** Simulate the pendulum with:\n",
    "- Initial state: \u03b8 = -0.1 rad, \u03b8\u0307 = 0.2 rad/s\n",
    "- Constant applied torque: 0.5 N\u22c5m\n",
    "- Simulation time: 1.8 seconds\n",
    "\n",
    "**Question:** What is the angular velocity \u03b8\u0307 at t = 1.8 seconds? (Report to 4 decimal places)\n"
   ]
  },
  {
   "cell_type": "code",
   "execution_count": null,
   "metadata": {
    "cell_id": "12aeeafa41134d97a213fb8d5d0f9b33",
    "deepnote_cell_type": "code",
    "execution_context_id": "e378a144-d93b-498b-8d5b-dea297a7d550",
    "execution_millis": 0,
    "execution_start": 1756174687345,
    "source_hash": "e8f4d71f"
   },
   "outputs": [],
   "source": [
    "# TODO: Implement the simulation exercise"
   ]
  },
  {
   "cell_type": "markdown",
   "metadata": {
    "cell_id": "52d63ceec185460c940b8ce286293ea0",
    "deepnote_cell_type": "markdown",
    "vscode": {
     "languageId": "raw"
    }
   },
   "source": [
    "---\n",
    "\n",
    "# Congratulations!\n",
    "\n",
    "You've successfully completed **Drake Systems Fundamentals**! You've learned:\n",
    "\n",
    "1. **LeafSystem** is the base class for most custom Drake systems\n",
    "3. **Context** holds the state, time, and parameters for simulation\n",
    "2. **DiagramBuilder** connects systems into larger compositions (`Diagram`s)\n",
    "4. **Drake documentation** and **Drake tutorials** are your best friends - use them!\n",
    "\n",
    "**Next:** In Notebook 2, you'll work with real robots using `MultibodyPlant` and create your own custom assets!\n"
   ]
  }
 ],
 "metadata": {
  "deepnote_notebook_id": "c1268eef87574061aa3386ee5de00a77",
  "kernelspec": {
   "display_name": ".venv",
   "language": "python",
   "name": "python3"
  },
  "language_info": {
   "codemirror_mode": {
    "name": "ipython",
    "version": 3
   },
   "file_extension": ".py",
   "mimetype": "text/x-python",
   "name": "python",
   "nbconvert_exporter": "python",
   "pygments_lexer": "ipython3",
   "version": "3.13.7"
  }
 },
 "nbformat": 4,
 "nbformat_minor": 0
}