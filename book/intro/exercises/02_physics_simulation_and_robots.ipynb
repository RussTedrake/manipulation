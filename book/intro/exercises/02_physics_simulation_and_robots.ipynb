{
 "cells": [
  {
   "cell_type": "markdown",
   "metadata": {
    "cell_id": "6053a7585bea4131ad079b3a1a612644",
    "deepnote_cell_type": "markdown",
    "vscode": {
     "languageId": "raw"
    }
   },
   "source": [
    "# Notebook 2: Physics Simulation and Robot Loading\n",
    "\n",
    "**Learning Objectives:**\n",
    "1. Load real robots into Drake using `Parser` and pre-specified robot files (URDF, SDF, MJCF)\n",
    "2. Understand Drake's physics simulation engine (`MultibodyPlant`) and the geometry engine (`SceneGraph`)\n",
    "3.  Create custom 3D assets (your initials!) and learn `URDF` and `SDF` authoring\n",
    "4. Visualize robots, objects, and simulations using Meshcat\n",
    "5. Build complete robot simulations with custom objects in Drake\n",
    "\n",
    "**What you'll build:** A complete simulation featuring the IIWA14 robot arm interacting with your custom initials asset!\n",
    "\n",
    "---\n"
   ]
  },
  {
   "cell_type": "markdown",
   "metadata": {
    "cell_id": "dc3d115827934fd0bbde28e678581adb",
    "deepnote_cell_type": "markdown",
    "vscode": {
     "languageId": "raw"
    }
   },
   "source": [
    "## Setup and Imports\n",
    "\n",
    "Let us first import Drake functionality for physics simulation, robot loading, and visualization.\n"
   ]
  },
  {
   "cell_type": "code",
   "execution_count": null,
   "metadata": {
    "cell_id": "846005ba957b4944b371bc4fb3227806",
    "deepnote_cell_type": "code",
    "execution_context_id": "d6247577-0abd-4b9c-a41e-877bf38d3ff6",
    "execution_millis": 271,
    "execution_start": 1756174329718,
    "source_hash": "4cff9ce0"
   },
   "outputs": [],
   "source": [
    "from pathlib import Path\n",
    "\n",
    "import numpy as np\n",
    "from pydrake.all import (\n",
    "    AddMultibodyPlantSceneGraph,\n",
    "    BasicVector,\n",
    "    Context,\n",
    "    Diagram,\n",
    "    DiagramBuilder,\n",
    "    LeafSystem,\n",
    "    MeshcatVisualizer,\n",
    "    ModelInstanceIndex,\n",
    "    MultibodyPlant,\n",
    "    Parser,\n",
    "    RigidTransform,\n",
    "    SceneGraph,\n",
    "    Simulator,\n",
    "    StartMeshcat,\n",
    ")\n",
    "from pydrake.visualization import ModelVisualizer\n",
    "\n",
    "from manipulation import running_as_notebook\n",
    "from manipulation.exercises.grader import Grader\n",
    "from manipulation.exercises.intro.test_physics_simulation_and_robots import (\n",
    "    TestPhysicsSimulationDiagramStructure,\n",
    "    TestPhysicsSimulationSimpleController,\n",
    "    TestPhysicsSimulationVerification,\n",
    ")\n",
    "from manipulation.letter_generation import create_sdf_asset_from_letter\n",
    "from manipulation.utils import RenderDiagram"
   ]
  },
  {
   "cell_type": "markdown",
   "metadata": {
    "cell_id": "90fae314140448de907de0bd3d643ca4",
    "deepnote_cell_type": "markdown",
    "vscode": {
     "languageId": "raw"
    }
   },
   "source": [
    "## Meshcat Visualization\n",
    "\n",
    "Before we start, let us set up Meshcat, our visualization tool.\n",
    "\n",
    "**Meshcat** is Drake's primary 3D visualization tool that runs in your web browser. It provides real-time interactive visualization of robots, objects, and simulation environments. Meshcat lets you:\n",
    "\n",
    "- **Visualize 3D robots and scenes** with proper geometry and textures\n",
    "- **View simulations in real-time** as they run\n",
    "- **Interact with the 3D scene** (rotate, zoom, pan) \n",
    "- **Record videos** for homework submissions\n",
    "- **Debug your simulations** by seeing what's actually happening\n",
    "\n",
    "You will find yourself frequently using meshcat to visualize and debug your code!\n"
   ]
  },
  {
   "cell_type": "code",
   "execution_count": null,
   "metadata": {
    "cell_id": "13eb6f0bfb044994be705527586611f9",
    "deepnote_cell_type": "code",
    "execution_context_id": "d6247577-0abd-4b9c-a41e-877bf38d3ff6",
    "execution_millis": 0,
    "execution_start": 1756174330039,
    "source_hash": "2db78147"
   },
   "outputs": [],
   "source": [
    "# Start meshcat for visualization\n",
    "meshcat = StartMeshcat()\n",
    "print(f\"Meshcat URL: {meshcat.web_url()}\")"
   ]
  },
  {
   "cell_type": "markdown",
   "metadata": {
    "cell_id": "8a2f47dbcd4642f69ab28fc6f39d73c2",
    "deepnote_cell_type": "markdown"
   },
   "source": [
    "**Click the link above to open Meshcat in your browser! We will use the same Meshcat window throughout this notebook, so keep it open!**"
   ]
  },
  {
   "cell_type": "markdown",
   "metadata": {
    "cell_id": "1dedb2db48284b0e8e2f0eee54ab0f22",
    "deepnote_cell_type": "markdown",
    "vscode": {
     "languageId": "raw"
    }
   },
   "source": [
    "---\n",
    "\n",
    "## Part 1: Loading the IIWA14 Robot\n",
    "\n",
    "First, let's load a real robot! The **IIWA14** is a 7-DOF industrial robot arm from KUKA. Drake includes many robot models that you can load directly from Drake, which is what we will do in this part.\n",
    "\n",
    "**YOUR TASK:** Load and visualize the IIWA14 robot using Drake's physics engine.\n",
    "\n",
    "**Key Concepts:**\n",
    "- `Parser`: Loads robots from robot description files (like URDF/SDF/MJCF) files into the physics engine\n",
    "- `MultibodyPlant`: Drake's main physics simulation engine for robots and objects. This will be the backbone for all of our simulations.\n",
    "- `SceneGraph`: Drake's module for handling everything related to registering robot and object geometries, handling geometry queries, collision detection, etc.\n",
    "- **Base Welding**: Fixing the robot base to the world frame is important so it doesn't fall!\n",
    "\n",
    "**Reference:** For this part, we will closely follow the [Drake Simulation example](https://deepnote.com/workspace/Drake-0b3b2c53-a7ad-441b-80f8-bf8350752305/project/Tutorials-2b4fc509-aef2-417d-a40d-6071dfed9199/notebook/simulation-1ba6290623e34dbbb9d822a2180187c1) from [Chapter 2](https://manipulation.csail.mit.edu/robot.html) from the class textbook - in this part we will follow the **\"Simulating the (passive) iiwa\"** and **\"Visualizing the scene\"** sections closely. You should skim through those before you start the implementations below!"
   ]
  },
  {
   "cell_type": "code",
   "execution_count": null,
   "metadata": {
    "cell_id": "5dd41798682e41baa7d1e9ecbf3671b4",
    "deepnote_cell_type": "code",
    "execution_context_id": "d6247577-0abd-4b9c-a41e-877bf38d3ff6",
    "execution_millis": 7515,
    "execution_start": 1756174330098,
    "source_hash": "f458e582"
   },
   "outputs": [],
   "source": [
    "# TODO: Load and visualize the IIWA14 robot\n",
    "\n",
    "\n",
    "def create_IIWA14_diagram():\n",
    "    \"\"\"Load the IIWA14 robot and set up visualization.\"\"\"\n",
    "\n",
    "    # HINT: Look at the Drake Simulation Example above, section \"Visualizing the scene\"\n",
    "    # TODO: Create a DiagramBuilder\n",
    "\n",
    "    # TODO: Add MultibodyPlant and SceneGraph, with a time_step of 1e-4\n",
    "    # HINT: There is a helper function that does this for you,\n",
    "    #       it creates both systems and wires them together automatically.\n",
    "\n",
    "    # TODO: Create a Parser to load robot models\n",
    "    # NOTE: In the Drake Simulation Example above, the parser is immediately used and thrown away,\n",
    "    # whereas we will store it to show you how to use it for adding multiple models to the plant.\n",
    "\n",
    "    # TODO: Use the parser to add an IIWA14 model from Drake's model database.\n",
    "    # HINT: The IIWA14 model in the tutorial has no collision geometry, so let us instead load\n",
    "    #       a model with collision geometry:\n",
    "    #       \"package://drake_models/iiwa_description/urdf/iiwa14_primitive_collision.urdf\"\n",
    "    # HINT: Notice that the parser method `AddModelsFromUrl` returns a list of references\n",
    "    #       to the loaded models (in this case a list of length 1). We will need to store\n",
    "    #       the reference to the iiwa model, so make sure to store the first element of\n",
    "    #       the list as the variable `iiwa`.\n",
    "    #       (Technically, the reference is of the type `ModelInstanceIndex`,\n",
    "    #       but don't worry about that for now).\n",
    "\n",
    "    # TODO: Weld the robot base (\"iiwa_link_0\") to the world frame\n",
    "\n",
    "    # TODO: Add MeshcatVisualizer to the builder and connect it to SceneGraph\n",
    "\n",
    "    # TODO: Finalize the plant (required before simulation)\n",
    "\n",
    "    # TODO: Build the complete diagram\n",
    "\n",
    "    # TODO: Uncomment this line when you have implemented the function\n",
    "    # return diagram, plant, iiwa\n",
    "\n",
    "    return None, None, None  # Remove this line when you have implemented the function\n",
    "\n",
    "\n",
    "diagram, plant, iiwa = create_IIWA14_diagram()"
   ]
  },
  {
   "cell_type": "markdown",
   "metadata": {},
   "source": [
    "Test your code with the block below:"
   ]
  },
  {
   "cell_type": "code",
   "execution_count": null,
   "metadata": {},
   "outputs": [],
   "source": [
    "Grader.grade_output([TestPhysicsSimulationDiagramStructure], [locals()], \"results.json\")\n",
    "Grader.print_test_results(\"results.json\")"
   ]
  },
  {
   "cell_type": "markdown",
   "metadata": {
    "cell_id": "cf442510db744eb09c638cd3eaef0237",
    "deepnote_cell_type": "markdown"
   },
   "source": [
    "**Let us also visualize the block diagram, so you can have a look at the whole setup!**\n",
    "\n",
    "- Notice that `MultibodyPlant`, `SceneGraph`, and `MeshcatVisualizer` are all systems in the block diagram.\n",
    "- Make sure to have a look at the connections between the ports of the systems!"
   ]
  },
  {
   "cell_type": "code",
   "execution_count": null,
   "metadata": {
    "cell_id": "38b07bb04d934307925b23175ec0cead",
    "deepnote_cell_type": "code",
    "execution_context_id": "d6247577-0abd-4b9c-a41e-877bf38d3ff6",
    "execution_millis": 237,
    "execution_start": 1756174337668,
    "source_hash": "92a704da"
   },
   "outputs": [],
   "source": [
    "RenderDiagram(diagram, max_depth=1)"
   ]
  },
  {
   "cell_type": "markdown",
   "metadata": {
    "cell_id": "b8c0dbb698b047478f28263c7b48212a",
    "deepnote_cell_type": "markdown"
   },
   "source": [
    "Let us also make a default context for the diagram, and have a look at it, just so we have a sense of what is going on!\n",
    "\n",
    "**Reminder:** Remember that the context stores the \"entire state\", or all the dynamical information, of everything in the diagram, such as dynamical states of each system, simulation time, etc."
   ]
  },
  {
   "cell_type": "code",
   "execution_count": null,
   "metadata": {
    "cell_id": "a9813b65d6c947c89f6c1117b972cb68",
    "deepnote_cell_type": "code",
    "execution_context_id": "d6247577-0abd-4b9c-a41e-877bf38d3ff6",
    "execution_millis": 1,
    "execution_start": 1756174337968,
    "source_hash": "cf9dc678"
   },
   "outputs": [],
   "source": [
    "# HINT: You already learned how to do this in the first notebook!\n",
    "# TODO: Create a context for the diagram\n",
    "\n",
    "# TODO: Print the context"
   ]
  },
  {
   "cell_type": "markdown",
   "metadata": {
    "cell_id": "1ec143bcc250477d91436559b0b98ef7",
    "deepnote_cell_type": "markdown"
   },
   "source": [
    "Whoa! There is now a lot of information in the context. Let us just print the context for the plant.\n",
    "\n",
    "(**HINT:** Remember that for a given `system` and a diagram context, we can retrive the system context using `system.GetMyContextFromRoot(diagram_context)`)\n",
    "\n",
    "- How many (normal) states are there for the plant? Does this match your expectation (think of how many DOFs the IIWA14 has)?"
   ]
  },
  {
   "cell_type": "code",
   "execution_count": null,
   "metadata": {
    "cell_id": "73548e18d5ae4d1192cef695ceab4224",
    "deepnote_cell_type": "code",
    "execution_context_id": "d6247577-0abd-4b9c-a41e-877bf38d3ff6",
    "execution_millis": 1,
    "execution_start": 1756174338028,
    "source_hash": "5911457f"
   },
   "outputs": [],
   "source": [
    "# TODO: Get the context of the plant from the diagram_context\n",
    "# HINT: This is important!\n",
    "#       Use the method plant.GetMyContextFromRoot(diagram_context),\n",
    "#       similar to what you did for the pendulum in the first notebook!\n",
    "\n",
    "# TODO: Print the plant context"
   ]
  },
  {
   "cell_type": "markdown",
   "metadata": {
    "cell_id": "fd0b93e0f3d94d6aa2e0b78c635d8f0d",
    "deepnote_cell_type": "markdown"
   },
   "source": [
    "---\n",
    "\n",
    "## Part 2: Simulating (just) the IIWA14 \n",
    "\n",
    "Great job loading the IIWA14 into Drake!\n",
    "\n",
    "Now, let us set some initial conditions and simulate the system (that so far only involves an IIWA). Make sure to look at the meshcat visualization when you simulate!\n",
    "\n",
    "**Reference:** For this part, we keep looking at the [Drake Simulation example](https://deepnote.com/workspace/Drake-0b3b2c53-a7ad-441b-80f8-bf8350752305/project/Tutorials-2b4fc509-aef2-417d-a40d-6071dfed9199/notebook/simulation-1ba6290623e34dbbb9d822a2180187c1)."
   ]
  },
  {
   "cell_type": "code",
   "execution_count": null,
   "metadata": {
    "cell_id": "a4c0838b084647b4b32c733b4538c45f",
    "deepnote_cell_type": "code",
    "execution_context_id": "d6247577-0abd-4b9c-a41e-877bf38d3ff6",
    "execution_millis": 0,
    "execution_start": 1756174338079,
    "source_hash": "c4348017"
   },
   "outputs": [],
   "source": [
    "# TODO: Implement robot simulation using your create_IIWA14_diagram function\n",
    "\n",
    "\n",
    "def simulate_IIWA14(q0, simulation_time=3.0, set_target_realtime_rate=True):\n",
    "    \"\"\"Simulate the IIWA14 robot with given initial joint positions.\"\"\"\n",
    "\n",
    "    # HINT: You already learned how to do much of this in the first notebook!\n",
    "\n",
    "    # TODO: Use your create_IIWA14_diagram function to create the simulation\n",
    "\n",
    "    # TODO: Create a diagram context\n",
    "\n",
    "    # HINT: Look at the Simulation example above, section \"Visualizing the scene\"\n",
    "    # TODO: Get the plant's context from the diagram context\n",
    "    # HINT: This is important! The plant context is a subset of the diagram context,\n",
    "    #       and we only want to modify the plant context to set the initial joint positions.\n",
    "    # HINT: Before, we used `GetMyContextFromRoot`, but now we want to modify the context,\n",
    "    #       so we need to use `GetMyMutableContextFromRoot` (which returns a mutable context).\n",
    "\n",
    "    # TODO: Set the initial joint positions of the robot (in radians)\n",
    "\n",
    "    # TODO: Set actuator inputs to zero (for passive simulation)\n",
    "    # HINT: Look at the Drake Simulation example above, and use the same method to set the actuator inputs to zero.\n",
    "    # HINT: IIWA14 has 7 joints, so we need to pass a vector of 7 torque values\n",
    "\n",
    "    # TODO: Create a simulator\n",
    "\n",
    "    # TODO: Set real-time rate for visualization (so you can see what's happening)\n",
    "    # if set_target_realtime_rate:\n",
    "    # HINT: use simulator.set_target_realtime_rate(1.0)\n",
    "\n",
    "    # TODO: Run the simulation\n",
    "\n",
    "    # TODO: Return final joint positions\n",
    "    # HINT: Before, we showed you how to use a logger to record the history of the system output.\n",
    "    #       Now, we just want to get the final joint positions of the robot, so we can use the method\n",
    "    #       `plant.GetPositions(plant_context)` (**after** the simulation is done) to get the final joint positions.\n",
    "\n",
    "    pass"
   ]
  },
  {
   "cell_type": "markdown",
   "metadata": {
    "cell_id": "77353707643c4d17a30d9ef2ab828c5f",
    "deepnote_cell_type": "markdown"
   },
   "source": [
    "Okay! If everything is working as expected, we should now be able to simulate our system. Let us try by running the code below (if everything is working correctly, you should see the IIWA14 swinging passively in your meshcat window).\n"
   ]
  },
  {
   "cell_type": "code",
   "execution_count": null,
   "metadata": {
    "cell_id": "130c13a59c9e441f88eb020363fbbb4a",
    "deepnote_cell_type": "code",
    "execution_context_id": "d6247577-0abd-4b9c-a41e-877bf38d3ff6",
    "execution_millis": 20710,
    "execution_start": 1756174338358,
    "source_hash": "62d6b950"
   },
   "outputs": [],
   "source": [
    "# Test your implementation\n",
    "q_initial = np.array([0, 0, 0, 0, 0, 0, 0])\n",
    "\n",
    "print(\"Starting robot simulation...\")\n",
    "print(f\"Check your Meshcat window ({meshcat.web_url()}) to see the robot simulation!\")\n",
    "print(\"     - If the robot is not moving, the simulation already finished.\")\n",
    "print(\n",
    "    \"     - Try running this cell again (or increase the simulation time), with the meshcat window open!\"\n",
    ")\n",
    "q_final = simulate_IIWA14(\n",
    "    q_initial, simulation_time=20.0 if running_as_notebook else 0.1\n",
    ")\n",
    "\n",
    "print(\"Robot simulation completed!\")\n",
    "print(f\"   Initial joint positions: {q_initial}\")\n",
    "print(f\"   Final joint positions: {q_final}\")"
   ]
  },
  {
   "cell_type": "markdown",
   "metadata": {
    "cell_id": "ba47852d3d944a1c9764e0b17ca5ad9e",
    "deepnote_cell_type": "markdown"
   },
   "source": [
    "Okay, that worked. However, the IIWA is just swinging passively. Let us write a simple controller that can at least (almost) keep the IIWA at a desired position! We will implement our (very simple) controller as a `LeafSystem`, as in the first notebook. Note that Drake implements many sophisticated controllers for you, and that you would typically want to use one of those or write a better controller. Here we will write a very simple (and stupid) controller on our own, just for the sake of learning how to connect a custom `LeafSystem` to the `MultibodyPlant`!"
   ]
  },
  {
   "cell_type": "code",
   "execution_count": null,
   "metadata": {
    "cell_id": "0f419eb61ca940b8b31d6d6184a263a0",
    "deepnote_cell_type": "code",
    "execution_context_id": "d6247577-0abd-4b9c-a41e-877bf38d3ff6",
    "execution_millis": 1,
    "execution_start": 1756174359118,
    "source_hash": "456932d5"
   },
   "outputs": [],
   "source": [
    "class SimpleController(LeafSystem):\n",
    "    def __init__(self, gain: float, q_desired: np.ndarray):\n",
    "        # TODO: Define a LeafSystem with 14 inputs (IIWA state, i.e. 7 positions + 7 velocities)\n",
    "        #       and 7 outputs (IIWA joint torques). The output should be\n",
    "        #       computed by the method `ComputeTorque`.\n",
    "        # HINT: You know how to do all of this from the first notebook!\n",
    "        pass\n",
    "\n",
    "    def ComputeTorque(self, context, output):\n",
    "        # TODO: Implement a simple controller with the given gain, that\n",
    "        #       outputs the torque as `tau = -gain * (q - q_desired)`.\n",
    "        # HINT: You need to extract the first 7 elements from the state as\n",
    "        #       the joint positions `q`.\n",
    "        # HINT: You know how to do the rest of this from the first notebook!\n",
    "        pass"
   ]
  },
  {
   "cell_type": "markdown",
   "metadata": {},
   "source": [
    "Run the code below to test your implementation:"
   ]
  },
  {
   "cell_type": "code",
   "execution_count": null,
   "metadata": {
    "cell_id": "f96225bd663e47458d83aa50dc5fc586",
    "deepnote_cell_type": "code",
    "execution_context_id": "d6247577-0abd-4b9c-a41e-877bf38d3ff6",
    "execution_millis": 1,
    "execution_start": 1756174359168,
    "source_hash": "d209473e"
   },
   "outputs": [],
   "source": [
    "Grader.grade_output([TestPhysicsSimulationSimpleController], [locals()], \"results.json\")\n",
    "Grader.print_test_results(\"results.json\")"
   ]
  },
  {
   "cell_type": "code",
   "execution_count": null,
   "metadata": {
    "cell_id": "e8c9514ceb0c442092729dc63da01012",
    "deepnote_cell_type": "code",
    "execution_context_id": "d6247577-0abd-4b9c-a41e-877bf38d3ff6",
    "execution_millis": 1,
    "execution_start": 1756174359218,
    "source_hash": "979cb557"
   },
   "outputs": [],
   "source": [
    "# TODO: Load and visualize the IIWA14 robot and connect your controller\n",
    "\n",
    "\n",
    "def create_IIWA14_diagram_with_controller(\n",
    "    controller_gain: float, q_desired: np.ndarray\n",
    "):\n",
    "    # TODO: Build a diagram with the IIWA and your controller. This\n",
    "    #       should be mostly the same as your create_IIWA14_diagram function,\n",
    "    #       but with the controller connected to the IIWA.\n",
    "\n",
    "    # TODO: Create a diagram builder, add a multibody plant and a scene graph to it,\n",
    "    #       create a parser, load the IIWA, weld the base.\n",
    "\n",
    "    # TODO: Call plant.Finalize() before you start connecting the controller!\n",
    "\n",
    "    # TODO: create a controller with the provided function arguments\n",
    "\n",
    "    # TODO: Connect the state output port for the IIWA from the plant to the input of the controller\n",
    "    # HINT: Use the `plant.get_state_output_port(iiwa)` to get the state port for the IIWA,\n",
    "    #       and `controller.{YOUR_INPUT_PORT_NAME}` to get the input port for the controller,\n",
    "    #       where `iiwa` is the reference to the IIWA model you got from the parser.\n",
    "\n",
    "    # TODO: Connect the output of the controller to the actuation input port of the plant\n",
    "    # HINT: Use the `controller.{YOUR_OUTPUT_PORT_NAME}` to get the output port for the controller,\n",
    "    #       and `plant.get_actuation_input_port(iiwa)` to get the actuation input port for the plant.\n",
    "\n",
    "    # TODO: Connect the visualizer, finalize the plant, build the diagram.\n",
    "    return None, None, None"
   ]
  },
  {
   "cell_type": "markdown",
   "metadata": {
    "cell_id": "4a200aa2f6064679a4d9e2aa6d1b8904",
    "deepnote_cell_type": "markdown"
   },
   "source": [
    "Let us print the diagram to make sure that the connections are as expected. Make sure the the output port `iiwa14_state` from the `MultibodyPlant` system is connect to the input port of the controller, and that the output port of the controller is connected to `iiwa14_actuation` in `MultibodyPlant`!"
   ]
  },
  {
   "cell_type": "code",
   "execution_count": null,
   "metadata": {
    "cell_id": "609ef1eb486f4337ad4deefa66c2adbb",
    "deepnote_cell_type": "code",
    "execution_context_id": "d6247577-0abd-4b9c-a41e-877bf38d3ff6",
    "execution_millis": 54,
    "execution_start": 1756174359498,
    "source_hash": "3bca6051"
   },
   "outputs": [],
   "source": [
    "RenderDiagram(\n",
    "    create_IIWA14_diagram_with_controller(10.0, np.array([1, 1, 0, 0, 0, 0, 0]))[0],\n",
    "    max_depth=1,\n",
    ")"
   ]
  },
  {
   "cell_type": "markdown",
   "metadata": {
    "cell_id": "2fb120f62c5d4256a6eb2f6d5a61471f",
    "deepnote_cell_type": "markdown"
   },
   "source": [
    "Almost there! Now, just implement the `simulate_IIWA14` function again, but this time use your newly defined function `create_IIWA14_diagram_with_controller`:"
   ]
  },
  {
   "cell_type": "code",
   "execution_count": null,
   "metadata": {
    "cell_id": "92c59a5e703d425d86d8fba97be74578",
    "deepnote_cell_type": "code",
    "execution_context_id": "d6247577-0abd-4b9c-a41e-877bf38d3ff6",
    "execution_millis": 1,
    "execution_start": 1756174359598,
    "source_hash": "de3e2d54"
   },
   "outputs": [],
   "source": [
    "# TODO: Implement robot simulation using your create_IIWA14_diagram_with_controller function\n",
    "\n",
    "\n",
    "def simulate_IIWA14_with_controller(\n",
    "    q0: np.ndarray,\n",
    "    controller_gain: float,\n",
    "    q_desired: np.ndarray,\n",
    "    simulation_time=3.0,\n",
    "    set_target_realtime_rate=True,\n",
    "):\n",
    "\n",
    "    pass"
   ]
  },
  {
   "cell_type": "markdown",
   "metadata": {
    "cell_id": "f95cd956c69b415e8e5ff1e942b2bde7",
    "deepnote_cell_type": "markdown"
   },
   "source": [
    "Amazing! Now let us run a simulation. How high do you have to set the gain to make the IIWA keep its starting configuration?"
   ]
  },
  {
   "cell_type": "code",
   "execution_count": null,
   "metadata": {
    "cell_id": "cb586f5b7c804de58ce93ba92649bf6d",
    "deepnote_cell_type": "code",
    "execution_context_id": "d6247577-0abd-4b9c-a41e-877bf38d3ff6",
    "execution_millis": 14967,
    "execution_start": 1756174359868,
    "source_hash": "9f8cfff2"
   },
   "outputs": [],
   "source": [
    "# Test your implementation\n",
    "q_initial = np.array([0, 1.0, 0.3, 0.7, 0, 0, 0])\n",
    "\n",
    "print(\"Starting robot simulation...\")\n",
    "print(f\"Check your Meshcat window ({meshcat.web_url()}) to see the robot simulation!\")\n",
    "print(\"     - If the robot is not moving, the simulation already finished.\")\n",
    "print(\n",
    "    \"     - Try running this cell again (or increase the simulation time), with the meshcat window open!\"\n",
    ")\n",
    "q_final = simulate_IIWA14_with_controller(\n",
    "    q_initial,\n",
    "    controller_gain=10,\n",
    "    q_desired=q_initial,\n",
    "    simulation_time=15 if running_as_notebook else 0.1,\n",
    "    set_target_realtime_rate=running_as_notebook,\n",
    ")\n",
    "\n",
    "print(\"\u2705 Robot simulation completed!\")\n",
    "print(f\"   Initial joint positions: {q_initial}\")\n",
    "print(f\"   Final joint positions: {q_final}\")"
   ]
  },
  {
   "cell_type": "markdown",
   "metadata": {
    "cell_id": "8ac55543c1b44651a8c8832f0e6a725d",
    "deepnote_cell_type": "markdown"
   },
   "source": [
    "**NOTE:** You will notice that this controller does not work very well. That is because we are only using a simple proportional controller (a \"P-controller\"), which only inputs a multiple of the tracking error. The purpose of this exercise is to teach you how to use Drake, but we will soon learn about much better control methods!"
   ]
  },
  {
   "cell_type": "markdown",
   "metadata": {
    "cell_id": "eb003c16a8c24944a145690fc5c4f8a7",
    "deepnote_cell_type": "markdown"
   },
   "source": [
    "### VERIFICATION IN GRADESCOPE\n",
    "\n",
    "Simulate your system with the following values, and copy/paste the final joint positions of the IIWA14:\n",
    "- initial positions: $[0.2, 0.2, 0.2, 0, 0, 0, 0]$\n",
    "- q_desired: $[0, 0, 0, 0, 0, 0, 0]$\n",
    "- Controller gain: $120.0$\n",
    "- Simulation time: $10 s$\n",
    "\n"
   ]
  },
  {
   "cell_type": "code",
   "execution_count": null,
   "metadata": {
    "cell_id": "effbff404fda4946a8f7300be08afbba",
    "deepnote_cell_type": "code",
    "execution_context_id": "d6247577-0abd-4b9c-a41e-877bf38d3ff6",
    "execution_millis": 9948,
    "execution_start": 1756174375128,
    "source_hash": "a102719d"
   },
   "outputs": [],
   "source": [
    "# TODO: Simulate the IIWA14 with the specified initial conditions and simulation time"
   ]
  },
  {
   "cell_type": "markdown",
   "metadata": {
    "cell_id": "14b5908bed124da2b0e3efd83687cc70",
    "deepnote_cell_type": "markdown",
    "vscode": {
     "languageId": "raw"
    }
   },
   "source": [
    "---\n",
    "\n",
    "## Part 3: Creating Custom Models with SDFormat\n",
    "\n",
    "Let's learn how to create custom objects for simulation! In the previous two parts, we used a predefined SDFormat(`.sdf`) file to load the IIWA14. We'll now create a simple table from scratch using the same format, then we will use a provided API to generate more complicated assets (your own initials), and show you how to load both into your simulation.\n",
    "\n",
    "**YOUR TASK:** \n",
    "1. Create a simple SDFormat model for a simple table from scratch\n",
    "2. Use the provided API to generate URDF files for your initials\n",
    "\n",
    "**Key Concepts:**\n",
    "- `URDF` and `SDF`: Two commonly used (and very similar) XML formats to describe robots and objects for simulation\n",
    "- **Visual Geometry**: What you see in visualization (can be detailed)\n",
    "- **Collision Geometry**: What physics engine uses for contact (should be simple)\n",
    "- **Inertial Properties**: Mass and inertia for realistic physics behavior\n",
    "\n",
    "**Reference:** For this part, we will be using the [Authoring a Multibody Simulation Tutorial](https://github.com/RobotLocomotion/drake/blob/master/tutorials/authoring_multibody_simulation.ipynb) - this part follows the **\"Creating custom models\"** section closely, where the tutorial shows how to create a cylinder model from an SDFormat string. You should skim through this section before you start the implementation below!\n"
   ]
  },
  {
   "cell_type": "markdown",
   "metadata": {
    "cell_id": "4c8e9af675ff4130820288863eed3954",
    "deepnote_cell_type": "markdown",
    "vscode": {
     "languageId": "raw"
    }
   },
   "source": [
    "#### Step 1: Write the SDF file for a simple \"table\" from scratch\n",
    "\n",
    "URDF and SDF files are not magic, and are in fact quite simple. Here you will write the SDF file for a simple \"table\" from scratch as an SDF file, showing you how to create your own assets in the future.\n",
    "\n",
    "In the following cell we will define the SDF string in the code to make the homework cleaner, but usually these are saved to separate `.sdf` files that can be loaded into Drake. \n",
    "\n",
    "**WARNING:** The SDFormat is sensitive to indentation, so make sure to refer to the tutorial for how to indent things!\n"
   ]
  },
  {
   "cell_type": "code",
   "execution_count": null,
   "metadata": {
    "cell_id": "e4cc896f4765409fa05693a9e399dd6a",
    "deepnote_cell_type": "code",
    "execution_context_id": "d6247577-0abd-4b9c-a41e-877bf38d3ff6",
    "execution_millis": 1,
    "execution_start": 1756174385128,
    "source_hash": "1e516ef4"
   },
   "outputs": [],
   "source": [
    "# TODO: Create a simple SDFormat string for a \"table\" (a single, flat box will suffice).\n",
    "# HINT: Follow the cylinder example from the tutorial closely!\n",
    "# NOTE: We will later use this as a table to place your initials on top of it,\n",
    "#       so make sure to make it large enough!\n",
    "# HINT: Some good dimensions are: 2m x 2m x 0.1m\n",
    "# HINT: You can assume mass 1 kg, and then look up the inertia tensor for a box in the internet\n",
    "#       (there are plenty of calculators out there, and it doesn't have to be perfect)\n",
    "table_sdf = \"\"\"<?xml version=\"1.0\"?>\n",
    "\"\"\""
   ]
  },
  {
   "cell_type": "markdown",
   "metadata": {
    "cell_id": "9ed960899f694b018a8a8a199ea107ad",
    "deepnote_cell_type": "markdown",
    "vscode": {
     "languageId": "raw"
    }
   },
   "source": [
    "Great! If everything went as expected, we should now be able to visualize our custom asset. We will visualize it using Drake's built in `ModelVisualizer`, as illustrated in the tutorial (section \"Creating Custom Models\"). After writing the visualization code below, you should be able to see your table in the same Meshcat window as before!\n",
    "\n",
    "**Note:** Make sure to click \"Open Controls -> Stop Running\" in MeshCat when you're done viewing (you will still be able to see the box, even though the visualization has stopped).\n"
   ]
  },
  {
   "cell_type": "code",
   "execution_count": null,
   "metadata": {
    "cell_id": "6a784c94fc4d44f7b927df5085d732c9",
    "deepnote_cell_type": "code",
    "execution_context_id": "d6247577-0abd-4b9c-a41e-877bf38d3ff6",
    "execution_millis": 28826467,
    "execution_start": 1756174385293,
    "source_hash": "9739121f"
   },
   "outputs": [],
   "source": [
    "print(f\"Meshcat URL: {meshcat.web_url()}\")\n",
    "# HINT: Follow the authoring tutorial's example for visualizing the cylinder!\n",
    "# TODO: Create a ModelVisualizer instance\n",
    "\n",
    "# TODO: Load your table_sdf string into the visualizer\n",
    "\n",
    "# TODO: Run the visualizer to see your box in Meshcat\n",
    "# NOTE: The tutorial uses `Run(loop_once=False)`, but you can just omit the argument.\n",
    "\n",
    "# Make sure to click \"Open Controls -> Stop Running\" in MeshCat when you're done viewing"
   ]
  },
  {
   "cell_type": "markdown",
   "metadata": {
    "cell_id": "5a8581a0506c4e6596105e6a37c97493",
    "deepnote_cell_type": "markdown",
    "vscode": {
     "languageId": "raw"
    }
   },
   "source": [
    "#### Step 2: Create a custom asset with your initials\n",
    "\n",
    "In this step, you will create a custom asset from your initials. For this we have provided a library for you that generates `.sdf` files for a given letter, but the structure of the underlying files look exactly like the code snippet you wrote above for the simple table!\n",
    "\n",
    "Here we have provided you with the code you need to run (it might take up to ~30 seconds to finish creating the letter files!). Feel free to change the font, the size and the extrusion depth!\n"
   ]
  },
  {
   "cell_type": "code",
   "execution_count": null,
   "metadata": {
    "cell_id": "51f8bba530614b4b813d684e8a7f46d3",
    "deepnote_cell_type": "code",
    "execution_context_id": "d6247577-0abd-4b9c-a41e-877bf38d3ff6",
    "execution_millis": 24970,
    "execution_start": 1756203211819,
    "source_hash": "75930859"
   },
   "outputs": [],
   "source": [
    "# The `work` directory in Deepnote contains all the files you see under the `Files`\n",
    "# tab on the left (this is just a Deepnote specific thing).\n",
    "# We will store the generated files in the `assets/` folder in the `Files` menu on the left!\n",
    "output_dir = Path(\"work/assets/\")\n",
    "\n",
    "# TODO: Insert your initials here!\n",
    "your_initials = \"BPG\"\n",
    "\n",
    "for letter in your_initials:\n",
    "    create_sdf_asset_from_letter(\n",
    "        text=letter,\n",
    "        font_name=\"Arial\",\n",
    "        letter_height_meters=0.2,\n",
    "        extrusion_depth_meters=0.07,\n",
    "        output_dir=output_dir / f\"{letter}_model\",\n",
    "    )"
   ]
  },
  {
   "cell_type": "markdown",
   "metadata": {
    "cell_id": "6f7eca99dc0f444bb6c18fb2613ca75e",
    "deepnote_cell_type": "markdown"
   },
   "source": [
    "Great. Now, before we move on, you should have a look at the files that have been generated in the \"file\" section on the left under the folder named `assets/`, which looks like the following for a general `letter`:\n",
    "\n",
    "```\n",
    "{letter}_model/\n",
    "\u251c\u2500\u2500 {letter}_parts/\n",
    "\u2502   \u251c\u2500\u2500 convex_piece_000.obj\n",
    "\u2502   \u251c\u2500\u2500 convex_piece_001.obj\n",
    "\u2502   \u251c\u2500\u2500 convex_piece_002.obj\n",
    "\u2502   \u2514\u2500\u2500 ... (more convex mesh files)\n",
    "\u251c\u2500\u2500 {letter}.obj\n",
    "\u2514\u2500\u2500 {letter}.sdf\n",
    "```\n",
    "\n",
    "For instance, for the letter `A`, it looks like:\n",
    "\n",
    "```\n",
    "A_model/\n",
    "\u251c\u2500\u2500 A_parts/\n",
    "\u2502   \u251c\u2500\u2500 convex_piece_000.obj\n",
    "\u2502   \u251c\u2500\u2500 convex_piece_001.obj\n",
    "\u2502   \u251c\u2500\u2500 convex_piece_002.obj\n",
    "\u2502   \u2514\u2500\u2500 ... (more convex mesh files)\n",
    "\u251c\u2500\u2500 A.obj\n",
    "\u2514\u2500\u2500 A.sdf\n",
    "```\n",
    "\n",
    "The `.obj` file described the overall 3D mesh of the letter, and the `convex_piece_XXX.obj` files describe convex parts of the mesh for a letter: these are just text files that contain a list of vertices and faces. Try to open open one of them and see for yourself (click the \"Open in raw mode\" button in Deepnote to see the textfile!) \n",
    "\n",
    "The `.sdf` file contains the asset description for each individual letter, which links to the overall `.obj` file for the visual geometry, and the convex `.obj` files for the collision geometry (where each mesh part must be convex, which is why we generate multiple parts for each letter!).\n"
   ]
  },
  {
   "cell_type": "markdown",
   "metadata": {
    "cell_id": "a6d2aad496c943cf821ac2520adfdda8",
    "deepnote_cell_type": "markdown"
   },
   "source": [
    "Okay, great! Now that we have generated the letters, let us use Drake's `ModelVisualizer` and have a look at them! Fill in the missing code below, and make sure that the letters you generated look good.\n",
    "\n",
    "**NOTE**: By clicking on `Scene > drake` you can enable visualization of `inertia` and `proximity` (collision geometry), which lets you see the physical properties of the asset too. This can be very handy when debugging!"
   ]
  },
  {
   "cell_type": "code",
   "execution_count": null,
   "metadata": {
    "cell_id": "8604471280094c51963630849f64937d",
    "deepnote_cell_type": "code",
    "deepnote_to_be_reexecuted": true,
    "execution_context_id": "3b130765-f3fd-4fae-b2ed-4af4a6a29919",
    "execution_millis": 3137,
    "execution_start": 1755548124839,
    "source_hash": "b6dbd47c"
   },
   "outputs": [],
   "source": [
    "print(f\"Meshcat URL: {meshcat.web_url()}\")\n",
    "\n",
    "# TODO: Change this to visualize the individual letters in your initials\n",
    "letter_to_visualize = \"P\"  # One at a time!\n",
    "\n",
    "# This is the path to the SDF file for the letter\n",
    "letter_path = f\"work/assets/{letter_to_visualize}_model/{letter_to_visualize}.sdf\"\n",
    "\n",
    "# TODO: Define a ModelVisualizer instance\n",
    "# HINT: You know how to do this by now!\n",
    "\n",
    "# TODO: Load the letter into the visualizer using the parser\n",
    "# HINT: You can just pass the path to the letter file to the parser\n",
    "\n",
    "# TODO: Run the visualizer"
   ]
  },
  {
   "cell_type": "markdown",
   "metadata": {
    "cell_id": "48f067b86e5e4035bf31f19878ae83ce",
    "deepnote_cell_type": "markdown",
    "vscode": {
     "languageId": "raw"
    }
   },
   "source": [
    "---\n",
    "\n",
    "## Part 4: Complete Simulation - Robot + Your Custom Asset\n",
    "\n",
    "**The Grand Finale!** Now we'll combine everything you've learned to create a complete simulation with both the IIWA14 robot and your custom initials asset!\n",
    "\n",
    "**YOUR TASK:** Build a physics simulation containing:\n",
    "1. **IIWA14 robot**: welded to the world frame as before.\n",
    "2. **Your custom table**: welded to the world frame near your robot (but not penetrating it!)\n",
    "3. **Your custom initials**: placed on top of your custom table.\n",
    "\n",
    "You now have all the tools you need to implement this yourself! Use the patterns you've learned from the previous parts to complete the notebook. When you are done, take a screen recording (must be an `.mp4` file with size below 500 MB) of the simulation and upload it to Gradescope.\n",
    "\n",
    "**Final Goal:** Use a screen recording tool to record a video of your simulated scene. The video should show your initials falling onto the table, which is welded in place close to the robot (but not penetrating it).\n",
    "\n",
    "**Hint**: `WeldFrames` takes a third argument a `RigidTransform` (which you will learn about later in the class). For now, you can just pass in a `(x,y,z)`-position with `RigidTransform([x,y,z])` to weld frames with an offset. (As always, if you are unsure about a function signature take a look at the [official documentation](https://drake.mit.edu/pydrake/pydrake.multibody.plant.html))\n"
   ]
  },
  {
   "cell_type": "code",
   "execution_count": null,
   "metadata": {
    "cell_id": "c4f462bb95e64da9be2b1515ec7bc7e8",
    "deepnote_cell_type": "code",
    "deepnote_to_be_reexecuted": true,
    "execution_context_id": "3b130765-f3fd-4fae-b2ed-4af4a6a29919",
    "execution_millis": 0,
    "execution_start": 1755548155689,
    "source_hash": "983bf51e"
   },
   "outputs": [],
   "source": [
    "# Before you start, make sure to run the following cell to clear the meshcat window!\n",
    "meshcat.Delete()\n",
    "meshcat.DeleteAddedControls()"
   ]
  },
  {
   "cell_type": "code",
   "execution_count": null,
   "metadata": {
    "cell_id": "a7766259d06a4733816787ee24adf387",
    "deepnote_cell_type": "code",
    "deepnote_to_be_reexecuted": true,
    "execution_context_id": "3b130765-f3fd-4fae-b2ed-4af4a6a29919",
    "execution_millis": 0,
    "execution_start": 1755548192479,
    "source_hash": "48f36a50"
   },
   "outputs": [],
   "source": [
    "# TODO: Your implementation here!\n",
    "\n",
    "\n",
    "def simulate_full_system(\n",
    "    initial_iiwa_positions: np.ndarray,\n",
    "    initial_letter_poses: list[RigidTransform],\n",
    "    table_pose: RigidTransform,\n",
    "    simulation_time: float = 15.0,\n",
    "):\n",
    "    # TODO: Create a diagram builder and add a multibody plant and a scene graph to it\n",
    "\n",
    "    # TODO: Load the IIWA14 robot and weld the base to the world frame\n",
    "\n",
    "    # TODO: Load the table and weld the base to the world frame.\n",
    "    #       Don't forget to set the pose of the table by passing `table_pose` to the `WeldFrames`\n",
    "    #       method as the third argument!\n",
    "\n",
    "    # TODO: Load the letters in your initials\n",
    "    # HINT: Remember to use 'work/assets/...' to access the letters, as we did above!\n",
    "\n",
    "    # TODO: Add a visualizer to the builder\n",
    "\n",
    "    # TODO: Finalize the plant and build the diagram\n",
    "\n",
    "    # TODO: Create a diagram context and a plant context\n",
    "\n",
    "    # TODO: Set the positions of the IIWA14 robot joints.\n",
    "    # HINT: Since we now have multiple free objects in the scene, we need specify\n",
    "    #       that we are setting the positions of the IIWA14 robot joints:\n",
    "    # plant.SetPositions(plant_context, iiwa, initial_iiwa_positions)\n",
    "\n",
    "    # TODO: Load the letters and set their initial poses.\n",
    "    # HINT: To set the poses of the letters, we need some new functionality.\n",
    "    #       This is because the letters are free-floating bodies, and we need to set their poses,\n",
    "    #       which includes both positions and orientations.\n",
    "    #\n",
    "    #       First, we need to get the RigidBody associated with the letter, and then set its pose\n",
    "    #       using the SetFreeBodyPose method, which accepts a RigidTransform as an argument.\n",
    "    #\n",
    "    #       Here is an example of how to do this, for the letter B:\n",
    "    #       (Important: notice that we first load the letter, then finalize the plant, and then set the pose)\n",
    "    #\n",
    "    #               ```\n",
    "    #               B_letter = parser.AddModels(f\"work/assets/B_model/B.sdf\")[0]\n",
    "    #               ...\n",
    "    #               plant.Finalize()\n",
    "    #               ...\n",
    "    #               body = plant.GetRigidBodyByName(\"B_body_link\", B_letter)\n",
    "    #               plant.SetFreeBodyPose(plant_context, body, initial_letter_poses[0])\n",
    "    #               ```\n",
    "    #\n",
    "    #       (Note the name \"B_body_link\", which is hardcoded in the SDF for each letter generated by our\n",
    "    #       letter generation function.)\n",
    "\n",
    "    #       Now use the same pattern to set the poses for your letters!\n",
    "\n",
    "    # TODO: Fix the actuator inputs to zero for the plant\n",
    "\n",
    "    # TODO: Create a simulator and run the simulation for the given `simulation_time`\n",
    "    pass"
   ]
  },
  {
   "cell_type": "markdown",
   "metadata": {
    "cell_id": "7366cd8b20344d2085660a97d2ebee2f",
    "deepnote_cell_type": "markdown"
   },
   "source": [
    "Run the code below to visualize your simulation!"
   ]
  },
  {
   "cell_type": "code",
   "execution_count": null,
   "metadata": {
    "cell_id": "de49040e67ce47a1ada143f1e7da2ce1",
    "deepnote_cell_type": "code",
    "deepnote_to_be_reexecuted": true,
    "execution_context_id": "3b130765-f3fd-4fae-b2ed-4af4a6a29919",
    "execution_millis": 16916,
    "execution_start": 1755548204581,
    "source_hash": "a237b034"
   },
   "outputs": [],
   "source": [
    "print(f\"Meshcat URL: {meshcat.web_url()}\")\n",
    "\n",
    "# Notice that we have wrapped your function in a `meshcat.StartRecording()` and `meshcat.StopRecording()` block,\n",
    "# followed by a `meshcat.PublishRecording()` call. This is a convenient way to make it possible to replay the\n",
    "# simulation in meshcat after the simulation ends!\n",
    "meshcat.StartRecording()\n",
    "simulate_full_system(\n",
    "    initial_iiwa_positions=np.array([-1.57, 0.1, 0, -1.2, 0, 1.6, 0]),\n",
    "    initial_letter_poses=[\n",
    "        # You can add rotations to the RigidTransform if you want, but we will learn more about that later!\n",
    "        # The letters should be placed such that they are not in collision with each other, and such that\n",
    "        # they fall onto the table.\n",
    "        RigidTransform([0.7, 0.0, 1.0]),\n",
    "        RigidTransform([0.9, 0.0, 1.0]),\n",
    "        RigidTransform([1.1, 0.0, 1.0]),\n",
    "    ],\n",
    "    table_pose=RigidTransform(\n",
    "        [0.5, 0.0, -0.05]\n",
    "    ),  # this is a reasonable position for a 2m x 2m x 0.05m table, but feel free to change it!\n",
    "    simulation_time=5.0 if running_as_notebook else 0.1,\n",
    ")\n",
    "meshcat.StopRecording()\n",
    "meshcat.PublishRecording()"
   ]
  },
  {
   "cell_type": "markdown",
   "metadata": {
    "cell_id": "7dd0434ec0cc441298faf460396bf953",
    "deepnote_cell_type": "markdown"
   },
   "source": [
    "# VERIFICATION IN GRADESCOPE\n",
    "Congratulations! You are all done with this notebook. Now play the simulation back in your browser, and upload a screen recording of it in Gradescope (remember to make sure its an `mp4` file with size less than 500 MB)."
   ]
  },
  {
   "cell_type": "markdown",
   "metadata": {
    "cell_id": "55f9849a1696444a884845cb4db8ca42",
    "deepnote_cell_type": "markdown"
   },
   "source": [
    "---\n",
    "\n",
    "# Congratulations!\n",
    "\n",
    "You have successfully completed **Notebook 2: Physics Simulation and Robot Loading**!\n",
    "\n",
    "### Summary\n",
    "\n",
    "In this notebook, you learned to:\n",
    "\n",
    "- Visualize robots, objects, and simulations using Meshcat\n",
    "- Load real robots into Drake using `Parser` and robot description files (URDF, SDF)\n",
    "- Understand Drake's physics simulation engine (`MultibodyPlant`) and geometry engine (`SceneGraph`)\n",
    "- Create custom 3D assets and learn URDF/SDF authoring\n",
    "- Build complete robot simulations with custom objects in Drake\n",
    "\n",
    "You now have the foundational skills to work with Drake's physics simulation capabilities and create custom robotic environments. These skills will be essential for the more advanced topics later in the class, as well as for your class project!\n",
    "\n",
    "**Next:** In Notebook 3, you will learn how to quickly assemble complex scenes using a `scenario.yaml` file and `HardwareStation`."
   ]
  },
  {
   "cell_type": "markdown",
   "metadata": {
    "created_in_deepnote_cell": true,
    "deepnote_cell_type": "markdown"
   },
   "source": [
    "<a style='text-decoration:none;line-height:16px;display:flex;color:#5B5B62;padding:10px;justify-content:end;' href='https://deepnote.com?utm_source=created-in-deepnote-cell&projectId=6d17853f-d99b-4b6a-85f0-26b9107ab747' target=\"_blank\">\n",
    "<img alt='Created in deepnote.com' style='display:inline;max-height:16px;margin:0px;margin-right:7.5px;' src='data:image/svg+xml;base64,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' > </img>\n",
    "Created in <span style='font-weight:600;margin-left:4px;'>Deepnote</span></a>"
   ]
  }
 ],
 "metadata": {
  "deepnote_notebook_id": "b7334c1941ac4d82a486db2d8803fa8a",
  "kernelspec": {
   "display_name": ".venv",
   "language": "python",
   "name": "python3"
  },
  "language_info": {
   "codemirror_mode": {
    "name": "ipython",
    "version": 3
   },
   "file_extension": ".py",
   "mimetype": "text/x-python",
   "name": "python",
   "nbconvert_exporter": "python",
   "pygments_lexer": "ipython3",
   "version": "3.13.7"
  }
 },
 "nbformat": 4,
 "nbformat_minor": 0
}