{
 "cells": [
  {
   "cell_type": "markdown",
   "metadata": {
    "id": "EgiF12Hf1Dhs"
   },
   "source": [
    "# Kinematic Trajectory Optimization Around Shelf Exterior with the Kuka Iiwa\n",
    "\n",
    "In this exercise you'll build on the examples in [Chapter 6](https://manipulation.csail.mit.edu/trajectories.html#section2) and better understand how the state of your robot's environment affects the techniques you use when formulating and solving your optimization problem. Specifically, we'll look at the effects of operating at the boundaries of the Iiwa's kinematic workspace and with complex collision constraints applied as you move its gripper from the upper RH side outside of the shelf to the bottom LH side outside of the shelf."
   ]
  },
  {
   "cell_type": "code",
   "execution_count": null,
   "metadata": {
    "id": "eeMrMI0-1Dhu"
   },
   "outputs": [],
   "source": [
    "import numpy as np\n",
    "from pydrake.all import (\n",
    "    AddMultibodyPlantSceneGraph,\n",
    "    BsplineTrajectory,\n",
    "    Context,\n",
    "    DiagramBuilder,\n",
    "    KinematicTrajectoryOptimization,\n",
    "    MeshcatVisualizer,\n",
    "    MeshcatVisualizerParams,\n",
    "    MinimumDistanceLowerBoundConstraint,\n",
    "    MultibodyPlant,\n",
    "    Parser,\n",
    "    PositionConstraint,\n",
    "    Rgba,\n",
    "    RigidTransform,\n",
    "    Role,\n",
    "    Solve,\n",
    "    Sphere,\n",
    "    StartMeshcat,\n",
    ")\n",
    "\n",
    "from manipulation.meshcat_utils import PublishPositionTrajectory\n",
    "from manipulation.scenarios import AddIiwa, AddWsg\n",
    "from manipulation.utils import ConfigureParser"
   ]
  },
  {
   "cell_type": "code",
   "execution_count": null,
   "metadata": {},
   "outputs": [],
   "source": [
    "# Start the visualizer.\n",
    "meshcat = StartMeshcat()"
   ]
  },
  {
   "cell_type": "markdown",
   "metadata": {},
   "source": [
    "### Setup"
   ]
  },
  {
   "cell_type": "code",
   "execution_count": null,
   "metadata": {},
   "outputs": [],
   "source": [
    "# Clear your visualizer\n",
    "meshcat.Delete()"
   ]
  },
  {
   "cell_type": "code",
   "execution_count": null,
   "metadata": {},
   "outputs": [],
   "source": [
    "# TODO: create your diagram builder\n",
    "\n",
    "# TODO: create your plant and scene graph with a time step of 0.001\n",
    "\n",
    "# TODO: add an Iiwa robot to your plant and set collision model to be \"with_box_collision\"\n",
    "\n",
    "# TODO: add the WSG gripper to your iiwa, set roll to 0.0 and weld it"
   ]
  },
  {
   "cell_type": "code",
   "execution_count": null,
   "metadata": {},
   "outputs": [],
   "source": [
    "# TODO: visualize the start and end positions using a sphere\n",
    "# Hint: you'll want to use meshcat's SetObject and SetTransform\n",
    "X_WStart = RigidTransform([0.65, -0.5, 0.68])\n",
    "X_WGoal = RigidTransform([0.6, 0.5, 0.15])"
   ]
  },
  {
   "cell_type": "code",
   "execution_count": null,
   "metadata": {},
   "outputs": [],
   "source": [
    "# Using the parser to set up the shelves\n",
    "parser = Parser(plant)\n",
    "ConfigureParser(parser)\n",
    "shelf = parser.AddModelsFromUrl(\"package://manipulation/shelves.sdf\")[0]\n",
    "\n",
    "# Add different objects to the shelves\n",
    "cracker_box = parser.AddModelsFromUrl(\n",
    "    \"package://manipulation/hydro/003_cracker_box.sdf\"\n",
    ")[0]\n",
    "sugar_box = parser.AddModelsFromUrl(\"package://manipulation/hydro/004_sugar_box.sdf\")[0]\n",
    "cracker_height = 0.065800 / 2.0\n",
    "sugar_height = 0.039100 / 2.0\n",
    "\n",
    "mustard_bottle = parser.AddModelsFromUrl(\n",
    "    \"package://manipulation/hydro/006_mustard_bottle.sdf\"\n",
    ")[0]\n",
    "\n",
    "# Weld the shelf to the world\n",
    "plant.WeldFrames(\n",
    "    plant.world_frame(),\n",
    "    plant.GetFrameByName(\"shelves_body\", shelf),\n",
    "    RigidTransform([0.6, 0, 0.4]),\n",
    ")\n",
    "\n",
    "# Weld objects to shelves\n",
    "plant.WeldFrames(\n",
    "    plant.world_frame(),\n",
    "    plant.GetFrameByName(\"base_link_cracker\", cracker_box),\n",
    "    RigidTransform([0.6, 0, 0.53915 + cracker_height]),\n",
    ")\n",
    "plant.WeldFrames(\n",
    "    plant.world_frame(),\n",
    "    plant.GetFrameByName(\"base_link_mustard\", mustard_bottle),\n",
    "    RigidTransform([0.6, 0.0, 0.27685]),\n",
    ")\n",
    "plant.WeldFrames(\n",
    "    plant.world_frame(),\n",
    "    plant.GetFrameByName(\"base_link_sugar\", sugar_box),\n",
    "    RigidTransform([0.56, 0.0, 0.016 + sugar_height]),\n",
    ")\n",
    "\n",
    "plant.Finalize()"
   ]
  },
  {
   "cell_type": "code",
   "execution_count": null,
   "metadata": {},
   "outputs": [],
   "source": [
    "# Setting up our meshcat and collision visualizers\n",
    "visualizer = MeshcatVisualizer.AddToBuilder(\n",
    "    builder,\n",
    "    scene_graph,\n",
    "    meshcat,\n",
    "    MeshcatVisualizerParams(role=Role.kIllustration),\n",
    ")\n",
    "collision_visualizer = MeshcatVisualizer.AddToBuilder(\n",
    "    builder,\n",
    "    scene_graph,\n",
    "    meshcat,\n",
    "    MeshcatVisualizerParams(\n",
    "        prefix=\"collision\", role=Role.kProximity, visible_by_default=False\n",
    "    ),\n",
    ")"
   ]
  },
  {
   "cell_type": "code",
   "execution_count": null,
   "metadata": {},
   "outputs": [],
   "source": [
    "# TODO: set up your diagram, context, and plant_context"
   ]
  },
  {
   "cell_type": "code",
   "execution_count": null,
   "metadata": {},
   "outputs": [],
   "source": [
    "# Saving the number of joints in the Iiwa, its default positon, and the end effector frame\n",
    "num_q = plant.num_positions()\n",
    "q0 = plant.GetPositions(plant_context)\n",
    "gripper_frame = plant.GetFrameByName(\"body\", wsg)"
   ]
  },
  {
   "cell_type": "markdown",
   "metadata": {},
   "source": [
    "### Formulating our trajectory optimization\n",
    "\n",
    "We'll begin by implementing a reusable trajectory optimization function.\n",
    "\n",
    "\n",
    "We highly encourage reviewing the [Drake documentation]((https://drake.mit.edu/doxygen_cxx/classdrake_1_1planning_1_1trajectory__optimization_1_1_kinematic_trajectory_optimization.html)) for the imports provided before proceeding. None of the constraints and costs you will design below rely heavily on Numpy functionality, we're using Drake's mathematical program and optimization machinery to define and solve our formulation."
   ]
  },
  {
   "cell_type": "code",
   "execution_count": null,
   "metadata": {},
   "outputs": [],
   "source": [
    "# TODO: create a kinematic trajectory optimization object with 15 control points"
   ]
  },
  {
   "cell_type": "code",
   "execution_count": null,
   "metadata": {},
   "outputs": [],
   "source": [
    "def formulate_trajopt(trajopt, prog):\n",
    "    pass  # TODO: remove when solving\n",
    "    # TODO: create a PositionConstraint that requires the gripper start at X_WStart\n",
    "    # Use [0, 0.1, 0] as the position of the gripping point with respect to the gripper frame\n",
    "\n",
    "    # TODO: create a PositionConstraint that requires the gripper end at X_WGoal\n",
    "    # Use [0, 0.1, 0] as the position of the gripping point with respect to the gripper frame\n",
    "\n",
    "    # TODO: add both constraints as PathPositionConstraints to your formulation\n",
    "    # Hint: think about where in your path parametrization you want these constraints to apply\n",
    "\n",
    "    # TODO: add position and velocity bounds to ensure the trajectory solution respects\n",
    "    # the hardware's limitations\n",
    "\n",
    "    # TODO: add a path velocity constraint at the beginning and end of the trajectory\n",
    "    # This ensures we begin the trajectory stationary and end it stationary\n",
    "\n",
    "    # TODO: constrain the duration to last between 0.5 and 5 seconds\n",
    "\n",
    "    # TODO: add a cost on the duration and path length with magnitude 1.0\n",
    "\n",
    "    # TODO: add a cost that encourages the solution to be close to the Iiwa's starting joint state, q0,\n",
    "    # at the beginning and end of the trajectory. This effectively \"normalizes\" the behavior in our solution."
   ]
  },
  {
   "cell_type": "code",
   "execution_count": null,
   "metadata": {},
   "outputs": [],
   "source": [
    "formulate_trajopt(trajopt, prog)"
   ]
  },
  {
   "cell_type": "markdown",
   "metadata": {},
   "source": [
    "### \"Karate chop\" formulation"
   ]
  },
  {
   "cell_type": "code",
   "execution_count": null,
   "metadata": {},
   "outputs": [],
   "source": [
    "# Now we solve our trajectory optimization problem\n",
    "\n",
    "\n",
    "def solve_prog(prog):\n",
    "    result = Solve(prog)\n",
    "    if not result.is_success():\n",
    "        print(\"Trajectory optimization failed!\")\n",
    "        print(result.get_solver_id().name())\n",
    "        if hasattr(result, \"get_constraint_violations\"):\n",
    "            violations = result.get_constraint_violations()\n",
    "            print(f\"Constraint violations: {violations}\")\n",
    "        print(f\"Solution result: {result.get_solution_result()}\")\n",
    "\n",
    "    return result\n",
    "\n",
    "\n",
    "result = solve_prog(prog)"
   ]
  },
  {
   "cell_type": "code",
   "execution_count": null,
   "metadata": {},
   "outputs": [],
   "source": [
    "# This function will publish your trajectory on meshcat so you can see it\n",
    "\n",
    "\n",
    "def push_traj_to_meshcat(traj, plant, context, visualizer):\n",
    "    PublishPositionTrajectory(traj, context, plant, visualizer)\n",
    "    collision_visualizer.ForcedPublish(\n",
    "        collision_visualizer.GetMyContextFromRoot(context)\n",
    "    )"
   ]
  },
  {
   "cell_type": "markdown",
   "metadata": {},
   "source": [
    "If your trajectory optimziation formulation is correct, the above solve will run. But what do you see in the visualizer?\n",
    "\n",
    "You'll see the \"karate chop\", where the Iiwa ignores collisions with its environment and takes a straight path to the goal beside the bottom shelf. This is because we haven't added collision constraints to our trajectory optimization problem yet. We'll do that next."
   ]
  },
  {
   "cell_type": "code",
   "execution_count": null,
   "metadata": {},
   "outputs": [],
   "source": [
    "push_traj_to_meshcat(trajopt.ReconstructTrajectory(result), plant, context, visualizer)\n",
    "karate_chop_traj = trajopt.ReconstructTrajectory(result)"
   ]
  },
  {
   "cell_type": "markdown",
   "metadata": {},
   "source": [
    "### Collision constraint formulation\n",
    "\n",
    "With the addition of collision constraints, you'll this trajectory optimization fails to converge. If you visualize this trajectory on the Kuka Iiwa, you'll see a semi-reasonable trajectory is produced, but it does not strictly follow the constraints we established above."
   ]
  },
  {
   "cell_type": "code",
   "execution_count": null,
   "metadata": {},
   "outputs": [],
   "source": [
    "def add_collision_constraints(\n",
    "    trajopt: KinematicTrajectoryOptimization,\n",
    "    plant: MultibodyPlant,\n",
    "    plant_context: Context,\n",
    "    bound=0.005,\n",
    "    influence_dist=0.1,\n",
    ") -> None:\n",
    "    # TODO: create a collision constraint using MinimumDistanceLowerBoundConstraint and the default args above.\n",
    "    # Note we are not specififying a penalty function.\n",
    "\n",
    "    evaluate_at_s = np.linspace(0, 1, 25)  # discretize your path parameter s\n",
    "\n",
    "    # TODO: add the collision constraint as a PathPositionConstraint along your discretization"
   ]
  },
  {
   "cell_type": "markdown",
   "metadata": {},
   "source": [
    "As you'll see, this solve will not converge. We'll explore how to fix that in the next section. Before moving on, consider, how might we point our solver in the right direction? What is our initial guess right now?"
   ]
  },
  {
   "cell_type": "code",
   "execution_count": null,
   "metadata": {},
   "outputs": [],
   "source": [
    "# Now we add our intial guess, constraints, solve, and visualize the result\n",
    "trajopt.SetInitialGuess(karate_chop_traj)\n",
    "add_collision_constraints(trajopt, plant, plant_context)\n",
    "result = solve_prog(prog)\n",
    "push_traj_to_meshcat(trajopt.ReconstructTrajectory(result), plant, context, visualizer)"
   ]
  },
  {
   "cell_type": "markdown",
   "metadata": {},
   "source": [
    "### RRT initial guess formulation\n",
    "\n",
    "To find a solution that strictly satisfies our formulation, we need a better initial guess than the \"karate chop\". In the cell below, we provide a trajectory for this warmstart that generally moves the iiwa from the upper RH corner outside the shelf to the bottom LH corner outside the sehfl, but does so suboptimally. This sort of trajectory could be produced by an RRT solve, which (as we saw in class) oftentimes results in the constraint satisfying but suboptimal \"RRT dance\". Using it as an initial guess will bias our solver towards trajectories that don't collide with the shelves or objects, while smoothing out the inaccuracies of the coarse guess. "
   ]
  },
  {
   "cell_type": "code",
   "execution_count": null,
   "metadata": {},
   "outputs": [],
   "source": [
    "# Construct our RRT-like initial guess\n",
    "rrt_traj = np.array(\n",
    "    [\n",
    "        [\n",
    "            -7.45689077e-01,\n",
    "            6.37049031e-01,\n",
    "            7.83693744e-03,\n",
    "            -5.75270941e-01,\n",
    "            1.65994177e-01,\n",
    "            8.36982962e-01,\n",
    "            -5.02864623e-06,\n",
    "        ],\n",
    "        [\n",
    "            1.78124761e00,\n",
    "            -1.17381807e00,\n",
    "            -1.25543656e00,\n",
    "            -7.61433526e-01,\n",
    "            -4.40644608e-01,\n",
    "            7.56665825e-01,\n",
    "            -3.33635499e-08,\n",
    "        ],\n",
    "        [\n",
    "            -5.39334528e-01,\n",
    "            4.25779369e-01,\n",
    "            -3.37934459e-01,\n",
    "            -7.82920056e-01,\n",
    "            -1.62384447e-01,\n",
    "            1.02508682e00,\n",
    "            -6.23967215e-07,\n",
    "        ],\n",
    "        [\n",
    "            1.26694134e00,\n",
    "            -9.82648441e-01,\n",
    "            -1.36863303e00,\n",
    "            -1.47898807e00,\n",
    "            -1.64804135e00,\n",
    "            -4.96802200e-01,\n",
    "            -4.52591206e-07,\n",
    "        ],\n",
    "        [\n",
    "            -3.18591057e-01,\n",
    "            7.35840857e-03,\n",
    "            -3.16430919e-01,\n",
    "            -8.61990620e-01,\n",
    "            -1.76379301e-01,\n",
    "            1.29448226e00,\n",
    "            0.00000000e00,\n",
    "        ],\n",
    "        [\n",
    "            -3.18591057e-01,\n",
    "            7.35840857e-03,\n",
    "            -3.16430919e-01,\n",
    "            -8.61990620e-01,\n",
    "            -1.76379301e-01,\n",
    "            1.29448226e00,\n",
    "            0.00000000e00,\n",
    "        ],\n",
    "        [\n",
    "            -1.75861608e-01,\n",
    "            -1.26941659e-01,\n",
    "            -1.92395479e-01,\n",
    "            -9.15815426e-01,\n",
    "            -1.15402782e-01,\n",
    "            1.45028904e00,\n",
    "            0.00000000e00,\n",
    "        ],\n",
    "        [\n",
    "            -8.60034121e-02,\n",
    "            -1.81136292e-01,\n",
    "            -9.77674339e-02,\n",
    "            -8.67526177e-01,\n",
    "            -5.98366726e-02,\n",
    "            1.43741637e00,\n",
    "            0.00000000e00,\n",
    "        ],\n",
    "        [\n",
    "            8.63055646e-02,\n",
    "            1.43815437e-01,\n",
    "            7.35054974e-02,\n",
    "            -7.05844435e-01,\n",
    "            3.98104529e-02,\n",
    "            1.10015563e00,\n",
    "            0.00000000e00,\n",
    "        ],\n",
    "        [\n",
    "            2.78261972e-01,\n",
    "            2.59568266e-01,\n",
    "            2.00653598e-01,\n",
    "            -6.41343526e-01,\n",
    "            1.02444314e-01,\n",
    "            9.67662265e-01,\n",
    "            -5.84275288e-07,\n",
    "        ],\n",
    "        [\n",
    "            5.86803636e-01,\n",
    "            4.86779729e-01,\n",
    "            1.95594196e-01,\n",
    "            -4.74908330e-01,\n",
    "            1.03898852e-04,\n",
    "            7.05472718e-01,\n",
    "            -4.20908672e-06,\n",
    "        ],\n",
    "        [\n",
    "            8.25791815e-01,\n",
    "            7.44026062e-01,\n",
    "            -6.95064740e-02,\n",
    "            -5.64983331e-01,\n",
    "            -1.92809108e-01,\n",
    "            8.22901363e-01,\n",
    "            -2.10880759e-07,\n",
    "        ],\n",
    "        [\n",
    "            8.50372520e-01,\n",
    "            9.51203006e-01,\n",
    "            -1.33958217e-01,\n",
    "            -7.45635034e-01,\n",
    "            -2.50462773e-01,\n",
    "            9.57120899e-01,\n",
    "            6.69304817e-06,\n",
    "        ],\n",
    "        [\n",
    "            8.49834320e-01,\n",
    "            1.07646661e00,\n",
    "            -1.50533276e-01,\n",
    "            -7.42544742e-01,\n",
    "            -2.13626887e-01,\n",
    "            9.11104644e-01,\n",
    "            4.90654359e-07,\n",
    "        ],\n",
    "        [\n",
    "            8.46290031e-01,\n",
    "            1.05195103e00,\n",
    "            -1.13954237e-01,\n",
    "            -8.71740931e-01,\n",
    "            -2.39890686e-01,\n",
    "            1.02117671e00,\n",
    "            -1.39408976e-07,\n",
    "        ],\n",
    "    ]\n",
    ")\n",
    "\n",
    "# Cast it to a BSplineTrajectory type\n",
    "traj_warmstart = BsplineTrajectory(basis=trajopt.basis(), control_points=rrt_traj.T)"
   ]
  },
  {
   "cell_type": "code",
   "execution_count": null,
   "metadata": {},
   "outputs": [],
   "source": [
    "# TODO: set the initial guess\n",
    "\n",
    "# Now we solve and visualize the result\n",
    "result = solve_prog(prog)\n",
    "push_traj_to_meshcat(trajopt.ReconstructTrajectory(result), plant, context, visualizer)"
   ]
  },
  {
   "cell_type": "markdown",
   "metadata": {},
   "source": [
    "## Verification\n",
    "\n",
    "Please take a video of your trajectory optimization solution and upload it to Gradescope. A succesful video will navigate from the red dot to the green dot around the outside of the shelf and not collide with any geometry in the environment."
   ]
  }
 ],
 "metadata": {
  "colab": {
   "collapsed_sections": [],
   "name": "Robotic Manipulation - Motion Planning.ipynb",
   "provenance": []
  },
  "kernelspec": {
   "display_name": "venv",
   "language": "python",
   "name": "python3"
  },
  "language_info": {
   "codemirror_mode": {
    "name": "ipython",
    "version": 3
   },
   "file_extension": ".py",
   "mimetype": "text/x-python",
   "name": "python",
   "nbconvert_exporter": "python",
   "pygments_lexer": "ipython3",
   "version": "3.13.7"
  }
 },
 "nbformat": 4,
 "nbformat_minor": 1
}