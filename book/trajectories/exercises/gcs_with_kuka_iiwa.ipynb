{
 "cells": [
  {
   "cell_type": "markdown",
   "metadata": {
    "id": "EgiF12Hf1Dhs"
   },
   "source": [
    "# Graph of Convex Sets (GCS) and Iterative Region Inflation by Semidefinite Programming (IRIS)\n",
    "\n",
    "In this exercise, you will practice finding large collision-free configuration-space regions with IRIS and planning through them with GCS for the Kuka Iiwa manipulator. We highly recommend reading through [Section 6.4](https://manipulation.csail.mit.edu/trajectories.html#gcs) of the textbook and looking through the example problems.\n",
    "\n",
    "It will be helpful to keep the Drake documentation (C++ version as first reference, Python as secondary) handy as well as we'll be working with its builtin IRIS and GCS functionality."
   ]
  },
  {
   "cell_type": "code",
   "execution_count": null,
   "metadata": {
    "id": "eeMrMI0-1Dhu"
   },
   "outputs": [],
   "source": [
    "import time\n",
    "from typing import List\n",
    "\n",
    "import numpy as np\n",
    "from pydrake.all import (\n",
    "    AddDefaultVisualization,\n",
    "    AddMultibodyPlantSceneGraph,\n",
    "    CompositeTrajectory,\n",
    "    Context,\n",
    "    Diagram,\n",
    "    DiagramBuilder,\n",
    "    GraphOfConvexSetsOptions,\n",
    "    HPolyhedron,\n",
    "    InverseKinematics,\n",
    "    IrisInConfigurationSpace,\n",
    "    IrisOptions,\n",
    "    LoadIrisRegionsYamlFile,\n",
    "    MathematicalProgram,\n",
    "    MultibodyPlant,\n",
    "    Parser,\n",
    "    Point,\n",
    "    Rgba,\n",
    "    RigidBodyFrame,\n",
    "    RigidTransform,\n",
    "    SaveIrisRegionsYamlFile,\n",
    "    Solve,\n",
    "    Sphere,\n",
    "    StartMeshcat,\n",
    ")\n",
    "from pydrake.planning import GcsTrajectoryOptimization\n",
    "\n",
    "from manipulation import running_as_notebook\n",
    "from manipulation.meshcat_utils import PublishPositionTrajectory\n",
    "from manipulation.scenarios import AddIiwa, AddWsg\n",
    "from manipulation.utils import ConfigureParser\n",
    "\n",
    "np.random.seed(42)  # for reproducibility"
   ]
  },
  {
   "cell_type": "code",
   "execution_count": null,
   "metadata": {},
   "outputs": [],
   "source": [
    "# Start the visualizer.\n",
    "meshcat = StartMeshcat()"
   ]
  },
  {
   "cell_type": "code",
   "execution_count": null,
   "metadata": {},
   "outputs": [],
   "source": [
    "iris_filepath = \"iris_regions.yaml\""
   ]
  },
  {
   "cell_type": "markdown",
   "metadata": {},
   "source": [
    "### Helper methods to visualize IRIS region\n",
    "\n",
    "This function enabales you to visualize IRIS regions by having the Kuka Iiwa robot trace out the boundaries of the space represented in the IRIS region. This is a great debugging tool to understand what regions of space are included in your IRIS regions later on.\n"
   ]
  },
  {
   "cell_type": "code",
   "execution_count": null,
   "metadata": {},
   "outputs": [],
   "source": [
    "def AnimateIris(\n",
    "    root_diagram: Diagram,\n",
    "    root_context: Context,\n",
    "    plant: MultibodyPlant,\n",
    "    region: HPolyhedron,\n",
    "    speed: float,\n",
    "):\n",
    "    \"\"\"\n",
    "    A simple hit-and-run-style idea for visualizing the IRIS regions:\n",
    "    1. Start at the center. Pick a random direction and run to the boundary.\n",
    "    2. Pick a new random direction; project it onto the current boundary, and run along it. Repeat\n",
    "    \"\"\"\n",
    "\n",
    "    plant_context = plant.GetMyContextFromRoot(root_context)\n",
    "\n",
    "    q = region.ChebyshevCenter()\n",
    "    plant.SetPositions(plant_context, q)\n",
    "    root_diagram.ForcedPublish(root_context)\n",
    "\n",
    "    print(\"Press the 'Stop Animation' button in Meshcat to continue.\")\n",
    "    meshcat.AddButton(\"Stop Animation\", \"Escape\")\n",
    "\n",
    "    rng = np.random.default_rng()\n",
    "    nq = plant.num_positions()\n",
    "    prog = MathematicalProgram()\n",
    "    qvar = prog.NewContinuousVariables(nq, \"q\")\n",
    "    prog.AddLinearConstraint(region.A(), 0 * region.b() - np.inf, region.b(), qvar)\n",
    "    cost = prog.AddLinearCost(np.ones((nq, 1)), qvar)\n",
    "\n",
    "    while meshcat.GetButtonClicks(\"Stop Animation\") < 1:\n",
    "        direction = rng.standard_normal(nq)\n",
    "        cost.evaluator().UpdateCoefficients(direction)\n",
    "\n",
    "        result = Solve(prog)\n",
    "        assert result.is_success()\n",
    "\n",
    "        q_next = result.GetSolution(qvar)\n",
    "\n",
    "        # Animate between q and q_next (at speed):\n",
    "        # TODO: normalize step size to speed... e.g. something like\n",
    "        # 20 * np.linalg.norm(q_next - q) / speed)\n",
    "        for t in np.append(np.arange(0, 1, 0.05), 1):\n",
    "            qs = t * q_next + (1 - t) * q\n",
    "            plant.SetPositions(plant_context, qs)\n",
    "            root_diagram.ForcedPublish(root_context)\n",
    "            if running_as_notebook:\n",
    "                time.sleep(0.05)\n",
    "\n",
    "        q = q_next\n",
    "\n",
    "        if not running_as_notebook:\n",
    "            break\n",
    "\n",
    "    meshcat.DeleteButton(\"Stop Animation\")"
   ]
  },
  {
   "cell_type": "markdown",
   "metadata": {},
   "source": [
    "### Helper method to setup new Kuka IIwa diagram\n",
    "\n"
   ]
  },
  {
   "cell_type": "code",
   "execution_count": null,
   "metadata": {},
   "outputs": [],
   "source": [
    "def BuildIiwaWithShelves() -> Diagram:\n",
    "    builder = DiagramBuilder()\n",
    "\n",
    "    plant, scene_graph = AddMultibodyPlantSceneGraph(builder, time_step=0.001)\n",
    "    iiwa = AddIiwa(plant)\n",
    "    wsg = AddWsg(plant, iiwa, welded=True, sphere=False)\n",
    "\n",
    "    parser = Parser(plant)\n",
    "    ConfigureParser(parser)\n",
    "    bin = parser.AddModelsFromUrl(\"package://manipulation/shelves.sdf\")[0]\n",
    "    plant.WeldFrames(\n",
    "        plant.world_frame(),\n",
    "        plant.GetFrameByName(\"shelves_body\", bin),\n",
    "        RigidTransform([0.88, 0, 0.4]),\n",
    "    )\n",
    "\n",
    "    plant.Finalize()\n",
    "    AddDefaultVisualization(builder, meshcat)\n",
    "\n",
    "    return builder.Build()"
   ]
  },
  {
   "cell_type": "markdown",
   "metadata": {},
   "source": [
    "## Creating the IRIS Region\n"
   ]
  },
  {
   "cell_type": "code",
   "execution_count": null,
   "metadata": {},
   "outputs": [],
   "source": [
    "# Clearing our visualization\n",
    "meshcat.Delete()"
   ]
  },
  {
   "cell_type": "code",
   "execution_count": null,
   "metadata": {},
   "outputs": [],
   "source": [
    "# Setting up diagram and plant\n",
    "diagram = BuildIiwaWithShelves()\n",
    "context = diagram.CreateDefaultContext()\n",
    "plant = diagram.GetSubsystemByName(\"plant\")\n",
    "plant_context = plant.GetMyContextFromRoot(context)"
   ]
  },
  {
   "cell_type": "code",
   "execution_count": null,
   "metadata": {},
   "outputs": [],
   "source": [
    "# TODO: get the initial joint positions of your robot (call it q0) and the gripper frame (gripper_frame)"
   ]
  },
  {
   "cell_type": "code",
   "execution_count": null,
   "metadata": {},
   "outputs": [],
   "source": [
    "# TODO: get the initial joint positions of your robot (call it q0) and the gripper frame (gripper_frame)\n",
    "q0 = plant.GetPositions(plant_context)\n",
    "gripper_frame = plant.GetFrameByName(\"body\")"
   ]
  },
  {
   "cell_type": "markdown",
   "metadata": {},
   "source": [
    "#### Creating the \"home\" IRIS region\n",
    "\n",
    "Now we will create an IRIS region corresponding to the free space around the Kuka Iiwa. Since our shelves enviornment is mostly free space, we want to get an IRIS region representation of this free space. Example 6.12 in the textbook uses this `home_region` to restrict the IRIS region search when mapping out the area in front of and inside the top shelf, so that we don't spend time expanding IRIS regions into space that is obstacle free and therefore trivial to plan through. \n",
    "\n",
    "We will not be using the restriction in this exercise, but we'd like you to start by implementing the `home_region` and visualizing it as a low-barrier entry point to the more complex tasks we'll do next as you have a \"ground truth\" against which to compare your work.\n",
    "\n",
    "Please refer to [IrisOptions](https://drake.mit.edu/doxygen_cxx/structdrake_1_1geometry_1_1optimization_1_1_iris_options.html) documentation to understand the pre-filled settings. \n",
    "\n",
    "Hint: If you're having trouble finding which Drake function will create an IRIS region for you, look up the ones in the imports."
   ]
  },
  {
   "cell_type": "code",
   "execution_count": null,
   "metadata": {},
   "outputs": [],
   "source": [
    "options = IrisOptions()\n",
    "options.num_collision_infeasible_samples = 3 if running_as_notebook else 1\n",
    "options.random_seed = 1235\n",
    "options.require_sample_point_is_contained = True\n",
    "options.configuration_space_margin = 0.05\n",
    "# TODO: use IrisInConfigurationSpace to create your home_region"
   ]
  },
  {
   "cell_type": "markdown",
   "metadata": {},
   "source": [
    "Uncomment the AnimateIris function below to see your home_region \"sketched out\" in Meshcat. You'll have to manually stop this cell once you're finished viewing the animation and comment it to continue the assignment. You can do this by interrupting the cell (using the square stop button beside it) or by clicking 'Stop Animation' in the Meshcat dropdown.\n",
    "\n",
    "If what you see makes you curious, visit the documentation and linked paper to learn more about how IRIS builds a convex polytope to represent obstacle-free space: https://drake.mit.edu/doxygen_cxx/group__planning__iris.html#gafd8111a93cb3461e05bec3477ee736f6"
   ]
  },
  {
   "cell_type": "code",
   "execution_count": null,
   "metadata": {},
   "outputs": [],
   "source": [
    "# AnimateIris(diagram, context, plant, home_region, 1.0)"
   ]
  },
  {
   "cell_type": "markdown",
   "metadata": {},
   "source": [
    "#### Creating the shelf regions\n",
    "\n",
    "Now we will create IRIS regions corresponding to the area in front of the shelf and the top shelf. \n",
    "\n",
    "IRIS expands its convex polytopes out of a given sample point and list of convex obstacles. The joint state of our plant in the context that we pass to the `IrisInConfigurationSpace` function is the sample point and the list of convex obstacles is described in the `plant` and `plant_context`. \n",
    "\n",
    "So we're not guaranteed, in finite iterations, to include a joint state that corresponds to the desired end effector position, in our `home_region` IRIS region. Therefore, to be sure we include our desired start and end points for our end effector, we will use Inverse Kinematics to get corresponding joint positions and use those as our sample points in building our IRIS regions.\n",
    "\n",
    "This means you'll be writing two functionalities in this section. First, a reusable function that solves an Inverse Kinematics problem, which you've seen in past PSETs. Second, code to generate IRIS regions, similar to what we completed above, but instead using a scaled down version of the `home_region` as a an obstacle to guide our IRIS region expansion.\n",
    "\n",
    "**Hint**: this Inverse Kinematics function you'll implement first is very similiar (but slightly different) than the `solve_ik_for_pose` function you wrote in PSET 5's 5_plan_place_initials.ipynb. Refering back to your solution for PSET 5 is good place to start.\n"
   ]
  },
  {
   "cell_type": "code",
   "execution_count": null,
   "metadata": {},
   "outputs": [],
   "source": [
    "def solve_IK(\n",
    "    plant: MultibodyPlant,\n",
    "    plant_context: Context,\n",
    "    goal_pos: List,\n",
    "    ee_frame: RigidBodyFrame,\n",
    "    q_initial: np.ndarray,\n",
    ") -> np.ndarray:\n",
    "    ik = InverseKinematics(plant, plant_context)\n",
    "    # TODO: add a minimum distance we must keep from all geometries in our enviornment\n",
    "    # this is functionally an anit-collision constraint\n",
    "    # use a minimum distance (aka bound in the Drake function args) of 0.001\n",
    "    # and an influence_distance_offset of 0.01\n",
    "\n",
    "    # Constrains our end effector (the gripper) to be at the goal position\n",
    "    ik.AddPositionConstraint(\n",
    "        ee_frame, [0, 0.1, 0], plant.world_frame(), goal_pos, goal_pos\n",
    "    )\n",
    "    #  TODO: get the joint space variables\n",
    "\n",
    "    # TODO: get the program from your Inverse Kinematics object\n",
    "\n",
    "    # TODO: add a distance squared cost on the difference\n",
    "    # between your initial joint locations and your joint variables\n",
    "    # Hint: use AddQuadraticErrorCost\n",
    "\n",
    "    # TODO: set an initial guess for your IK solve to your initial position\n",
    "\n",
    "    # TODO: solve your IK program"
   ]
  },
  {
   "cell_type": "markdown",
   "metadata": {},
   "source": [
    "Now we set the end effector position out of which we'll expand our top shelf's IRIS region, solve for corresopnding joint states using our IK helper function above, then call IRIS from our solved joint state. Throughout the IRIS region expansion that follows you may see a few glancing collisions with the shelves in the resulting region. Increase the `num_collision_infeasible_samples` option to reduce them (at the cost of IRIS running for longer, or similarly lower them to run for shorter with the chance of more collisions). The number we've provied is a high estimate and will work."
   ]
  },
  {
   "cell_type": "code",
   "execution_count": null,
   "metadata": {},
   "outputs": [],
   "source": [
    "p_TopShelf = [0.95, 0, 0.65]\n",
    "# TODO: get a solved joint state using your helper function\n",
    "q_sol = None\n",
    "\n",
    "if q_sol is not None:\n",
    "    # TODO: set the position of our Kuka Iiwa in our\n",
    "    # plant_context to the solved joint state\n",
    "\n",
    "    # Now we force our diagram to reflect this change, since IRIS\n",
    "    # will use the context object to create it's region\n",
    "    diagram.ForcedPublish(context)\n",
    "\n",
    "    options = IrisOptions()\n",
    "    options.num_collision_infeasible_samples = 30\n",
    "    options.random_seed = 1235\n",
    "    options.require_sample_point_is_contained = True\n",
    "    options.configuration_space_margin = 0.05\n",
    "    # TODO: call IRIS to get your top shelf_region\n",
    "\n",
    "else:\n",
    "    print(\"IK failed for shelf position\")"
   ]
  },
  {
   "cell_type": "code",
   "execution_count": null,
   "metadata": {},
   "outputs": [],
   "source": [
    "# AnimateIris(diagram, context, plant, shelf_region, 1.0)"
   ]
  },
  {
   "cell_type": "markdown",
   "metadata": {},
   "source": [
    "If you got the `shelf_region` working above, the same approach will work here. In this snippet we're expanding an IRIS region starting from the end effector pose our robot will initialize in. This ensures we get an IRIS region that directly borders/overlaps with our top shelf region. This is critical if we want to be able to use GCS to plan through these regions."
   ]
  },
  {
   "cell_type": "code",
   "execution_count": null,
   "metadata": {},
   "outputs": [],
   "source": [
    "p_Start = [0.75, 0, 0.64]\n",
    "# TODO: get a solved joint state using your helper function\n",
    "q_sol = solve_IK(plant, plant_context, p_Start, gripper_frame, q0)\n",
    "\n",
    "if q_sol is not None:\n",
    "    # TODO: set the position of our Kuka Iiwa in our\n",
    "    # plant_context to the solved joint state\n",
    "\n",
    "    diagram.ForcedPublish(context)\n",
    "\n",
    "    options = IrisOptions()\n",
    "    options.num_collision_infeasible_samples = 30\n",
    "    options.random_seed = 1235\n",
    "    options.require_sample_point_is_contained = True\n",
    "    options.configuration_space_margin = 0.05\n",
    "    # TODO: call IRIS to get your top start_region\n",
    "\n",
    "else:\n",
    "    print(\"IK failed for shelf position\")\n",
    "    start_region = home_region  # Fallback"
   ]
  },
  {
   "cell_type": "code",
   "execution_count": null,
   "metadata": {},
   "outputs": [],
   "source": [
    "# AnimateIris(diagram, context, plant, start_region, 1.0)"
   ]
  },
  {
   "cell_type": "markdown",
   "metadata": {},
   "source": [
    "It can take some time (~30 seconds) to create your IRIS regions, so we include this helper code to save your regions to a YAML and load them in. Feel free to comment out the above code and just use your saved regions, once you're sure they're right."
   ]
  },
  {
   "cell_type": "code",
   "execution_count": null,
   "metadata": {},
   "outputs": [],
   "source": [
    "iris_regions = {\n",
    "    \"home_region\": home_region,\n",
    "    \"start_region\": start_region,\n",
    "    \"shelf_region\": shelf_region,\n",
    "}\n",
    "SaveIrisRegionsYamlFile(iris_filepath, iris_regions)"
   ]
  },
  {
   "cell_type": "code",
   "execution_count": null,
   "metadata": {},
   "outputs": [],
   "source": [
    "# We're adding an offset to the position from which we create the IRIS region,\n",
    "# to illustrate the sort of edge cases GCS is great for planning through once you\n",
    "# have good IRIS regions. Feel free to play around with these values and push the\n",
    "# edge cases, the provided values will work.\n",
    "goal_offset = np.array([0.0, 0.15, 0.0])\n",
    "targets = {\n",
    "    \"top_shelf\": p_TopShelf + goal_offset,\n",
    "    \"start\": p_Start,\n",
    "}\n",
    "\n",
    "# Visualize start position with a sphere\n",
    "# TODO: create a RigidTransform corresponding to your start position\n",
    "meshcat.SetObject(\"start\", Sphere(0.02), rgba=Rgba(0.1, 0.9, 0.1, 1))\n",
    "# TODO: display it\n",
    "\n",
    "# Visualize end position with a sphere\n",
    "# TODO: create a RigidTransform corresponding to your end position\n",
    "meshcat.SetObject(\"goal\", Sphere(0.02), rgba=Rgba(0.1, 0.1, 0.9, 1))\n",
    "# TODO: display it"
   ]
  },
  {
   "cell_type": "markdown",
   "metadata": {},
   "source": [
    "Once you've got your IRIS regions working (you can check this by passing the next Verification Question), feel free to simply load in your regions with the code you'll write below, rather than re-computing them every time. You might find [this Drake Python documentation page](https://drake.mit.edu/pydrake/pydrake.geometry.optimization.html#pydrake.geometry.optimization.LoadIrisRegionsYamlFile) and this notebook's imports helpful."
   ]
  },
  {
   "cell_type": "code",
   "execution_count": null,
   "metadata": {},
   "outputs": [],
   "source": [
    "# TODO: load your saved IRIS regions using LoadIrisRegionsYamlFile"
   ]
  },
  {
   "cell_type": "markdown",
   "metadata": {},
   "source": [
    "### IRIS Verification\n",
    "\n",
    "Which points are in which IRIS regions? Please enter your answers in Gradescope\n"
   ]
  },
  {
   "cell_type": "code",
   "execution_count": null,
   "metadata": {},
   "outputs": [],
   "source": [
    "def verification_1(\n",
    "    home_region: HPolyhedron, start_region: HPolyhedron, shelf_region: HPolyhedron\n",
    "):\n",
    "    points = {\n",
    "        \"p_1\": np.array(\n",
    "            [\n",
    "                1.63413323e-01,\n",
    "                8.60968554e-01,\n",
    "                4.40673567e-02,\n",
    "                -3.14766082e-01,\n",
    "                1.84894776e-02,\n",
    "                4.46204025e-01,\n",
    "                -7.01253975e-07,\n",
    "            ]\n",
    "        ),\n",
    "        \"p_2\": np.array(\n",
    "            [\n",
    "                -0.01805273,\n",
    "                0.38641349,\n",
    "                -0.01249206,\n",
    "                -0.83934187,\n",
    "                -0.00642435,\n",
    "                1.14372559,\n",
    "                0.0,\n",
    "            ]\n",
    "        ),\n",
    "        \"p_3\": np.array([0.0, 0.1, 0.0, -1.2, 0.0, 1.6, 0.0]),\n",
    "        \"p_4\": np.array(\n",
    "            [-0.0305273, 0.41349, -0.0149206, -0.734187, -0.042435, 1.24372559, 0.0]\n",
    "        ),\n",
    "    }\n",
    "    for name, p in points.items():\n",
    "        print(f\"Point {name} in home_region: {home_region.PointInSet(p)}\")\n",
    "        print(f\"Point {name} in start_region: {start_region.PointInSet(p)}\")\n",
    "        print(f\"Point {name} in shelf_region: {shelf_region.PointInSet(p)}\")\n",
    "        print()\n",
    "\n",
    "\n",
    "verification_1(home_region, start_region, shelf_region)"
   ]
  },
  {
   "cell_type": "markdown",
   "metadata": {},
   "source": [
    "## Creating the GCS Graph\n",
    "\n",
    "Now we will connect our IRIS regions and use GCS to search through them. We highly recommend reviewing the figure under 6.4.1 to get a visual intuition for how you're building a graph through convex polytopes, and how GCS searches through. By the end of this section, your trajectory should start in the center outside of the top shelf and stop at the leftmost side inside the top shelf.\n",
    "\n",
    "Before beginning, please read through the [Drake documentation](https://drake.mit.edu/doxygen_cxx/classdrake_1_1planning_1_1trajectory__optimization_1_1_gcs_trajectory_optimization.html) on GCS. Specifically you'll need the `AddRegions` and `AddEdges` functions.\n",
    "\n",
    "Note: we ask you to start by defining your q_start as the joint state corresopnding to the end effector transform around which we expanded our `start_region` IRIS region. This means that we'll be solving a GCS problem from the `start_region` to the top shelf, the `shelf_region`, and our trajectory may not make use of the `home_region`. \n",
    "\n",
    "If you're curious, you can solve the GCS problem from the initial Kuka Iiwa joint positions from which the `home_region` was expanded. To do this, set your `q_start` to the Kuka Iiwa's initial position. You can get this using `plant.GetPositions(plant_context)`, but **be mindful of the state of your `plant_context` when you make this call** as we've modified our context during the IRIS region construction phase. You may want to use the `q0` we saved earlier in the PSET before expanding the IRIS regions.\n",
    "\n",
    "**Hint**: use `print(gcs.graph_of_convex_sets().GetGraphvizString())` to \"see\" your GCS graph. Our solution had 5 nodes and 4 edges."
   ]
  },
  {
   "cell_type": "code",
   "execution_count": null,
   "metadata": {},
   "outputs": [],
   "source": [
    "# TODO: use your IK function to solve for joint states matching\n",
    "# the start and top_shelf end effector locations\n",
    "configs = None\n",
    "# TODO: uncomment after setting up your configurations\n",
    "# q_start = configs[\"start\"]\n",
    "# q_goal = configs[\"top_shelf\"]"
   ]
  },
  {
   "cell_type": "code",
   "execution_count": null,
   "metadata": {},
   "outputs": [],
   "source": [
    "gcs = GcsTrajectoryOptimization(len(q_start))\n",
    "\n",
    "# TODO: add each IRIS region we've created to the GCS problem. Use an order 1 Bezier curve.\n",
    "\n",
    "# TODO: add a region for our start and goal points, called source and target respectively, as a Point object. Use an order 0 Bezier curve.\n",
    "\n",
    "\n",
    "# Add edges to connect regions: source -> home_region -> start_region -> shelf_region -> target\n",
    "gcs.AddEdges(source, home_node)\n",
    "gcs.AddEdges(home_node, start_node)\n",
    "gcs.AddEdges(start_node, shelf_node)\n",
    "gcs.AddEdges(shelf_node, target)\n",
    "\n",
    "# TODO: add a \"skip connection\" edge, so we are not forced to go through the sequence of regions specified above\n",
    "# for example, we want source -> start_region -> shelf_region -> target to be possible\n",
    "\n",
    "# TODO: what other \"skip connection\" do we want to allow that isn't listed above? We're expecting two\n",
    "\n",
    "\n",
    "# ------ NO CHANGES BEYOND THIS POINT --------\n",
    "# Add costs and constraints\n",
    "gcs.AddTimeCost()\n",
    "gcs.AddVelocityBounds(plant.GetVelocityLowerLimits(), plant.GetVelocityUpperLimits())\n",
    "\n",
    "# Solve\n",
    "options = GraphOfConvexSetsOptions()\n",
    "options.preprocessing = True\n",
    "options.max_rounded_paths = 10\n",
    "options.rounding_seed = 1235\n",
    "\n",
    "traj, result = gcs.SolvePath(source, target, options)\n",
    "\n",
    "if result.is_success():\n",
    "    print(\"Path found successfully!\")\n",
    "    # Visualize the trajectory\n",
    "    visualizer = diagram.GetSubsystemByName(\"meshcat_visualizer(illustration)\")\n",
    "    PublishPositionTrajectory(traj, context, plant, visualizer)\n",
    "    visualizer.ForcedPublish(visualizer.GetMyContextFromRoot(context))\n",
    "else:\n",
    "    print(\"No feasible path found\")\n",
    "    print(f\"Result: {result.get_solution_result()}\")"
   ]
  },
  {
   "cell_type": "markdown",
   "metadata": {},
   "source": [
    "### GCS Verification \n",
    "\n",
    "What's the length of the trajectory you solved for using GCS when you start from the joint position corresponding to `p_Start`? Enter the value to three decimal places."
   ]
  },
  {
   "cell_type": "code",
   "execution_count": null,
   "metadata": {},
   "outputs": [],
   "source": [
    "def gcs_verification(traj: CompositeTrajectory):\n",
    "    # discretize time series\n",
    "    times = np.linspace(traj.start_time(), traj.end_time(), 1000)\n",
    "    positions = traj.vector_values(times)\n",
    "\n",
    "    # add up path length of adjacent segments\n",
    "    path_length = 0.0\n",
    "    for i in range(1, len(times)):\n",
    "        diff = positions[:, i] - positions[:, i - 1]\n",
    "        path_length += np.linalg.norm(diff)\n",
    "\n",
    "    print(f\"Path length: {path_length:.4f}\")\n",
    "\n",
    "\n",
    "gcs_verification(traj)"
   ]
  }
 ],
 "metadata": {
  "colab": {
   "collapsed_sections": [],
   "name": "Robotic Manipulation - Motion Planning.ipynb",
   "provenance": []
  },
  "kernelspec": {
   "display_name": "venv",
   "language": "python",
   "name": "python3"
  },
  "language_info": {
   "codemirror_mode": {
    "name": "ipython",
    "version": 3
   },
   "file_extension": ".py",
   "mimetype": "text/x-python",
   "name": "python",
   "nbconvert_exporter": "python",
   "pygments_lexer": "ipython3",
   "version": "3.13.7"
  }
 },
 "nbformat": 4,
 "nbformat_minor": 1
}