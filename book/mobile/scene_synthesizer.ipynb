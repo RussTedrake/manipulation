{
 "cells": [
  {
   "cell_type": "markdown",
   "id": "05124c35",
   "metadata": {
    "colab_type": "text",
    "id": "EgiF12Hf1Dhs"
   },
   "source": [
    "This notebook provides examples to go along with the [textbook](http://manipulation.csail.mit.edu/robot.html).  I recommend having both windows open, side-by-side!\n"
   ]
  },
  {
   "cell_type": "code",
   "execution_count": 1,
   "id": "99268d0c",
   "metadata": {
    "colab": {},
    "colab_type": "code",
    "id": "eeMrMI0-1Dhu",
    "lines_to_end_of_cell_marker": 2
   },
   "outputs": [],
   "source": [
    "import os\n",
    "import tempfile\n",
    "\n",
    "from pydrake.all import ModelVisualizer, RigidTransform, StartMeshcat\n",
    "from scene_synthesizer import BoxAsset\n",
    "from scene_synthesizer.procedural_scenes import kitchen\n",
    "\n",
    "from manipulation.remotes import AddRby1Remote"
   ]
  },
  {
   "cell_type": "code",
   "execution_count": null,
   "id": "7dec0a5e",
   "metadata": {},
   "outputs": [],
   "source": [
    "# Start the visualizer.\n",
    "meshcat = StartMeshcat()\n",
    "tmpdir = tempfile.TemporaryDirectory()"
   ]
  },
  {
   "cell_type": "code",
   "execution_count": null,
   "id": "780027d3",
   "metadata": {},
   "outputs": [],
   "source": [
    "def VisualizeKitchen(meshcat):\n",
    "    visualizer = ModelVisualizer(meshcat=meshcat)\n",
    "\n",
    "    # Generate a random kitchen.\n",
    "    scene = kitchen(seed=None)\n",
    "\n",
    "    # Use scene_synthesizer to figure out where to place the robot in the scene.\n",
    "    rby1_bbox = BoxAsset(extents=[0.662, 0.58, 1.47])\n",
    "    scene.add_object(\n",
    "        rby1_bbox,\n",
    "        \"rby1_bbox\",\n",
    "        connect_parent_id=\"refrigerator\",\n",
    "        connect_parent_anchor=(\"center\", \"front\", \"bottom\"),\n",
    "        connect_obj_anchor=(\"center\", \"back\", \"bottom\"),\n",
    "        translation=[0, -0.02, 0],\n",
    "    )\n",
    "    X_WRby1 = RigidTransform(scene.get_transform(\"rby1_bbox\")) @ RigidTransform(\n",
    "        [0, 0, -1.47 / 2]\n",
    "    )\n",
    "    scene.remove_object(\"rby1_bbox\")\n",
    "\n",
    "    # Export the kitchen to a urdf and add it to the visualizer.\n",
    "    kitchen_urdf_path = os.path.join(tmpdir.name, \"kitchen.urdf\")\n",
    "    scene.export(kitchen_urdf_path)\n",
    "    visualizer.AddModels(kitchen_urdf_path)\n",
    "\n",
    "    # Add the robot.\n",
    "    AddRby1Remote(visualizer.parser().package_map())\n",
    "    rby1_id = visualizer.parser().AddModels(url=\"package://rby1/urdf/model.drake.urdf\")[\n",
    "        0\n",
    "    ]\n",
    "    plant = visualizer.parser().plant()\n",
    "    plant.SetDefaultFreeBodyPose(plant.GetBodyByName(\"base\", rby1_id), X_WRby1)\n",
    "    visualizer.Run(loop_once=True)\n",
    "\n",
    "\n",
    "VisualizeKitchen(meshcat)"
   ]
  },
  {
   "cell_type": "code",
   "execution_count": null,
   "id": "fb792263",
   "metadata": {},
   "outputs": [],
   "source": []
  }
 ],
 "metadata": {
  "kernelspec": {
   "display_name": "venv",
   "language": "python",
   "name": "python3"
  },
  "language_info": {
   "codemirror_mode": {
    "name": "ipython",
    "version": 3
   },
   "file_extension": ".py",
   "mimetype": "text/x-python",
   "name": "python",
   "nbconvert_exporter": "python",
   "pygments_lexer": "ipython3",
   "version": "3.10.12"
  }
 },
 "nbformat": 4,
 "nbformat_minor": 5
}
