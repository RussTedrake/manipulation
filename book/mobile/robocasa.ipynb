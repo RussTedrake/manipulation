{
 "cells": [
  {
   "cell_type": "markdown",
   "id": "05124c35",
   "metadata": {
    "colab_type": "text",
    "id": "EgiF12Hf1Dhs"
   },
   "source": [
    "This notebook provides examples to go along with the [textbook](http://manipulation.csail.mit.edu/robot.html).  I recommend having both windows open, side-by-side!"
   ]
  },
  {
   "cell_type": "code",
   "execution_count": 1,
   "id": "99268d0c",
   "metadata": {
    "colab": {},
    "colab_type": "code",
    "id": "eeMrMI0-1Dhu",
    "lines_to_end_of_cell_marker": 2
   },
   "outputs": [],
   "source": [
    "import os\n",
    "import urllib\n",
    "from pathlib import Path\n",
    "from zipfile import ZipFile\n",
    "\n",
    "from pydrake.all import ModelVisualizer, PackageMap, Simulator, StartMeshcat\n",
    "from tqdm.notebook import tqdm\n",
    "\n",
    "from manipulation.make_drake_compatible_model import MakeDrakeCompatibleModel\n",
    "from manipulation.utils import running_as_notebook"
   ]
  },
  {
   "cell_type": "code",
   "execution_count": null,
   "id": "7dec0a5e",
   "metadata": {},
   "outputs": [],
   "source": [
    "# Start the visualizer.\n",
    "meshcat = StartMeshcat()"
   ]
  },
  {
   "cell_type": "code",
   "execution_count": null,
   "id": "780027d3",
   "metadata": {},
   "outputs": [],
   "source": [
    "def AddRobocasaRemote(package_map):\n",
    "    package_map.AddRemote(\n",
    "        package_name=\"robocasa\",\n",
    "        params=PackageMap.RemoteParams(\n",
    "            urls=[\n",
    "                f\"https://github.com/robocasa/robocasa/archive/a7586f67b72e51722340c9dbe97a59e0aff1ff8f.zip\"\n",
    "            ],\n",
    "            sha256=(\"64abe91ac8ca9cbb22aa4d7c9461d7d899ba54e700dccecdfab5a827fcf7f322\"),\n",
    "            strip_prefix=\"robocasa-a7586f67b72e51722340c9dbe97a59e0aff1ff8f/robocasa/\",\n",
    "        ),\n",
    "    )\n",
    "\n",
    "\n",
    "def MaybeDownloadRobocasaKitchenAssets():\n",
    "    package_map = PackageMap()\n",
    "    AddRobocasaRemote(package_map)\n",
    "    # This will force the download if it hasn't been done before.\n",
    "    robocasa_path = package_map.GetPath(\"robocasa\")\n",
    "\n",
    "    # The asset registry dictionary is copied from\n",
    "    # https://github.com/robocasa/robocasa/blob/main/robocasa/scripts/download_kitchen_assets.py\n",
    "    # with robocasa_path updated.\n",
    "    DOWNLOAD_ASSET_REGISTRY = dict(\n",
    "        textures=dict(\n",
    "            message=\"Downloading environment textures\",\n",
    "            url=\"https://utexas.box.com/shared/static/otdsyfjontk17jdp24bkhy2hgalofbh4.zip\",\n",
    "            folder=os.path.join(robocasa_path, \"models/assets/textures\"),\n",
    "            check_folder_exists=True,\n",
    "        ),\n",
    "        fixtures=dict(\n",
    "            message=\"Downloading fixtures\",\n",
    "            url=\"https://utexas.box.com/shared/static/pobhbsjyacahg2mx8x4rm5fkz3wlmyzp.zip\",\n",
    "            folder=os.path.join(robocasa_path, \"models/assets/fixtures\"),\n",
    "            check_folder_exists=True,\n",
    "        ),\n",
    "        objaverse=dict(\n",
    "            message=\"Downloading objaverse objects\",\n",
    "            url=\"https://utexas.box.com/shared/static/ejt1kc2v5vhae1rl4k5697i4xvpbjcox.zip\",\n",
    "            folder=os.path.join(robocasa_path, \"models/assets/objects/objaverse\"),\n",
    "            check_folder_exists=True,\n",
    "        ),\n",
    "        #  aigen_objs=dict(\n",
    "        #     message=\"Downloading AI-generated objects\",\n",
    "        #     url=\"https://utexas.box.com/shared/static/os3hrui06lasnuvwqpmwn0wcrduh6jg3.zip\",\n",
    "        #     folder=os.path.join(robocasa_path, \"models/assets/objects/aigen_objs\"),\n",
    "        #     check_folder_exists=False,\n",
    "        # ),\n",
    "        # generative_textures=dict(\n",
    "        #     message=\"Downloading AI-generated environment textures\",\n",
    "        #     url=\"https://utexas.box.com/shared/static/gf9nkadvfrowkb9lmkcx58jwt4d6c1g3.zip\",\n",
    "        #     folder=os.path.join(robocasa_path, \"models/assets/generative_textures\"),\n",
    "        #     check_folder_exists=False,\n",
    "        # ),\n",
    "    )\n",
    "\n",
    "    def show_progress(block_num, block_size, total_size):\n",
    "        if pbar.total is None:\n",
    "            pbar.total = total_size\n",
    "        pbar.update(block_size)\n",
    "\n",
    "    for name, info in DOWNLOAD_ASSET_REGISTRY.items():\n",
    "        if info[\"check_folder_exists\"] and os.path.exists(info[\"folder\"]):\n",
    "            print(f\"Skipping {name} - already downloaded\")\n",
    "            continue\n",
    "        with tqdm(unit=\"B\", unit_scale=True, miniters=1, desc=info[\"message\"]) as pbar:\n",
    "            filename, headers = urllib.request.urlretrieve(\n",
    "                info[\"url\"], reporthook=show_progress\n",
    "            )\n",
    "        folder = Path(info[\"folder\"]).parent\n",
    "        with ZipFile(filename, \"r\") as zip_ref:\n",
    "            zip_ref.extractall(path=folder)\n",
    "        os.remove(filename)\n",
    "\n",
    "\n",
    "if running_as_notebook:\n",
    "    MaybeDownloadRobocasaKitchenAssets()"
   ]
  },
  {
   "cell_type": "markdown",
   "id": "7112a8be",
   "metadata": {},
   "source": [
    "# Browse the assets\n",
    "\n",
    "First we'll use the ModelVisualizer to inspect the models that are available [here](https://github.com/robocasa/robocasa/tree/1370b9e0f747d84fb21ed29bacefb1654865301b/robocasa)."
   ]
  },
  {
   "cell_type": "code",
   "execution_count": null,
   "id": "ec925772",
   "metadata": {
    "colab": {},
    "colab_type": "code",
    "id": "5SjOClhTltPk"
   },
   "outputs": [],
   "source": [
    "visualizer = ModelVisualizer(meshcat=meshcat)\n",
    "package_map = visualizer.parser().package_map()\n",
    "AddRobocasaRemote(package_map)\n",
    "original_model_path = package_map.ResolveUrl(\n",
    "    \"package://robocasa/models/assets/fixtures/accessories/knife_blocks/dark_wood/model.xml\"\n",
    ")\n",
    "drake_model_path = original_model_path.replace(\".xml\", \".drake.xml\")\n",
    "MakeDrakeCompatibleModel(\n",
    "    original_model_path,\n",
    "    drake_model_path,\n",
    "    overwrite=True,\n",
    "    remap_mujoco_geometry_groups={0: 3},\n",
    ")\n",
    "visualizer.AddModels(drake_model_path)\n",
    "visualizer.Run(loop_once=True)\n",
    "meshcat.DeleteAddedControls()"
   ]
  },
  {
   "cell_type": "code",
   "execution_count": null,
   "metadata": {},
   "outputs": [],
   "source": []
  }
 ],
 "metadata": {
  "kernelspec": {
   "display_name": "Python 3.10.8 64-bit",
   "language": "python",
   "name": "python3"
  },
  "language_info": {
   "codemirror_mode": {
    "name": "ipython",
    "version": 3
   },
   "file_extension": ".py",
   "mimetype": "text/x-python",
   "name": "python",
   "nbconvert_exporter": "python",
   "pygments_lexer": "ipython3",
   "version": "3.10.12"
  }
 },
 "nbformat": 4,
 "nbformat_minor": 5
}
