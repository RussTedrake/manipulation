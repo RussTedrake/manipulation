{
 "cells": [
  {
   "cell_type": "code",
   "execution_count": null,
   "id": "ff14471a",
   "metadata": {},
   "outputs": [],
   "source": [
    "import numpy as np\n",
    "from pydrake.all import (\n",
    "    AddMultibodyPlantSceneGraph,\n",
    "    DiagramBuilder,\n",
    "    InverseKinematics,\n",
    "    MeshcatVisualizer,\n",
    "    MeshcatVisualizerParams,\n",
    "    Parser,\n",
    "    RigidTransform,\n",
    "    RotationMatrix,\n",
    "    Solve,\n",
    "    StartMeshcat,\n",
    "    WeldJoint,\n",
    "    eq,\n",
    ")\n",
    "\n",
    "from manipulation import ConfigureParser, running_as_notebook"
   ]
  },
  {
   "cell_type": "code",
   "execution_count": null,
   "id": "1dbf55e0",
   "metadata": {},
   "outputs": [],
   "source": [
    "# Start the visualizer.\n",
    "meshcat = StartMeshcat()"
   ]
  },
  {
   "cell_type": "markdown",
   "id": "55f929f5",
   "metadata": {},
   "source": [
    "## Problem Description\n",
    "We will solve inverse kinematics for one arm on a PR2 robot. This robot model has been modified to have convex collision geometries, and to simplify this problem, we have welded (fixed) several joints that are irrelavent to the kinematics of the arms."
   ]
  },
  {
   "cell_type": "code",
   "execution_count": null,
   "id": "6afc78f1",
   "metadata": {},
   "outputs": [],
   "source": [
    "# TODO(russt): Move this to Drake.\n",
    "\n",
    "\n",
    "def ReplaceJointWithWeld(plant, joint):\n",
    "    for actuator in [\n",
    "        plant.get_joint_actuator(index) for index in plant.GetJointActuatorIndices()\n",
    "    ]:\n",
    "        if actuator.joint() == joint:\n",
    "            plant.RemoveJointActuator(actuator)\n",
    "\n",
    "    weld = WeldJoint(\n",
    "        joint.name(), joint.frame_on_parent(), joint.frame_on_child(), RigidTransform()\n",
    "    )\n",
    "    plant.RemoveJoint(joint)\n",
    "    plant.AddJoint(weld)\n",
    "\n",
    "\n",
    "def build_env():\n",
    "    \"\"\"Load in models and build the diagram.\"\"\"\n",
    "    builder = DiagramBuilder()\n",
    "    plant, scene_graph = AddMultibodyPlantSceneGraph(builder, time_step=0.01)\n",
    "    parser = Parser(plant)\n",
    "    ConfigureParser(parser)\n",
    "    parser.AddModelsFromUrl(\"package://manipulation/pr2_shelves.dmd.yaml\")\n",
    "    # Remove mimic constraints:\n",
    "    for id in plant.GetConstraintIds():\n",
    "        plant.RemoveConstraint(id)\n",
    "    # Remove some superfluous joints\n",
    "    ReplaceJointWithWeld(plant, plant.GetJointByName(\"head_pan_joint\"))\n",
    "    ReplaceJointWithWeld(plant, plant.GetJointByName(\"head_tilt_joint\"))\n",
    "    ReplaceJointWithWeld(plant, plant.GetJointByName(\"r_gripper_l_finger_joint\"))\n",
    "    ReplaceJointWithWeld(plant, plant.GetJointByName(\"r_gripper_r_finger_joint\"))\n",
    "    ReplaceJointWithWeld(plant, plant.GetJointByName(\"r_gripper_l_finger_tip_joint\"))\n",
    "    ReplaceJointWithWeld(plant, plant.GetJointByName(\"r_gripper_r_finger_tip_joint\"))\n",
    "    ReplaceJointWithWeld(plant, plant.GetJointByName(\"l_gripper_l_finger_joint\"))\n",
    "    ReplaceJointWithWeld(plant, plant.GetJointByName(\"l_gripper_r_finger_joint\"))\n",
    "    ReplaceJointWithWeld(plant, plant.GetJointByName(\"l_gripper_l_finger_tip_joint\"))\n",
    "    ReplaceJointWithWeld(plant, plant.GetJointByName(\"l_gripper_r_finger_tip_joint\"))\n",
    "    plant.Finalize()\n",
    "\n",
    "    MeshcatVisualizer.AddToBuilder(\n",
    "        builder,\n",
    "        scene_graph.get_query_output_port(),\n",
    "        meshcat,\n",
    "        MeshcatVisualizerParams(delete_on_initialization_event=False),\n",
    "    )\n",
    "\n",
    "    diagram = builder.Build()\n",
    "    return diagram, plant, scene_graph"
   ]
  },
  {
   "cell_type": "code",
   "execution_count": null,
   "id": "6ba4076c",
   "metadata": {},
   "outputs": [],
   "source": [
    "goal_rotation = RotationMatrix(\n",
    "    [\n",
    "        [1, 0, 0],\n",
    "        [0, -1, 0],\n",
    "        [0, 0, -1],\n",
    "    ]\n",
    ")\n",
    "goal_position = np.array([-0.83, 0.18, 1.4])\n",
    "goal_pose = RigidTransform(goal_rotation, goal_position)"
   ]
  },
  {
   "cell_type": "markdown",
   "id": "a950a302",
   "metadata": {},
   "source": [
    "### IK for a Mobile Manipulator\n",
    "\n",
    "Given a RigidTransform X_WG, compute a robot configuration placing the left gripper at that pose. We use optimization to solve the IK problem, and we repeatedly solve the program with random initializations until it succeeds. We have implemented a skeleton of the necessary code in the following function, but you must complete several pieces:\n",
    "\n",
    "- Add position and orientation constraints to the gripper frame. The end effector should match the desired pose to within 1mm translation along each axis, and the rotation should be off by no more than 1 degree.\n",
    "- If `fix_base` is True, constrain the base pose $(x,y,\\theta)$ to be equal to `base_pose`.\n",
    "- Add a collision free constraint with [AddMinimumDistanceLowerBoundConstraint](https://drake.mit.edu/doxygen_cxx/classdrake_1_1multibody_1_1_inverse_kinematics.html#a2ecd71efd675a7e1a4293adb05c9b9df). The minimum distance between any pair of collision geometries should be at least 1cm.\n",
    "- Compute a random initial guess for the joint angles within the robot's joint limits. You can access the joint limits from the multibody plant, but some of the joints are angle-valued and don't have limits. For these joints, use the range $[-\\pi,\\pi]$."
   ]
  },
  {
   "cell_type": "code",
   "execution_count": null,
   "id": "906ce3e9",
   "metadata": {},
   "outputs": [],
   "source": [
    "def solve_ik(X_WG, max_tries=10, fix_base=False, base_pose=np.zeros(3)):\n",
    "    diagram, plant, scene_graph = build_env()\n",
    "\n",
    "    plant.GetFrameByName(\"l_gripper_palm_link\")\n",
    "\n",
    "    context = diagram.CreateDefaultContext()\n",
    "    plant_context = plant.GetMyContextFromRoot(context)\n",
    "    scene_graph.GetMyContextFromRoot(context)\n",
    "\n",
    "    # Note: passing in a plant_context is necessary for collision-free constraints!\n",
    "    ik = InverseKinematics(plant, plant_context)\n",
    "    q_variables = ik.q()  # Get variables for MathematicalProgram\n",
    "    prog = ik.prog()  # Get MathematicalProgram\n",
    "    q_nominal = np.zeros(len(q_variables))\n",
    "    q_nominal[0:3] = base_pose\n",
    "    prog.AddQuadraticErrorCost(np.eye(len(q_variables)), q_nominal, q_variables)\n",
    "\n",
    "    # Add your constraints here\n",
    "\n",
    "    for count in range(max_tries):\n",
    "        # Compute a random initial guess here\n",
    "\n",
    "        result = Solve(prog)\n",
    "\n",
    "        if running_as_notebook:\n",
    "            render_context = diagram.CreateDefaultContext()\n",
    "            plant.SetPositions(\n",
    "                plant.GetMyContextFromRoot(render_context),\n",
    "                result.GetSolution(q_variables),\n",
    "            )\n",
    "            diagram.ForcedPublish(context)\n",
    "\n",
    "        if result.is_success():\n",
    "            print(\"Succeeded in %d tries!\" % (count + 1))\n",
    "            return result.GetSolution(q_variables)\n",
    "\n",
    "    print(\"Failed!\")\n",
    "    return None"
   ]
  },
  {
   "cell_type": "markdown",
   "id": "461257ca",
   "metadata": {},
   "source": [
    "First, we show an example where we have fixed the base. It may take many tries for it to solve, or not solve at all! At each iteration, we visualize where the optimizer stopped, so you can see what the failures look like."
   ]
  },
  {
   "cell_type": "code",
   "execution_count": null,
   "id": "fbfbf447",
   "metadata": {},
   "outputs": [],
   "source": [
    "solve_ik(\n",
    "    goal_pose,\n",
    "    max_tries=20,\n",
    "    fix_base=True,\n",
    "    base_pose=np.array([-1.23, 0.05, 0]),\n",
    ")"
   ]
  },
  {
   "cell_type": "markdown",
   "id": "69727ae3",
   "metadata": {},
   "source": [
    "When we allow the base to move freely, the inverse kinematics can be solved much more easily!"
   ]
  },
  {
   "cell_type": "code",
   "execution_count": null,
   "id": "0436add7",
   "metadata": {},
   "outputs": [],
   "source": [
    "solve_ik(goal_pose, fix_base=False)"
   ]
  },
  {
   "cell_type": "code",
   "execution_count": null,
   "id": "5f0ff635",
   "metadata": {},
   "outputs": [],
   "source": [
    "from manipulation.exercises.grader import Grader\n",
    "from manipulation.exercises.mobile.test_mobile_base_ik import TestMobileBaseIk\n",
    "\n",
    "Grader.grade_output([TestMobileBaseIk], [locals()], \"results.json\")\n",
    "Grader.print_test_results(\"results.json\")"
   ]
  },
  {
   "cell_type": "code",
   "execution_count": null,
   "id": "8cefcbfb",
   "metadata": {},
   "outputs": [],
   "source": []
  }
 ],
 "metadata": {
  "celltoolbar": "Tags",
  "kernelspec": {
   "display_name": "Python 3 (ipykernel)",
   "language": "python",
   "name": "python3"
  },
  "language_info": {
   "codemirror_mode": {
    "name": "ipython",
    "version": 3
   },
   "file_extension": ".py",
   "mimetype": "text/x-python",
   "name": "python",
   "nbconvert_exporter": "python",
   "pygments_lexer": "ipython3",
   "version": "3.10.12"
  }
 },
 "nbformat": 4,
 "nbformat_minor": 5
}
