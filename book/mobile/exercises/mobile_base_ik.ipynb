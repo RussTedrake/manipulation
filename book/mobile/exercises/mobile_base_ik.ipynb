{
 "cells": [
  {
   "cell_type": "markdown",
   "metadata": {
    "cell_id": "988fd350115c423ab506359a1bc62a1b",
    "deepnote_cell_type": "markdown"
   },
   "source": [
    "# **IK for a Mobile Manipulator**\n",
    "\n",
    "In this notebook, we will solve inverse kinematics for one arm on a PR2 robot. This robot model has been modified to have convex collision geometries, and to simplify this problem, we have welded (fixed) several joints that are irrelevant to the kinematics of the arms.\n",
    "\n",
    "**Learning Objectives**\n",
    "- Get more practice implementing constraints in the `InverseKinematics` class in Drake\n",
    "- Investigate how optimization for IK changes with a mobile base\n",
    "\n",
    "**What You'll Implement**\n",
    "- IK for a mobile manipulator using the InverseKinematics class in Drake\n",
    "- Constraints that place the left gripper of the PR2 at a desired pose"
   ]
  },
  {
   "cell_type": "markdown",
   "metadata": {
    "cell_id": "e7773c6a314e4db1ae10013be34718e0",
    "deepnote_cell_type": "markdown"
   },
   "source": [
    "## Setup and Imports\n",
    "\n",
    "Let us first import our standard drake functionality"
   ]
  },
  {
   "cell_type": "code",
   "execution_count": null,
   "metadata": {
    "cell_id": "7758ab43ec3c497f8f62314f9a24a905",
    "deepnote_cell_type": "code",
    "execution_context_id": "9eea4b3e-36d2-406a-a14b-edf7f10ef596",
    "execution_millis": 422,
    "execution_start": 1758912708885,
    "source_hash": "2d96b823"
   },
   "outputs": [],
   "source": [
    "import numpy as np\n",
    "from pydrake.all import (\n",
    "    AddMultibodyPlantSceneGraph,\n",
    "    Diagram,\n",
    "    DiagramBuilder,\n",
    "    DiscreteContactApproximation,\n",
    "    InverseKinematics,\n",
    "    Joint,\n",
    "    MeshcatVisualizer,\n",
    "    MeshcatVisualizerParams,\n",
    "    MultibodyPlant,\n",
    "    Parser,\n",
    "    RigidTransform,\n",
    "    RotationMatrix,\n",
    "    SceneGraph,\n",
    "    Solve,\n",
    "    StartMeshcat,\n",
    "    WeldJoint,\n",
    "    eq,\n",
    ")\n",
    "\n",
    "from manipulation import ConfigureParser, running_as_notebook"
   ]
  },
  {
   "cell_type": "code",
   "execution_count": null,
   "metadata": {
    "cell_id": "7399651f6ea14d86880dc7d23c7b4f73",
    "deepnote_cell_type": "code",
    "execution_context_id": "9eea4b3e-36d2-406a-a14b-edf7f10ef596",
    "execution_millis": 20,
    "execution_start": 1758912712704,
    "source_hash": "6d42057f"
   },
   "outputs": [],
   "source": [
    "# Start the visualizer.\n",
    "meshcat = StartMeshcat()"
   ]
  },
  {
   "cell_type": "code",
   "execution_count": null,
   "metadata": {
    "cell_id": "7ed7188fb217432089c63a40989dd902",
    "deepnote_cell_type": "code",
    "execution_context_id": "9eea4b3e-36d2-406a-a14b-edf7f10ef596",
    "execution_millis": 1,
    "execution_start": 1758912718505,
    "source_hash": "3bb8a039"
   },
   "outputs": [],
   "source": [
    "def ReplaceJointWithWeld(plant: MultibodyPlant, joint: Joint) -> None:\n",
    "    for actuator in [\n",
    "        plant.get_joint_actuator(index) for index in plant.GetJointActuatorIndices()\n",
    "    ]:\n",
    "        if actuator.joint() == joint:\n",
    "            plant.RemoveJointActuator(actuator)\n",
    "\n",
    "    weld = WeldJoint(\n",
    "        joint.name(), joint.frame_on_parent(), joint.frame_on_child(), RigidTransform()\n",
    "    )\n",
    "    plant.RemoveJoint(joint)\n",
    "    plant.AddJoint(weld)\n",
    "\n",
    "\n",
    "def build_env() -> tuple[Diagram, MultibodyPlant, SceneGraph]:\n",
    "    \"\"\"Load in models and build the diagram.\"\"\"\n",
    "    builder = DiagramBuilder()\n",
    "    plant, scene_graph = AddMultibodyPlantSceneGraph(builder, time_step=0.01)\n",
    "    plant.set_discrete_contact_approximation(DiscreteContactApproximation.kSap)\n",
    "    parser = Parser(plant)\n",
    "    ConfigureParser(parser)\n",
    "    parser.AddModelsFromUrl(\"package://manipulation/pr2_shelves.dmd.yaml\")\n",
    "    # Remove mimic constraints:\n",
    "    for id in plant.GetConstraintIds():\n",
    "        plant.RemoveConstraint(id)\n",
    "    # Remove some superfluous joints\n",
    "    ReplaceJointWithWeld(plant, plant.GetJointByName(\"head_pan_joint\"))\n",
    "    ReplaceJointWithWeld(plant, plant.GetJointByName(\"head_tilt_joint\"))\n",
    "    ReplaceJointWithWeld(plant, plant.GetJointByName(\"r_gripper_l_finger_joint\"))\n",
    "    ReplaceJointWithWeld(plant, plant.GetJointByName(\"r_gripper_r_finger_joint\"))\n",
    "    ReplaceJointWithWeld(plant, plant.GetJointByName(\"r_gripper_l_finger_tip_joint\"))\n",
    "    ReplaceJointWithWeld(plant, plant.GetJointByName(\"r_gripper_r_finger_tip_joint\"))\n",
    "    ReplaceJointWithWeld(plant, plant.GetJointByName(\"l_gripper_l_finger_joint\"))\n",
    "    ReplaceJointWithWeld(plant, plant.GetJointByName(\"l_gripper_r_finger_joint\"))\n",
    "    ReplaceJointWithWeld(plant, plant.GetJointByName(\"l_gripper_l_finger_tip_joint\"))\n",
    "    ReplaceJointWithWeld(plant, plant.GetJointByName(\"l_gripper_r_finger_tip_joint\"))\n",
    "    plant.Finalize()\n",
    "\n",
    "    MeshcatVisualizer.AddToBuilder(\n",
    "        builder,\n",
    "        scene_graph.get_query_output_port(),\n",
    "        meshcat,\n",
    "        MeshcatVisualizerParams(delete_on_initialization_event=False),\n",
    "    )\n",
    "\n",
    "    diagram = builder.Build()\n",
    "    return diagram, plant, scene_graph"
   ]
  },
  {
   "cell_type": "markdown",
   "metadata": {
    "cell_id": "10db114fe4b547a3959672372cc8be70",
    "deepnote_cell_type": "markdown"
   },
   "source": [
    "## Part 1: Implementing IK for the PR2\n",
    "\n",
    "**YOUR TASK:** Given a `RigidTransform` X_WG, compute a robot configuration placing the left gripper at that pose. We use optimization to solve the IK problem, and we repeatedly solve the program with random initializations until it succeeds. We have implemented a skeleton of the necessary code in the following function, but you must complete several pieces:\n",
    "\n",
    "- Add position and orientation constraints to the gripper frame.\n",
    "    - The end effector should match the desired pose to within 1mm translation along each axis\n",
    "    - The rotation should be off by no more than 1 degree.\n",
    "- If `fix_base` is True, constrain the base pose $(x,y,\\theta)$ to be equal to `base_pose`.\n",
    "- Add a collision free constraint with [AddMinimumDistanceLowerBoundConstraint](https://drake.mit.edu/doxygen_cxx/classdrake_1_1multibody_1_1_inverse_kinematics.html#a2ecd71efd675a7e1a4293adb05c9b9df). The minimum distance between any pair of collision geometries should be at least 1cm.\n",
    "- Compute a random initial guess for the joint angles within the robot's joint limits. You can access the joint limits from the multibody plant, but some of the joints are angle-valued and don't have limits. For these joints, use the range $[-\\pi,\\pi]$.\n",
    "\n",
    "In this exercise, we will be using the `InverseKinematics` class in Drake. Take a look at the documentation and types of constraints we can use here: [IK Drake Documentation](https://drake.mit.edu/doxygen_cxx/classdrake_1_1multibody_1_1_inverse_kinematics.html). It may be helpful to go through the the Door Opening Notebook (exercise 6.1 in the manipulation textbook) before completing the rest of this notebook."
   ]
  },
  {
   "cell_type": "code",
   "execution_count": null,
   "metadata": {
    "cell_id": "6421d46bc18947829cb4517c2dbf70dc",
    "deepnote_cell_type": "code",
    "execution_context_id": "9eea4b3e-36d2-406a-a14b-edf7f10ef596",
    "execution_millis": 0,
    "execution_start": 1758912880945,
    "source_hash": "73b5d63"
   },
   "outputs": [],
   "source": [
    "goal_rotation = RotationMatrix(\n",
    "    [\n",
    "        [1, 0, 0],\n",
    "        [0, -1, 0],\n",
    "        [0, 0, -1],\n",
    "    ]\n",
    ")\n",
    "goal_position = np.array([-0.83, 0.18, 1.4])\n",
    "goal_pose = RigidTransform(goal_rotation, goal_position)"
   ]
  },
  {
   "cell_type": "code",
   "execution_count": null,
   "metadata": {
    "cell_id": "8d25e7410e8445f889526d7b4ca8ab1f",
    "deepnote_cell_type": "code",
    "execution_context_id": "9eea4b3e-36d2-406a-a14b-edf7f10ef596",
    "execution_millis": 1,
    "execution_start": 1758912906528,
    "source_hash": "a4e7ca2"
   },
   "outputs": [],
   "source": [
    "def solve_ik(\n",
    "    X_WG: RigidTransform,\n",
    "    max_tries: int = 10,\n",
    "    fix_base: bool = False,\n",
    "    base_pose: np.ndarray | None = None,\n",
    ") -> np.ndarray | None:\n",
    "    if base_pose is None:\n",
    "        base_pose = np.zeros(3)\n",
    "\n",
    "    np.random.seed(16)  # we use this for verification - do not modify it\n",
    "\n",
    "    diagram, plant, scene_graph = build_env()\n",
    "\n",
    "    plant.GetFrameByName(\"l_gripper_palm_link\")\n",
    "\n",
    "    context = diagram.CreateDefaultContext()\n",
    "    plant_context = plant.GetMyContextFromRoot(context)\n",
    "    scene_graph.GetMyContextFromRoot(context)\n",
    "\n",
    "    # Note: passing in a plant_context is necessary for collision-free constraints!\n",
    "    ik = InverseKinematics(plant, plant_context)\n",
    "    q_variables = ik.q()  # Get variables for MathematicalProgram\n",
    "    prog = ik.prog()  # Get MathematicalProgram\n",
    "    q_nominal = np.zeros(len(q_variables))\n",
    "    q_nominal[0:3] = base_pose\n",
    "    prog.AddQuadraticErrorCost(np.eye(len(q_variables)), q_nominal, q_variables)\n",
    "\n",
    "    # TODO: Add your constraints here\n",
    "    # HINT: Use AddPositionConstraint and AddOrientationConstraint like in the door opening exercise\n",
    "\n",
    "    for count in range(max_tries):\n",
    "        # TODO: Compute a random initial guess here, within the joint limits of the robot\n",
    "\n",
    "        result = Solve(prog)\n",
    "\n",
    "        if running_as_notebook:\n",
    "            render_context = diagram.CreateDefaultContext()\n",
    "            plant.SetPositions(\n",
    "                plant.GetMyContextFromRoot(render_context),\n",
    "                result.GetSolution(q_variables),\n",
    "            )\n",
    "            diagram.ForcedPublish(context)\n",
    "\n",
    "        if result.is_success():\n",
    "            print(\"Succeeded in %d tries!\" % (count + 1))\n",
    "            return result.GetSolution(q_variables)\n",
    "\n",
    "    print(\"Failed!\")\n",
    "    return None"
   ]
  },
  {
   "cell_type": "markdown",
   "metadata": {
    "cell_id": "cd699bc2a71f41059af9476a1aab5121",
    "deepnote_cell_type": "markdown"
   },
   "source": [
    "First, we show an example where we have fixed the base. It may take many tries for it to solve, or not solve at all! At each iteration, we visualize where the optimizer stopped, so you can see what the failures look like."
   ]
  },
  {
   "cell_type": "code",
   "execution_count": null,
   "metadata": {
    "cell_id": "645d3560944d4d018ffb8a49b0cd650a",
    "deepnote_cell_type": "code",
    "execution_context_id": "9eea4b3e-36d2-406a-a14b-edf7f10ef596",
    "execution_millis": 4,
    "execution_start": 1758914005216,
    "source_hash": "6fafec58"
   },
   "outputs": [],
   "source": [
    "solve_ik(\n",
    "    goal_pose,\n",
    "    max_tries=20,\n",
    "    fix_base=True,\n",
    "    base_pose=np.array([-1.23, 0.05, 0]),\n",
    ")"
   ]
  },
  {
   "cell_type": "markdown",
   "metadata": {
    "cell_id": "c22555534e5d46b6a4117624849e8122",
    "deepnote_cell_type": "markdown"
   },
   "source": [
    "When we allow the base to move freely, the inverse kinematics can be solved much more easily!"
   ]
  },
  {
   "cell_type": "code",
   "execution_count": null,
   "metadata": {
    "cell_id": "c88d9ceda9cb459ba2fcb153c5ae8416",
    "deepnote_cell_type": "code",
    "execution_context_id": "9eea4b3e-36d2-406a-a14b-edf7f10ef596",
    "execution_millis": 71,
    "execution_start": 1758912964985,
    "source_hash": "72ee61d9"
   },
   "outputs": [],
   "source": [
    "solve_ik(goal_pose, fix_base=False)"
   ]
  },
  {
   "cell_type": "markdown",
   "metadata": {
    "cell_id": "41a852f082d544d188d8dc662f6bb398",
    "deepnote_cell_type": "markdown"
   },
   "source": [
    "Below is an autograder where you can check the correctness of your implementation."
   ]
  },
  {
   "cell_type": "code",
   "execution_count": null,
   "metadata": {
    "cell_id": "152fd4acc1ad4b6f8c2442c02fe42a94",
    "deepnote_cell_type": "code",
    "execution_context_id": "9eea4b3e-36d2-406a-a14b-edf7f10ef596",
    "execution_millis": 12244,
    "execution_start": 1758912816812,
    "source_hash": "aed55338"
   },
   "outputs": [],
   "source": [
    "from manipulation.exercises.grader import Grader\n",
    "from manipulation.exercises.mobile.test_mobile_base_ik import TestMobileBaseIk\n",
    "\n",
    "Grader.grade_output([TestMobileBaseIk], [locals()], \"results.json\")\n",
    "Grader.print_test_results(\"results.json\")"
   ]
  },
  {
   "cell_type": "markdown",
   "metadata": {
    "cell_id": "ca6f56bdcb9e4f028d13606411be273f",
    "deepnote_cell_type": "markdown"
   },
   "source": [
    "## VERIFICATION IN GRADESCOPE\n",
    "\n",
    "**Instructions:** Complete the set of exercises below in Gradescope to verify your implementation"
   ]
  },
  {
   "cell_type": "markdown",
   "metadata": {
    "cell_id": "f1ff823088c84b2bb43200c49365c24b",
    "deepnote_cell_type": "markdown"
   },
   "source": [
    "## Verification 1: Fixed Base Failures\n",
    "\n",
    "**Question:** If we vary the x and y coordinates of the base pose for the fixed base case, we notice that sometimes IK fails to find an optimal solution. Which of the following base poses leads to a certain IK failure?\n",
    "\n",
    "A. [-1.23, 0.05, 0] \n",
    "B. [-1.5, -0.2, 0] \n",
    "C. [-1.8, 0.2, 0] \n",
    "D. [-1.4, 0.3, 0] \n"
   ]
  },
  {
   "cell_type": "markdown",
   "metadata": {
    "cell_id": "368bafd565bb4163b58460f801810c1e",
    "deepnote_cell_type": "markdown"
   },
   "source": [
    "## Verification 2: Optimal Position of the Mobile Base\n",
    "\n",
    "**Question:** When we set `fix_base=False`, what is the optimal position of the base of the PR2? The first three elements from the optimal solution returned by `solve_ik` represent the xyz coordinates of the base of the PR2. Give your answer to four decimal places."
   ]
  }
 ],
 "metadata": {
  "deepnote_notebook_id": "7b62b6b68b39448e9b016e1082a446a2",
  "kernelspec": {
   "display_name": ".venv",
   "language": "python",
   "name": "python3"
  },
  "language_info": {
   "codemirror_mode": {
    "name": "ipython",
    "version": 3
   },
   "file_extension": ".py",
   "mimetype": "text/x-python",
   "name": "python",
   "nbconvert_exporter": "python",
   "pygments_lexer": "ipython3",
   "version": "3.13.7"
  }
 },
 "nbformat": 4,
 "nbformat_minor": 0
}