{
 "cells": [
  {
   "cell_type": "markdown",
   "id": "3b37ff68",
   "metadata": {
    "colab_type": "text",
    "id": "EgiF12Hf1Dhs"
   },
   "source": [
    "This notebook provides examples to go along with the [textbook](http://manipulation.csail.mit.edu/pick.html).  I recommend having both windows open, side-by-side!"
   ]
  },
  {
   "cell_type": "code",
   "execution_count": null,
   "id": "266dd9b1",
   "metadata": {
    "colab": {},
    "colab_type": "code",
    "id": "eeMrMI0-1Dhu"
   },
   "outputs": [],
   "source": [
    "import mpld3\n",
    "import numpy as np\n",
    "from matplotlib import pyplot as plt\n",
    "from pydrake.all import (\n",
    "    AddMultibodyPlantSceneGraph,\n",
    "    AngleAxis,\n",
    "    DiagramBuilder,\n",
    "    Integrator,\n",
    "    JacobianWrtVariable,\n",
    "    LeafSystem,\n",
    "    MeshcatVisualizer,\n",
    "    MultibodyPlant,\n",
    "    MultibodyPositionToGeometryPose,\n",
    "    Parser,\n",
    "    PiecewisePolynomial,\n",
    "    PiecewisePose,\n",
    "    Quaternion,\n",
    "    Rgba,\n",
    "    RigidTransform,\n",
    "    RotationMatrix,\n",
    "    SceneGraph,\n",
    "    Simulator,\n",
    "    StartMeshcat,\n",
    "    TrajectorySource,\n",
    ")\n",
    "\n",
    "from manipulation import running_as_notebook\n",
    "from manipulation.station import LoadScenario, MakeHardwareStation\n",
    "from manipulation.utils import RenderDiagram\n",
    "\n",
    "if running_as_notebook:\n",
    "    mpld3.enable_notebook()"
   ]
  },
  {
   "cell_type": "code",
   "execution_count": null,
   "id": "775ae792",
   "metadata": {},
   "outputs": [],
   "source": [
    "# Start the visualizer.\n",
    "meshcat = StartMeshcat()"
   ]
  },
  {
   "cell_type": "markdown",
   "id": "ab973037",
   "metadata": {
    "colab_type": "text",
    "id": "d5p2tbJWrWZ5"
   },
   "source": [
    "# A pick and place \"sketch\" with keyframes\n",
    "\n",
    "Let's first define the canonical frames of our problem.  We've got a handful of them, and will pass them in and out of several functions, so I'll use a dictionary to store them.\n",
    "\n",
    "Note: I've added one more frame into the mix here, to get some clearance when moving between the bins.  Leaving it out gave me a nice [robot outtake](http://manipulation.csail.mit.edu/data/pick_fail.html)."
   ]
  },
  {
   "cell_type": "code",
   "execution_count": null,
   "id": "9c01c2d6",
   "metadata": {
    "colab": {},
    "colab_type": "code",
    "id": "zYuRDF6mSBx5"
   },
   "outputs": [],
   "source": [
    "def MakeGripperFrames(X_WG, X_WO):\n",
    "    \"\"\"\n",
    "    Takes a partial specification with X_G[\"initial\"] and X_O[\"initial\"] and\n",
    "    X_0[\"goal\"], and returns a X_G and times with all of the pick and place\n",
    "    frames populated.\n",
    "    \"\"\"\n",
    "    # Define (again) the gripper pose relative to the object when in grasp.\n",
    "    p_GgraspO = [0, 0.12, 0]\n",
    "    R_GgraspO = RotationMatrix.MakeXRotation(\n",
    "        np.pi / 2.0\n",
    "    ) @ RotationMatrix.MakeZRotation(np.pi / 2.0)\n",
    "    X_GgraspO = RigidTransform(R_GgraspO, p_GgraspO)\n",
    "    X_OGgrasp = X_GgraspO.inverse()\n",
    "    # pregrasp is negative y in the gripper frame (see the figure!).\n",
    "    X_GgraspGpregrasp = RigidTransform([0, -0.08, 0])\n",
    "\n",
    "    X_WG[\"pick\"] = X_WO[\"initial\"] @ X_OGgrasp\n",
    "    X_WG[\"prepick\"] = X_WG[\"pick\"] @ X_GgraspGpregrasp\n",
    "    X_WG[\"place\"] = X_WO[\"goal\"] @ X_OGgrasp\n",
    "    X_WG[\"preplace\"] = X_WG[\"place\"] @ X_GgraspGpregrasp\n",
    "\n",
    "    # I'll interpolate a halfway orientation by converting to axis angle and halving the angle.\n",
    "    X_GprepickGpreplace = X_WG[\"prepick\"].inverse() @ X_WG[\"preplace\"]\n",
    "    angle_axis = X_GprepickGpreplace.rotation().ToAngleAxis()\n",
    "    X_GprepickGclearance = RigidTransform(\n",
    "        AngleAxis(angle=angle_axis.angle() / 2.0, axis=angle_axis.axis()),\n",
    "        X_GprepickGpreplace.translation() / 2.0 + np.array([0, -0.3, 0]),\n",
    "    )\n",
    "    X_WG[\"clearance\"] = X_WG[\"prepick\"] @ X_GprepickGclearance\n",
    "\n",
    "    # Now let's set the timing\n",
    "    times = {\"initial\": 0}\n",
    "    X_GinitialGprepick = X_G[\"initial\"].inverse() @ X_WG[\"prepick\"]\n",
    "    times[\"prepick\"] = times[\"initial\"] + 10.0 * np.linalg.norm(\n",
    "        X_GinitialGprepick.translation()\n",
    "    )\n",
    "    # Allow some time for the gripper to close.\n",
    "    times[\"pick_start\"] = times[\"prepick\"] + 2.0\n",
    "    times[\"pick_end\"] = times[\"pick_start\"] + 2.0\n",
    "    X_WG[\"pick_start\"] = X_WG[\"pick\"]\n",
    "    X_WG[\"pick_end\"] = X_WG[\"pick\"]\n",
    "    times[\"postpick\"] = times[\"pick_end\"] + 2.0\n",
    "    X_WG[\"postpick\"] = X_WG[\"prepick\"]\n",
    "    time_to_from_clearance = 10.0 * np.linalg.norm(X_GprepickGclearance.translation())\n",
    "    times[\"clearance\"] = times[\"postpick\"] + time_to_from_clearance\n",
    "    times[\"preplace\"] = times[\"clearance\"] + time_to_from_clearance\n",
    "    times[\"place_start\"] = times[\"preplace\"] + 2.0\n",
    "    times[\"place_end\"] = times[\"place_start\"] + 2.0\n",
    "    X_WG[\"place_start\"] = X_WG[\"place\"]\n",
    "    X_WG[\"place_end\"] = X_WG[\"place\"]\n",
    "    times[\"postplace\"] = times[\"place_end\"] + 2.0\n",
    "    X_WG[\"postplace\"] = X_WG[\"preplace\"]\n",
    "\n",
    "    return X_WG, times\n",
    "\n",
    "\n",
    "X_G = {\n",
    "    \"initial\": RigidTransform(\n",
    "        RotationMatrix.MakeXRotation(-np.pi / 2.0), [0, -0.25, 0.25]\n",
    "    )\n",
    "}\n",
    "X_O = {\n",
    "    \"initial\": RigidTransform(\n",
    "        RotationMatrix.MakeZRotation(np.pi / 2.0), [-0.2, -0.75, 0.025]\n",
    "    ),\n",
    "    \"goal\": RigidTransform(RotationMatrix.MakeZRotation(np.pi), [0.75, 0, 0.025]),\n",
    "}\n",
    "X_G, times = MakeGripperFrames(X_G, X_O)\n",
    "print(\n",
    "    f\"Sanity check: The entire maneuver will take {times['postplace']} seconds to execute.\"\n",
    ")"
   ]
  },
  {
   "cell_type": "markdown",
   "id": "e21b7f78",
   "metadata": {
    "colab_type": "text",
    "id": "JnmfEw0zgzsn"
   },
   "source": [
    "Here's a simple visualization of those frames.  Use the controls menu in meshcat to view the different objects on the different \"paths\" to understand which objects belong to which frames.  Everything look reasonable?\n",
    "\n",
    "Try changing the initial and final pose of the gripper / object."
   ]
  },
  {
   "cell_type": "code",
   "execution_count": null,
   "id": "562b78f3",
   "metadata": {
    "colab": {},
    "colab_type": "code",
    "id": "oXh50Cf1hU6N"
   },
   "outputs": [],
   "source": [
    "def visualize_gripper_frames(X_G, X_O):\n",
    "    builder = DiagramBuilder()\n",
    "\n",
    "    plant, scene_graph = AddMultibodyPlantSceneGraph(builder, time_step=0.0)\n",
    "    parser = Parser(plant, scene_graph)\n",
    "    parser.SetAutoRenaming(True)\n",
    "    for key, pose in X_G.items():\n",
    "        g = parser.AddModelsFromUrl(\n",
    "            \"package://drake_models/wsg_50_description/sdf/schunk_wsg_50_no_tip.sdf\"\n",
    "        )[0]\n",
    "        plant.WeldFrames(plant.world_frame(), plant.GetFrameByName(\"body\", g), pose)\n",
    "    for key, pose in X_O.items():\n",
    "        o = parser.AddModelsFromUrl(\n",
    "            \"package://drake_models/manipulation_station/061_foam_brick.sdf\"\n",
    "        )[0]\n",
    "        plant.WeldFrames(\n",
    "            plant.world_frame(), plant.GetFrameByName(\"base_link\", o), pose\n",
    "        )\n",
    "\n",
    "    plant.Finalize()\n",
    "\n",
    "    meshcat.Delete()\n",
    "    MeshcatVisualizer.AddToBuilder(builder, scene_graph, meshcat)\n",
    "\n",
    "    diagram = builder.Build()\n",
    "    context = diagram.CreateDefaultContext()\n",
    "    diagram.ForcedPublish(context)\n",
    "\n",
    "\n",
    "visualize_gripper_frames(X_G, X_O)"
   ]
  },
  {
   "cell_type": "markdown",
   "id": "0503ba59",
   "metadata": {
    "colab_type": "text",
    "id": "HmcG3b_xSeQR"
   },
   "source": [
    "# Pick and place trajectories\n",
    "\n",
    "We've defined the keyframes, but now we will fill in timing details (what should be happening at each instant).\n",
    "\n",
    "Interpolating between the positions is quite simple; we can encode these details as a `PiecewisePolynomial` trajectory in $\\Re^3$ over time.  Interpolating over orientations requires more care.  We'll use `PiecewiseQuaternionSlerp` to do the job.\n",
    "\n",
    "See the documentation of [PiecewisePose](https://drake.mit.edu/doxygen_cxx/classdrake_1_1trajectories_1_1_piecewise_pose.html#ae2f8a49b642aecb5c19ef3625be5e61d) for more details."
   ]
  },
  {
   "cell_type": "code",
   "execution_count": null,
   "id": "fefa7ad5",
   "metadata": {
    "colab": {},
    "colab_type": "code",
    "id": "oiwljuszWh_O"
   },
   "outputs": [],
   "source": [
    "def MakeGripperPoseTrajectory(X_G, times):\n",
    "    \"\"\"\n",
    "    Constructs a gripper position trajectory from the plan \"sketch\".\n",
    "    \"\"\"\n",
    "\n",
    "    sample_times = []\n",
    "    poses = []\n",
    "    for name in [\n",
    "        \"initial\",\n",
    "        \"prepick\",\n",
    "        \"pick_start\",\n",
    "        \"pick_end\",\n",
    "        \"postpick\",\n",
    "        \"clearance\",\n",
    "        \"preplace\",\n",
    "        \"place_start\",\n",
    "        \"place_end\",\n",
    "        \"postplace\",\n",
    "    ]:\n",
    "        sample_times.append(times[name])\n",
    "        poses.append(X_G[name])\n",
    "\n",
    "    return PiecewisePose.MakeLinear(sample_times, poses)\n",
    "\n",
    "\n",
    "traj_X_G = MakeGripperPoseTrajectory(X_G, times)"
   ]
  },
  {
   "cell_type": "markdown",
   "id": "8b15c741",
   "metadata": {
    "colab_type": "text",
    "id": "2PnYrnSmEMYC"
   },
   "source": [
    "Now let's plot our trajectories."
   ]
  },
  {
   "cell_type": "code",
   "execution_count": null,
   "id": "88051671",
   "metadata": {
    "colab": {},
    "colab_type": "code",
    "id": "Ppd-5B3V3cNC"
   },
   "outputs": [],
   "source": [
    "traj_p_G = traj_X_G.get_position_trajectory()\n",
    "\n",
    "p_G = traj_p_G.vector_values(traj_p_G.get_segment_times())\n",
    "plt.plot(traj_p_G.get_segment_times(), p_G.T)\n",
    "plt.legend([\"x\", \"y\", \"z\"])\n",
    "plt.title(\"p_G\")\n",
    "mpld3.display()"
   ]
  },
  {
   "cell_type": "markdown",
   "id": "96e1d420",
   "metadata": {
    "colab_type": "text",
    "id": "yIVvA6ZoFLvt"
   },
   "source": [
    "We can also plot the trajectory in 3D directly in Meshcat."
   ]
  },
  {
   "cell_type": "code",
   "execution_count": null,
   "id": "a3de782f",
   "metadata": {
    "colab": {},
    "colab_type": "code",
    "id": "2vgn7mxcDvlK"
   },
   "outputs": [],
   "source": [
    "meshcat.ResetRenderMode()\n",
    "meshcat.SetLine(\"p_G\", p_G, 2.0, rgba=Rgba(1, 0.65, 0))"
   ]
  },
  {
   "cell_type": "markdown",
   "id": "5650bfc5",
   "metadata": {
    "colab_type": "text",
    "id": "zNNRr4Fq7frG"
   },
   "source": [
    "We can plot the orientation trajectory, too.  Here are the components of the quaternion over time."
   ]
  },
  {
   "cell_type": "code",
   "execution_count": null,
   "id": "03a803a7",
   "metadata": {
    "colab": {},
    "colab_type": "code",
    "id": "4aKEnaLJ50pF"
   },
   "outputs": [],
   "source": [
    "traj_R_G = traj_X_G.get_orientation_trajectory()\n",
    "R_G = traj_R_G.vector_values(traj_R_G.get_segment_times())\n",
    "plt.plot(traj_R_G.get_segment_times(), R_G.T)\n",
    "plt.legend([\"qx\", \"qy\", \"qz\", \"qw\"])\n",
    "plt.title(\"R_G\")\n",
    "mpld3.display()"
   ]
  },
  {
   "cell_type": "markdown",
   "id": "77e65899",
   "metadata": {
    "colab_type": "text",
    "id": "dWCyowMC8LUN"
   },
   "source": [
    "Better, I think, to just plot the entire result.  Before we do, let's quickly define the finger trajectory."
   ]
  },
  {
   "cell_type": "code",
   "execution_count": null,
   "id": "6cd33c1e",
   "metadata": {
    "colab": {},
    "colab_type": "code",
    "id": "65OocrXD8TSA"
   },
   "outputs": [],
   "source": [
    "def MakeGripperCommandTrajectory(times):\n",
    "    opened = np.array([0.107])\n",
    "    closed = np.array([0.0])\n",
    "\n",
    "    traj_wsg_command = PiecewisePolynomial.FirstOrderHold(\n",
    "        [times[\"initial\"], times[\"pick_start\"]],\n",
    "        np.hstack([[opened], [opened]]),\n",
    "    )\n",
    "    traj_wsg_command.AppendFirstOrderSegment(times[\"pick_end\"], closed)\n",
    "    traj_wsg_command.AppendFirstOrderSegment(times[\"place_start\"], closed)\n",
    "    traj_wsg_command.AppendFirstOrderSegment(times[\"place_end\"], opened)\n",
    "    traj_wsg_command.AppendFirstOrderSegment(times[\"postplace\"], opened)\n",
    "    return traj_wsg_command\n",
    "\n",
    "\n",
    "traj_wsg_command = MakeGripperCommandTrajectory(times)"
   ]
  },
  {
   "cell_type": "code",
   "execution_count": null,
   "id": "f53356a8",
   "metadata": {
    "colab": {},
    "colab_type": "code",
    "id": "aEc95stq9tyx"
   },
   "outputs": [],
   "source": [
    "wsg_command = traj_wsg_command.vector_values(traj_wsg_command.get_segment_times())\n",
    "plt.plot(traj_wsg_command.get_segment_times(), wsg_command.T)\n",
    "plt.title(\"wsg_command\")\n",
    "mpld3.display()"
   ]
  },
  {
   "cell_type": "markdown",
   "id": "e25e901f",
   "metadata": {
    "colab_type": "text",
    "id": "wrhTvm5eIJFi"
   },
   "source": [
    "Now let's really visualize the trajectory.  The best way is to animate it in 3D!  Please forgive the messiness of this particular bit of code; I'm trying to provide some intermediate steps that aren't typically used by the main drake developers.\n",
    "\n",
    "TODO(russt): make this less \"bespoke\"."
   ]
  },
  {
   "cell_type": "code",
   "execution_count": null,
   "id": "c40ee723",
   "metadata": {
    "colab": {},
    "colab_type": "code",
    "id": "PZ7S7oai_ORF"
   },
   "outputs": [],
   "source": [
    "class GripperTrajectoriesToPosition(LeafSystem):\n",
    "    def __init__(self, plant, traj_p_G, traj_R_G, traj_wsg_command):\n",
    "        LeafSystem.__init__(self)\n",
    "        self.plant = plant\n",
    "        self.gripper_body = plant.GetBodyByName(\"body\")\n",
    "        self.left_finger_joint = plant.GetJointByName(\"left_finger_sliding_joint\")\n",
    "        self.right_finger_joint = plant.GetJointByName(\"right_finger_sliding_joint\")\n",
    "        self.traj_p_G = traj_p_G\n",
    "        self.traj_R_G = traj_R_G\n",
    "        self.traj_wsg_command = traj_wsg_command\n",
    "        self.plant_context = plant.CreateDefaultContext()\n",
    "\n",
    "        self.DeclareVectorOutputPort(\n",
    "            \"position\", plant.num_positions(), self.CalcPositionOutput\n",
    "        )\n",
    "\n",
    "    def CalcPositionOutput(self, context, output):\n",
    "        t = context.get_time()\n",
    "        X_G = RigidTransform(Quaternion(self.traj_R_G.value(t)), self.traj_p_G.value(t))\n",
    "        self.plant.SetFreeBodyPose(self.plant_context, self.gripper_body, X_G)\n",
    "        wsg = self.traj_wsg_command.value(t)[0, 0]\n",
    "        self.left_finger_joint.set_translation(self.plant_context, -wsg / 2.0)\n",
    "        self.right_finger_joint.set_translation(self.plant_context, wsg / 2.0)\n",
    "        output.SetFromVector(self.plant.GetPositions(self.plant_context))\n",
    "\n",
    "\n",
    "def visualize_pick_and_place_trajectory(traj_p_G, traj_R_G, traj_wsg_command, X_O):\n",
    "    builder = DiagramBuilder()\n",
    "\n",
    "    # Note: Don't use AddMultibodyPlantSceneGraph because we are only using\n",
    "    # MultibodyPlant for parsing, then wiring directly to SceneGraph.\n",
    "    scene_graph = builder.AddSystem(SceneGraph())\n",
    "    plant = MultibodyPlant(time_step=0.0)\n",
    "    plant.RegisterAsSourceForSceneGraph(scene_graph)\n",
    "    parser = Parser(plant, scene_graph)\n",
    "    parser.SetAutoRenaming(True)\n",
    "    gripper = parser.AddModelsFromUrl(\n",
    "        \"package://drake_models/wsg_50_description/sdf/schunk_wsg_50_no_tip.sdf\"\n",
    "    )[0]\n",
    "    brick = \"package://drake_models/manipulation_station/061_foam_brick.sdf\"\n",
    "    for key, pose in X_O.items():\n",
    "        o = parser.AddModelsFromUrl(brick)[0]\n",
    "        plant.WeldFrames(\n",
    "            plant.world_frame(), plant.GetFrameByName(\"base_link\", o), pose\n",
    "        )\n",
    "    plant.Finalize()\n",
    "\n",
    "    to_pose = builder.AddSystem(MultibodyPositionToGeometryPose(plant))\n",
    "    builder.Connect(\n",
    "        to_pose.get_output_port(),\n",
    "        scene_graph.get_source_pose_port(plant.get_source_id()),\n",
    "    )\n",
    "\n",
    "    traj_to_position = builder.AddSystem(\n",
    "        GripperTrajectoriesToPosition(plant, traj_p_G, traj_R_G, traj_wsg_command)\n",
    "    )\n",
    "    builder.Connect(traj_to_position.get_output_port(), to_pose.get_input_port())\n",
    "\n",
    "    meshcat.Delete()\n",
    "    MeshcatVisualizer.AddToBuilder(builder, scene_graph, meshcat)\n",
    "\n",
    "    diagram = builder.Build()\n",
    "\n",
    "    simulator = Simulator(diagram)\n",
    "    meshcat.StartRecording(set_visualizations_while_recording=False)\n",
    "    simulator.AdvanceTo(traj_p_G.end_time() if running_as_notebook else 0.1)\n",
    "    meshcat.PublishRecording()\n",
    "\n",
    "\n",
    "visualize_pick_and_place_trajectory(traj_p_G, traj_R_G, traj_wsg_command, X_O)"
   ]
  },
  {
   "cell_type": "markdown",
   "id": "d453dbb8",
   "metadata": {
    "colab_type": "text",
    "id": "ue9ofS7GHpXr"
   },
   "source": [
    "# Putting it all together\n",
    "\n",
    "In the visualization above, we animated the plan, but did not actually command the robot!  Let's put our grasping trajectories back together with our Jacobian-based controller.\n",
    "\n",
    "The first thing you might have noticed is that the Jacobian controller takes spatial velocities as input.  But so far we have trajectories for positions and orientations.  Let's differentiate them to get the velocities."
   ]
  },
  {
   "cell_type": "code",
   "execution_count": null,
   "id": "06495752",
   "metadata": {
    "colab": {},
    "colab_type": "code",
    "id": "MfaCoTnNXfjj"
   },
   "outputs": [],
   "source": [
    "traj_v_G = traj_p_G.MakeDerivative()\n",
    "\n",
    "v_G = traj_v_G.vector_values(traj_v_G.get_segment_times())\n",
    "plt.plot(traj_v_G.get_segment_times(), v_G.T)\n",
    "plt.legend([\"vx\", \"vy\", \"vz\"])\n",
    "plt.title(\"v_G\")\n",
    "mpld3.display()"
   ]
  },
  {
   "cell_type": "markdown",
   "id": "1feebfc5",
   "metadata": {
    "colab_type": "text",
    "id": "BrDNL8cvMo_o"
   },
   "source": [
    "Now we need a slightly modified version of our Jacobian controller, which can take the spatial velocity commands from an input port."
   ]
  },
  {
   "cell_type": "code",
   "execution_count": null,
   "id": "78e66f80",
   "metadata": {
    "colab": {},
    "colab_type": "code",
    "id": "nVKlTQKGKUU0"
   },
   "outputs": [],
   "source": [
    "class PseudoInverseController(LeafSystem):\n",
    "    def __init__(self, plant):\n",
    "        LeafSystem.__init__(self)\n",
    "        self._plant = plant\n",
    "        self._plant_context = plant.CreateDefaultContext()\n",
    "        self._iiwa = plant.GetModelInstanceByName(\"iiwa\")\n",
    "        self._G = plant.GetBodyByName(\"body\").body_frame()\n",
    "        self._W = plant.world_frame()\n",
    "\n",
    "        self.V_G_port = self.DeclareVectorInputPort(\"V_WG\", 6)\n",
    "        self.q_port = self.DeclareVectorInputPort(\"iiwa.position\", 7)\n",
    "        self.DeclareVectorOutputPort(\"iiwa.velocity\", 7, self.CalcOutput)\n",
    "        self.iiwa_start = plant.GetJointByName(\"iiwa_joint_1\").velocity_start()\n",
    "        self.iiwa_end = plant.GetJointByName(\"iiwa_joint_7\").velocity_start()\n",
    "\n",
    "    def CalcOutput(self, context, output):\n",
    "        V_G = self.V_G_port.Eval(context)\n",
    "        q = self.q_port.Eval(context)\n",
    "        self._plant.SetPositions(self._plant_context, self._iiwa, q)\n",
    "        J_G = self._plant.CalcJacobianSpatialVelocity(\n",
    "            self._plant_context,\n",
    "            JacobianWrtVariable.kV,\n",
    "            self._G,\n",
    "            [0, 0, 0],\n",
    "            self._W,\n",
    "            self._W,\n",
    "        )\n",
    "        J_G = J_G[:, self.iiwa_start : self.iiwa_end + 1]  # Only iiwa terms.\n",
    "        v = np.linalg.pinv(J_G).dot(V_G)\n",
    "        output.SetFromVector(v)"
   ]
  },
  {
   "cell_type": "markdown",
   "id": "057a8f3c",
   "metadata": {
    "colab_type": "text",
    "id": "uM1pk1zzN9D3"
   },
   "source": [
    "Oh, boy.  Big moment.  I'm excited... are you?  Let's do this thing!"
   ]
  },
  {
   "cell_type": "code",
   "execution_count": null,
   "id": "0e2c1e69",
   "metadata": {
    "colab": {},
    "colab_type": "code",
    "id": "hDrXl1oSNt6u"
   },
   "outputs": [],
   "source": [
    "X_O = {\n",
    "    \"initial\": RigidTransform(\n",
    "        RotationMatrix.MakeZRotation(np.pi / 2.0), [0, -0.6, 0.0]\n",
    "    ),\n",
    "    \"goal\": RigidTransform(RotationMatrix.MakeZRotation(np.pi), [0.5, 0, 0.0]),\n",
    "}\n",
    "\n",
    "meshcat.Delete()\n",
    "builder = DiagramBuilder()\n",
    "\n",
    "scenario_data = \"\"\"\n",
    "directives:\n",
    "- add_directives:\n",
    "    file: package://manipulation/clutter.dmd.yaml\n",
    "- add_model:\n",
    "    name: foam_brick\n",
    "    file: package://manipulation/hydro/061_foam_brick.sdf\n",
    "model_drivers:\n",
    "    iiwa: !IiwaDriver\n",
    "      control_mode: position_only\n",
    "      hand_model_name: wsg\n",
    "    wsg: !SchunkWsgDriver {}\n",
    "\"\"\"\n",
    "\n",
    "scenario = LoadScenario(data=scenario_data)\n",
    "station = builder.AddSystem(MakeHardwareStation(scenario, meshcat=meshcat))\n",
    "plant = station.GetSubsystemByName(\"plant\")\n",
    "plant.SetDefaultFreeBodyPose(plant.GetBodyByName(\"base_link\"), X_O[\"initial\"])\n",
    "\n",
    "# Find the initial pose of the gripper and object (as set in the default Context)\n",
    "temp_context = station.CreateDefaultContext()\n",
    "temp_plant_context = plant.GetMyContextFromRoot(temp_context)\n",
    "X_G = {\n",
    "    \"initial\": plant.EvalBodyPoseInWorld(\n",
    "        temp_plant_context, plant.GetBodyByName(\"body\")\n",
    "    )\n",
    "}\n",
    "X_O[\"initial\"] = plant.EvalBodyPoseInWorld(\n",
    "    temp_plant_context, plant.GetBodyByName(\"base_link\")\n",
    ")\n",
    "X_G, times = MakeGripperFrames(X_G, X_O)\n",
    "print(\n",
    "    f\"Sanity check: The entire maneuver will take {times['postplace']} seconds to execute.\"\n",
    ")\n",
    "\n",
    "# Make the trajectories\n",
    "traj = MakeGripperPoseTrajectory(X_G, times)\n",
    "traj_V_G = traj.MakeDerivative()\n",
    "\n",
    "V_G_source = builder.AddSystem(TrajectorySource(traj_V_G))\n",
    "V_G_source.set_name(\"v_WG\")\n",
    "controller = builder.AddSystem(PseudoInverseController(plant))\n",
    "controller.set_name(\"PseudoInverseController\")\n",
    "builder.Connect(V_G_source.get_output_port(), controller.GetInputPort(\"V_WG\"))\n",
    "\n",
    "integrator = builder.AddSystem(Integrator(7))\n",
    "integrator.set_name(\"integrator\")\n",
    "builder.Connect(controller.get_output_port(), integrator.get_input_port())\n",
    "builder.Connect(integrator.get_output_port(), station.GetInputPort(\"iiwa.position\"))\n",
    "builder.Connect(\n",
    "    station.GetOutputPort(\"iiwa.position_measured\"),\n",
    "    controller.GetInputPort(\"iiwa.position\"),\n",
    ")\n",
    "\n",
    "traj_wsg_command = MakeGripperCommandTrajectory(times)\n",
    "wsg_source = builder.AddSystem(TrajectorySource(traj_wsg_command))\n",
    "wsg_source.set_name(\"wsg.command\")\n",
    "builder.Connect(wsg_source.get_output_port(), station.GetInputPort(\"wsg.position\"))\n",
    "\n",
    "diagram = builder.Build()\n",
    "diagram.set_name(\"pick_and_place\")\n",
    "\n",
    "simulator = Simulator(diagram)\n",
    "context = simulator.get_mutable_context()\n",
    "station_context = station.GetMyContextFromRoot(context)\n",
    "integrator.set_integral_value(\n",
    "    integrator.GetMyContextFromRoot(context),\n",
    "    plant.GetPositions(\n",
    "        plant.GetMyContextFromRoot(context),\n",
    "        plant.GetModelInstanceByName(\"iiwa\"),\n",
    "    ),\n",
    ")\n",
    "\n",
    "diagram.ForcedPublish(context)\n",
    "meshcat.StartRecording()\n",
    "simulator.AdvanceTo(traj_p_G.end_time() if running_as_notebook else 0.1)\n",
    "meshcat.PublishRecording()"
   ]
  },
  {
   "cell_type": "markdown",
   "id": "bef77623",
   "metadata": {
    "colab_type": "text",
    "id": "AeKMhIacWZ00"
   },
   "source": [
    "That's quite some diagram we've assembled.  Do you understand all of the parts?"
   ]
  },
  {
   "cell_type": "code",
   "execution_count": null,
   "id": "9d62f8bf",
   "metadata": {
    "colab": {},
    "colab_type": "code",
    "id": "ZWXemy-bUAab"
   },
   "outputs": [],
   "source": [
    "RenderDiagram(diagram, max_depth=1)"
   ]
  },
  {
   "cell_type": "code",
   "execution_count": null,
   "id": "c6b7b1af",
   "metadata": {
    "colab": {},
    "colab_type": "code",
    "id": "JX1Oq7gfWsBD"
   },
   "outputs": [],
   "source": []
  }
 ],
 "metadata": {
  "kernelspec": {
   "display_name": "Python 3.8.10 64-bit",
   "language": "python",
   "name": "python3"
  },
  "language_info": {
   "name": "python",
   "version": "3.11.6"
  }
 },
 "nbformat": 4,
 "nbformat_minor": 5
}
