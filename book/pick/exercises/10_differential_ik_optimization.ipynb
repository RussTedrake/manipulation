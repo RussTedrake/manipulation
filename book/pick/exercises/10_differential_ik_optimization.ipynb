{
 "cells": [
  {
   "cell_type": "markdown",
   "metadata": {
    "cell_id": "b9b80d68fad544728c9f135c987a9d54",
    "colab_type": "text",
    "deepnote_cell_type": "markdown",
    "id": "1VDev4CDWBdP"
   },
   "source": [
    "# **Differential IK as Optimization**\n",
    "\n",
    "In lecture, we learned about how to view Differential inverse kinematics as an instance of optimization. In this exercise, we will actually define and solve these optimization problems!\n",
    "\n",
    "\n",
    "**Learning Objectives**\n",
    "- Understand how Differential Inverse Kinematics (IK) can be formulated as an optimization problem.\n",
    "- Learn to implement controllers using Drake\u2019s MathematicalProgram.\n",
    "- Explore how constraints (joint velocity limits, position bounds, and virtual walls) can impact robotic manipulation.\n",
    "\n",
    "**What You'll Implement**\n",
    "-  The JacobianPseudoinverse controller as an optimization-based framework with joint-velocity constraints.\n",
    "- A virtual wall for the manipulator through constraints in the end-effector space."
   ]
  },
  {
   "cell_type": "markdown",
   "metadata": {
    "cell_id": "59b1d205c776424f9bbfe5113ad88105",
    "deepnote_cell_type": "markdown"
   },
   "source": [
    "## Setup and Imports\n",
    "\n",
    "Let us first import our standard drake functionality"
   ]
  },
  {
   "cell_type": "code",
   "execution_count": null,
   "metadata": {
    "cell_id": "178581ea387d4af8bdf61dfa56c9a320",
    "colab": {},
    "colab_type": "code",
    "deepnote_cell_type": "code",
    "execution_context_id": "84c849b5-52cc-45d1-876b-5cdd15c269b2",
    "execution_millis": 1300,
    "execution_start": 1757951235058,
    "id": "tFMmTfbHWQfh",
    "lines_to_end_of_cell_marker": 2,
    "source_hash": "7abe1846"
   },
   "outputs": [],
   "source": [
    "from typing import Callable\n",
    "\n",
    "import numpy as np\n",
    "from pydrake.all import (\n",
    "    BasicVector,\n",
    "    Box,\n",
    "    ConstantVectorSource,\n",
    "    Context,\n",
    "    DiagramBuilder,\n",
    "    Integrator,\n",
    "    JacobianWrtVariable,\n",
    "    LeafSystem,\n",
    "    MathematicalProgram,\n",
    "    MultibodyPlant,\n",
    "    Rgba,\n",
    "    RigidTransform,\n",
    "    Simulator,\n",
    "    SnoptSolver,\n",
    "    StartMeshcat,\n",
    "    ge,\n",
    "    le,\n",
    ")\n",
    "\n",
    "from manipulation import running_as_notebook\n",
    "from manipulation.exercises.grader import Grader\n",
    "from manipulation.exercises.pick.test_differential_ik import TestDifferentialIK\n",
    "from manipulation.station import LoadScenario, MakeHardwareStation\n",
    "from manipulation.utils import RenderDiagram"
   ]
  },
  {
   "cell_type": "code",
   "execution_count": null,
   "metadata": {
    "cell_id": "77ca8f0cd824469fbf3e70aae1b685a4",
    "deepnote_cell_type": "code",
    "execution_context_id": "84c849b5-52cc-45d1-876b-5cdd15c269b2",
    "execution_millis": 25,
    "execution_start": 1757951237102,
    "source_hash": "6d42057f"
   },
   "outputs": [],
   "source": [
    "# Start the visualizer.\n",
    "meshcat = StartMeshcat()"
   ]
  },
  {
   "cell_type": "markdown",
   "metadata": {
    "cell_id": "a600f024d2bf477aa79e4a93a1d555a2",
    "colab_type": "text",
    "deepnote_cell_type": "markdown",
    "id": "f6M3qJIHVQ-y"
   },
   "source": [
    "## Part 1: The Differential IK System\n",
    "\n",
    "As we've seen in the lecture, a differential IK converts a desired end-effector velocity to joint velocities. From drake's system view of the world, how should we abstract this?\n",
    "\n",
    "It would be reasonable to make it a `LeafSystem`, where the input is `spatial velocity_desired`, and the output is `iiwa_velocity_commanded`. We might also need an input port of `iiwa_position_measured` since our Jacobian is a function of the joint angles, and `iiwa_velocity_esimated` in case we want to use that information.\n",
    "\n",
    "<img src=\"https://raw.githubusercontent.com/RussTedrake/manipulation/master/book/figures/exercises/diffik_system.png\" width=\"700\">\n",
    "\n",
    "Since we will be going through different implementations of DifferentialIK, let's set up a DifferentialIKSystem that accepts a function to compute joint velocities upon getting the Jacobian, desired spatial velocity, and other information from the robot."
   ]
  },
  {
   "cell_type": "markdown",
   "metadata": {
    "cell_id": "186df0cdc6e640f9a28aeb33dd06644e",
    "colab_type": "text",
    "deepnote_cell_type": "markdown",
    "id": "gfcK2R9WgnPe"
   },
   "source": [
    "We will also abstract all the Drake workings into a wrapper `BuildAndSimulate`, which constructs and connects the following systems:\n",
    "- `HardwareStation`\n",
    "- `DifferentialIKSystem`\n",
    "- `ConstantVectorSource` for commanding desired velocity to controller.\n",
    "- `Integrator` to go from `iiwa.velocity` output of controller to `iiwa.position` input of `HardwareStation`.\n",
    "\n",
    "The purpose of this function is to swap out different implementations of spatial-to-joint velocity mappings on the fly and simulate!\n",
    "\n",
    "Read through the code below to get an idea of how it works."
   ]
  },
  {
   "cell_type": "code",
   "execution_count": null,
   "metadata": {
    "cell_id": "0879143e115b44eb9f753c26d8fc073c",
    "colab": {},
    "colab_type": "code",
    "deepnote_cell_type": "code",
    "execution_context_id": "84c849b5-52cc-45d1-876b-5cdd15c269b2",
    "execution_millis": 0,
    "execution_start": 1757951239682,
    "id": "F24X_misbTFj",
    "source_hash": "c8e25278"
   },
   "outputs": [],
   "source": [
    "class DifferentialIKSystem(LeafSystem):\n",
    "    \"\"\"Wrapper system for Differential IK.\n",
    "    @param plant MultibodyPlant of the simulated plant.\n",
    "    @param diffik_fun function object that handles diffik. Must have the signature\n",
    "           diffik_fun(J_G, V_G_desired, q_now, v_now, X_now)\n",
    "    \"\"\"\n",
    "\n",
    "    def __init__(self, plant: MultibodyPlant, diffik_fun: Callable) -> None:\n",
    "        self.val = True\n",
    "        LeafSystem.__init__(self)\n",
    "        self._plant = plant\n",
    "        self._plant_context = plant.CreateDefaultContext()\n",
    "        self._iiwa = plant.GetModelInstanceByName(\"iiwa\")\n",
    "        self._G = plant.GetBodyByName(\"body\").body_frame()\n",
    "        self._W = plant.world_frame()\n",
    "        self._diffik_fun = diffik_fun\n",
    "\n",
    "        self.DeclareVectorInputPort(\"spatial_velocity\", 6)\n",
    "        self.DeclareVectorInputPort(\"iiwa.position_measured\", 7)\n",
    "        self.DeclareVectorInputPort(\"iiwa.velocity_measured\", 7)\n",
    "        self.DeclareVectorOutputPort(\"iiwa_velocity_command\", 7, self.CalcOutput)\n",
    "\n",
    "    def CalcOutput(self, context: Context, output: BasicVector) -> None:\n",
    "        V_G_desired = self.get_input_port(0).Eval(context)\n",
    "        q_now = self.get_input_port(1).Eval(context)\n",
    "        v_now = self.get_input_port(2).Eval(context)\n",
    "\n",
    "        self._plant.SetPositions(self._plant_context, self._iiwa, q_now)\n",
    "        J_G = self._plant.CalcJacobianSpatialVelocity(\n",
    "            self._plant_context,\n",
    "            JacobianWrtVariable.kQDot,\n",
    "            self._G,\n",
    "            [0, 0, 0],\n",
    "            self._W,\n",
    "            self._W,\n",
    "        )\n",
    "        J_G = J_G[:, 0:7]  # Ignore gripper terms\n",
    "\n",
    "        X_now = self._plant.CalcRelativeTransform(self._plant_context, self._W, self._G)\n",
    "        p_now = X_now.translation()\n",
    "\n",
    "        # You will be defining different versions of the diffik_fn in this problem.\n",
    "        v = self._diffik_fun(J_G, V_G_desired, q_now, v_now, p_now)\n",
    "        output.SetFromVector(v)\n",
    "\n",
    "\n",
    "def BuildAndSimulate(\n",
    "    diffik_fun: Callable,\n",
    "    V_d: np.ndarray,\n",
    "    duration: float,\n",
    "    plot_system_diagram: bool = False,\n",
    ") -> None:\n",
    "    builder = DiagramBuilder()\n",
    "\n",
    "    scenario_data = \"\"\"\n",
    "    directives:\n",
    "    - add_directives:\n",
    "        file: package://manipulation/clutter.dmd.yaml\n",
    "    model_drivers:\n",
    "        iiwa: !IiwaDriver\n",
    "            hand_model_name: wsg\n",
    "        wsg: !SchunkWsgDriver {}\n",
    "    \"\"\"\n",
    "    scenario = LoadScenario(data=scenario_data)\n",
    "    station = builder.AddSystem(MakeHardwareStation(scenario, meshcat=meshcat))\n",
    "    plant = station.GetSubsystemByName(\"plant\")\n",
    "\n",
    "    controller = builder.AddSystem(DifferentialIKSystem(plant, diffik_fun))\n",
    "    integrator = builder.AddSystem(Integrator(7))\n",
    "    desired_vel = builder.AddSystem(ConstantVectorSource(V_d))\n",
    "\n",
    "    builder.Connect(controller.get_output_port(), integrator.get_input_port())\n",
    "    builder.Connect(integrator.get_output_port(), station.GetInputPort(\"iiwa.position\"))\n",
    "    builder.Connect(\n",
    "        station.GetOutputPort(\"iiwa.position_measured\"),\n",
    "        controller.get_input_port(1),\n",
    "    )\n",
    "    builder.Connect(\n",
    "        station.GetOutputPort(\"iiwa.velocity_estimated\"),\n",
    "        controller.get_input_port(2),\n",
    "    )\n",
    "    builder.Connect(desired_vel.get_output_port(), controller.get_input_port(0))\n",
    "\n",
    "    diagram = builder.Build()\n",
    "    diagram.set_name(\"diagram\")\n",
    "    if running_as_notebook and plot_system_diagram:\n",
    "        RenderDiagram(diagram)\n",
    "\n",
    "    simulator = Simulator(diagram)\n",
    "    context = simulator.get_mutable_context()\n",
    "    station_context = station.GetMyContextFromRoot(context)\n",
    "    station.GetInputPort(\"iiwa.torque\").FixValue(station_context, np.zeros((7, 1)))\n",
    "    station.GetInputPort(\"wsg.position\").FixValue(station_context, [0.1])\n",
    "\n",
    "    integrator.set_integral_value(\n",
    "        integrator.GetMyMutableContextFromRoot(context),\n",
    "        plant.GetPositions(\n",
    "            plant.GetMyContextFromRoot(context),\n",
    "            plant.GetModelInstanceByName(\"iiwa\"),\n",
    "        ),\n",
    "    )\n",
    "\n",
    "    meshcat.StartRecording()\n",
    "    simulator.AdvanceTo(duration)\n",
    "    meshcat.PublishRecording()"
   ]
  },
  {
   "cell_type": "markdown",
   "metadata": {
    "cell_id": "4c0af6850af140528e6ccfd5b9d8966b",
    "colab_type": "text",
    "deepnote_cell_type": "markdown",
    "id": "1bRwOKRrrdQw"
   },
   "source": [
    "Let's just make sure we've got all the systems and connections right by hooking this up with out Baseclass controller `DifferentialIKBaseSystem` that outputs zero velocities, and looking at the diagram.\n",
    "\n",
    "For differential IK, we'll just set it up with a function that always outputs zeroes for now."
   ]
  },
  {
   "cell_type": "code",
   "execution_count": null,
   "metadata": {
    "cell_id": "d5b4625dd7b44ae9b6110ee6487287f0",
    "colab": {},
    "colab_type": "code",
    "deepnote_cell_type": "code",
    "execution_context_id": "ef6d1092-63d1-4cf7-8fcf-fef6f5802c05",
    "execution_millis": 31670,
    "execution_start": 1757692344401,
    "id": "Bd5544l6rhVI",
    "source_hash": "2ad891f3"
   },
   "outputs": [],
   "source": [
    "def DiffIK_Zero(\n",
    "    J_G: np.ndarray,\n",
    "    V_G_desired: np.ndarray,\n",
    "    q_now: np.ndarray,\n",
    "    v_now: np.ndarray,\n",
    "    p_now: np.ndarray,\n",
    ") -> np.ndarray:\n",
    "    return np.zeros(7)\n",
    "\n",
    "\n",
    "V_d = np.zeros(6)\n",
    "BuildAndSimulate(\n",
    "    DiffIK_Zero,\n",
    "    V_d,\n",
    "    duration=5.0 if running_as_notebook else 0.1,\n",
    "    plot_system_diagram=True,\n",
    ")"
   ]
  },
  {
   "cell_type": "markdown",
   "metadata": {
    "cell_id": "2c53d33e073149aa8cf4e24b019bfa2f",
    "colab_type": "text",
    "deepnote_cell_type": "markdown",
    "id": "8we5cXEJs-jg"
   },
   "source": [
    "You should see that the manipulator just stays still since our base class keeps sending zero-velocity."
   ]
  },
  {
   "cell_type": "markdown",
   "metadata": {
    "cell_id": "00485064c9cb453c85afff4dd5c57e95",
    "colab_type": "text",
    "deepnote_cell_type": "markdown",
    "id": "Y90FlVastwCq"
   },
   "source": [
    "## Part 2: Differential IK through Inverse Jacobian\n",
    "\n",
    "That was some setup to get through the basic tools, but now we're onto the main part of the set! In class, we've seen that in order to map a desired spatial velocity $V^G$ to desired joint velocities, we can use the relation\n",
    "\n",
    "$$V^G = J^G(q) v$$\n",
    "\n",
    "and \"invert\" this with a Moore-Penrose pseudoinverse to achieve differential kinematics:\n",
    "\n",
    "$$v = [J^G(q)]^{+} V^{G}$$\n",
    "\n",
    "We can implement this controller fairly easily:"
   ]
  },
  {
   "cell_type": "code",
   "execution_count": null,
   "metadata": {
    "cell_id": "741b48a77d584279b6f70f1500de622c",
    "colab": {},
    "colab_type": "code",
    "deepnote_cell_type": "code",
    "execution_context_id": "ef6d1092-63d1-4cf7-8fcf-fef6f5802c05",
    "execution_millis": 0,
    "execution_start": 1757692376131,
    "id": "q6Ko4z4UZ-ZZ",
    "source_hash": "a870a8a7"
   },
   "outputs": [],
   "source": [
    "def DiffIKPseudoInverse(\n",
    "    J_G: np.ndarray,\n",
    "    V_G_desired: np.ndarray,\n",
    "    q_now: np.ndarray,\n",
    "    v_now: np.ndarray,\n",
    "    p_now: np.ndarray,\n",
    ") -> np.ndarray:\n",
    "    v = np.linalg.pinv(J_G).dot(V_G_desired)\n",
    "    return v"
   ]
  },
  {
   "cell_type": "markdown",
   "metadata": {
    "cell_id": "ddad44d4f49e4f6e8df6cca893d0e97f",
    "colab_type": "text",
    "deepnote_cell_type": "markdown",
    "id": "uT0E0rrwwVfV"
   },
   "source": [
    "Let's simulate this system forward. Run the cell below. If Meshcat takes a long time to load, then you can always play back / scroll through the animation using the controls panel in Meshcat."
   ]
  },
  {
   "cell_type": "code",
   "execution_count": null,
   "metadata": {
    "cell_id": "cfe9565c50bc4c149f83d45cf6d1bf00",
    "colab": {},
    "colab_type": "code",
    "deepnote_cell_type": "code",
    "execution_context_id": "ef6d1092-63d1-4cf7-8fcf-fef6f5802c05",
    "execution_millis": 2957,
    "execution_start": 1757692376421,
    "id": "6aVPMECDxmwm",
    "source_hash": "22eaf767"
   },
   "outputs": [],
   "source": [
    "# Corresponds to [wx, wy, wz, vx, vy, vz]\n",
    "V_d = np.array([0.0, 0.0, 0.0, 0.1, 0.0, 0])\n",
    "BuildAndSimulate(DiffIKPseudoInverse, V_d, duration=7.0 if running_as_notebook else 0.1)"
   ]
  },
  {
   "cell_type": "markdown",
   "metadata": {
    "cell_id": "2fe8add90c0447a2a18c2257295e1c91",
    "colab_type": "text",
    "deepnote_cell_type": "markdown",
    "id": "73VXtApc0fCO"
   },
   "source": [
    "Wow - what just happened? There are several things you should have noticed.\n",
    "- The robot did its job by going 0.1m/s in the x-direction (for anyone not familiar, there is a 'world-frame' axis colored by RGB. The usual convention is that RGB corresponds respectively to XYZ axii. Note that the robot is moving in the direction of the red axis as expected)\n",
    "- When the robot reached the end of its workspace, it freaked out, jerking unexpectedly.\n",
    "\n",
    "Imagine thinking the PseudoInverse method was a good idea, implementing the controller, then running this in a real robot - something might have gone badly wrong!"
   ]
  },
  {
   "cell_type": "markdown",
   "metadata": {
    "cell_id": "8eba17e448d44b46b0d77ec63d8e20a6",
    "colab_type": "text",
    "deepnote_cell_type": "markdown",
    "id": "q7r1Fa3B2AWk"
   },
   "source": [
    "## Part 3: Pseudoinverse as Optimization\n",
    "\n",
    "Even though the method got unreliable at the limits of the kinematic workspace (i.e. under kinematic singularities), it worked reasonably well. How do we keep the benefits of the original method while improving behavior near singularities?\n",
    "\n",
    "One idea presented in class is to stick to a certain **joint velocity limit**. This will at least prevent the manipulator from doing something crazy.\n",
    "\n",
    "\n",
    "In the language of optimization, the problem we are trying to solve will look like:\n",
    "\n",
    "$$\\begin{aligned} \\min_v \\quad & \\|\\mathbf{J}(q)v - V_d\\|^2_2 \\\\ \\textrm{s.t.} \\quad &  |v|\\leq v_{max} \\end{aligned}$$\n",
    "\n",
    "**YOUR TASK**: Below, you must transcribe and solve this optimization problem through `MathematicalProgram`.\n",
    "\n",
    "NOTE: The absolute value is taken element wise, so the last constraint is really saying \"for all $i$, make sure none of the elements of $|v[i]|$ exceed $v_{max}[i]$. Such constraints are also called Bounding Box constraints.\n",
    "\n",
    "HINT: We can't directly enter absolute values as a constraint in `MathematicalProgram`, but we can break down the absolute value constraint into two separate constraints.\n",
    "\n",
    "NOTE: If you're not familiar with how to write down mathematical program, make sure you do the `intro_to_qp` exercise on the textbook first. If you're still stuck, feel free to get more practice from [this notebook tutorial](https://deepnote.com/workspace/Drake-0b3b2c53-a7ad-441b-80f8-bf8350752305/project/Tutorials-2b4fc509-aef2-417d-a40d-6071dfed9199/notebook/mathematical_program-4c4f4de7d5d3452daacf45c20b315d31), or look at the [`pydrake` documentation on `MathematicalProgram`](https://drake.mit.edu/pydrake/pydrake.solvers.html#pydrake.solvers.MathematicalProgram)."
   ]
  },
  {
   "cell_type": "code",
   "execution_count": null,
   "metadata": {
    "cell_id": "c5dc0daa8c324d0c8e5ef0a2e2511b3e",
    "deepnote_cell_type": "code",
    "execution_context_id": "ef6d1092-63d1-4cf7-8fcf-fef6f5802c05",
    "execution_millis": 0,
    "execution_start": 1757692379431,
    "source_hash": "1b08bbf0"
   },
   "outputs": [],
   "source": [
    "def DiffIKQP(\n",
    "    J_G: np.ndarray,\n",
    "    V_G_desired: np.ndarray,\n",
    "    q_now: np.ndarray,\n",
    "    v_now: np.ndarray,\n",
    "    p_now: np.ndarray,\n",
    ") -> np.ndarray:\n",
    "    prog = MathematicalProgram()\n",
    "    v = prog.NewContinuousVariables(7, \"v\")\n",
    "    v_max = 3.0  # do not modify\n",
    "\n",
    "    # TODO: Add cost and constraints to prog here.\n",
    "\n",
    "    solver = SnoptSolver()\n",
    "    result = solver.Solve(prog)\n",
    "\n",
    "    if not (result.is_success()):\n",
    "        raise ValueError(\"Could not find the optimal solution.\")\n",
    "\n",
    "    v_solution = result.GetSolution(v)\n",
    "\n",
    "    return v_solution"
   ]
  },
  {
   "cell_type": "code",
   "execution_count": null,
   "metadata": {
    "cell_id": "4e92bed927f54339a8c64c2abac2c57e",
    "colab": {},
    "colab_type": "code",
    "deepnote_cell_type": "code",
    "execution_context_id": "ef6d1092-63d1-4cf7-8fcf-fef6f5802c05",
    "execution_millis": 0,
    "execution_start": 1757692379481,
    "id": "4YKMRp3gDY0R",
    "source_hash": "d5ef814"
   },
   "outputs": [],
   "source": [
    "def DiffIKQP(\n",
    "    J_G: np.ndarray,\n",
    "    V_G_desired: np.ndarray,\n",
    "    q_now: np.ndarray,\n",
    "    v_now: np.ndarray,\n",
    "    p_now: np.ndarray,\n",
    ") -> np.ndarray:\n",
    "    prog = MathematicalProgram()\n",
    "    v = prog.NewContinuousVariables(7, \"v\")\n",
    "    v_max = 3.0  # do not modify\n",
    "\n",
    "    # TODO: Add cost and constraints to prog here.\n",
    "    error = J_G.dot(v) - V_G_desired\n",
    "    prog.AddCost(error.dot(error))\n",
    "    # prog.AddBoundingBoxConstraint(-v_max * np.ones(7), v_max * np.ones(7), v)\n",
    "    prog.AddConstraint(le(v, v_max * np.ones(7)))\n",
    "    prog.AddConstraint(ge(v, -v_max * np.ones(7)))\n",
    "\n",
    "    solver = SnoptSolver()\n",
    "    result = solver.Solve(prog)\n",
    "\n",
    "    if not (result.is_success()):\n",
    "        raise ValueError(\"Could not find the optimal solution.\")\n",
    "\n",
    "    v_solution = result.GetSolution(v)\n",
    "\n",
    "    return v_solution"
   ]
  },
  {
   "cell_type": "markdown",
   "metadata": {
    "cell_id": "c7a02d7837b641debc13f773382e5759",
    "colab_type": "text",
    "deepnote_cell_type": "markdown",
    "id": "QTplFYdQ-Gps"
   },
   "source": [
    "When you're ready to test out your new method, you can run the simulator to see what happens. Similar to last time, wait until everything loads on Meshcat and run the second cell below to simulate forward."
   ]
  },
  {
   "cell_type": "code",
   "execution_count": null,
   "metadata": {
    "cell_id": "fc116a6552cc4978b1003dffd996bcd9",
    "colab": {},
    "colab_type": "code",
    "deepnote_cell_type": "code",
    "execution_context_id": "ef6d1092-63d1-4cf7-8fcf-fef6f5802c05",
    "execution_millis": 24760,
    "execution_start": 1757692379741,
    "id": "UD-ZLidi-Pul",
    "source_hash": "b8896f81"
   },
   "outputs": [],
   "source": [
    "V_d = np.array(\n",
    "    [0.0, 0.0, 0.0, 0.1, 0.0, 0.0]\n",
    ")  # Feel free to play around with different V_desired\n",
    "simulator = BuildAndSimulate(\n",
    "    DiffIKQP, V_d, duration=7.0 if running_as_notebook else 0.1\n",
    ")"
   ]
  },
  {
   "cell_type": "markdown",
   "metadata": {
    "cell_id": "f2b8ce6f7dc44a118ed7b040a959a693",
    "colab_type": "text",
    "deepnote_cell_type": "markdown",
    "id": "ZggOGhgPXFLj"
   },
   "source": [
    "When you have implemented things correctly, you should see we behave much better near singularities now, since we're constraining joint velocities. This is nice - even if the Jacobian becomes singular, we can guard against sudden jerky movements because we've put limits."
   ]
  },
  {
   "cell_type": "markdown",
   "metadata": {
    "cell_id": "6ad50be31326449a941bc006f6bfe14a",
    "colab_type": "text",
    "deepnote_cell_type": "markdown",
    "id": "ktjkAZmd5M4h"
   },
   "source": [
    "## Part 4: Virtual Wall in End-Effector Space\n",
    "\n",
    "In class, we saw that in addition to doing joint velocity constraints, we can also put constraints on **joint positions** and **accelerations** through first-order Euler finite difference. Given $v_{now}$ and $q_{now}$, we can find $v$ that satisfies the following program:\n",
    "\n",
    "$$\\begin{aligned} \\min_v \\quad & \\|\\mathbf{J}(q_{now})v - V_d\\|^2_2 \\\\ \\textrm{s.t.} \\quad &  |v|\\leq v_{max} \\\\  \\quad & q_{min} \\leq q_{now} + h v \\leq q_{max} \\\\ \\quad & a_{min} \\leq (v-v_{now})/h \\leq a_{max}\\end{aligned}$$\n",
    "\n",
    "All of these constraints are formulated in the joint-space. But could we also end up with a linear constraint if we try to impose a constraint in the end-effector space?\n",
    "\n",
    "**YOUR TASK**\n",
    "\n",
    "You must program a robot in a factory, but you would like to implement a virtual wall that the robot is not allowed to put its hand in, since you have limited space and a human will be working there, or there are some obstacles there.\n",
    "\n",
    "To do this, you decide to write an optimization-based controller that minimizes $\\|\\mathbf{J}(q_{now})v - V_d\\|_2^2$ and has two constraints:\n",
    "1. Joint velocity constraint $|v|\\leq v_{max}$\n",
    "2. A constraint that the **position** of the end-effector must be inside the following box:\n",
    "  - `lower_bound = [-0.3, -1.0, 0.0]`\n",
    "  - `upper_bound = [0.3, 1.0, 1.0]`\n",
    "\n",
    "You can access the current position of the robot by using `p_now` (found by running forward kinematics).\n",
    "\n",
    "HINT: We can similarly use first-order approximations to query what the next position will be given the current position and velocities in the end-effector space."
   ]
  },
  {
   "cell_type": "code",
   "execution_count": null,
   "metadata": {
    "cell_id": "3f335142cce94cdfa1796434a0dbe1ee",
    "deepnote_cell_type": "code",
    "execution_context_id": "ef6d1092-63d1-4cf7-8fcf-fef6f5802c05",
    "execution_millis": 0,
    "execution_start": 1757692404561,
    "source_hash": "506882f4"
   },
   "outputs": [],
   "source": [
    "# functions for visualizing the box that the end-effector must stay inside\n",
    "\n",
    "\n",
    "def show_end_effector_box() -> None:\n",
    "    vspace = Box(0.6, 2.0, 1.0)\n",
    "    meshcat.SetObject(\"/end_effector_box\", vspace, Rgba(0.1, 0.5, 0.1, 0.2))\n",
    "    meshcat.SetTransform(\"/end_effector_box\", RigidTransform([0.0, 0.0, 0.5]))\n",
    "\n",
    "\n",
    "def hide_end_effector_box() -> None:\n",
    "    meshcat.Delete(\"/end_effector_box\")"
   ]
  },
  {
   "cell_type": "code",
   "execution_count": null,
   "metadata": {
    "cell_id": "23c10ea22496464797700f8f89916e2e",
    "deepnote_cell_type": "code",
    "execution_context_id": "ef6d1092-63d1-4cf7-8fcf-fef6f5802c05",
    "execution_millis": 0,
    "execution_start": 1757692404611,
    "source_hash": "2d8ae026"
   },
   "outputs": [],
   "source": [
    "def DiffIKQP_Wall(\n",
    "    J_G: np.ndarray,\n",
    "    V_G_desired: np.ndarray,\n",
    "    q_now: np.ndarray,\n",
    "    v_now: np.ndarray,\n",
    "    p_now: np.ndarray,\n",
    ") -> np.ndarray:\n",
    "    prog = MathematicalProgram()\n",
    "    v = prog.NewContinuousVariables(7, \"joint_velocities\")\n",
    "    v_max = 3.0  # do not modify\n",
    "    h = 4e-3  # do not modify\n",
    "    lower_bound = np.array([-0.3, -1.0, 0.0])  # do not modify\n",
    "    upper_bound = np.array([0.3, 1.0, 1.0])  # do not modify\n",
    "\n",
    "    # TODO: Add cost and constraints to prog here.\n",
    "\n",
    "    solver = SnoptSolver()\n",
    "    result = solver.Solve(prog)\n",
    "\n",
    "    if not (result.is_success()):\n",
    "        raise ValueError(\"Could not find the optimal solution.\")\n",
    "\n",
    "    v_solution = result.GetSolution(v)\n",
    "    return v_solution"
   ]
  },
  {
   "cell_type": "code",
   "execution_count": null,
   "metadata": {
    "cell_id": "9284df57c53c4e12aa19cc95cd3c5761",
    "colab": {},
    "colab_type": "code",
    "deepnote_cell_type": "code",
    "execution_context_id": "ef6d1092-63d1-4cf7-8fcf-fef6f5802c05",
    "execution_millis": 0,
    "execution_start": 1757692404661,
    "id": "J3Eel-kEddGU",
    "source_hash": "e05cf97d"
   },
   "outputs": [],
   "source": [
    "def DiffIKQP_Wall(\n",
    "    J_G: np.ndarray,\n",
    "    V_G_desired: np.ndarray,\n",
    "    q_now: np.ndarray,\n",
    "    v_now: np.ndarray,\n",
    "    p_now: np.ndarray,\n",
    ") -> np.ndarray:\n",
    "    prog = MathematicalProgram()\n",
    "    v = prog.NewContinuousVariables(7, \"joint_velocities\")\n",
    "    v_max = 3.0  # do not modify\n",
    "    h = 4e-3  # do not modify\n",
    "    lower_bound = np.array([-0.3, -1.0, 0.0])  # do not modify\n",
    "    upper_bound = np.array([0.3, 1.0, 1.0])  # do not modify\n",
    "\n",
    "    # TODO: Add cost and constraints to prog here.\n",
    "    error = J_G.dot(v) - V_G_desired\n",
    "    prog.AddCost(error.dot(error))\n",
    "    # prog.AddBoundingBoxConstraint(-v_max * np.ones(7), v_max * np.ones(7), v)\n",
    "    prog.AddConstraint(le(v, v_max * np.ones(7)))\n",
    "    prog.AddConstraint(ge(v, -v_max * np.ones(7)))\n",
    "    prog.AddConstraint(le(p_now + h * J_G[3:6, :].dot(v), upper_bound))\n",
    "    prog.AddConstraint(ge(p_now + h * J_G[3:6, :].dot(v), lower_bound))\n",
    "\n",
    "    prog.AddConstraint(le(J_G[3:6, :].dot(v), (upper_bound - p_now) / h))\n",
    "    prog.AddConstraint(ge(J_G[3:6, :].dot(v), (lower_bound - p_now) / h))\n",
    "\n",
    "    solver = SnoptSolver()\n",
    "    result = solver.Solve(prog)\n",
    "\n",
    "    if not (result.is_success()):\n",
    "        raise ValueError(\"Could not find the optimal solution.\")\n",
    "\n",
    "    v_solution = result.GetSolution(v)\n",
    "    return v_solution"
   ]
  },
  {
   "cell_type": "code",
   "execution_count": null,
   "metadata": {
    "cell_id": "988c8c1054614b70a580662b101bf494",
    "colab": {},
    "colab_type": "code",
    "deepnote_cell_type": "code",
    "execution_context_id": "ef6d1092-63d1-4cf7-8fcf-fef6f5802c05",
    "execution_millis": 35588,
    "execution_start": 1757692404712,
    "id": "yl128hSMdGJW",
    "source_hash": "c2cc1e30"
   },
   "outputs": [],
   "source": [
    "show_end_effector_box()\n",
    "V_d = np.array([0.0, 0.0, 0.0, 0.1, 0.05, 0])\n",
    "simulator = BuildAndSimulate(\n",
    "    DiffIKQP_Wall, V_d, duration=7.0 if running_as_notebook else 0.1\n",
    ")"
   ]
  },
  {
   "cell_type": "code",
   "execution_count": null,
   "metadata": {
    "cell_id": "c5d18b768b334df8808d283c9dfaa901",
    "deepnote_cell_type": "code",
    "execution_context_id": "ef6d1092-63d1-4cf7-8fcf-fef6f5802c05",
    "execution_millis": 0,
    "execution_start": 1757692440351,
    "source_hash": "9f6c4671"
   },
   "outputs": [],
   "source": [
    "# hide_end_effector_box() # uncomment if you want to hide the box visualization."
   ]
  },
  {
   "cell_type": "markdown",
   "metadata": {
    "cell_id": "6f42a72bdfe0497fbf0da555120b96b5",
    "colab_type": "text",
    "deepnote_cell_type": "markdown",
    "id": "Gl0rgvvV6DjW"
   },
   "source": [
    "If you implemented this correctly, the end effector will stay within the visualized box, almost like the robot has a wall that it cannot cross! Note that constraining the position of the end effector is not the same as constraining the *entire* end-effector to stay within the box- if part of it is outside, that is okay! (It is also a worthwhile exercise to think about why it is so)."
   ]
  },
  {
   "cell_type": "markdown",
   "metadata": {
    "cell_id": "23c5d4a764a84201ae0bcd2ab94e0a28",
    "deepnote_cell_type": "markdown"
   },
   "source": [
    "Below is our autograder where you can check the correctness of all your implementations."
   ]
  },
  {
   "cell_type": "code",
   "execution_count": null,
   "metadata": {
    "cell_id": "270c121fd5c84407b5de47c7d55be9b9",
    "deepnote_cell_type": "code",
    "execution_context_id": "ef6d1092-63d1-4cf7-8fcf-fef6f5802c05",
    "execution_millis": 250,
    "execution_start": 1757692440411,
    "source_hash": "9fd84427"
   },
   "outputs": [],
   "source": [
    "Grader.grade_output([TestDifferentialIK], [locals()], \"results.json\")\n",
    "Grader.print_test_results(\"results.json\")"
   ]
  },
  {
   "cell_type": "markdown",
   "metadata": {
    "cell_id": "53f6eb44bcba46e3a834f6b2524eb59a",
    "colab_type": "text",
    "deepnote_cell_type": "markdown",
    "id": "zPmeRLtJk410"
   },
   "source": [
    "## VERIFICATION IN GRADESCOPE\n",
    "\n",
    "**Prerequisites:** You must complete ALL the TODOs above before these verification exercises will work!\n",
    "\n",
    "**Instructions:** We've given you a set of parameters, implement the exercises that follow and upload your solutions to Gradescope\n"
   ]
  },
  {
   "cell_type": "code",
   "execution_count": null,
   "metadata": {
    "cell_id": "e36b7f165bd249e39e5d05d2676cd088",
    "deepnote_cell_type": "code",
    "execution_context_id": "ef6d1092-63d1-4cf7-8fcf-fef6f5802c05",
    "execution_millis": 0,
    "execution_start": 1757692440721,
    "source_hash": "8168bf91"
   },
   "outputs": [],
   "source": [
    "J_G = np.array(\n",
    "    [\n",
    "        [\n",
    "            0.00000000e00,\n",
    "            9.02435102e-01,\n",
    "            2.54531849e-02,\n",
    "            -6.52856354e-01,\n",
    "            7.26280879e-01,\n",
    "            6.83118291e-01,\n",
    "            2.12647126e-04,\n",
    "        ],\n",
    "        [\n",
    "            0.00000000e00,\n",
    "            4.30825819e-01,\n",
    "            -5.33158564e-02,\n",
    "            -7.57108057e-01,\n",
    "            -6.34577338e-01,\n",
    "            7.09128073e-01,\n",
    "            -2.39276758e-01,\n",
    "        ],\n",
    "        [\n",
    "            1.00000000e00,\n",
    "            1.29333062e-17,\n",
    "            9.98253252e-01,\n",
    "            -2.37901464e-02,\n",
    "            2.64249288e-01,\n",
    "            -1.74604626e-01,\n",
    "            -9.70951383e-01,\n",
    "        ],\n",
    "        [\n",
    "            3.15610018e-01,\n",
    "            1.45973504e-01,\n",
    "            2.96994113e-01,\n",
    "            3.84093679e-02,\n",
    "            1.15833004e-01,\n",
    "            -1.24517465e-01,\n",
    "            -6.93889390e-18,\n",
    "        ],\n",
    "        [\n",
    "            3.00354015e-01,\n",
    "            -3.05765366e-01,\n",
    "            2.91205259e-01,\n",
    "            -4.60616310e-02,\n",
    "            1.20243355e-01,\n",
    "            1.13081997e-01,\n",
    "            -8.91756287e-18,\n",
    "        ],\n",
    "        [\n",
    "            0.00000000e00,\n",
    "            -4.14217824e-01,\n",
    "            7.98035139e-03,\n",
    "            4.11844127e-01,\n",
    "            -2.96068464e-02,\n",
    "            -2.78946736e-02,\n",
    "            2.19635643e-18,\n",
    "        ],\n",
    "    ]\n",
    ")\n",
    "\n",
    "V_G_desired = np.array([0.0, 0.0, 0.0, 0.1, 0.05, 0.0])\n",
    "\n",
    "q_now = np.array(\n",
    "    [\n",
    "        -1.12538865,\n",
    "        0.05911441,\n",
    "        0.41443944,\n",
    "        -1.24917317,\n",
    "        -0.20671306,\n",
    "        1.67556706,\n",
    "        0.81804794,\n",
    "    ]\n",
    ")\n",
    "\n",
    "v_now = np.array(\n",
    "    [0.1628158, 0.09226121, 0.12800451, 0.0873851, -0.09184795, 0.05699749, 0.27648769]\n",
    ")\n",
    "\n",
    "p_now = np.array([0.30035402, -0.31561002, 0.67932255])"
   ]
  },
  {
   "cell_type": "markdown",
   "metadata": {
    "cell_id": "a34d009fbb19412eb4d32d47d0618e6d",
    "deepnote_cell_type": "markdown"
   },
   "source": [
    "## Verification 1: DiffIKQP\n",
    "\n",
    "**Question:** Using the given parameters and your `DiffIKQP` implementation, what are the optimal joint velocities for the first two joints? Give you answer to 4 decimal places."
   ]
  },
  {
   "cell_type": "code",
   "execution_count": null,
   "metadata": {
    "cell_id": "2ee9b08748834fd7aa569ea86af29e24",
    "deepnote_cell_type": "code",
    "execution_context_id": "ef6d1092-63d1-4cf7-8fcf-fef6f5802c05",
    "execution_millis": 0,
    "execution_start": 1757692440781,
    "source_hash": "fd8590da"
   },
   "outputs": [],
   "source": [
    "# TODO: Implement the Verificaiton Exercise"
   ]
  },
  {
   "cell_type": "markdown",
   "metadata": {
    "cell_id": "a72001e3e2c242cea9680764003b75f6",
    "deepnote_cell_type": "markdown"
   },
   "source": [
    "## Verification 2: DiffIKQP_Wall\n",
    "\n",
    "**Question:** Using the given parameters and your `DiffIKQP_Wall` implementation, what are the optimal joint velocities for the first two joints? Give you answer to 4 decimal places."
   ]
  },
  {
   "cell_type": "code",
   "execution_count": null,
   "metadata": {
    "cell_id": "1b284558306c4eb9a93fe435d7210f37",
    "deepnote_cell_type": "code",
    "execution_context_id": "ef6d1092-63d1-4cf7-8fcf-fef6f5802c05",
    "execution_millis": 0,
    "execution_start": 1757692440891,
    "source_hash": "fd8590da"
   },
   "outputs": [],
   "source": [
    "# TODO: Implement the Verificaiton Exercise"
   ]
  }
 ],
 "metadata": {
  "deepnote_notebook_id": "bdd3b610969944cfbd13dea65d294eb9",
  "kernelspec": {
   "display_name": ".venv",
   "language": "python",
   "name": "python3"
  },
  "language_info": {
   "codemirror_mode": {
    "name": "ipython",
    "version": 3
   },
   "file_extension": ".py",
   "mimetype": "text/x-python",
   "name": "python",
   "nbconvert_exporter": "python",
   "pygments_lexer": "ipython3",
   "version": "3.13.7"
  }
 },
 "nbformat": 4,
 "nbformat_minor": 0
}