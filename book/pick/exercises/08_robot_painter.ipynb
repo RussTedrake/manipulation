{
 "cells": [
  {
   "cell_type": "markdown",
   "metadata": {
    "cell_id": "1d12970ee2ba4e43a1f0e206fffcc25d",
    "colab_type": "text",
    "deepnote_cell_type": "markdown",
    "id": "KE6SesUXE9jX"
   },
   "source": [
    "# Robot Painter\n",
    "\n",
    "**Learning Objectives:**\n",
    "- Understand how to construct a system that connects trajectory sources, controllers, and the robot station to command an arm.\n",
    "- Understand how to define a trajectory with key frames and construct the trajectory from the key frames.\n",
    "\n",
    "**What You'll Implement:**\n",
    "1. A custom `IIWA_Painter` class that uses a `PoseTrajectorySource` connected to a DiffIK controller.\n",
    "2. Defining the key frames of a circular trajectory and constructing a trajectory from the keyframes\n",
    "---\n"
   ]
  },
  {
   "cell_type": "markdown",
   "metadata": {
    "cell_id": "1d02689a337848e9adc75a07368487e4",
    "colab_type": "text",
    "deepnote_cell_type": "markdown",
    "id": "KE6SesUXE9jX"
   },
   "source": [
    "## Setup and Imports\n",
    "\n",
    "Let us first import our standard drake functionality"
   ]
  },
  {
   "cell_type": "code",
   "execution_count": null,
   "metadata": {
    "cell_id": "89044f64dc734b6389e365c077101082",
    "colab": {},
    "colab_type": "code",
    "deepnote_cell_type": "code",
    "execution_context_id": "51a62e65-6653-405d-97d1-2dc716a1177b",
    "execution_millis": 885,
    "execution_start": 1757950981430,
    "id": "xyZz8R16E9jZ",
    "lines_to_end_of_cell_marker": 2,
    "source_hash": "bdb20f28"
   },
   "outputs": [],
   "source": [
    "import numpy as np\n",
    "from pydrake.all import (\n",
    "    AbstractValue,\n",
    "    ConstantVectorSource,\n",
    "    Context,\n",
    "    DiagramBuilder,\n",
    "    LeafSystem,\n",
    "    PiecewisePose,\n",
    "    RigidTransform,\n",
    "    RotationMatrix,\n",
    "    Simulator,\n",
    "    StartMeshcat,\n",
    ")\n",
    "\n",
    "from manipulation import running_as_notebook\n",
    "from manipulation.exercises.grader import Grader\n",
    "from manipulation.exercises.pick.test_robot_painter import TestRobotPainter\n",
    "from manipulation.meshcat_utils import AddMeshcatTriad\n",
    "from manipulation.scenarios import AddIiwaDifferentialIK\n",
    "from manipulation.station import LoadScenario, MakeHardwareStation"
   ]
  },
  {
   "cell_type": "markdown",
   "metadata": {
    "cell_id": "4255bb85d0c94376ae37f7a11a5ea01c",
    "deepnote_cell_type": "markdown"
   },
   "source": [
    "## Meshcat Visualization\n",
    "\n",
    "As always, let's start Meshcat for our 3D visualization!\n"
   ]
  },
  {
   "cell_type": "code",
   "execution_count": null,
   "metadata": {
    "cell_id": "5b9d3cbe60d34434b5e6bdddfeae88e7",
    "deepnote_cell_type": "code",
    "execution_context_id": "51a62e65-6653-405d-97d1-2dc716a1177b",
    "execution_millis": 8,
    "execution_start": 1757950983037,
    "source_hash": "7e538c06"
   },
   "outputs": [],
   "source": [
    "# Start meshcat for visualization\n",
    "meshcat = StartMeshcat()\n",
    "print(\"Click the link above to open Meshcat in your browser!\")"
   ]
  },
  {
   "cell_type": "markdown",
   "metadata": {
    "cell_id": "2b8899d9acd9493baf9d1bb49ca782ad",
    "deepnote_cell_type": "markdown"
   },
   "source": [
    "## Part 1: Create the Painter\n",
    "\n",
    "We will start by creating a custom `LeafSystem` that outputs a `RigidTransform` at each time step. Then, we will create the `IIWA_Painter` class that uses a `PoseTrajectorySource` connected to a DiffIK controller to command the robot arm.\n",
    "\n",
    "**YOUR TASK**: We've provided the scaffolded code. Your job is to fill in the TODOs. You should read through the parts that are already implemented to understand how the system is working."
   ]
  },
  {
   "cell_type": "code",
   "execution_count": null,
   "metadata": {
    "cell_id": "e6bc687973a042e5bf040b137c368adf",
    "colab": {},
    "colab_type": "code",
    "deepnote_cell_type": "code",
    "execution_context_id": "51a62e65-6653-405d-97d1-2dc716a1177b",
    "execution_millis": 2,
    "execution_start": 1757950984456,
    "id": "SuwPFHfYE9jj",
    "source_hash": "8a6953c4"
   },
   "outputs": [],
   "source": [
    "class PoseTrajectorySource(LeafSystem):\n",
    "    def __init__(self, pose_trajectory: PiecewisePose) -> None:\n",
    "        LeafSystem.__init__(self)\n",
    "        self._pose_trajectory = pose_trajectory\n",
    "\n",
    "        # Used when the output is a Python object, not a numpy array\n",
    "        self.DeclareAbstractOutputPort(\n",
    "            \"pose\", lambda: AbstractValue.Make(RigidTransform()), self.CalcPose\n",
    "        )\n",
    "\n",
    "    def CalcPose(self, context: Context, output: AbstractValue) -> None:\n",
    "        # Gets the pose specified by the trajectory for the current time\n",
    "        output.set_value(self._pose_trajectory.GetPose(context.get_time()))\n",
    "\n",
    "\n",
    "class IIWA_Painter:\n",
    "    def __init__(self, traj: PiecewisePose | None = None) -> None:\n",
    "        builder = DiagramBuilder()\n",
    "        scenario_data = \"\"\"\n",
    "        directives:\n",
    "        - add_directives:\n",
    "            file: package://manipulation/clutter.dmd.yaml\n",
    "        model_drivers:\n",
    "            iiwa: !IiwaDriver\n",
    "                control_mode: position_only\n",
    "                hand_model_name: wsg\n",
    "            wsg: !SchunkWsgDriver {}\n",
    "        \"\"\"\n",
    "        scenario = LoadScenario(data=scenario_data)\n",
    "        self.station = builder.AddSystem(MakeHardwareStation(scenario, meshcat=meshcat))\n",
    "        self.plant = self.station.GetSubsystemByName(\"plant\")\n",
    "\n",
    "        # Remove joint limits from the wrist joint.\n",
    "        self.plant.GetJointByName(\"iiwa_joint_7\").set_position_limits(\n",
    "            [-np.inf], [np.inf]\n",
    "        )\n",
    "        # This gives a MultibodyPlant that the station exposes specifically for controllers. It\u2019s a lightweight, kinematics-only model of the IIWA (no contacts, no geometry sim).\n",
    "        controller_plant = self.station.GetSubsystemByName(\n",
    "            \"iiwa_controller_plant_pointer_system\",\n",
    "        ).get()\n",
    "\n",
    "        # optionally add trajectory source\n",
    "        if traj is not None:\n",
    "            # Create a PoseTrajectorySource and add it to the diagram\n",
    "            traj_source = builder.AddSystem(PoseTrajectorySource(traj))\n",
    "\n",
    "            # Add a Differential IK controller to the diagram\n",
    "            self.controller = AddIiwaDifferentialIK(\n",
    "                builder,\n",
    "                controller_plant,\n",
    "                frame=controller_plant.GetFrameByName(\"body\"),\n",
    "            )\n",
    "\n",
    "            # Connect the output port of the pose trajectory to the input port of the controller\n",
    "            builder.Connect(\n",
    "                traj_source.get_output_port(),\n",
    "                self.controller.get_input_port(0),\n",
    "            )\n",
    "\n",
    "            # Connect the output port of the controller to the iiwa position input port of the station\n",
    "            builder.Connect(\n",
    "                self.controller.get_output_port(),\n",
    "                self.station.GetInputPort(\"iiwa.position\"),\n",
    "            )\n",
    "\n",
    "            # Here, we connect the iiwa state estimated port to the controller's robot state port\n",
    "            builder.Connect(\n",
    "                self.station.GetOutputPort(\"iiwa.state_estimated\"),\n",
    "                self.controller.GetInputPort(\"robot_state\"),\n",
    "            )\n",
    "        else:\n",
    "            iiwa_position = builder.AddSystem(ConstantVectorSource(np.zeros(7)))\n",
    "            builder.Connect(\n",
    "                iiwa_position.get_output_port(),\n",
    "                self.station.GetInputPort(\"iiwa.position\"),\n",
    "            )\n",
    "\n",
    "        wsg_position = builder.AddSystem(ConstantVectorSource([0.1]))\n",
    "        builder.Connect(\n",
    "            wsg_position.get_output_port(),\n",
    "            self.station.GetInputPort(\"wsg.position\"),\n",
    "        )\n",
    "\n",
    "        self.diagram = builder.Build()\n",
    "\n",
    "        self.gripper_frame = self.plant.GetFrameByName(\"body\")\n",
    "        self.world_frame = self.plant.world_frame()\n",
    "\n",
    "        context = self.CreateDefaultContext()\n",
    "        self.diagram.ForcedPublish(context)\n",
    "\n",
    "    def visualize_frame(\n",
    "        self,\n",
    "        name: str,\n",
    "        X_WF: RigidTransform,\n",
    "        length: float = 0.15,\n",
    "        radius: float = 0.006,\n",
    "    ) -> None:\n",
    "        \"\"\"\n",
    "        visualize imaginary frame that are not attached to existing bodies\n",
    "\n",
    "        Input:\n",
    "            name: the name of the frame (str)\n",
    "            X_WF: a RigidTransform to from frame F to world.\n",
    "\n",
    "        Frames whose names already exist will be overwritten by the new frame\n",
    "        \"\"\"\n",
    "        AddMeshcatTriad(\n",
    "            meshcat, \"painter/\" + name, length=length, radius=radius, X_PT=X_WF\n",
    "        )\n",
    "\n",
    "    def CreateDefaultContext(self) -> Context:\n",
    "        context = self.diagram.CreateDefaultContext()\n",
    "        plant_context = self.diagram.GetMutableSubsystemContext(self.plant, context)\n",
    "\n",
    "        # provide initial states\n",
    "        q0 = np.array(\n",
    "            [\n",
    "                1.40666193e-05,\n",
    "                1.56461165e-01,\n",
    "                -3.82761069e-05,\n",
    "                -1.32296976e00,\n",
    "                -6.29097287e-06,\n",
    "                1.61181157e00,\n",
    "                -2.66900985e-05,\n",
    "            ]\n",
    "        )\n",
    "        # set the joint positions of the kuka arm\n",
    "        iiwa = self.plant.GetModelInstanceByName(\"iiwa\")\n",
    "        self.plant.SetPositions(plant_context, iiwa, q0)\n",
    "        self.plant.SetVelocities(plant_context, iiwa, np.zeros(7))\n",
    "        wsg = self.plant.GetModelInstanceByName(\"wsg\")\n",
    "        self.plant.SetPositions(plant_context, wsg, [-0.05, 0.05])\n",
    "        self.plant.SetVelocities(plant_context, wsg, [0, 0])\n",
    "\n",
    "        return context\n",
    "\n",
    "    def get_X_WG(self, context: Context | None = None) -> RigidTransform:\n",
    "        if not context:\n",
    "            context = self.CreateDefaultContext()\n",
    "        plant_context = self.plant.GetMyMutableContextFromRoot(context)\n",
    "        X_WG = self.plant.CalcRelativeTransform(\n",
    "            plant_context, frame_A=self.world_frame, frame_B=self.gripper_frame\n",
    "        )\n",
    "        return X_WG\n",
    "\n",
    "    def paint(self, sim_duration: float = 20.0) -> None:\n",
    "        context = self.CreateDefaultContext()\n",
    "        simulator = Simulator(self.diagram, context)\n",
    "\n",
    "        meshcat.StartRecording(set_visualizations_while_recording=False)\n",
    "        duration = sim_duration if running_as_notebook else 0.01\n",
    "        simulator.AdvanceTo(duration)\n",
    "        meshcat.PublishRecording()"
   ]
  },
  {
   "cell_type": "markdown",
   "metadata": {
    "cell_id": "e182ecd007aa4b53aa2be4a125bd0683",
    "colab_type": "text",
    "deepnote_cell_type": "markdown",
    "id": "EvOQi_xQE9kY"
   },
   "source": [
    "# Part 2: Define and Construct the Circular Trajectory\n",
    "In the lecture, we learned the basics of spatial transformations. In this exercise, you will design a circular planar trajectory like the one below for the iiwa arm to follow, like a robot painting in the air! \n",
    "\n",
    "**YOUR TASK**\n",
    "1. Compute the key frames of the circular trajectory.\n",
    "2. Construct interpolated trajectory from the key frames"
   ]
  },
  {
   "cell_type": "markdown",
   "metadata": {
    "cell_id": "ee34fbde33864781a3a669735c65e399",
    "colab_type": "text",
    "deepnote_cell_type": "markdown",
    "id": "KwoXw_yDgtbg"
   },
   "source": [
    "<img src=\"https://raw.githubusercontent.com/RussTedrake/manipulation/master/book/figures/exercises/robot_painter_circle.png\" width=\"700\">"
   ]
  },
  {
   "cell_type": "markdown",
   "metadata": {
    "cell_id": "7cd3235d149a46a8946e8d13ff8a91da",
    "colab_type": "text",
    "deepnote_cell_type": "markdown",
    "id": "KqinvTKyZp0E"
   },
   "source": [
    "The x and y axis in the diagram above are from the world frame."
   ]
  },
  {
   "cell_type": "markdown",
   "metadata": {
    "cell_id": "b9c14cc9e35c43c7aad086b01385f55b",
    "colab_type": "text",
    "deepnote_cell_type": "markdown",
    "id": "C-lMFAjpHRtp"
   },
   "source": [
    "<img src=\"https://raw.githubusercontent.com/RussTedrake/manipulation/master/book/figures/exercises/robot_painter_screenshot.png\" width=\"700\">"
   ]
  },
  {
   "cell_type": "markdown",
   "metadata": {
    "cell_id": "fa7854260f4c4e5695f1ceb222465c54",
    "colab_type": "text",
    "deepnote_cell_type": "markdown",
    "id": "O5gumWUPZp0G"
   },
   "source": [
    "## Define Key Frames\n",
    "\n",
    "The screenshot above visualizes the key frames of the circular trajectory. The key frames illustrate the poses of the gripper in the world frame at different time steps along the trajectory. First, you should notice from the visualization above that the gripper frame is different from the world frame. In particular, the +y axis of the gripper frame points vertically downward, and the +z axis of the gripper points backward. This is an important observation for this exercise.\n",
    "\n",
    "**YOURK TASK**: In the `compose_circular_key_frames` method below, you will compute the key frames of the circular trajectory. For this exercise, we would like to have our arm rotate counterclockwise about the +z axis in the world frame. Besides, we would like the +z axis of the gripper frame to always point toward the center of the circle."
   ]
  },
  {
   "cell_type": "markdown",
   "metadata": {
    "cell_id": "3b2c4f9f2e674dae939f80ff01c1dee0",
    "deepnote_cell_type": "markdown"
   },
   "source": [
    "Note: you can compose arbitrary rotations via `MakeXRotation`, `MakeYRotation`, and `MakeZRotation` methods. Their names are quite self-explanatory. There is an example below"
   ]
  },
  {
   "cell_type": "code",
   "execution_count": null,
   "metadata": {
    "cell_id": "d1ec90cf72f748e69a2cba4c5bc03c36",
    "deepnote_cell_type": "code",
    "execution_context_id": "3336e704-cef9-4862-b5e4-d67c435a79d6",
    "execution_millis": 0,
    "execution_start": 1757691247901,
    "source_hash": "251a9318"
   },
   "outputs": [],
   "source": [
    "RotationMatrix.MakeYRotation(np.pi / 6.0)"
   ]
  },
  {
   "cell_type": "code",
   "execution_count": null,
   "metadata": {
    "cell_id": "812358e07cec48c89b3a1296207a06b6",
    "deepnote_cell_type": "code",
    "execution_context_id": "3336e704-cef9-4862-b5e4-d67c435a79d6",
    "execution_millis": 1,
    "execution_start": 1757691248803,
    "source_hash": "48e70e7b"
   },
   "outputs": [],
   "source": [
    "def compose_circular_key_frames(\n",
    "    thetas: list[float], X_WCenter: RigidTransform, radius: float\n",
    ") -> list[RigidTransform]:\n",
    "    \"\"\"\n",
    "    Construct a set of keyframe poses arranged evenly on a circle around a\n",
    "    reference \"center\" pose.\n",
    "\n",
    "    Args:\n",
    "        thetas list[float]:\n",
    "            List/array of angles in **radians**. Each angle defines one keyframe\n",
    "            location on the circle. Angles are measured around the +Y axis of\n",
    "            the center frame.\n",
    "        X_WCenter (RigidTransform):\n",
    "            Pose of the \"circle center\" frame expressed in the world frame W.\n",
    "            This sets both the *location* of the circle in space and the *axes*\n",
    "            that define its plane.\n",
    "        radius (float):\n",
    "            Distance from the circle center to each keyframe, in meters.\n",
    "\n",
    "    Returns:\n",
    "        list[RigidTransform]:\n",
    "            A list of end-effector poses in the world frame, that define the circular trajectory.\n",
    "    \"\"\"\n",
    "\n",
    "    key_frame_poses_in_world = []\n",
    "    for theta in thetas:\n",
    "        # TODO: Get a series of poses that defines the circular trajectory\n",
    "        #       The poses should be in the world frame\n",
    "        pass\n",
    "\n",
    "    return key_frame_poses_in_world"
   ]
  },
  {
   "cell_type": "markdown",
   "metadata": {
    "cell_id": "680df271ba9d4c54a5ae4fc8fd866616",
    "deepnote_cell_type": "markdown"
   },
   "source": [
    "We define the rigid transform of the center of the circle as well as the radius of the circle below. For this exercise, we are using 10 keyframes, and we define the theta values accordingly."
   ]
  },
  {
   "cell_type": "code",
   "execution_count": null,
   "metadata": {
    "cell_id": "1c61ae0bef40463b9cc606a1f26fc43c",
    "colab": {},
    "colab_type": "code",
    "deepnote_cell_type": "code",
    "execution_context_id": "3336e704-cef9-4862-b5e4-d67c435a79d6",
    "execution_millis": 0,
    "execution_start": 1757691271091,
    "id": "iQ7RRZrGE9kZ",
    "source_hash": "96466a03"
   },
   "outputs": [],
   "source": [
    "# Define the radius of the circle and the center of the circle in the world frame\n",
    "radius = 0.1\n",
    "p0 = [0.45, 0.0, 0.4]\n",
    "R0 = RotationMatrix(np.array([[0, 1, 0], [0, 0, -1], [-1, 0, 0]]).T)\n",
    "X_WCenter = RigidTransform(R0, p0)\n",
    "\n",
    "# Define the number of keyframes and thetas accordingly\n",
    "num_key_frames = 10\n",
    "thetas = np.linspace(0, 2 * np.pi, num_key_frames)"
   ]
  },
  {
   "cell_type": "markdown",
   "metadata": {
    "cell_id": "1aba97d70d2c42e5bde6f9a1167e4b2b",
    "colab_type": "text",
    "deepnote_cell_type": "markdown",
    "id": "V_F1YLhfZp0M"
   },
   "source": [
    "You may find `visualize_frame` method helpful to visualize rigid transforms. The cell below creates a painter object, computes the rigid transform of the current gripper pose, and draws a frame of that pose in meshcat. Note that the frame drawn here is not attached to any body in the scene. They are for visualization only."
   ]
  },
  {
   "cell_type": "code",
   "execution_count": null,
   "metadata": {
    "cell_id": "7cd812d5c026492eb7b4c10eb2fae139",
    "colab": {},
    "colab_type": "code",
    "deepnote_cell_type": "code",
    "execution_context_id": "3336e704-cef9-4862-b5e4-d67c435a79d6",
    "execution_millis": 1,
    "execution_start": 1757691273955,
    "id": "FbPCfGekZp0N",
    "source_hash": "fb30ebea"
   },
   "outputs": [],
   "source": [
    "painter = IIWA_Painter()\n",
    "X_WG = painter.get_X_WG()\n",
    "painter.visualize_frame(\"gripper_current\", X_WG)"
   ]
  },
  {
   "cell_type": "markdown",
   "metadata": {
    "cell_id": "7f33d60682f3444299fc60bc009dfe99",
    "deepnote_cell_type": "markdown"
   },
   "source": [
    "We can also visualize the poses of the key frames of our circular trajectory. The cell below computes the key frames and visualizes them in meshcat. Make sure your poses match the poses in the screenshot above."
   ]
  },
  {
   "cell_type": "code",
   "execution_count": null,
   "metadata": {
    "cell_id": "86a31aa4fcc44897baeaf255cff3a5c6",
    "colab": {},
    "colab_type": "code",
    "deepnote_cell_type": "code",
    "execution_context_id": "3336e704-cef9-4862-b5e4-d67c435a79d6",
    "execution_millis": 0,
    "execution_start": 1757691278795,
    "id": "e28C5w_RE9kt",
    "source_hash": "c55983e3"
   },
   "outputs": [],
   "source": [
    "def visualize_key_frames(frame_poses: list[RigidTransform]):\n",
    "    for i, pose in enumerate(frame_poses):\n",
    "        painter.visualize_frame(\"frame_{}\".format(i), pose, length=0.05)\n",
    "\n",
    "\n",
    "key_frame_poses = compose_circular_key_frames(thetas, X_WCenter, radius)\n",
    "visualize_key_frames(key_frame_poses)"
   ]
  },
  {
   "cell_type": "markdown",
   "metadata": {
    "cell_id": "e23edd7dd467451197153c89bfb4f6c2",
    "colab_type": "text",
    "deepnote_cell_type": "markdown",
    "id": "ag2beQ-wE9kx"
   },
   "source": [
    "## Construct Trajectory\n",
    "\n",
    "Now that we have the key frames of our trajectory, we can construct the trajectory to interpolate the positions and orientations of key frames using `PiecewisePose`."
   ]
  },
  {
   "cell_type": "code",
   "execution_count": null,
   "metadata": {
    "cell_id": "d2aed22ed91042eb8d537d0912cbd70b",
    "deepnote_cell_type": "code",
    "execution_context_id": "3336e704-cef9-4862-b5e4-d67c435a79d6",
    "execution_millis": 0,
    "execution_start": 1757691324121,
    "source_hash": "ef0d7e74"
   },
   "outputs": [],
   "source": [
    "# Get the initial pose of the gripper and get the keyframes for the trajectory\n",
    "X_WGinit = painter.get_X_WG()\n",
    "key_frame_poses = [X_WGinit] + compose_circular_key_frames(thetas, X_WCenter, radius)\n",
    "\n",
    "# Here we define the total time of our simulation\n",
    "total_time = 20\n",
    "times = np.linspace(0, total_time, num_key_frames + 1)\n",
    "\n",
    "# Use PiecewisePose to construct the trajectory\n",
    "traj = PiecewisePose.MakeLinear(times, key_frame_poses)"
   ]
  },
  {
   "cell_type": "markdown",
   "metadata": {
    "cell_id": "9cc86520ecf94ccb99f005e91f629669",
    "colab_type": "text",
    "deepnote_cell_type": "markdown",
    "id": "YB0sjycBE9k8"
   },
   "source": [
    "Now you should be able to visualize the execution of the circular painting. Use it to confirm that the gripper moves counterclockwise following the key frames previously drawn in the scene."
   ]
  },
  {
   "cell_type": "code",
   "execution_count": null,
   "metadata": {
    "cell_id": "a60ee527cfb548ae88648b74d5bb60db",
    "colab": {},
    "colab_type": "code",
    "deepnote_cell_type": "code",
    "execution_context_id": "3336e704-cef9-4862-b5e4-d67c435a79d6",
    "execution_millis": 4439,
    "execution_start": 1757691327442,
    "id": "lumf3EUSZp0y",
    "source_hash": "6f113943"
   },
   "outputs": [],
   "source": [
    "painter = IIWA_Painter(traj)\n",
    "painter.paint(sim_duration=total_time)"
   ]
  },
  {
   "cell_type": "markdown",
   "metadata": {
    "cell_id": "702d292f296240f4bcd9350a859c231c",
    "deepnote_cell_type": "markdown"
   },
   "source": [
    "When you are done, you can also use the following code to check your implementation."
   ]
  },
  {
   "cell_type": "code",
   "execution_count": null,
   "metadata": {
    "cell_id": "9a3d25c0641d486dbca7888fea14c470",
    "deepnote_cell_type": "code",
    "execution_context_id": "3336e704-cef9-4862-b5e4-d67c435a79d6",
    "execution_millis": 309,
    "execution_start": 1757691358529,
    "source_hash": "519e4659"
   },
   "outputs": [],
   "source": [
    "Grader.grade_output([TestRobotPainter], [locals()], \"results.json\")\n",
    "Grader.print_test_results(\"results.json\")"
   ]
  },
  {
   "cell_type": "markdown",
   "metadata": {
    "cell_id": "55c3f1959b0f4c2f9b5bf948c04d6b1a",
    "colab_type": "text",
    "deepnote_cell_type": "markdown",
    "id": "zPmeRLtJk410"
   },
   "source": [
    "# VERIFICATION IN GRADESCOPE \n",
    "\n",
    "**Prerequisites:** You must complete ALL the TODOs above before these verification exercises will work!\n",
    "\n",
    "**Instructions:** Implement the exercises below and upload your solutions to Gradescope"
   ]
  },
  {
   "cell_type": "markdown",
   "metadata": {
    "cell_id": "b6295e7e8dbf4fc4a9d290a9cc98e017",
    "deepnote_cell_type": "markdown"
   },
   "source": [
    "## Verification 1: Keyframe Position\n",
    "\n",
    "**Question:** Using the default configurations above for the circular trajectory, what is the position of the last keyframe? Give your answer to 4 decimal places."
   ]
  },
  {
   "cell_type": "code",
   "execution_count": null,
   "metadata": {
    "cell_id": "b58f0168ef0040ad9a566cdd503551cd",
    "deepnote_cell_type": "code",
    "execution_context_id": "99803058-cb3c-47cf-b0d8-c6222a815d89",
    "execution_millis": 1,
    "execution_start": 1757351804142,
    "source_hash": "788acc72"
   },
   "outputs": [],
   "source": [
    "# TODO: Implement the verification exercise"
   ]
  },
  {
   "cell_type": "markdown",
   "metadata": {
    "cell_id": "6d3ff0d7d4ef4015b3829e991f43dd24",
    "deepnote_cell_type": "markdown"
   },
   "source": [
    "## Verification 2: Video\n",
    "\n",
    "**Task:** Play the simulation of your robot following the circular trajectory and upload a screen recording of it to Gradescope (remember to make sure its an mp4 file with size (much) less than 500 MB).  Gradescope should indicate \"Submitted\"; the points for this question will be assigned when the staff grades this problem."
   ]
  }
 ],
 "metadata": {
  "deepnote_notebook_id": "87d32cf9def14e1a907cd814f159b730",
  "kernelspec": {
   "display_name": ".venv",
   "language": "python",
   "name": "python3"
  },
  "language_info": {
   "codemirror_mode": {
    "name": "ipython",
    "version": 3
   },
   "file_extension": ".py",
   "mimetype": "text/x-python",
   "name": "python",
   "nbconvert_exporter": "python",
   "pygments_lexer": "ipython3",
   "version": "3.13.7"
  }
 },
 "nbformat": 4,
 "nbformat_minor": 0
}