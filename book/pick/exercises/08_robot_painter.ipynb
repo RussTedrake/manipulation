{
 "cells": [
  {
   "attachments": {},
   "cell_type": "markdown",
   "id": "a2347bff",
   "metadata": {
    "colab_type": "text",
    "id": "KE6SesUXE9jX"
   },
   "source": [
    "# Robot Painter"
   ]
  },
  {
   "cell_type": "code",
   "execution_count": null,
   "id": "c53ee502",
   "metadata": {
    "colab": {},
    "colab_type": "code",
    "id": "xyZz8R16E9jZ",
    "lines_to_end_of_cell_marker": 2
   },
   "outputs": [],
   "source": [
    "import numpy as np\n",
    "from pydrake.all import (\n",
    "    AbstractValue,\n",
    "    ConstantVectorSource,\n",
    "    DiagramBuilder,\n",
    "    LeafSystem,\n",
    "    PiecewisePose,\n",
    "    RigidTransform,\n",
    "    RotationMatrix,\n",
    "    Simulator,\n",
    "    StartMeshcat,\n",
    ")\n",
    "\n",
    "from manipulation import running_as_notebook\n",
    "from manipulation.exercises.grader import Grader\n",
    "from manipulation.exercises.pick.test_robot_painter import TestRobotPainter\n",
    "from manipulation.meshcat_utils import AddMeshcatTriad\n",
    "from manipulation.scenarios import AddIiwaDifferentialIK\n",
    "from manipulation.station import LoadScenario, MakeHardwareStation"
   ]
  },
  {
   "cell_type": "code",
   "execution_count": null,
   "id": "be114f77",
   "metadata": {},
   "outputs": [],
   "source": [
    "# Start the visualizer.\n",
    "meshcat = StartMeshcat()"
   ]
  },
  {
   "attachments": {},
   "cell_type": "markdown",
   "id": "b994094b",
   "metadata": {
    "colab_type": "text",
    "id": "zfITVansaoLi"
   },
   "source": [
    "In the following cell we provide a wrapper class that hides parts of the implementation details in Drake. You are not required to understand how it works."
   ]
  },
  {
   "cell_type": "code",
   "execution_count": null,
   "id": "4bd8aec7",
   "metadata": {
    "colab": {},
    "colab_type": "code",
    "id": "SuwPFHfYE9jj"
   },
   "outputs": [],
   "source": [
    "class PoseTrajectorySource(LeafSystem):\n",
    "    def __init__(self, pose_trajectory):\n",
    "        LeafSystem.__init__(self)\n",
    "        self._pose_trajectory = pose_trajectory\n",
    "        self.DeclareAbstractOutputPort(\n",
    "            \"pose\", lambda: AbstractValue.Make(RigidTransform()), self.CalcPose\n",
    "        )\n",
    "\n",
    "    def CalcPose(self, context, output):\n",
    "        output.set_value(self._pose_trajectory.GetPose(context.get_time()))\n",
    "\n",
    "\n",
    "class IIWA_Painter:\n",
    "    def __init__(self, traj=None):\n",
    "        builder = DiagramBuilder()\n",
    "        scenario_data = \"\"\"\n",
    "        directives:\n",
    "        - add_directives:\n",
    "            file: package://manipulation/clutter.dmd.yaml\n",
    "        model_drivers:\n",
    "            iiwa: !IiwaDriver\n",
    "                control_mode: position_only\n",
    "                hand_model_name: wsg\n",
    "            wsg: !SchunkWsgDriver {}\n",
    "        \"\"\"\n",
    "        scenario = LoadScenario(data=scenario_data)\n",
    "        self.station = builder.AddSystem(MakeHardwareStation(scenario, meshcat=meshcat))\n",
    "        self.plant = self.station.GetSubsystemByName(\"plant\")\n",
    "        # Remove joint limits from the wrist joint.\n",
    "        self.plant.GetJointByName(\"iiwa_joint_7\").set_position_limits(\n",
    "            [-np.inf], [np.inf]\n",
    "        )\n",
    "        controller_plant = self.station.GetSubsystemByName(\n",
    "            \"iiwa_controller_plant_pointer_system\",\n",
    "        ).get()\n",
    "\n",
    "        # optionally add trajectory source\n",
    "        if traj is not None:\n",
    "            traj_source = builder.AddSystem(PoseTrajectorySource(traj))\n",
    "            self.controller = AddIiwaDifferentialIK(\n",
    "                builder,\n",
    "                controller_plant,\n",
    "                frame=controller_plant.GetFrameByName(\"body\"),\n",
    "            )\n",
    "            builder.Connect(\n",
    "                traj_source.get_output_port(),\n",
    "                self.controller.get_input_port(0),\n",
    "            )\n",
    "            builder.Connect(\n",
    "                self.station.GetOutputPort(\"iiwa.state_estimated\"),\n",
    "                self.controller.GetInputPort(\"robot_state\"),\n",
    "            )\n",
    "\n",
    "            builder.Connect(\n",
    "                self.controller.get_output_port(),\n",
    "                self.station.GetInputPort(\"iiwa.position\"),\n",
    "            )\n",
    "        else:\n",
    "            iiwa_position = builder.AddSystem(ConstantVectorSource(np.zeros(7)))\n",
    "            builder.Connect(\n",
    "                iiwa_position.get_output_port(),\n",
    "                self.station.GetInputPort(\"iiwa.position\"),\n",
    "            )\n",
    "\n",
    "        wsg_position = builder.AddSystem(ConstantVectorSource([0.1]))\n",
    "        builder.Connect(\n",
    "            wsg_position.get_output_port(),\n",
    "            self.station.GetInputPort(\"wsg.position\"),\n",
    "        )\n",
    "\n",
    "        self.diagram = builder.Build()\n",
    "        self.gripper_frame = self.plant.GetFrameByName(\"body\")\n",
    "        self.world_frame = self.plant.world_frame()\n",
    "\n",
    "        context = self.CreateDefaultContext()\n",
    "        self.diagram.ForcedPublish(context)\n",
    "\n",
    "    def visualize_frame(self, name, X_WF, length=0.15, radius=0.006):\n",
    "        \"\"\"\n",
    "        visualize imaginary frame that are not attached to existing bodies\n",
    "\n",
    "        Input:\n",
    "            name: the name of the frame (str)\n",
    "            X_WF: a RigidTransform to from frame F to world.\n",
    "\n",
    "        Frames whose names already exist will be overwritten by the new frame\n",
    "        \"\"\"\n",
    "        AddMeshcatTriad(\n",
    "            meshcat, \"painter/\" + name, length=length, radius=radius, X_PT=X_WF\n",
    "        )\n",
    "\n",
    "    def CreateDefaultContext(self):\n",
    "        context = self.diagram.CreateDefaultContext()\n",
    "        plant_context = self.diagram.GetMutableSubsystemContext(self.plant, context)\n",
    "\n",
    "        # provide initial states\n",
    "        q0 = np.array(\n",
    "            [\n",
    "                1.40666193e-05,\n",
    "                1.56461165e-01,\n",
    "                -3.82761069e-05,\n",
    "                -1.32296976e00,\n",
    "                -6.29097287e-06,\n",
    "                1.61181157e00,\n",
    "                -2.66900985e-05,\n",
    "            ]\n",
    "        )\n",
    "        # set the joint positions of the kuka arm\n",
    "        iiwa = self.plant.GetModelInstanceByName(\"iiwa\")\n",
    "        self.plant.SetPositions(plant_context, iiwa, q0)\n",
    "        self.plant.SetVelocities(plant_context, iiwa, np.zeros(7))\n",
    "        wsg = self.plant.GetModelInstanceByName(\"wsg\")\n",
    "        self.plant.SetPositions(plant_context, wsg, [-0.05, 0.05])\n",
    "        self.plant.SetVelocities(plant_context, wsg, [0, 0])\n",
    "\n",
    "        return context\n",
    "\n",
    "    def get_X_WG(self, context=None):\n",
    "        if not context:\n",
    "            context = self.CreateDefaultContext()\n",
    "        plant_context = self.plant.GetMyMutableContextFromRoot(context)\n",
    "        X_WG = self.plant.CalcRelativeTransform(\n",
    "            plant_context, frame_A=self.world_frame, frame_B=self.gripper_frame\n",
    "        )\n",
    "        return X_WG\n",
    "\n",
    "    def paint(self, sim_duration=20.0):\n",
    "        context = self.CreateDefaultContext()\n",
    "        simulator = Simulator(self.diagram, context)\n",
    "\n",
    "        meshcat.StartRecording(set_visualizations_while_recording=False)\n",
    "        duration = sim_duration if running_as_notebook else 0.01\n",
    "        simulator.AdvanceTo(duration)\n",
    "        meshcat.PublishRecording()"
   ]
  },
  {
   "attachments": {},
   "cell_type": "markdown",
   "id": "96daded9",
   "metadata": {
    "colab_type": "text",
    "id": "EvOQi_xQE9kY"
   },
   "source": [
    "# Problem Description\n",
    "In the lecture, we learned the basics of spatial transformations. For this exercise, you will have iiwa arm *paint* a circular, planar trajectory by computing and interpolating the key frames, just as we have seen from the lecture\n",
    "\n",
    "**These are the main steps of the exercise:**\n",
    "1. Design and implement a circular trajectory for the Iiwa arm to follow.\n",
    "2. Observe and reflect on the Differential IK controller."
   ]
  },
  {
   "attachments": {},
   "cell_type": "markdown",
   "id": "c5b4a38d",
   "metadata": {
    "colab_type": "text",
    "id": "kEzcpiOiZp0C"
   },
   "source": [
    "# Circular Trajectory\n",
    "\n",
    "In this exercise, you will design a circular planar trajectory like the one below for the iiwa arm to follow, like a robot painting in the air! To do so, we will follow the same procedure as shown in class:\n",
    "\n",
    "(1) compute the key frames of the circular trajectory\n",
    "\n",
    "(2) construct interpolated trajectory from the key frames"
   ]
  },
  {
   "attachments": {},
   "cell_type": "markdown",
   "id": "2532e684",
   "metadata": {
    "colab_type": "text",
    "id": "KwoXw_yDgtbg"
   },
   "source": [
    "<img src=\"https://raw.githubusercontent.com/RussTedrake/manipulation/master/book/figures/exercises/robot_painter_circle.png\" width=\"700\">"
   ]
  },
  {
   "attachments": {},
   "cell_type": "markdown",
   "id": "58091624",
   "metadata": {
    "colab_type": "text",
    "id": "KqinvTKyZp0E"
   },
   "source": [
    "The x and y axis in the diagram above are from the world frame."
   ]
  },
  {
   "attachments": {},
   "cell_type": "markdown",
   "id": "1f2efee5",
   "metadata": {
    "colab_type": "text",
    "id": "C-lMFAjpHRtp"
   },
   "source": [
    "<img src=\"https://raw.githubusercontent.com/RussTedrake/manipulation/master/book/figures/exercises/robot_painter_screenshot.png\" width=\"700\">"
   ]
  },
  {
   "attachments": {},
   "cell_type": "markdown",
   "id": "196a4e8e",
   "metadata": {
    "colab_type": "text",
    "id": "O5gumWUPZp0G"
   },
   "source": [
    "The screenshot above visualizes the key frames of the circular trajectory. The key frames illustrate the poses of the gripper in the world frame at different time steps along the trajectory. First, you should notice from the visualization above that the gripper frame is different from the world frame. In particular, the +y axis of the gripper frame points vertically downward, and the +z axis of the gripper points backward. This is an important observation for this exercise.\n",
    "\n",
    "The rigid transform of the center of the circular trajectory as well as the radius of the circle is defined below. In words, we would like to have our arm rotate counterclockwise about the +z axis in the world frame. Besides, we would like the +z axis of the gripper frame to always point toward the center of the circle."
   ]
  },
  {
   "cell_type": "code",
   "execution_count": null,
   "id": "16257f41",
   "metadata": {
    "colab": {},
    "colab_type": "code",
    "id": "iQ7RRZrGE9kZ"
   },
   "outputs": [],
   "source": [
    "# define center and radius\n",
    "radius = 0.1\n",
    "p0 = [0.45, 0.0, 0.4]\n",
    "R0 = RotationMatrix(np.array([[0, 1, 0], [0, 0, -1], [-1, 0, 0]]).T)\n",
    "X_WCenter = RigidTransform(R0, p0)\n",
    "\n",
    "num_key_frames = 10\n",
    "\"\"\"\n",
    "you may use different thetas as long as your trajectory starts\n",
    "from the Start Frame above and your rotation is positive\n",
    "in the world frame about +z axis\n",
    "thetas = np.linspace(0, 2*np.pi, num_key_frames)\n",
    "\"\"\"\n",
    "thetas = np.linspace(0, 2 * np.pi, num_key_frames)\n",
    "\n",
    "painter = IIWA_Painter()"
   ]
  },
  {
   "attachments": {},
   "cell_type": "markdown",
   "id": "91a71fed",
   "metadata": {
    "colab_type": "text",
    "id": "V_F1YLhfZp0M"
   },
   "source": [
    "We have provided an `IIWA_painter` class at the very top of this notebook to help you abstract away parts of the implementation details in Drake. You may find `visualize_frame` method helpful to visualize rigid transforms. The cell below first computes the rigid transform of the current gripper pose, and then it draws a frame of that pose in meshcat. Note that the frame drawn here is not attached to any body in the scene. They are for visualization only."
   ]
  },
  {
   "cell_type": "code",
   "execution_count": null,
   "id": "e7c1b467",
   "metadata": {
    "colab": {},
    "colab_type": "code",
    "id": "FbPCfGekZp0N"
   },
   "outputs": [],
   "source": [
    "X_WG = painter.get_X_WG()\n",
    "painter.visualize_frame(\"gripper_current\", X_WG)"
   ]
  },
  {
   "attachments": {},
   "cell_type": "markdown",
   "id": "75d37aa4",
   "metadata": {
    "colab_type": "text",
    "id": "WBMew300E9kM"
   },
   "source": [
    "Finally, you can compose arbitrary rotations via `MakeXRotation`, `MakeYRotation`, and `MakeZRotation` methods. Their names are quite self-explanatory."
   ]
  },
  {
   "cell_type": "code",
   "execution_count": null,
   "id": "536f1fd5",
   "metadata": {
    "colab": {},
    "colab_type": "code",
    "id": "GuCZwacoE9kN"
   },
   "outputs": [],
   "source": [
    "RotationMatrix.MakeYRotation(np.pi / 6.0)"
   ]
  },
  {
   "attachments": {},
   "cell_type": "markdown",
   "id": "e18a6d3e",
   "metadata": {
    "colab_type": "text",
    "id": "oJv_BmszE9kj"
   },
   "source": [
    "**Below, your job is to complete the compose_circular_key_frames method given the center of the circle, a desired radius and interpolated rotation angles about the center of the circle of the key frames**"
   ]
  },
  {
   "cell_type": "code",
   "execution_count": null,
   "id": "275c5e6c",
   "metadata": {
    "colab": {},
    "colab_type": "code",
    "id": "8Bh455axE9kk"
   },
   "outputs": [],
   "source": [
    "def compose_circular_key_frames(thetas, X_WCenter, radius):\n",
    "    \"\"\"\n",
    "    returns: a list of RigidTransforms\n",
    "    \"\"\"\n",
    "    # this is an template, replace your code below\n",
    "    key_frame_poses_in_world = []\n",
    "    for theta in thetas:\n",
    "        this_pose = RigidTransform()\n",
    "        key_frame_poses_in_world.append(this_pose)\n",
    "\n",
    "    return key_frame_poses_in_world"
   ]
  },
  {
   "cell_type": "code",
   "execution_count": null,
   "id": "61f7c05c",
   "metadata": {
    "colab": {},
    "colab_type": "code",
    "id": "e28C5w_RE9kt"
   },
   "outputs": [],
   "source": [
    "def visualize_key_frames(frame_poses):\n",
    "    for i, pose in enumerate(frame_poses):\n",
    "        painter.visualize_frame(\"frame_{}\".format(i), pose, length=0.05)\n",
    "\n",
    "\n",
    "key_frame_poses = compose_circular_key_frames(thetas, X_WCenter, radius)\n",
    "visualize_key_frames(key_frame_poses)"
   ]
  },
  {
   "attachments": {},
   "cell_type": "markdown",
   "id": "8adc2cba",
   "metadata": {
    "colab_type": "text",
    "id": "ag2beQ-wE9kx"
   },
   "source": [
    "## Construct Trajectory\n",
    "\n",
    "Now we construct the trajectories to interpolate the positions and orientations of key frames using `PiecewisePose`.\n"
   ]
  },
  {
   "cell_type": "code",
   "execution_count": null,
   "id": "91c33093",
   "metadata": {
    "colab": {},
    "colab_type": "code",
    "id": "MGah0BwTE9ky"
   },
   "outputs": [],
   "source": [
    "X_WGinit = painter.get_X_WG()\n",
    "total_time = 20\n",
    "key_frame_poses = [X_WGinit] + compose_circular_key_frames(thetas, X_WCenter, radius)\n",
    "times = np.linspace(0, total_time, num_key_frames + 1)\n",
    "traj = PiecewisePose.MakeLinear(times, key_frame_poses)"
   ]
  },
  {
   "attachments": {},
   "cell_type": "markdown",
   "id": "cfcd121a",
   "metadata": {
    "colab_type": "text",
    "id": "YB0sjycBE9k8"
   },
   "source": [
    "Now you should be able to visualize the execution of the circular painting. Use it to confirm that the gripper moves counterclockwise following the key frames previously drawn in the scene."
   ]
  },
  {
   "cell_type": "code",
   "execution_count": null,
   "id": "ac0545aa",
   "metadata": {
    "colab": {},
    "colab_type": "code",
    "id": "lumf3EUSZp0y"
   },
   "outputs": [],
   "source": [
    "painter = IIWA_Painter(traj)\n",
    "painter.paint(sim_duration=total_time)"
   ]
  },
  {
   "attachments": {},
   "cell_type": "markdown",
   "id": "d825dcc3",
   "metadata": {
    "colab_type": "text",
    "id": "OaaONjD4E9lI"
   },
   "source": [
    "## Reflect\n",
    "\n",
    "**In this problem we have explicitly chosen to use the initial gripper pose as the start of the trajectory passed to the IIWA_Painter. Is this choice necessary to have the robot follow the desired circular path? Explain your answer and reasoning.**\n",
    "\n",
    "Hints:\n",
    "- Take a look at the constructor for the `IIWA_Painter` class a few cells above. Note that we are using AddIiwaDifferentialIK as our controller. Internally, it uses [DifferentialInverseKinematicsIntegrator](https://drake.mit.edu/pydrake/pydrake.multibody.inverse_kinematics.html#pydrake.multibody.inverse_kinematics.DifferentialInverseKinematicsIntegrator). Read the documentation and reason out how it works.\n",
    "- You can test this using the code above by modifying the first pose of the `key_frame_poses` list and observing the result!"
   ]
  },
  {
   "attachments": {},
   "cell_type": "markdown",
   "id": "d14cd325",
   "metadata": {
    "colab_type": "text",
    "id": "oJGsEidfE9lJ"
   },
   "source": [
    "### Your Answer\n",
    "\n",
    "Answer the question here, and copy-paste to the Gradescope 'written submission' section!"
   ]
  },
  {
   "attachments": {},
   "cell_type": "markdown",
   "id": "e2299d3e",
   "metadata": {},
   "source": [
    "Note that the default amount of time we simulate forward (in the `paint()` method of the `IIWA_Painter`) matches the total time interval we specify for our trajectory (in `np.linspace()` a few cells above). What happens if you increase the simulation time while keeping the total time for the trajectory fixed? Does it align with your expectations? What is the cause of your expected and observed behavior?**\n",
    "\n",
    "Hint:\n",
    "PiecewisePose.MakeLinear returns a [PiecewisePose Trajectory object](https://drake.mit.edu/doxygen_cxx/classdrake_1_1trajectories_1_1_piecewise_pose.html). You can look at the value of the trajectory at any point in time using `traj.value(time)`. What does this object return when you attempt to retrieve a pose from beyond the trajectory's end time?"
   ]
  },
  {
   "attachments": {},
   "cell_type": "markdown",
   "id": "8b07eafa",
   "metadata": {
    "colab_type": "text",
    "id": "oJGsEidfE9lJ"
   },
   "source": [
    "### Your Answer\n",
    "\n",
    "Answer the question here, and copy-paste to the Gradescope 'written submission' section!"
   ]
  },
  {
   "attachments": {},
   "cell_type": "markdown",
   "id": "7155c82a",
   "metadata": {
    "colab_type": "text",
    "id": "zPmeRLtJk410"
   },
   "source": [
    "## How will this notebook be Graded?\n",
    "\n",
    "If you are enrolled in the class, this notebook will be graded using [Gradescope](www.gradescope.com). You should have gotten the enrollement code on our announcement in Piazza.\n",
    "\n",
    "For submission of this assignment, you must do two things.\n",
    "- Download and submit the notebook `robot_painter.ipynb` to Gradescope's notebook submission section, along with your notebook for the other problems.\n",
    "\n",
    "We will evaluate the local functions in the notebook to see if the function behaves as we have expected. For this exercise, the rubric is as follows:\n",
    "- [4.0 pts] `compose_circular_key_frames` is correct according to the requirement\n",
    "- [3.0 pts] reasonable answers on the two written questions"
   ]
  },
  {
   "cell_type": "code",
   "execution_count": null,
   "id": "0c2fc56f",
   "metadata": {
    "colab": {},
    "colab_type": "code",
    "id": "95VTQeqg_P0P"
   },
   "outputs": [],
   "source": [
    "Grader.grade_output([TestRobotPainter], [locals()], \"results.json\")\n",
    "Grader.print_test_results(\"results.json\")"
   ]
  }
 ],
 "metadata": {
  "kernelspec": {
   "display_name": "Python 3.8.10 64-bit",
   "language": "python",
   "name": "python3"
  }
 },
 "nbformat": 4,
 "nbformat_minor": 5
}