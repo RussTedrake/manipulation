{
 "cells": [
  {
   "cell_type": "markdown",
   "metadata": {
    "cell_id": "411c3cc5d0e245c6bc3f453dc3ea3076",
    "colab_type": "text",
    "deepnote_cell_type": "markdown",
    "id": "ERSps3-ac4Po"
   },
   "source": [
    "# Introduction to QP\n",
    "\n",
    "**Learning Objectives**\n",
    "- Understand the basics of Drake's MathematicalProgram\n",
    "- Learn how to formulate and solve a quadratic program (QP) in Drake\n",
    "\n",
    "**What You'll Implement**\n",
    "- Solving a simple QP in Drake"
   ]
  },
  {
   "cell_type": "markdown",
   "metadata": {
    "cell_id": "ba4f9f0b586e4b37a139ea2d2bfb3142",
    "deepnote_cell_type": "markdown"
   },
   "source": [
    "## Setup and Imports\n",
    "\n",
    "Let us first import our Mathematical Programming tools frome Drake"
   ]
  },
  {
   "cell_type": "code",
   "execution_count": null,
   "metadata": {
    "cell_id": "1a7807483fd9421cae36fbca7845b385",
    "colab": {},
    "colab_type": "code",
    "deepnote_cell_type": "code",
    "execution_context_id": "a3b59e1f-70b5-43ee-8fc6-fb9e25d4ab16",
    "execution_millis": 561,
    "execution_start": 1757697596591,
    "id": "tFMmTfbHWQfh",
    "source_hash": "aa8d84ec"
   },
   "outputs": [],
   "source": [
    "# python libraries\n",
    "import numpy as np\n",
    "from pydrake.all import MathematicalProgram, Solve, eq, ge, le"
   ]
  },
  {
   "cell_type": "markdown",
   "metadata": {
    "cell_id": "1e54d3ce37e04225829c02a3419dc6a3",
    "colab_type": "text",
    "deepnote_cell_type": "markdown",
    "id": "ze9gQeOVOJUA"
   },
   "source": [
    "## Part 1: Introduction to MathematicalProgram \n",
    "\n",
    "The purpose of this exercise is to get you familiar with the basics of what an instance of an optimization problem is, as well as how to solve it. \n",
    "\n",
    "An optimization problem is usually written as \n",
    "\n",
    "$$\\begin{aligned} \\min_x \\quad & f(x) \\\\ \\textrm{s.t.} \\quad & g(x)\\leq 0,\\\\ \\quad &  h(x)=0 \\end{aligned}$$\n",
    "\n",
    "We call $x$ the **decision variable**, $f(x)$ the **cost function**, $g(x)\\leq 0$ an **inequality constraint**, and $h(x)=0$ an **equality constraint**. We usually denote the optimal solution by $x^*$. Most of the times, the constraints are hard-constraints, meaning that they must be fulfilled by the optimal solution. \n",
    "\n",
    "Drake offers a very good interface to many solvers using `MathematicalProgram`. Let's try to solve a simple problem using `MathematicalProgram`: \n",
    "\n",
    "$$\\begin{aligned} \\min_x \\quad & \\frac{1}{2}x^2 \\\\ \\textrm{s.t.} \\quad & x\\geq 3 \\end{aligned}$$\n",
    "\n",
    "Before we start coding, what do you expect the answer to be? You should persuade yourself that the optimal solution is $x^*=3$, since that is value at which minimum cost is achieved without violating the constraint.\n",
    "\n"
   ]
  },
  {
   "cell_type": "code",
   "execution_count": null,
   "metadata": {
    "cell_id": "c4e13d0ba30746ed8bcf54651b895eda",
    "colab": {},
    "colab_type": "code",
    "deepnote_cell_type": "code",
    "execution_context_id": "a3b59e1f-70b5-43ee-8fc6-fb9e25d4ab16",
    "execution_millis": 1,
    "execution_start": 1757697597211,
    "id": "Khi7GeVNcwtU",
    "source_hash": "97b5f0f"
   },
   "outputs": [],
   "source": [
    "\"\"\"\n",
    "Steps to solve a optimization problem using Drake's MathematicalProgram\n",
    "\"\"\"\n",
    "\n",
    "# 1. Define an instance of MathematicalProgram\n",
    "prog = MathematicalProgram()\n",
    "\n",
    "# 2. Add decision varaibles\n",
    "x = prog.NewContinuousVariables(1)\n",
    "\n",
    "# 3. Add Cost function\n",
    "prog.AddCost(x.dot(x))\n",
    "\n",
    "# 4. Add Constraints\n",
    "prog.AddConstraint(x[0] >= 3)\n",
    "\n",
    "# 5. Solve the problem\n",
    "result = Solve(prog)\n",
    "\n",
    "# 6. Get the solution\n",
    "if result.is_success():\n",
    "    print(\"Solution: \" + str(result.GetSolution()))"
   ]
  },
  {
   "cell_type": "markdown",
   "metadata": {
    "cell_id": "6b4d39ed004b4a499f35a3cbc36802ea",
    "colab_type": "text",
    "deepnote_cell_type": "markdown",
    "id": "HvEI7697UUZC"
   },
   "source": [
    "You should have seen that we were successful in getting the expected solution of $x^*=3$. \n",
    "\n",
    "A particular class of problems that we want to focus on this problem are [Quadratic Programs (QP)](https://en.wikipedia.org/wiki/Quadratic_programming), which can be solved very efficiently in practice (even on the order of kHz).\n",
    "\n",
    "The general formulation of these problems are defined as follows. \n",
    "\n",
    "$$\\begin{aligned} \\min_x \\quad & \\frac{1}{2}x^T\\mathbf{Q}x + c^Tx \\\\ \\textrm{s.t.} \\quad & \\mathbf{A}x\\leq b,\\\\ \\quad &  \\mathbf{A}'x=b' \\end{aligned}$$\n",
    "\n",
    "where $\\mathbf{Q}$ is a positive-definite, symmetric matrix. Note that the cost is a quadratic function of the decision variables, while the constraints are all linear. This is what defines a convex QP. \n",
    "\n",
    "Let's practice solving a simple QP: \n",
    "\n",
    "$$\\begin{aligned} \\min_{x_0,x_1,x_2} \\quad & x_0^2 + x_1^2 + x_2^2 \\\\ \\textrm{s.t.} \\quad & \\begin{pmatrix} 2 & 3 & 1 \\\\ 5 & 1 & 0 \\end{pmatrix} \\begin{pmatrix} x_0 \\\\ x_1 \\\\ x_2 \\end{pmatrix} = \\begin{pmatrix} 1 \\\\ 1 \\end{pmatrix}\\\\  \\quad &  \\begin{pmatrix} x_0 \\\\ x_1 \\\\ x_2 \\end{pmatrix} \\leq \\begin{pmatrix} 2 \\\\ 2 \\\\ 2\\end{pmatrix} \\end{aligned}$$\n",
    "\n",
    "To conveniently write down constraints that are vector-valued, Drake offers `eq,le,ge` for elementwise constraints. It might take some time to learn the syntax of constraints. For a more well-written and in-depth introduction to `MathematicalProgram`, [this notebook tutorial](https://deepnote.com/workspace/Drake-0b3b2c53-a7ad-441b-80f8-bf8350752305/project/Tutorials-2b4fc509-aef2-417d-a40d-6071dfed9199/notebook/mathematical_program-4c4f4de7d5d3452daacf45c20b315d31) is incredibly useful. \n",
    " \n"
   ]
  },
  {
   "cell_type": "code",
   "execution_count": null,
   "metadata": {
    "cell_id": "d97cb6070f5646ab86ca767203e5ff3f",
    "colab": {},
    "colab_type": "code",
    "deepnote_cell_type": "code",
    "execution_context_id": "a3b59e1f-70b5-43ee-8fc6-fb9e25d4ab16",
    "execution_millis": 1,
    "execution_start": 1757697597271,
    "id": "SNvpjgzxVQJC",
    "source_hash": "4aae9fc3"
   },
   "outputs": [],
   "source": [
    "prog = MathematicalProgram()\n",
    "\n",
    "x = prog.NewContinuousVariables(3)\n",
    "\n",
    "prog.AddCost(x.dot(x))\n",
    "prog.AddConstraint(eq(np.array([[2, 3, 1], [5, 1, 0]]).dot(x), [1, 1]))\n",
    "prog.AddConstraint(le(x, 2 * np.ones(3)))\n",
    "\n",
    "result = Solve(prog)\n",
    "\n",
    "# 6. Get the solution\n",
    "if result.is_success():\n",
    "    print(\"Solution: \" + str(result.GetSolution()))"
   ]
  },
  {
   "cell_type": "markdown",
   "metadata": {
    "cell_id": "557704c577d44d28bb784f98b6eeb902",
    "colab_type": "text",
    "deepnote_cell_type": "markdown",
    "id": "SmYZWSewSwf6"
   },
   "source": [
    "\n",
    "## Part 2: Your Turn! \n",
    "\n",
    "**YOUR TASK**: You must solve the following problem and store the result in a variable named `result_submission`. \n",
    "\n",
    "$$\\begin{aligned} \\min_{x_0,x_1,x_2} \\quad & 2x_0^2 + x_1^2 + 4x_2^2 \\\\ \\textrm{s.t.} \\quad & \\begin{pmatrix} 1 & 2 & 3 \\\\ 2 & 7 & 4 \\end{pmatrix} \\begin{pmatrix} x_0 \\\\ x_1  \\\\ x_2 \\end{pmatrix} = \\begin{pmatrix} 1 \\\\ 1 \\end{pmatrix} \\\\ \\quad &  |x| \\leq \\begin{pmatrix} 0.35 \\\\ 0.35 \\\\ 0.35\\end{pmatrix} \\end{aligned}$$\n",
    "\n",
    "NOTE: The last constraint says that the absolute value of `x[i]` must be less than the value of `b_bb[i]`. You cannot put an absolute value directly as a constraint, so there are two routes that you can take:\n",
    "- Break the constraints down to two constraints that don't involve the absolute value.  \n",
    "- Drake offers [`AddBoundingBoxConstraint`](https://drake.mit.edu/pydrake/pydrake.solvers.html?highlight=addboundingboxconstraint#pydrake.solvers.MathematicalProgram.AddBoundingBoxConstraint) which you may use in your implementation."
   ]
  },
  {
   "cell_type": "code",
   "execution_count": null,
   "metadata": {
    "cell_id": "bd125557c77344dca2f401593976ebe3",
    "colab": {},
    "colab_type": "code",
    "deepnote_cell_type": "code",
    "execution_context_id": "a3b59e1f-70b5-43ee-8fc6-fb9e25d4ab16",
    "execution_millis": 0,
    "execution_start": 1757697597331,
    "id": "qhMB4kc3asCE",
    "source_hash": "6c6828f9"
   },
   "outputs": [],
   "source": [
    "prog = MathematicalProgram()\n",
    "\n",
    "# TODO: Implement the program here\n",
    "\n",
    "result_submission = None  # store the result here."
   ]
  },
  {
   "cell_type": "markdown",
   "metadata": {
    "cell_id": "fc1a265270504e16a2f0da992e5295f3",
    "deepnote_cell_type": "markdown"
   },
   "source": [
    "Below is our autograder where you can check the correctness of your implementation."
   ]
  },
  {
   "cell_type": "code",
   "execution_count": null,
   "metadata": {
    "cell_id": "d38edb495d174d999f0eb3928c9b826f",
    "deepnote_cell_type": "code",
    "execution_context_id": "a3b59e1f-70b5-43ee-8fc6-fb9e25d4ab16",
    "execution_millis": 576,
    "execution_start": 1757697597441,
    "source_hash": "743ee26e"
   },
   "outputs": [],
   "source": [
    "from manipulation.exercises.grader import Grader\n",
    "from manipulation.exercises.pick.test_simple_qp import TestSimpleQP\n",
    "\n",
    "Grader.grade_output([TestSimpleQP], [locals()], \"results.json\")\n",
    "Grader.print_test_results(\"results.json\")"
   ]
  },
  {
   "cell_type": "markdown",
   "metadata": {
    "cell_id": "a5fb20fb30aa459db306e6e3e0a930ee",
    "colab_type": "text",
    "deepnote_cell_type": "markdown",
    "id": "zPmeRLtJk410"
   },
   "source": [
    "## VERIFICATION IN GRADESCOPE\n",
    "\n",
    "**Prerequisites:** You must complete ALL the TODOs above before these verification exercises will work!\n",
    "\n",
    "**Instructions:** Implement the exercises below and upload your solutions to Gradescope\n",
    "\n"
   ]
  },
  {
   "cell_type": "markdown",
   "metadata": {
    "cell_id": "c517d105eb244818a574d360413e8c17",
    "deepnote_cell_type": "markdown"
   },
   "source": [
    "## Verification 1: QP Solution\n",
    "\n",
    "**Question:** What is the solution to the optimization problem you implemented? Put your answer in gradescope. Give your answer to 4 decimal places."
   ]
  }
 ],
 "metadata": {
  "deepnote_notebook_id": "254d7eb2be0d4a32a848305352269d83",
  "language_info": {
   "name": "python"
  }
 },
 "nbformat": 4,
 "nbformat_minor": 0
}