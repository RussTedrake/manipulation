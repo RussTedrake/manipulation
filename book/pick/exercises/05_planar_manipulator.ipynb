{
 "cells": [
  {
   "cell_type": "markdown",
   "metadata": {
    "colab_type": "text",
    "id": "z6NJXa-db0Rz"
   },
   "source": [
    "# The Planar Manipulator"
   ]
  },
  {
   "cell_type": "code",
   "execution_count": null,
   "metadata": {
    "colab": {},
    "colab_type": "code",
    "id": "x9_4IU-fcOaB"
   },
   "outputs": [],
   "source": [
    "# python libraries\n",
    "import mpld3\n",
    "import numpy as np\n",
    "\n",
    "from manipulation import running_as_notebook\n",
    "from manipulation.exercises.pick.plot_planar_manipulator import plot_planar_manipulator, plot_two_planar_manipulators\n",
    "\n",
    "# enable mpld3 notebook\n",
    "if running_as_notebook:\n",
    "    mpld3.enable_notebook()"
   ]
  },
  {
   "cell_type": "markdown",
   "metadata": {
    "colab_type": "text",
    "id": "mcSz0hOVtBd5"
   },
   "source": [
    "## Problem Description\n",
    "In the lecture, we learned about forward and differential inverse kinematics. For this exercise, you will derive these equations for a simple two-link planar manipulator, using simple geometrical reasoning. As is the case with good toy problems, the two link manipulator has many insights that extend to the multi-link case, despite its apparent simplicity. \n",
    "\n",
    "**Learning Objectives:**\n",
    "1. Compute the forward kinematics of the two-link manipulator. \n",
    "2. Calculate the inverse kinematics of the two-link manipulator.\n",
    "3. Understand how the forward, inverse kinematics change for extended multi-link case\n",
    "4. Derive the Jacobian of the forward kinematic map\n",
    "5. Analyze the conditions for which the Jacobian is singular.  "
   ]
  },
  {
   "cell_type": "markdown",
   "metadata": {
    "colab_type": "text",
    "id": "zGzK9PCRdhAP"
   },
   "source": [
    "# The Two-link Planar Manipulator \n",
    "\n",
    "The two-link planar manipulator is a very popular toy problem in manipulator kinematics and dynamics. The coordinate description of the two link manipulator can be seen in the below image:\n",
    "\n",
    "<img src=\"https://raw.githubusercontent.com/RussTedrake/manipulation/master/book/figures/exercises/planar_two_link.png\" width=\"700\">\n",
    "\n",
    "## Forward Kinematics\n",
    "\n",
    "Typically speaking, kinematics deals with mapping between frames on the robot and joint angles. Forward kinematics is the mapping from joint angles to frames on the robot. For this problem, we will limit ourselves to computing the 2D position of the end-effector from the joint angles of our manipulator. In the [monogram notation](https://drake.mit.edu/doxygen_cxx/group__multibody__quantities.html) introduced in the textbook, this means writing down the 2D position of the red point in space with respect to the green frame, ${}^A p^C$, as a function of joint angles $(q_0,q_1)$. \n",
    "\n",
    "**Below, your job is to write down the forward kinematics of the manipulator. You may assume both arm lengths are equal, and their length is given by L=1.0m**\n",
    "\n",
    "NOTE: You can use `np.sin()` and `np.cos()` for trigonometric implementations.\n",
    "\n",
    "HINT: If you can write down the 2D position of the blue point with respect to the green frame, ${}^A p^B$ as a function of $q_0$, and the position of the red point with respect to the blue point, ${}^B p^C$ as a function of $q_1$, then can you write down what ${}^A p^C$ should be?"
   ]
  },
  {
   "cell_type": "code",
   "execution_count": 10,
   "metadata": {
    "colab": {},
    "colab_type": "code",
    "id": "U0_SpmSGjCek"
   },
   "outputs": [],
   "source": [
    "def forward_kinematics(q):\n",
    "    q0 = q[0]\n",
    "    q1 = q[1]\n",
    "    x = 0  # Fill your code here\n",
    "    y = 0  # Fill your code here\n",
    "    return np.array([x, y])"
   ]
  },
  {
   "cell_type": "markdown",
   "metadata": {
    "colab_type": "text",
    "id": "ID5D93clqizu"
   },
   "source": [
    "We've provided a function for you to plot the manipulator and an x-y position in 2D space, so that you can confirm that your reasoning is geometrically correct / debug any problems that occur.\n",
    "\n",
    "Below, if the position of the x marker (your computed forward kinematics) coincides with the red marker (the actual end effector position), then your implementation should be correct. You can run it multiple times for different joint configurations."
   ]
  },
  {
   "cell_type": "code",
   "execution_count": null,
   "metadata": {},
   "outputs": [],
   "source": [
    "q = 2 * np.pi * np.random.rand(2)\n",
    "plot_planar_manipulator(q, forward_kinematics(q))"
   ]
  },
  {
   "cell_type": "markdown",
   "metadata": {},
   "source": [
    "## Inverse Kinematics (IK)\n",
    "Inverse kinematics refers to the mapping from frames on the robot to joint angles. Here, we will focus on finding the joint angles $(q_0,q_1)$ that give a desired end-effector position ${}^A p^C$. In practice, this is often signaficantly more difficult than computing the forward kinematics.\n",
    "\n",
    "For a two-link planar manipulator, we can derive the inverse kinematics analytically. For the manipulator of interest, it's easiest to start by finding the joint angle $q_1$. Then, the joint angle $q_0$ can be derived as a function of $q_1$.\n",
    "\n",
    "**Below, your job is to find the two different solutions for the joint angle $q_1$ that both give the desired end-effector position [$x$, $y$]. The joint angle $q_0$ is implemented for you. You may assume both arm lengths are equal, and their length is given by L=1.0m**\n",
    "\n",
    "HINT: Start by writing $r^2 = x^2 + y^2$ and substitute in your forward kinematics expressions from above. \n",
    "HINT: Recall the trigonometry [angle sum and difference identities](https://en.wikipedia.org/wiki/List_of_trigonometric_identities#Angle_sum_and_difference_identities)"
   ]
  },
  {
   "cell_type": "code",
   "execution_count": null,
   "metadata": {},
   "outputs": [],
   "source": [
    "def inverse_kinematics(x, y):\n",
    "    #Here, qa_b refers to the joint angle q_b in solution a.\n",
    "    ## TODO: find two different solutions for the joint angle q_1\n",
    "    q1_1 = 0 # TODO: Fill your code here\n",
    "    q2_1 = 0 # TODO: Fill your code here\n",
    "\n",
    "    # The solution for q_0 has been implemented for you\n",
    "    q1_0 = np.arctan2(y, x) - np.arctan2(np.sin(q1_1), 1 + np.cos(q1_1))\n",
    "    q2_0 = np.arctan2(y, x) - np.arctan2(np.sin(q2_1), 1 + np.cos(q2_1))\n",
    "\n",
    "    return np.array([q1_0, q1_1]), np.array([q2_0, q2_1])"
   ]
  },
  {
   "cell_type": "markdown",
   "metadata": {},
   "source": [
    "Below is a function to check your answer. If your answer is correct, the red dot for both arms will be in the same location as the black X. You can run this multiple times to check different positions."
   ]
  },
  {
   "cell_type": "code",
   "execution_count": null,
   "metadata": {},
   "outputs": [],
   "source": [
    "theta = 2*np.pi*np.random.rand()\n",
    "r = 2*np.random.rand()\n",
    "x = r*np.cos(theta)\n",
    "y = r*np.sin(theta)\n",
    "q1, q2 = inverse_kinematics(x, y)\n",
    "plot_two_planar_manipulators(q1, q2, np.array([x, y]))"
   ]
  },
  {
   "cell_type": "markdown",
   "metadata": {},
   "source": [
    "For the two-link planar manipulator, we saw that there are exactly two solutions of joint-angles for a given end-effector position. \n",
    "\n",
    "**Now, consider a three link planar manipulator. That is, a manipulator existing in 2-dimensional space with 3 links. For a given end-effector position, ${}^A p^C$, how many distinct solutions (of joint angles) exist?** "
   ]
  },
  {
   "cell_type": "markdown",
   "metadata": {
    "colab_type": "text",
    "id": "7ljl897Nrnpr"
   },
   "source": [
    "## The Translational Jacobian \n",
    "\n",
    "Now that we have the forward kinematics function that gives us our end-effector position given the joint angles:\n",
    "$${}^Ap^C=f(q),$$\n",
    "\n",
    "Our job now is to derive the translational Jacobian of this simple manipulator. As observed in the lecture, the translational [Jacobian](https://en.wikipedia.org/wiki/Jacobian_matrix_and_determinant) is a matrix relating how a change in end-effector position is related to changes in joint angles: \n",
    "\n",
    "$$d {}^Ap^C=\\frac{\\partial f(q)}{\\partial q} dq = \\mathbf{J}(q) dq.$$\n",
    "\n",
    "If you are not familiar with vector calculus, you can write it down even more explicitly as:\n",
    "\n",
    "$$\n",
    "\\mathbf{J}(q)=\\frac{\\partial f(q)}{\\partial q} = \\begin{bmatrix} \n",
    "\\partial x/\\partial q_0 & \\partial x/\\partial q_1 \\\\ \n",
    "\\partial y/\\partial q_0 & \\partial y/\\partial q_1 \\end{bmatrix}.\n",
    "$$\n",
    "\n",
    "We recommend you get familiar with these computations since they are super common for most robotic problems! \n",
    "\n",
    "**Below, you will write down the 2x2 Jacobian matrix based on the forward kinematics you have derived above.**"
   ]
  },
  {
   "cell_type": "code",
   "execution_count": null,
   "metadata": {
    "colab": {},
    "colab_type": "code",
    "id": "ofKwMYmPuVEq"
   },
   "outputs": [],
   "source": [
    "def Jacobian(q):\n",
    "    q0 = q[0]\n",
    "    q1 = q[1]\n",
    "    J = np.array(\n",
    "        [\n",
    "            [0.0, 0.0],  # Fill your code here.\n",
    "            [0.0, 0.0],\n",
    "        ]  # Fill your code here.\n",
    "    )\n",
    "    return J"
   ]
  },
  {
   "cell_type": "markdown",
   "metadata": {
    "colab_type": "text",
    "id": "OtU51Er2uzPd"
   },
   "source": [
    "There is one insightful analysis we can do on this Jacobian - when can we invert the Jacobian to successfully recover joint velocities from end-effector velocities? From the textbook, we've seen we can analyze the **kinematic singularities** of the manipulator through the Jacobian - your job will be to explicitly reason about what they are. \n",
    "\n",
    "**What are the values of $(q_0,q_1)$ for which we cannot invert the Jacobian? (i.e. what are the kinematic singularities of this manipulator?)**\n",
    "\n",
    "HINT: You should be able to identify two classes of configurations. \n",
    "\n",
    "NOTE: If you've correctly identified the answer, take a moment to connect this back to the error that we saw while running the telop example when the Kuka reached too far - do you see the fundamental source of this error now?  "
   ]
  },
  {
   "cell_type": "markdown",
   "metadata": {
    "colab_type": "text",
    "id": "RiIaH2YlTcmc"
   },
   "source": [
    "## Checking your answers\n",
    "Below is our autograder where you can check the correctness of your implementation. "
   ]
  },
  {
   "cell_type": "code",
   "execution_count": null,
   "metadata": {
    "colab": {},
    "colab_type": "code",
    "id": "ZXZateGeTlKX"
   },
   "outputs": [],
   "source": [
    "from manipulation.exercises.grader import Grader\n",
    "from manipulation.exercises.pick.test_planar_manipulator import TestPlanarManipulator\n",
    "\n",
    "Grader.grade_output([TestPlanarManipulator], [locals()], \"results.json\")\n",
    "Grader.print_test_results(\"results.json\")"
   ]
  }
 ],
 "metadata": {
  "celltoolbar": "Tags",
  "colab": {
   "collapsed_sections": [],
   "name": "planar_manipulator.ipynb",
   "provenance": []
  },
  "kernelspec": {
   "display_name": ".venv (3.9.6)",
   "language": "python",
   "name": "python3"
  },
  "language_info": {
   "codemirror_mode": {
    "name": "ipython",
    "version": 3
   },
   "file_extension": ".py",
   "mimetype": "text/x-python",
   "name": "python",
   "nbconvert_exporter": "python",
   "pygments_lexer": "ipython3",
   "version": "3.9.6"
  }
 },
 "nbformat": 4,
 "nbformat_minor": 1
}