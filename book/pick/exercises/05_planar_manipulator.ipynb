{
 "cells": [
  {
   "cell_type": "markdown",
   "metadata": {
    "colab_type": "text",
    "id": "z6NJXa-db0Rz"
   },
   "source": [
    "# The Planar Manipulator"
   ]
  },
  {
   "cell_type": "code",
   "execution_count": null,
   "metadata": {
    "colab": {},
    "colab_type": "code",
    "id": "x9_4IU-fcOaB"
   },
   "outputs": [],
   "source": [
    "# python libraries\n",
    "import mpld3\n",
    "import numpy as np\n",
    "\n",
    "from manipulation import running_as_notebook\n",
    "from manipulation.exercises.pick.plot_planar_manipulator import plot_planar_manipulator\n",
    "\n",
    "# enable mpld3 notebook\n",
    "if running_as_notebook:\n",
    "    mpld3.enable_notebook()"
   ]
  },
  {
   "cell_type": "markdown",
   "metadata": {
    "colab_type": "text",
    "id": "mcSz0hOVtBd5"
   },
   "source": [
    "## Problem Description\n",
    "In the lecture, we learned about forward and differential inverse kinematics. For this exercise, you will derive these equations for a simple two-link planar manipulator, using simple geometrical reasoning. As is the case with good toy problems, the two link manipulator has many insights that extend to the multi-link case, despite its apparent simplicity. \n",
    "\n",
    "**These are the main steps of the exercise:**\n",
    "1. Write down the forward kinematics of the two-link manipulator. \n",
    "2. Derive the Jacobian of the forward kinematic map and analyze the conditions for which it is singular. "
   ]
  },
  {
   "cell_type": "markdown",
   "metadata": {
    "colab_type": "text",
    "id": "zGzK9PCRdhAP"
   },
   "source": [
    "# The Two-link Planar Manipulator \n",
    "\n",
    "The two-link planar manipulator is a very popular toy problem in manipulator kinematics and dynamics. The coordinate description of the two link manipulator can be seen in the below image:\n",
    "\n",
    "<img src=\"https://raw.githubusercontent.com/RussTedrake/manipulation/master/book/figures/exercises/planar_two_link.png\" width=\"700\">\n",
    "\n",
    "In the [monogram notation](https://drake.mit.edu/doxygen_cxx/group__multibody__quantities.html) introduced in the textbook, the forward kinematics of the manipulator refers to writing down the 2D position of the red point in space with respect to the green frame, ${}^A p^C$, as a function of joint angles $(q_0,q_1)$. \n",
    "\n",
    "**Below, your job is to write down the forward kinematics of the manipulator. You may assume both arm lengths are equal, and their length is given by L=1.0m**\n",
    "\n",
    "NOTE: You can use `np.sin()` and `np.cos()` for trigonometric implementations.\n",
    "\n",
    "HINT: If you can write down the 2D position of the blue point with respect to the green frame, ${}^A p^B$ as a function of $q_0$, and the position of the red point with respect to the blue point, ${}^B p^C$ as a function of $q_1$, then can you write down what ${}^A p^C$ should be?"
   ]
  },
  {
   "cell_type": "code",
   "execution_count": null,
   "metadata": {
    "colab": {},
    "colab_type": "code",
    "id": "U0_SpmSGjCek"
   },
   "outputs": [],
   "source": [
    "def forward_kinematics(q):\n",
    "    q0 = q[0]\n",
    "    q1 = q[1]\n",
    "    x = 0  # Fill your code here\n",
    "    y = 0  # Fill your code here\n",
    "    return np.array([x, y])"
   ]
  },
  {
   "cell_type": "markdown",
   "metadata": {
    "colab_type": "text",
    "id": "ID5D93clqizu"
   },
   "source": [
    "We've provided a function for you to plot the manipulator and an x-y position in 2D space, so that you can confirm that your reasoning is geometrically correct / debug any problems that occur.\n",
    "\n",
    "Below, if the position of the x marker (your computed forward kinematics) coincides with the red marker (the actual end effector position), then your implementation should be correct. You can run it multiple times for different joint configurations."
   ]
  },
  {
   "cell_type": "code",
   "execution_count": null,
   "metadata": {
    "colab": {},
    "colab_type": "code",
    "id": "iUcSZTmrmzmL"
   },
   "outputs": [],
   "source": [
    "q = 2 * np.pi * np.random.rand(2)\n",
    "plot_planar_manipulator(q, forward_kinematics(q))"
   ]
  },
  {
   "cell_type": "markdown",
   "metadata": {
    "colab_type": "text",
    "id": "7ljl897Nrnpr"
   },
   "source": [
    "## The Translational Jacobian \n",
    "\n",
    "Now that we have the forward kinematics function that gives us our end-effector position given the joint angles:\n",
    "$${}^Ap^C=f(q),$$\n",
    "\n",
    "Our job now is to derive the translational Jacobian of this simple manipulator. As observed in the lecture, the translational [Jacobian](https://en.wikipedia.org/wiki/Jacobian_matrix_and_determinant) is a matrix relating how a change in end-effector position is related to changes in joint angles: \n",
    "\n",
    "$$d {}^Ap^C=\\frac{\\partial f(q)}{\\partial q} dq = \\mathbf{J}(q) dq.$$\n",
    "\n",
    "If you are not familiar with vector calculus, you can write it down even more explicitly as:\n",
    "\n",
    "$$\n",
    "\\mathbf{J}(q)=\\frac{\\partial f(q)}{\\partial q} = \\begin{bmatrix} \n",
    "\\partial x/\\partial q_0 & \\partial x/\\partial q_1 \\\\ \n",
    "\\partial y/\\partial q_0 & \\partial y/\\partial q_1 \\end{bmatrix}.\n",
    "$$\n",
    "\n",
    "We recommend you get familiar with these computations since they are super common for most robotic problems! \n",
    "\n",
    "**Below, you will write down the 2x2 Jacobian matrix based on the forward kinematics you have derived above.**"
   ]
  },
  {
   "cell_type": "code",
   "execution_count": null,
   "metadata": {
    "colab": {},
    "colab_type": "code",
    "id": "ofKwMYmPuVEq"
   },
   "outputs": [],
   "source": [
    "def Jacobian(q):\n",
    "    q0 = q[0]\n",
    "    q1 = q[1]\n",
    "    J = np.array(\n",
    "        [\n",
    "            [0.0, 0.0],  # Fill your code here.\n",
    "            [0.0, 0.0],\n",
    "        ]  # Fill your code here.\n",
    "    )\n",
    "    return J"
   ]
  },
  {
   "cell_type": "markdown",
   "metadata": {
    "colab_type": "text",
    "id": "OtU51Er2uzPd"
   },
   "source": [
    "There is one insightful analysis we can do on this Jacobian - when can we invert the Jacobian to successfully recover joint velocities from end-effector velocities? From the textbook, we've seen we can analyze the **kinematic singularities** of the manipulator through the Jacobian - your job will be to explicitly reason about what they are. \n",
    "\n",
    "**What are the values of $(q_0,q_1)$ for which we cannot invert the Jacobian? (i.e. what are the kinematic singularities of this manipulator?)**\n",
    "\n",
    "HINT: You should be able to identify two classes of configurations. \n",
    "\n",
    "NOTE: If you've correctly identified the answer, take a moment to connect this back to the error that we saw while running the telop example when the Kuka reached too far - do you see the fundamental source of this error now?  "
   ]
  },
  {
   "cell_type": "markdown",
   "metadata": {
    "colab_type": "text",
    "id": "KToC8qNW-JqP"
   },
   "source": [
    "## Your Answer\n",
    "\n",
    "Submit your response to the question above in the Gradescope 'written submission' section!"
   ]
  },
  {
   "cell_type": "markdown",
   "metadata": {
    "colab_type": "text",
    "id": "zPmeRLtJk410"
   },
   "source": [
    "## How will this notebook be Graded?\n",
    "\n",
    "If you are enrolled in the class, this notebook will be graded using [Gradescope](www.gradescope.com). You should have gotten the enrollement code on our announcement in Piazza. \n",
    "\n",
    "For submission of this assignment, you must do two things. \n",
    "- Download and submit the notebook `planar_manipulator.ipynb` to Gradescope's notebook submission section, along with your notebook for the other problems.\n",
    "- Copy and Paste your answer to the kinematic singularity problem to Gradescope's written submission section. \n",
    "\n",
    "We will evaluate the local functions in the notebook to see if the function behaves as we have expected. For this exercise, the rubric is as follows:\n",
    "- [2 pts] `forward_kinematics` must be implemented correctly. \n",
    "- [2 pts] `Jacobian` must be implemented correctly.\n",
    "- [2 pts] You must answer correctly what the kinematic singularities are."
   ]
  },
  {
   "cell_type": "markdown",
   "metadata": {
    "colab_type": "text",
    "id": "RiIaH2YlTcmc"
   },
   "source": [
    "Below is our autograder where you can check the correctness of your implementation. "
   ]
  },
  {
   "cell_type": "code",
   "execution_count": null,
   "metadata": {
    "colab": {},
    "colab_type": "code",
    "id": "ZXZateGeTlKX"
   },
   "outputs": [],
   "source": [
    "from manipulation.exercises.grader import Grader\n",
    "from manipulation.exercises.pick.test_planar_manipulator import TestPlanarManipulator\n",
    "\n",
    "Grader.grade_output([TestPlanarManipulator], [locals()], \"results.json\")\n",
    "Grader.print_test_results(\"results.json\")"
   ]
  }
 ],
 "metadata": {
  "celltoolbar": "Tags",
  "colab": {
   "collapsed_sections": [],
   "name": "planar_manipulator.ipynb",
   "provenance": []
  },
  "kernelspec": {
   "display_name": "Python 3 (ipykernel)",
   "language": "python",
   "name": "python3"
  },
  "language_info": {
   "codemirror_mode": {
    "name": "ipython",
    "version": 3
   },
   "file_extension": ".py",
   "mimetype": "text/x-python",
   "name": "python",
   "nbconvert_exporter": "python",
   "pygments_lexer": "ipython3",
   "version": "3.11.4"
  }
 },
 "nbformat": 4,
 "nbformat_minor": 1
}
