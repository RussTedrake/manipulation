{
 "cells": [
  {
   "cell_type": "markdown",
   "id": "62e9b3e3",
   "metadata": {},
   "source": [
    "## Project Template (Deepnote)\n",
    "\n",
    "You can use this notebook as a starting point for your class project and/or the extra exercise for graduate students in Deepnote. It comes setup with the dependencies we use in class, so you don't have to install this yourself.\n",
    "\n",
    "Notes:\n",
    "- Class dependencies (Drake and the `manipulation` package) are already preinstalled in the Deepnote image for this course.\n",
    "- To use this in your own workspace, choose “Duplicate” for the project in Deepnote.\n",
    "\n",
    "\n",
    "---\n"
   ]
  },
  {
   "cell_type": "markdown",
   "id": "3e848f45",
   "metadata": {},
   "source": [
    "## IIWA Simulation\n",
    "\n",
    "As a starting point, the code below sets up a simple simulation with a single iiwa, visualized in Meshcat."
   ]
  },
  {
   "cell_type": "markdown",
   "id": "269ed4d1",
   "metadata": {},
   "source": [
    "### Setup and imports\n",
    "Let us first get our imports out of the way:"
   ]
  },
  {
   "cell_type": "code",
   "execution_count": null,
   "id": "bb68822f",
   "metadata": {},
   "outputs": [],
   "source": [
    "from pydrake.all import (\n",
    "    DiagramBuilder,\n",
    "    Simulator,\n",
    "    StartMeshcat,\n",
    ")\n",
    "\n",
    "from manipulation.station import (\n",
    "    LoadScenario,\n",
    "    MakeHardwareStation,\n",
    ")"
   ]
  },
  {
   "cell_type": "markdown",
   "id": "a64f4496",
   "metadata": {},
   "source": [
    "### Meshcat Visualization\n",
    "\n",
    "As always, let's start Meshcat for our 3D visualization!"
   ]
  },
  {
   "cell_type": "code",
   "execution_count": null,
   "id": "317b9f3f",
   "metadata": {},
   "outputs": [],
   "source": [
    "# Start meshcat for visualization\n",
    "meshcat = StartMeshcat()\n",
    "print(\"Click the link above to open Meshcat in your browser!\")"
   ]
  },
  {
   "cell_type": "code",
   "execution_count": null,
   "id": "338e747a",
   "metadata": {},
   "outputs": [],
   "source": [
    "scenario_string = \"\"\"directives:\n",
    "- add_model:\n",
    "    name: iiwa\n",
    "    file: package://drake_models/iiwa_description/urdf/iiwa14_primitive_collision.urdf\n",
    "    default_joint_positions:\n",
    "      iiwa_joint_1: [-1.57]\n",
    "      iiwa_joint_2: [0.1]\n",
    "      iiwa_joint_3: [0]\n",
    "      iiwa_joint_4: [-1.2]\n",
    "      iiwa_joint_5: [0]\n",
    "      iiwa_joint_6: [1.6]\n",
    "      iiwa_joint_7: [0]\n",
    "- add_weld:\n",
    "    parent: world\n",
    "    child: iiwa::iiwa_link_0\n",
    "\"\"\"\n",
    "scenario = LoadScenario(data=scenario_string)\n",
    "station = MakeHardwareStation(scenario, meshcat=meshcat)\n",
    "builder = DiagramBuilder()\n",
    "builder.AddSystem(station)\n",
    "diagram = builder.Build()\n",
    "\n",
    "simulator = Simulator(diagram)\n",
    "simulator.set_target_realtime_rate(1.0)\n",
    "simulator.AdvanceTo(0.1)"
   ]
  },
  {
   "cell_type": "markdown",
   "id": "b7a86527",
   "metadata": {},
   "source": [
    "\n"
   ]
  }
 ],
 "metadata": {
  "kernelspec": {
   "display_name": ".venv",
   "language": "python",
   "name": "python3"
  },
  "language_info": {
   "codemirror_mode": {
    "name": "ipython",
    "version": 3
   },
   "file_extension": ".py",
   "mimetype": "text/x-python",
   "name": "python",
   "nbconvert_exporter": "python",
   "pygments_lexer": "ipython3",
   "version": "3.13.7"
  }
 },
 "nbformat": 4,
 "nbformat_minor": 5
}
