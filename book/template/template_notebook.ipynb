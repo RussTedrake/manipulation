{
 "cells": [
  {
   "cell_type": "markdown",
   "id": "62e9b3e3",
   "metadata": {},
   "source": [
    "## Project Template (Deepnote)\n",
    "\n",
    "You can use this notebook as a starting point for your class project and/or the extra exercise for graduate students in Deepnote. It comes set up with the dependencies we use in class, so you don't have to install these yourself.\n",
    "\n",
    "Notes:\n",
    "- To use this in your own workspace, click “Duplicate” for the project in Deepnote.\n",
    "- Class dependencies, namely `drake` and the `manipulation` package, are already preinstalled in the Deepnote image for this course, as well as a bunch of other dependencies that these packages depend on or that we use in class\n",
    "- To see the full list of installed dependencies, as well as version numbers etc, see this file: [pyproject.toml](https://github.com/RussTedrake/manipulation/blob/master/pyproject.toml).\n",
    "  - **Note**: we install all the extra dependencies, including the `dev` dependencies, into the Docker image that this deepnote project runs on.\n"
   ]
  },
  {
   "cell_type": "markdown",
   "id": "91abe97e",
   "metadata": {},
   "source": [
    "### (Advanced Users) Installing additional dependencies\n",
    "\n",
    "Here we show you how to install additional packages into this Deepnote project. We will use the package [gcsopt](https://pypi.org/project/gcsopt/) as an example. To install additional dependencies, you have two choices\n",
    "- **Recommended:** Add the dependency to the list of dependencies in `reqirements.txt` on the left. The dependency will then be automatically installed whenever you boot up a new Deepnote machine.\n",
    "  - **Note**: Make sure to NOT remove the text that is already in the file. You should add your dependencies AFTER `manipulation=year.month.day`, separated by spaces.\n",
    "- **Alternatively:** Run `!pip install gcsopt` within a cell in the Deepnote notebook. You will have to do this everytime you restart your Deepnote machine.\n",
    "\n",
    "### (Advanced Users) Updating the `manipulation` version\n",
    "We continually add new features to the `manipulation` package, which is automatically updated in Deepnote. However, after you first click \"Duplicate\", you will stop receiving these updates. Follow these steps to update your version to the latest version:\n",
    "1. Find the latest version number for `manipulation` on the [PyPi package page](https://pypi.org/project/manipulation/#history).\n",
    "2. Update the version number for `manipulation=year.month.day` in the `requirements.txt` file on the left\n",
    "3. Run the `Init` notebook OR restart your Deepnote machine.\n",
    "The changes will now persist every time you start your Deepnote machine.\n",
    "\n",
    "Good luck!\n",
    "\n",
    "---\n"
   ]
  },
  {
   "cell_type": "markdown",
   "id": "3e848f45",
   "metadata": {},
   "source": [
    "## Placeholder code: iiwa Simulation\n",
    "\n",
    "As a starting point, the code below sets up a simple simulation with a single iiwa, visualized in Meshcat."
   ]
  },
  {
   "cell_type": "markdown",
   "id": "269ed4d1",
   "metadata": {},
   "source": [
    "### Setup and imports\n",
    "Let us first get our imports out of the way:"
   ]
  },
  {
   "cell_type": "code",
   "execution_count": null,
   "id": "bb68822f",
   "metadata": {},
   "outputs": [],
   "source": [
    "from pydrake.all import (\n",
    "    DiagramBuilder,\n",
    "    Simulator,\n",
    "    StartMeshcat,\n",
    ")\n",
    "\n",
    "from manipulation.station import (\n",
    "    LoadScenario,\n",
    "    MakeHardwareStation,\n",
    ")"
   ]
  },
  {
   "cell_type": "markdown",
   "id": "a64f4496",
   "metadata": {},
   "source": [
    "### Meshcat Visualization\n",
    "\n",
    "As always, let's start Meshcat for our 3D visualization!"
   ]
  },
  {
   "cell_type": "code",
   "execution_count": null,
   "id": "317b9f3f",
   "metadata": {},
   "outputs": [],
   "source": [
    "# Start meshcat for visualization\n",
    "meshcat = StartMeshcat()\n",
    "print(\"Click the link above to open Meshcat in your browser!\")"
   ]
  },
  {
   "cell_type": "code",
   "execution_count": null,
   "id": "338e747a",
   "metadata": {},
   "outputs": [],
   "source": [
    "scenario_string = \"\"\"directives:\n",
    "- add_model:\n",
    "    name: iiwa\n",
    "    file: package://drake_models/iiwa_description/urdf/iiwa14_primitive_collision.urdf\n",
    "    default_joint_positions:\n",
    "      iiwa_joint_1: [-1.57]\n",
    "      iiwa_joint_2: [0.1]\n",
    "      iiwa_joint_3: [0]\n",
    "      iiwa_joint_4: [-1.2]\n",
    "      iiwa_joint_5: [0]\n",
    "      iiwa_joint_6: [1.6]\n",
    "      iiwa_joint_7: [0]\n",
    "- add_weld:\n",
    "    parent: world\n",
    "    child: iiwa::iiwa_link_0\n",
    "\"\"\"\n",
    "scenario = LoadScenario(data=scenario_string)\n",
    "station = MakeHardwareStation(scenario, meshcat=meshcat)\n",
    "builder = DiagramBuilder()\n",
    "builder.AddSystem(station)\n",
    "diagram = builder.Build()\n",
    "\n",
    "simulator = Simulator(diagram)\n",
    "simulator.set_target_realtime_rate(1.0)\n",
    "simulator.AdvanceTo(0.1)"
   ]
  },
  {
   "cell_type": "markdown",
   "id": "b7a86527",
   "metadata": {},
   "source": [
    "\n"
   ]
  }
 ],
 "metadata": {
  "kernelspec": {
   "display_name": ".venv",
   "language": "python",
   "name": "python3"
  },
  "language_info": {
   "codemirror_mode": {
    "name": "ipython",
    "version": 3
   },
   "file_extension": ".py",
   "mimetype": "text/x-python",
   "name": "python",
   "nbconvert_exporter": "python",
   "pygments_lexer": "ipython3",
   "version": "3.13.7"
  }
 },
 "nbformat": 4,
 "nbformat_minor": 5
}
