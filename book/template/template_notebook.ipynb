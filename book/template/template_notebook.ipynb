{
 "cells": [
  {
   "cell_type": "markdown",
   "id": "62e9b3e3",
   "metadata": {},
   "source": [
    "## Template Notebook\n",
    "\n",
    "This notebook..."
   ]
  }
 ],
 "metadata": {
  "language_info": {
   "name": "python"
  }
 },
 "nbformat": 4,
 "nbformat_minor": 5
}
