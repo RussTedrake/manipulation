{
 "cells": [
  {
   "cell_type": "markdown",
   "metadata": {
    "id": "w7C_Q2UbkGas"
   },
   "source": [
    "## Stochastic Optimization"
   ]
  },
  {
   "cell_type": "code",
   "execution_count": null,
   "metadata": {
    "id": "nLnz0sRrSjOg"
   },
   "outputs": [],
   "source": [
    "import matplotlib\n",
    "import mpld3\n",
    "import numpy as np\n",
    "from pydrake.all import (\n",
    "    BaseField,\n",
    "    Evaluate,\n",
    "    Fields,\n",
    "    PointCloud,\n",
    "    Rgba,\n",
    "    RigidTransform,\n",
    "    Sphere,\n",
    "    StartMeshcat,\n",
    "    Variable,\n",
    ")\n",
    "\n",
    "from manipulation import running_as_notebook\n",
    "\n",
    "if running_as_notebook:\n",
    "    mpld3.enable_notebook()"
   ]
  },
  {
   "cell_type": "code",
   "execution_count": null,
   "metadata": {},
   "outputs": [],
   "source": [
    "def loss(theta):\n",
    "    x = theta[0]\n",
    "    y = theta[1]\n",
    "    eval = 2 * x**2 - 1.05 * x**4 + x**6 / 6 + x * y + y**2\n",
    "    return 0.25 * eval\n",
    "\n",
    "\n",
    "def generate_color_mat(color_vec, shape):\n",
    "    color_mat = np.tile(\n",
    "        np.array(color_vec).astype(np.float32).reshape(3, 1), (1, shape[1])\n",
    "    )\n",
    "    return color_mat\n",
    "\n",
    "\n",
    "def visualize_loss(\n",
    "    meshcat,\n",
    "    loss,\n",
    "    colormap=\"viridis\",\n",
    "    spacing=0.01,\n",
    "    clip_min=None,\n",
    "    clip_max=None,\n",
    "):\n",
    "    # Create a grid of thetas and evaluate losses.\n",
    "    points = []\n",
    "    for i in np.arange(-3, 3, spacing):\n",
    "        for j in np.arange(-3, 3, spacing):\n",
    "            points.append([i, j, loss(np.array([i, j]))])\n",
    "    points = np.array(points)\n",
    "\n",
    "    # Normalize losses and color them according to colormap.\n",
    "    cmap = matplotlib.cm.get_cmap(colormap)\n",
    "    min_loss = np.min(points[:, 2]) if clip_min == None else clip_min\n",
    "    max_loss = np.max(points[:, 2]) if clip_max == None else clip_max\n",
    "\n",
    "    colors = []\n",
    "    for i in range(points.shape[0]):\n",
    "        normalized_loss = (points[i, 2] - min_loss) / (max_loss - min_loss)\n",
    "        colors.append(list(cmap(normalized_loss))[0:3])\n",
    "\n",
    "    cloud = PointCloud(points.shape[0], Fields(BaseField.kXYZs | BaseField.kRGBs))\n",
    "    cloud.mutable_xyzs()[:] = points.T\n",
    "    cloud.mutable_rgbs()[:] = 255 * np.array(colors).T\n",
    "\n",
    "    meshcat.Delete()\n",
    "    meshcat.SetProperty(\"/Background\", \"visible\", False)\n",
    "    meshcat.SetObject(\"/loss\", cloud, point_size=0.03)\n",
    "\n",
    "\n",
    "def visualize_trajectory(trajectory):\n",
    "    points = PointCloud(trajectory.shape[0])\n",
    "    points.mutable_xyzs()[:] = trajectory.T\n",
    "    meshcat.SetObject(\"/traj\", points, rgba=Rgba(1, 0, 0), point_size=0.03)\n",
    "    meshcat.SetLine(\"/traj_line\", trajectory.T, rgba=Rgba(1, 0, 0))\n",
    "\n",
    "    # Visualize the initial guess.\n",
    "    meshcat.SetObject(\"/traj_initial\", Sphere(0.05), Rgba(1, 0, 0))\n",
    "    meshcat.SetTransform(\"/traj_initial\", RigidTransform(trajectory[0, :]))\n",
    "\n",
    "    # Visualize the final point of the iteration.\n",
    "    meshcat.SetObject(\"/traj_final\", Sphere(0.05), Rgba(0, 1, 0))\n",
    "    meshcat.SetTransform(\"/traj_final\", RigidTransform(trajectory[-1, :]))"
   ]
  },
  {
   "cell_type": "code",
   "execution_count": null,
   "metadata": {},
   "outputs": [],
   "source": [
    "# Start the visualizer.\n",
    "meshcat = StartMeshcat()"
   ]
  },
  {
   "cell_type": "markdown",
   "metadata": {
    "id": "cUTNJkCK1IDH"
   },
   "source": [
    "## The Three Hump Camel \n",
    "In this exercise, we'll implement our own versions of gradient descent and stochastic gradient descent! \n",
    "\n",
    "Our goal is to find the minima of the following function:\n",
    "\n",
    "$$l(x)=\\frac{1}{4}\\bigg(2x_1^2-1.05x_1^4+\\frac{x_1^6}{6}+x_1x_2+x_2^2\\bigg)$$\n",
    "\n",
    "Note: this function is defined above as `loss(x)`.\n",
    "\n",
    "We have visualized the landscape of this function in meshcat if you run the cell below! You will notice the following things:\n",
    "\n",
    "1. This function has 3 local minima (hence, the name 'three hump camel')\n",
    "2. The global minima is located at $f([0,0])=0$. "
   ]
  },
  {
   "cell_type": "code",
   "execution_count": null,
   "metadata": {
    "colab": {
     "base_uri": "https://localhost:8080/"
    },
    "id": "U1GCQpPf1HwO",
    "outputId": "04be0d22-a216-4ee5-b7df-261b10f3320b"
   },
   "outputs": [],
   "source": [
    "# The parameters are optimized for best visualization in meshcat.\n",
    "# For faster visualization, try increasing spacing.\n",
    "visualize_loss(meshcat, loss, colormap=\"viridis\", spacing=0.02, clip_max=2.0)"
   ]
  },
  {
   "cell_type": "markdown",
   "metadata": {
    "id": "-nBpUQcfOcwF"
   },
   "source": [
    "## Gradient Descent\n",
    "\n",
    "As we saw in the lecture, one way of trying to find the minimum of $l(x)$ is to use explicit gradients and do gradient descent. \n",
    "\n",
    "$$x \\leftarrow x - \\eta\\bigg(\\frac{\\partial l(x)}{\\partial x}\\bigg)^T$$\n",
    "\n",
    "We've set up a basic outline of the gradient descent algoritm for you. Take a look at the following function `gradient_descent` that implements the following steps:\n",
    "\n",
    "1. Initialize $x\\in\\mathbb{R}^2$ at random from some bounded region.\n",
    "2. Until maximum iteration, update $x$ according to some update rule like the one defined above. \n",
    "\n",
    "Throughout the following notebook, we will walk-through a handful of potential update functions."
   ]
  },
  {
   "cell_type": "code",
   "execution_count": null,
   "metadata": {
    "id": "pH6DEMMA9cXP"
   },
   "outputs": [],
   "source": [
    "def gradient_descent(rate, update_rule, initial_x=None, iter=1000):\n",
    "    \"\"\"gradient descent algorithm\n",
    "    @params:\n",
    "    - rate (float): eta variable of gradient descent.\n",
    "    - update_rule: a function with a signature update_rule(x, rate).\n",
    "    - initial_x: initial position for gradient descent.\n",
    "    - iter: number of iterations to run gradient descent for.\n",
    "    \"\"\"\n",
    "    # If no initial guess is supplied, then randomly choose one.\n",
    "    if initial_x is None:\n",
    "        x = -3 + 6.0 * np.random.rand(2)\n",
    "    else:\n",
    "        x = initial_x\n",
    "    # Compute loss for first parameter for visualization.\n",
    "    x_list = []\n",
    "    x_list.append([x[0], x[1], loss(x)])\n",
    "    # Loop through with gradient descent.\n",
    "    for i in range(iter):\n",
    "        # Update the parameters using update rule.\n",
    "        x = update_rule(x, rate)\n",
    "        x_list.append([x[0], x[1], loss(x)])\n",
    "    return np.array(x_list)"
   ]
  },
  {
   "cell_type": "markdown",
   "metadata": {
    "id": "tcIyb-iJRGHg"
   },
   "source": [
    "## Determinisitc Exact Gradients\n",
    "\n",
    "**Problem 11.1.a** [2 pts]: Let's first use the standard gradient descent algorithm with exact gradients. Below, you must implement the following simple update function:\n",
    "\n",
    "$$x \\leftarrow x - \\eta\\bigg(\\frac{\\partial l(x)}{\\partial x}\\bigg)^T$$\n",
    "\n",
    "HINT: You can write down the gradient yourself, but remember you can also use Drake's symbolic differentiation!\n"
   ]
  },
  {
   "cell_type": "code",
   "execution_count": null,
   "metadata": {
    "id": "kO7h13kCUc1a"
   },
   "outputs": [],
   "source": [
    "def exact_gradient(x, rate):\n",
    "    \"\"\"\n",
    "    Update rule. Receive theta and update it with the next theta.\n",
    "    Input:\n",
    "        - x: input variable x.\n",
    "        - rate: rate of descent, variable \"eta\".\n",
    "    Output:\n",
    "        - x: updated variable x.\n",
    "    \"\"\"\n",
    "\n",
    "    # YOUR CODE HERE\n",
    "\n",
    "    return x"
   ]
  },
  {
   "cell_type": "markdown",
   "metadata": {
    "id": "LT1PCqWPTTy2"
   },
   "source": [
    "When you've completed the function, you can run the below cell to check the visualization! For this problem, the visualization has the following convention:\n",
    "- Red sphere is the initial guess \n",
    "- Green sphere is the final point after `iter` iterations. \n",
    "- Every updated parameter is drawn as smaller red cubes. "
   ]
  },
  {
   "cell_type": "code",
   "execution_count": null,
   "metadata": {
    "id": "rEG6dKaxTbie"
   },
   "outputs": [],
   "source": [
    "# Compute the trajectory.\n",
    "trajectory = gradient_descent(0.1, exact_gradient)\n",
    "visualize_trajectory(trajectory)"
   ]
  },
  {
   "cell_type": "markdown",
   "metadata": {
    "id": "QT4O4yL7iuNg"
   },
   "source": [
    "If you've implemented it correctly, run the cell multiple times to see the behavior of gradient descent from different initial conditions. \n",
    "\n",
    "**Problem 11.1.b** [1 pts] What do you notice about the behaviour of gradient descent given different starting points? When does it converge or not converge (if ever) to the global minimum? "
   ]
  },
  {
   "cell_type": "markdown",
   "metadata": {
    "id": "2V8LydfhVMdJ"
   },
   "source": [
    "## Stochastic Approximation to Gradients\n",
    "\n",
    "**Problem 11.1.c** [2 pts]: One of the mindblowing facts we learned from the lecture was that we can actually do gradient descent without ever having true gradients of the loss function $l(x)$! We will demonstrate this here with a discrete approximation of our loss function's derivative.\n",
    "\n",
    "Your job is to write down the following update function for gradient descent:\n",
    "\n",
    "$$x \\leftarrow x - \\eta\\big[l(x+w)-l(x)\\big]w$$\n",
    "\n",
    "where $w\\in\\mathbb{R}^2$ drawn from a Gaussian distribution, $w\\sim\\mathcal{N}(0,\\sigma^2=0.25)$. You can use `np.random.normal()` to draw from this distribution."
   ]
  },
  {
   "cell_type": "code",
   "execution_count": null,
   "metadata": {
    "id": "leVxvWu3lLYd"
   },
   "outputs": [],
   "source": [
    "def approximated_gradient(x, rate):\n",
    "    \"\"\"\n",
    "    Update rule. Receive theta and update it with the next theta.\n",
    "    Input:\n",
    "        - x: input variable x.\n",
    "        - rate: rate of descent, variable \"eta\".\n",
    "    Output:\n",
    "        - x: updated variable x.\n",
    "    \"\"\"\n",
    "\n",
    "    # YOUR CODE HERE\n",
    "\n",
    "    return x"
   ]
  },
  {
   "cell_type": "markdown",
   "metadata": {
    "id": "Tg3ek5nz1ioL"
   },
   "source": [
    "Again, once you've implemented the function, run the below cell to visualize the trajectory."
   ]
  },
  {
   "cell_type": "code",
   "execution_count": null,
   "metadata": {
    "id": "yku6xDTQQtAt"
   },
   "outputs": [],
   "source": [
    "trajectory = gradient_descent(0.01, approximated_gradient, iter=10000)\n",
    "visualize_trajectory(trajectory)"
   ]
  },
  {
   "cell_type": "markdown",
   "metadata": {
    "id": "eTEL3_ENl1oI"
   },
   "source": [
    "If you've implemented the function correctly, take a moment to run it from multiple different conditions - the results should be somewhat shocking.\n",
    "- With the right parameters ($\\sigma,\\eta$), is this version of gradient descent is much better than the deterministic exact version at converging to global minima? (In fact, you'll sometimes see it hop out of one of the local minimas and converge to a global minima!)\n",
    "- But we never explicitly took derivatives!\n",
    "- (Side note): does this mean this way approximating gradients is the magical tool to everything? not quite. This version can be prone to getting stuck in saddle points!"
   ]
  },
  {
   "cell_type": "markdown",
   "metadata": {
    "id": "NNRWAjIjmiVV"
   },
   "source": [
    "## Baselines \n",
    "\n",
    "**Problem 11.1.d** [4 pts]: We don't necessarily have to take finite differences to estimate the gradient. In fact, we could have subtracted our perturbed estimate from any function, as long as that is not a function of $w$! Consider the following update function:\n",
    "\n",
    "$$x \\leftarrow x - \\eta\\big[l(x+w)-b(x)\\big]w$$\n",
    "\n",
    "Prove that on average, the difference in updates (call it $\\mathbb{E}_w[\\Delta x$]) from this function is approximately equal to the true analytical gradient. Provide your answer in your written submission for this problem set.\n",
    "\n",
    "HINT: You should use the first-order taylor approximation of $l(x+w)$ (and you may assume $w$ is quite small). Remember that $w$ is a vector--you cannot have a $w^{2}$ term in your work."
   ]
  },
  {
   "cell_type": "markdown",
   "metadata": {
    "id": "zdJXocpw3OTb"
   },
   "source": [
    "**Problem 11.1.e** [1 pts]: Finally, implement the update law from above. The update rule is almost identical to 11.1.b except for the implementation of the baseline, so this is like a bonus question.  "
   ]
  },
  {
   "cell_type": "code",
   "execution_count": null,
   "metadata": {
    "id": "4vjty4Tc9bZw"
   },
   "outputs": [],
   "source": [
    "def approximated_gradient_with_baseline(x, rate, baseline):\n",
    "    \"\"\"\n",
    "    Update rule. Receive theta and update it with the next theta.\n",
    "    Input:\n",
    "        - x: input variable x.\n",
    "        - rate: rate of descent, variable \"eta\".\n",
    "        - baseline: float for baseline.\n",
    "    Output:\n",
    "        - x: updated variable x.\n",
    "    \"\"\"\n",
    "\n",
    "    # YOUR CODE HERE\n",
    "\n",
    "    return x"
   ]
  },
  {
   "cell_type": "markdown",
   "metadata": {
    "id": "9N1BgRG29jNV"
   },
   "source": [
    "As you proved in 11.1.c, adding a baseline does not change the mean of the update. However, it does change the variance!\n",
    "\n",
    "In the below code, you can play around with different values of the baseline to see what happens. Remember that the optimal value (smallest variance) of the baseline is $l(x)$. \n",
    "\n",
    "You should see that if the baseline is close to `loss(x)` (e.g. baseline is uniformly zero), there is no big difference with the solution you wrote on 11.1.b. However, when the baseline is far from `loss(x)` (e.g. baseline is uniformly 5), our path starts to look more like a random walk due to high variance."
   ]
  },
  {
   "cell_type": "code",
   "execution_count": null,
   "metadata": {
    "id": "0IKbIy1P6a4k"
   },
   "outputs": [],
   "source": [
    "def baseline(x):\n",
    "    return 5  # feel free to modify here!\n",
    "\n",
    "\n",
    "def reduced_function(x, rate):\n",
    "    return approximated_gradient_with_baseline(x, rate, baseline)\n",
    "\n",
    "\n",
    "trajectory = gradient_descent(0.01, reduced_function, iter=10000)\n",
    "visualize_trajectory(trajectory)"
   ]
  },
  {
   "cell_type": "markdown",
   "metadata": {
    "id": "MwE8yNg58VQN"
   },
   "source": [
    "## How will this notebook be Graded?\n",
    "\n",
    "If you are enrolled in the class, this notebook will be graded using [Gradescope](www.gradescope.com). You should have gotten the enrollement code on our announcement in Piazza. \n",
    "\n",
    "For submission of this assignment, you must do two things. \n",
    "- Download and submit the notebook `stochastic_optimization.ipynb` to Gradescope's notebook submission section, along with your notebook for the other problems.\n",
    "- Write down your answers to 11.1a, 11.1.d in your PDF submission to Gradescope. \n",
    "\n",
    "We will evaluate the local functions in the notebook to see if the function behaves as we have expected. For this exercise, the rubric is as follows:\n",
    "- [2 pts] 11.1.a must be implemented correctly.\n",
    "- [1 pts] 11.1.b is answered correctly.\n",
    "- [2 pts] 11.1.c must be implemented correctly.\n",
    "- [4 pts] 11.1.d is answered correctly.\n",
    "- [1 pts] 11.1.e must be implemented correctly."
   ]
  },
  {
   "cell_type": "code",
   "execution_count": null,
   "metadata": {
    "colab": {
     "base_uri": "https://localhost:8080/",
     "height": 389
    },
    "id": "pQISVdEG9NoN",
    "outputId": "8ecd274d-3fd8-4d2f-9fe3-fc530e8207b0"
   },
   "outputs": [],
   "source": [
    "from manipulation.exercises.grader import Grader\n",
    "from manipulation.exercises.rl.test_stochastic_optimization import (\n",
    "    TestStochasticOptimization,\n",
    ")\n",
    "\n",
    "Grader.grade_output([TestStochasticOptimization], [locals()], \"results.json\")\n",
    "Grader.print_test_results(\"results.json\")"
   ]
  }
 ],
 "metadata": {
  "celltoolbar": "Tags",
  "colab": {
   "collapsed_sections": [],
   "name": "stochastic_optimization.ipynb",
   "provenance": []
  },
  "kernelspec": {
   "display_name": "Python 3",
   "language": "python",
   "name": "python3"
  },
  "language_info": {
   "codemirror_mode": {
    "name": "ipython",
    "version": 3
   },
   "file_extension": ".py",
   "mimetype": "text/x-python",
   "name": "python",
   "nbconvert_exporter": "python",
   "pygments_lexer": "ipython3",
   "version": "3.6.9"
  }
 },
 "nbformat": 4,
 "nbformat_minor": 1
}