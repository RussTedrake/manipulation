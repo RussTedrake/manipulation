{
 "cells": [
  {
   "cell_type": "markdown",
   "id": "89302684",
   "metadata": {
    "colab_type": "text",
    "id": "a42nCSrUsB9Z"
   },
   "source": [
    "# **The Effect of Reflected Inertia on Gain Tuning**"
   ]
  },
  {
   "cell_type": "code",
   "execution_count": null,
   "id": "6c47f381",
   "metadata": {
    "colab": {},
    "colab_type": "code",
    "id": "KUmZ8IkzJDCR"
   },
   "outputs": [],
   "source": [
    "# python libraries\n",
    "import mpld3\n",
    "import numpy as np\n",
    "from matplotlib import pyplot as plt\n",
    "from pydrake.all import (\n",
    "    ConstantVectorSource,\n",
    "    DiagramBuilder,\n",
    "    PidController,\n",
    "    Simulator,\n",
    "    SymbolicVectorSystem,\n",
    "    Variable,\n",
    "    VectorLogSink,\n",
    "    sin,\n",
    ")\n",
    "\n",
    "from manipulation import running_as_notebook\n",
    "from manipulation.exercises.grader import Grader\n",
    "from manipulation.exercises.robot.test_reflected_inertia import (\n",
    "    TestSimplePendulumWithGearbox,\n",
    ")\n",
    "from manipulation.utils import RenderDiagram\n",
    "\n",
    "# enable mpld3 notebook\n",
    "if running_as_notebook:\n",
    "    mpld3.enable_notebook()"
   ]
  },
  {
   "cell_type": "markdown",
   "id": "550cbfd4",
   "metadata": {
    "colab_type": "text",
    "id": "mcSz0hOVtBd5"
   },
   "source": [
    "## Problem Description\n",
    "You will notice that in the first few weeks of the lecture, we don't think a lot about the full second-order dynamics of the arm (a more complicated version of $F=ma$), although we will come to revisit this later. This problem set helps to understand one of the reasons why we can abstract many manipulation problems kinematically (purely in terms of joint angles and end-effector positions), as opposed to worrying about dynamics (joint torques and inertias). Even before going to the multi-link case, let's think about how we should control the position of a single pendulum.\n",
    "\n",
    "In this problem you will investigate the role of reflected inertia in position control of a simple pendulum. At the end of the notebook, you will be able to check your work in a simulation environment.\n",
    "\n",
    "**These are the main steps of the exercise:**\n",
    "1. Write down the state-space dynamics function for the simple pendulum with motor and gearbox.\n",
    "2. Set up a PID Controller to do position control for the simple pendulum.\n",
    "3. Qualitatively answer the difference in behavior between direct-drive and gearbox cases.\n",
    "\n",
    "\n",
    "**Your job for this problem set**\n",
    "Will be to do step 1 and 3 of the main steps.\n",
    "\n"
   ]
  },
  {
   "cell_type": "markdown",
   "id": "20681085",
   "metadata": {
    "colab_type": "text",
    "id": "zGGyX76oBXGN"
   },
   "source": [
    "## The Simple Pendulum\n",
    "\n",
    "<img src=\"https://raw.githubusercontent.com/RussTedrake/manipulation/master/book/figures/exercises/simple_pendulum.png\" width=\"400\">\n",
    "\n",
    "The [simple pendulum](https://underactuated.csail.mit.edu/pend.html) is perhaps the simplest abstraction of a 'manipulator', with the following equation for dynamics:\n",
    "\n",
    "$$ ml^2 \\ddot{q} = -mgl\\sin(q) + \\tau$$\n",
    "\n",
    "Let's first write down the dynamics of a pendulum in a first-order form,\n",
    "$$\\dot{x}=f(x,u)$$\n",
    "\n",
    "where $x=[q,\\dot{q}]^T$ is now our state vector, and our input $u=\\tau$.\n",
    "\n",
    "$$\\frac{d}{dt}\\begin{bmatrix} q \\\\ \\dot{q} \\end{bmatrix}=\\begin{bmatrix} \\dot{q} \\\\ (-mgl\\sin(q) + \\tau) / ml^2 \\end{bmatrix}$$\n",
    "\n",
    "The following function returns $\\dot{x}$ given $x,u$, and the parameters.\n",
    "\n",
    "NOTE: For a sine implementation, we will be using `pydrake`'s `sin` for this problem set instead of the numpy implementation. We've already imported it above, so it is available by simply calling `sin()`. This version will not only support numeric, but also symbolic computation."
   ]
  },
  {
   "cell_type": "code",
   "execution_count": null,
   "id": "311e68ea",
   "metadata": {
    "colab": {},
    "colab_type": "code",
    "id": "6IRgS5ftCc71"
   },
   "outputs": [],
   "source": [
    "def pendulum_dynamics(x, u, p):\n",
    "    q = x[0]\n",
    "    qdot = x[1]\n",
    "    tau = u[0]\n",
    "    return [\n",
    "        qdot,\n",
    "        ((-p[\"m\"] * p[\"g\"] * p[\"l\"] * sin(q) + tau) / (p[\"m\"] * p[\"l\"] ** 2)),\n",
    "    ]"
   ]
  },
  {
   "cell_type": "markdown",
   "id": "d04a121b",
   "metadata": {
    "colab_type": "text",
    "id": "uOFeXrnUwtXA"
   },
   "source": [
    "## System Dynamics\n",
    "\n",
    "From a systems viewpoint, how should this dynamics be abstracted into a system that we can define inputs and outputs on?\n",
    "\n",
    "As explained in the lecture notes, we can abstract the dynamics as a \"plant\" that will tell us what the current state $x$ is, given the torque  $\\tau$ into the system. If we were to draw a system diagram of this plant, it would look like:\n",
    "\n",
    "<img src=\"https://raw.githubusercontent.com/RussTedrake/manipulation/master/book/figures/exercises/simple_pendulum_diagram.png\" width=\"500\">\n",
    "\n",
    "\n",
    "To implement this system in [drake](https://drake.mit.edu), we will be using a [`SymbolicVectorSystem`](https://drake.mit.edu/pydrake/pydrake.systems.primitives.html#pydrake.systems.primitives.SymbolicVectorSystem). This is one of the convenient ways to define a system if you have access to a relatively simple, symbolic form of your dynamics. But these equations will get complicated as we move to the multi-link case!\n",
    "\n",
    "Note that the output of the system doesn't have to be the state $x$ - it can be a subset of the state, or simply some sensor attached to the pendulum! In this case we will assume full access to the state for feedback (i.e. doing full-state feedback), so we simply set `output=x` as well."
   ]
  },
  {
   "cell_type": "code",
   "execution_count": null,
   "id": "7638d591",
   "metadata": {
    "colab": {},
    "colab_type": "code",
    "id": "fo_dj5WgxPQH"
   },
   "outputs": [],
   "source": [
    "# Symbolic Variables from pydrake.symbolic\n",
    "x = [Variable(\"theta\"), Variable(\"thetadot\")]\n",
    "u = [Variable(\"tau\")]\n",
    "\n",
    "# Example parameters of pendulum dynamics\n",
    "p = {\"m\": 1.0, \"g\": 9.81, \"l\": 0.5}  # kg  # m / s^2  # m\n",
    "\n",
    "# Declaration of a symbolic vector system\n",
    "system = SymbolicVectorSystem(\n",
    "    state=x, output=x, input=u, dynamics=pendulum_dynamics(x, u, p)\n",
    ")"
   ]
  },
  {
   "cell_type": "markdown",
   "id": "19c18109",
   "metadata": {
    "colab_type": "text",
    "id": "epwXiNR43OHt"
   },
   "source": [
    "Note that since this system is deterministic, we can completely predict the future value of the system given the current time, state, and input of the system. Sometimes if our system did something unexpected, we may want to know what those states were so that we can replay the simulation and fix our systems.\n",
    "\n",
    "To make the simulation completely repeatable, Drake stores all the relevant states and parameters in the [context](https://drake.mit.edu/doxygen_cxx/classdrake_1_1systems_1_1_context.html), which can act like a systematic log."
   ]
  },
  {
   "cell_type": "code",
   "execution_count": null,
   "id": "6774e1d7",
   "metadata": {
    "colab": {},
    "colab_type": "code",
    "id": "-ryw0KL_3Yzl"
   },
   "outputs": [],
   "source": [
    "context = system.CreateDefaultContext()\n",
    "print(context)"
   ]
  },
  {
   "cell_type": "markdown",
   "id": "9e2aaeb4",
   "metadata": {
    "colab_type": "text",
    "id": "qO8u0nZ3DSu9"
   },
   "source": [
    "## The Simple Pendulum with Motor and Gearbox\n",
    "\n",
    "In class, we saw that the presence of a physical motor and a gearbox can affect the dynamics significantly.\n",
    "\n",
    "**Now it's your turn to code!**\n",
    "\n",
    "Below, you will implement a similar dynamics function for a simple pendulum, which now has a physical motor and a gearbox attached to it.\n",
    "\n",
    "<img src=\"https://raw.githubusercontent.com/RussTedrake/manipulation/master/book/figures/exercises/pendulum_with_motor.png\" width=\"700\">\n",
    "\n",
    "In addition to the given parameters of mass (`p[\"m\"]`), gravity (`p[\"g\"]`), and length (`p[\"l\"]`), you will need rotor inertia of the motor $I_m$, as well as the gear ratio, $N$. You can assume these can be accessed by `p[\"I_m\"]` and `p[\"N\"]`.\n",
    "\n",
    "NOTE: For this model, we want the state, $x = [q, \\dot{q}],$ to be the joint angles (not $q_{motor}$), but we want the input, $u = \\tau_{motor},$ to be the _motor_ torque.\n",
    "\n",
    "NOTE: Again, do not use `np.sin`!\n",
    "\n",
    "HINT: Are the dynamics what you expect when `N=1` (i.e. direct-drive)?"
   ]
  },
  {
   "cell_type": "code",
   "execution_count": null,
   "id": "1259c468",
   "metadata": {
    "colab": {},
    "colab_type": "code",
    "id": "CLd4u2ebE3bx"
   },
   "outputs": [],
   "source": [
    "# Modify this function. you may not change the function name, inputs, or size of the output.\n",
    "\n",
    "\n",
    "def pendulum_with_motor_dynamics(x, u, p):\n",
    "    x[0]\n",
    "    x[1]\n",
    "    u[0]\n",
    "    return [0.0, 0.0]  # modify here  # modify here"
   ]
  },
  {
   "cell_type": "markdown",
   "id": "5feebc0a",
   "metadata": {
    "colab_type": "text",
    "id": "V_lotS75Xb8C"
   },
   "source": [
    "You can check if you got the dynamics correct by running the below autograder."
   ]
  },
  {
   "cell_type": "code",
   "execution_count": null,
   "id": "56a7399d",
   "metadata": {
    "colab": {},
    "colab_type": "code",
    "id": "-mHMxD1oYBuj"
   },
   "outputs": [],
   "source": [
    "Grader.grade_output([TestSimplePendulumWithGearbox], [locals()], \"results.json\")\n",
    "Grader.print_test_results(\"results.json\")"
   ]
  },
  {
   "cell_type": "markdown",
   "id": "daad6168",
   "metadata": {
    "colab_type": "text",
    "id": "-HYq6kSj3U_-"
   },
   "source": [
    "## Parameter Setting\n",
    "\n",
    "Now we have defined the dynamics, we can play around with the parameters. We will try to control a pendulum of endpoint mass `m=1kg`, at length `0.5m`. To make the case more fun, let's base the gear ratio `N` and motor inertia `I_m` from Kuka iiwa [(DLR LWR III)](https://www.dlr.de/rm/en/desktopdefault.aspx/tabid-12464/21732_read-49777 )'s 3rd joint.\n",
    "\n",
    "The iiwa uses a [harmonic drive](https://en.wikipedia.org/wiki/Strain_wave_gearing) geared 160:1, directly from the [HD Company](https://www.harmonicdrive.net/) , and high-performance frameless motors [RoboDrive ILM](https://www.tq-group.com/en/products/tq-robodrive/) from TQ (originally developed at DLR). We will make an educated guess for what exact models they are using:\n",
    "\n",
    "- RoboDrive ILM 85, with `I_m=0.61e-4 kg m^2`\n",
    "- HD SHF-32-160-2UH-LW, with `I_m=2.85e-4 kg m^2`\n",
    "\n",
    "The \"motor inertia\" in the problem is in fact the armature inertia of the motor, as well as the part of the transmission attached to the motor shaft!"
   ]
  },
  {
   "cell_type": "code",
   "execution_count": null,
   "id": "68a68b76",
   "metadata": {
    "colab": {},
    "colab_type": "code",
    "id": "HmrSNzG6p8eb"
   },
   "outputs": [],
   "source": [
    "# Add motor and gearbox parameters\n",
    "\n",
    "p = {\n",
    "    \"N\": 160,\n",
    "    \"I_m\": 3.46e-4,\n",
    "    \"m\": 1.0,  # kg\n",
    "    \"g\": 9.81,  # m / s^2\n",
    "    \"l\": 0.5,  # m\n",
    "}"
   ]
  },
  {
   "cell_type": "markdown",
   "id": "d0a6ec59",
   "metadata": {
    "colab_type": "text",
    "id": "0iKx8BDL_sj4"
   },
   "source": [
    "## Building a PID Controlled System\n",
    "\n",
    "Now we have to do some plumbing to simulate the system in [Drake](https://drake.mit.edu). We've defined the plant for our dynamics before, but we need to hook it up to a PID controller to do position control, so we will need another system to act as a controller.\n",
    "\n",
    "Drake offers a built-in [PID Controller](https://drake.mit.edu/pydrake/pydrake.systems.controllers.html#pydrake.systems.controllers.PidController). The role of the controller is to compute the error based on the current and desired states, and command the input, so it could be abstracted by a system with\n",
    "- Input ports: x_now ($x$), x_desired ($x_d$)\n",
    "- Output ports: torque command ($\\tau_{cmd}$)\n",
    "\n",
    "Are there any other systems that we need to consider? Let's think about the requirements of what we need to implement. Since we need to command $x_d$, we might want a `Slider` or a `ConstantVectorSource` to do so. Also, we would like to plot the trajectory of the system, so we might need a `Logger` to do this for us.\n",
    "\n",
    "Before we code and hook everything up, it pays to think about what our diagram will actually look like:\n",
    "\n",
    "<img src=\"https://raw.githubusercontent.com/RussTedrake/manipulation/master/book/figures/exercises/system_diagram.png\" width=\"1000\">\n",
    "\n",
    "\n",
    "\n",
    "Did we get all the systems that we want? Are all the IO ports hooked up to the right places? Seems like we are ready to code!"
   ]
  },
  {
   "cell_type": "code",
   "execution_count": null,
   "id": "77863d7c",
   "metadata": {
    "colab": {},
    "colab_type": "code",
    "id": "JjBkuba9qR13"
   },
   "outputs": [],
   "source": [
    "def BuildAndSimulate(q_d, pendulum_params, gains, visualize=False):\n",
    "    # This defines the plant using the pendulum with motor dynamics.\n",
    "    system = SymbolicVectorSystem(\n",
    "        state=x,\n",
    "        output=x,\n",
    "        input=u,\n",
    "        dynamics=pendulum_with_motor_dynamics(x, u, pendulum_params),\n",
    "    )\n",
    "\n",
    "    kp, ki, kd = gains\n",
    "\n",
    "    builder = DiagramBuilder()\n",
    "\n",
    "    # Add all the systems into the diagram\n",
    "    builder.AddSystem(system)\n",
    "    logger = builder.AddSystem(VectorLogSink(2))\n",
    "    pid_controller = builder.AddSystem(PidController([kp], [ki], [kd]))\n",
    "    desired_state = builder.AddSystem(ConstantVectorSource([q_d, 0.0]))\n",
    "\n",
    "    # Connect the IO ports of the systems.\n",
    "    builder.Connect(pid_controller.get_output_port(0), system.get_input_port(0))\n",
    "    builder.Connect(system.get_output_port(0), logger.get_input_port(0))\n",
    "    builder.Connect(system.get_output_port(0), pid_controller.get_input_port(0))\n",
    "    builder.Connect(desired_state.get_output_port(0), pid_controller.get_input_port(1))\n",
    "\n",
    "    diagram = builder.Build()\n",
    "    diagram.set_name(\"diagram\")\n",
    "\n",
    "    # Plot the diagram if visualize is true.\n",
    "    if visualize and running_as_notebook:\n",
    "        RenderDiagram(diagram, max_depth=1)\n",
    "\n",
    "    simulator = Simulator(diagram)\n",
    "    context = simulator.get_mutable_context()\n",
    "\n",
    "    # The simulator has three states since the plant has 2, and the PID controller\n",
    "    # keeps an additional state for the integral term. We set all of them to zero\n",
    "    # initialization.\n",
    "    context.SetContinuousState([0.0, 0.0, 0.0])\n",
    "\n",
    "    return simulator, logger.FindLog(context)"
   ]
  },
  {
   "cell_type": "markdown",
   "id": "9c3710fd",
   "metadata": {
    "colab_type": "text",
    "id": "2orRbwNpMVZv"
   },
   "source": [
    "Now let's visualize the diagram and see if everything is properly connected for simulation. Does this topologically resemble our diagram above?"
   ]
  },
  {
   "cell_type": "code",
   "execution_count": null,
   "id": "d7173943",
   "metadata": {
    "colab": {},
    "colab_type": "code",
    "id": "biHnaJtcHNMg"
   },
   "outputs": [],
   "source": [
    "gains = [5, 2, 1]\n",
    "simulator, logger = BuildAndSimulate(0.0, p, gains, visualize=True)"
   ]
  },
  {
   "cell_type": "markdown",
   "id": "4075de4a",
   "metadata": {
    "colab_type": "text",
    "id": "kiR00H1zXeqp"
   },
   "source": [
    "## Simulating the Closed-Loop System\n",
    "\n",
    "We are now ready to simulate our system with motor dynamics! Let's start off with the direct-drive case (i.e. `N=1`)."
   ]
  },
  {
   "cell_type": "code",
   "execution_count": null,
   "id": "a9a06691",
   "metadata": {
    "colab": {},
    "colab_type": "code",
    "id": "t_dXpC95OrwZ"
   },
   "outputs": [],
   "source": [
    "q_d = (5.0 / 8.0) * np.pi  # Feel free to play around with different final positions.\n",
    "gains = [5, 2, 1]  # [P, I, D] gains.\n",
    "p[\"N\"] = 1\n",
    "simulator, logger = BuildAndSimulate(q_d, p, gains)\n",
    "\n",
    "simulator.Initialize()\n",
    "simulator.AdvanceTo(20.0 if running_as_notebook else 0.1)\n",
    "\n",
    "time = logger.sample_times()\n",
    "traj = logger.data()\n",
    "\n",
    "plt.figure()\n",
    "plt.plot(time, traj[0, :], \"b-\")\n",
    "plt.plot(time, q_d * np.ones(traj.shape[1]), \"r--\")\n",
    "plt.xlabel(\"time (s)\")\n",
    "plt.ylabel(\"q (rads)\")\n",
    "if running_as_notebook:\n",
    "    display(mpld3.display())"
   ]
  },
  {
   "cell_type": "markdown",
   "id": "2feac0eb",
   "metadata": {
    "colab_type": "text",
    "id": "rbe_hU7wfnWg"
   },
   "source": [
    "You might have noticed that the closed-loop system is unstable for some desired joint configurations. For the gains above, if we ask the controller to stabilize to an upright position (do a swing-up), then the controller seems to be having trouble stabilizing.\n",
    "\n",
    "Let's try to analyze this effect a bit more systematically by plotting how the state behaves depending on how we set the desired position.\n",
    "\n"
   ]
  },
  {
   "cell_type": "code",
   "execution_count": null,
   "id": "fdc7a819",
   "metadata": {
    "colab": {},
    "colab_type": "code",
    "id": "fGP8bnm7h_D7"
   },
   "outputs": [],
   "source": [
    "plt.figure()\n",
    "p[\"N\"] = 1\n",
    "\n",
    "q_d_lst = np.linspace(-np.pi, np.pi, 10)\n",
    "for i in range(len(q_d_lst)):\n",
    "    simulator, logger = BuildAndSimulate(q_d_lst[i], p, gains)\n",
    "\n",
    "    simulator.Initialize()\n",
    "    simulator.AdvanceTo(20.0 if running_as_notebook else 0.1)\n",
    "\n",
    "    time = logger.sample_times()\n",
    "    traj = logger.data()\n",
    "\n",
    "    plt.plot(time, traj[0, :], \"b--\")\n",
    "    plt.plot(time, q_d_lst[i] * np.ones(traj.shape[1]), \"r--\")\n",
    "\n",
    "plt.xlabel(\"time (s)\")\n",
    "plt.ylabel(\"q (rads)\")\n",
    "if running_as_notebook:\n",
    "    display(mpld3.display())"
   ]
  },
  {
   "cell_type": "markdown",
   "id": "7eba7086",
   "metadata": {
    "colab_type": "text",
    "id": "sGswFQm2ilQe"
   },
   "source": [
    "Note how that the system not only destabilizes for more upright positions, but also shows **different behavior** depending on what angle we ask it to stabilize to. Lower angles don't have overshoots, while higher angles do.\n",
    "\n",
    "This speaks to the effect of the nonlinear, state-dependent gravity term\n",
    "$-mgl\\sin(q)$.\n"
   ]
  },
  {
   "cell_type": "markdown",
   "id": "dedad57a",
   "metadata": {
    "colab_type": "text",
    "id": "QumuOJNOgkrh"
   },
   "source": [
    "## Testing out Gearbox Case\n",
    "\n",
    "Now we will test the same dynamics with a high gear ratio of `N=160`, with the same gains."
   ]
  },
  {
   "cell_type": "code",
   "execution_count": null,
   "id": "9edf9d92",
   "metadata": {
    "colab": {},
    "colab_type": "code",
    "id": "jxfyWP-ufmji"
   },
   "outputs": [],
   "source": [
    "q_d = np.pi / 1  # Feel free to play around with different gains.\n",
    "gains = [5, 2, 1]  # [P, I, D] gains\n",
    "p[\"N\"] = 160\n",
    "simulator, logger = BuildAndSimulate(q_d, p, gains)\n",
    "\n",
    "simulator.Initialize()\n",
    "simulator.AdvanceTo(20.0 if running_as_notebook else 0.1)\n",
    "\n",
    "time = logger.sample_times()\n",
    "traj = logger.data()\n",
    "\n",
    "plt.figure()\n",
    "plt.plot(time, traj[0, :], \"b-\")\n",
    "plt.plot(time, q_d * np.ones(traj.shape[1]), \"r--\")\n",
    "plt.xlabel(\"time (s)\")\n",
    "plt.ylabel(\"q (rads)\")\n",
    "if running_as_notebook:\n",
    "    display(mpld3.display())"
   ]
  },
  {
   "cell_type": "markdown",
   "id": "164bce88",
   "metadata": {
    "colab_type": "text",
    "id": "IRKy7cINhWqF"
   },
   "source": [
    "Observe that with the same gains, the controller stabilizes is now able to stabilize to an upright position! Let's plot this over a range of different final joint positions as well."
   ]
  },
  {
   "cell_type": "code",
   "execution_count": null,
   "id": "4920d172",
   "metadata": {
    "colab": {},
    "colab_type": "code",
    "id": "Sq7Ev_lxja-J"
   },
   "outputs": [],
   "source": [
    "plt.figure()\n",
    "p[\"N\"] = 160\n",
    "\n",
    "q_d_lst = np.linspace(-np.pi, np.pi, 10)\n",
    "for i in range(len(q_d_lst)):\n",
    "    simulator, logger = BuildAndSimulate(q_d_lst[i], p, gains)\n",
    "\n",
    "    simulator.Initialize()\n",
    "    simulator.AdvanceTo(20.0 if running_as_notebook else 0.1)\n",
    "\n",
    "    time = logger.sample_times()\n",
    "    traj = logger.data()\n",
    "\n",
    "    plt.plot(time, traj[0, :], \"b--\")\n",
    "    plt.plot(time, q_d_lst[i] * np.ones(traj.shape[1]), \"r--\")\n",
    "\n",
    "plt.xlabel(\"time (s)\")\n",
    "plt.ylabel(\"q (rads)\")\n",
    "if running_as_notebook:\n",
    "    display(mpld3.display())"
   ]
  },
  {
   "cell_type": "markdown",
   "id": "2c810199",
   "metadata": {
    "colab_type": "text",
    "id": "k0KiqeyCjtCR"
   },
   "source": [
    "This is looking great! Now we are able to stabilize to most configurations. But not only did we achieve stability, but observe how **consistent** the curves are regardless of what joint configuration we ask it to stabilize to.\n",
    "\n",
    "You will notice that with a higher gain, we might be able to achieve stability for the direct-drive case as well since we impose no torque bounds. But you are still likely to see that gravity affects the direct-drive case more than the gearbox case.\n",
    "\n",
    "\n"
   ]
  },
  {
   "cell_type": "markdown",
   "id": "f4415ddf",
   "metadata": {
    "colab_type": "text",
    "id": "vohZdqXrkZJH"
   },
   "source": [
    "## Qualitative Problem ##\n",
    "\n",
    "Below, we have a question for you:\n",
    "\n",
    "**Why are we seeing such consistent behavior of closed-loop dynamics for the gearbox case, as opposed to the direct-drive case?**\n",
    "\n",
    "You can answer in words using 3-5 sentences."
   ]
  },
  {
   "cell_type": "markdown",
   "id": "cc7b725e",
   "metadata": {
    "colab_type": "text",
    "id": "-xr2qacVj2kI"
   },
   "source": [
    "## Your Answer\n",
    "\n",
    "Submit your response to the above question in the Gradescope 'written submission' section!"
   ]
  },
  {
   "cell_type": "markdown",
   "id": "161443e9",
   "metadata": {
    "colab_type": "text",
    "id": "zPmeRLtJk410"
   },
   "source": [
    "## How will this notebook be Graded?\n",
    "\n",
    "If you are enrolled in the class, this notebook will be graded using [Gradescope](www.gradescope.com). You should have gotten the enrollement code on our announcement in Piazza.\n",
    "\n",
    "For submission of this assignment, you must do two things.\n",
    "- Download and submit the notebook `reflected_inertia.ipynb` to Gradescope's notebook submission section, along with your notebook for the second problem.\n",
    "- Copy and Paste your answer to the qualitative problem to Gradescope's written submission section.\n",
    "\n",
    "We will evaluate the local functions in the notebook to see if the function behaves as we have expected. For this exercise, the rubric is as follows:\n",
    "- [5 pts] `pendulum_with_motor_dynamics` must be implemented correctly\n",
    "- [5 pts] You must answer correctly on why the gearbox and direct-drive cases show different qualitative behavior."
   ]
  },
  {
   "cell_type": "markdown",
   "id": "301563d7",
   "metadata": {},
   "source": []
  }
 ],
 "metadata": {
  "kernelspec": {
   "display_name": "Python 3.8.10 64-bit",
   "language": "python",
   "name": "python3"
  },
  "language_info": {
   "name": "python",
   "version": "3.11.6"
  }
 },
 "nbformat": 4,
 "nbformat_minor": 5
}