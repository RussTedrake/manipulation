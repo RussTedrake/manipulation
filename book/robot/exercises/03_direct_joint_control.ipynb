{
 "cells": [
  {
   "cell_type": "markdown",
   "metadata": {},
   "source": [
    "# Drake practice - \"Direct\" Joint Angle Teleop\n",
    "First, we provide a reference to the first example notebook of chapter 1. Then, in the bottom cell, you will find a similar function with slightly different functionality, and code missing that you are required to fill in. Take a look below for further instructions!"
   ]
  },
  {
   "cell_type": "markdown",
   "metadata": {},
   "source": [
    "## Review: 2D End-effector Teleop (from Chapter 1)\n",
    "\n",
    "In the chapter 1 [example](https://manipulation.csail.mit.edu/intro.html#teleop2d), we assembled a diagram with the manipulation station, a meshcat visualizer, some systems that provide a minimal teleop interface, along with some systems to convert the teleop output from end-effector commands into joint commands.\n",
    "\n",
    "In this problem, your goal is to build an even simpler diagram, which instead directly controls the joint angles of the robot.\n"
   ]
  },
  {
   "cell_type": "markdown",
   "metadata": {},
   "source": [
    "## Setup\n",
    "Imports from drake and starting the Meshcat viewer."
   ]
  },
  {
   "cell_type": "code",
   "execution_count": null,
   "metadata": {},
   "outputs": [],
   "source": [
    "import numpy as np\n",
    "from pydrake.all import DiagramBuilder, LeafSystem, Simulator, StartMeshcat\n",
    "\n",
    "from manipulation import running_as_notebook\n",
    "from manipulation.exercises.grader import Grader\n",
    "from manipulation.exercises.robot.test_direct_joint_control import (\n",
    "    TestDirectJointControl,\n",
    ")\n",
    "from manipulation.station import LoadScenario, MakeHardwareStation"
   ]
  },
  {
   "cell_type": "code",
   "execution_count": null,
   "metadata": {},
   "outputs": [],
   "source": [
    "# Start the visualizer.\n",
    "meshcat = StartMeshcat()\n",
    "meshcat.Set2dRenderMode(xmin=-0.25, xmax=1.5, ymin=-0.1, ymax=1.3)"
   ]
  },
  {
   "cell_type": "code",
   "execution_count": null,
   "metadata": {},
   "outputs": [],
   "source": [
    "scenario_data = \"\"\"\n",
    "directives:\n",
    "- add_model:\n",
    "    name: iiwa\n",
    "    file: package://manipulation/planar_iiwa14_no_collision.urdf\n",
    "    default_joint_positions:\n",
    "        iiwa_joint_2: [0.1]\n",
    "        iiwa_joint_4: [-1.2]\n",
    "        iiwa_joint_6: [1.6]\n",
    "- add_weld:\n",
    "    parent: world\n",
    "    child: iiwa::iiwa_link_0\n",
    "model_drivers:\n",
    "    iiwa: !IiwaDriver\n",
    "        control_mode: position_only\n",
    "\"\"\"\n",
    "scenario = LoadScenario(data=scenario_data)"
   ]
  },
  {
   "cell_type": "markdown",
   "metadata": {},
   "source": [
    "## Directly control the robot joints\n",
    "You'll now get a chance to replace the teleop functionality in the 2D example above with a direct \"joint angle setter\".\n",
    "\n",
    "Compete the `teleop_2d_direct` function below accepting a desired angle of each joint from the user.\n",
    "- Reference `teleop_2d` in the chapter 1 example.\n",
    "- You can leave out all the components that were used in `teleop_2d` which are no longer needed.\n",
    "\n",
    "### The goals of this exercise are twofold:\n",
    "- Understand the way core subsystems in Drake are wired together well enough to know what parts of the `teleop_2d` function must be removed.\n",
    "- Use the information in the examples from the textbook, other exercises, and Drake documentation, to correctly implement the same high-level joint-space control behavior, but using a different Drake function.\n"
   ]
  },
  {
   "cell_type": "code",
   "execution_count": null,
   "metadata": {},
   "outputs": [],
   "source": [
    "class CommandInputSystem(LeafSystem):\n",
    "    def __init__(self, interactive, q_cmd):\n",
    "        LeafSystem.__init__(self)\n",
    "\n",
    "        self._interactive = interactive\n",
    "        self._q_cmd = q_cmd\n",
    "\n",
    "        # Declare input and output ports.\n",
    "        self._q_current_input = self.DeclareVectorInputPort(name=\"q_current\", size=3)\n",
    "        self.DeclareVectorOutputPort(name=\"q_cmd\", size=3, calc=self.CalcOutput)\n",
    "\n",
    "    def CalcOutput(self, context, output):\n",
    "        # Read the input port.\n",
    "        q_current = self._q_current_input.Eval(context)\n",
    "\n",
    "        if self._interactive and running_as_notebook and self._q_cmd is None:\n",
    "            q_cmd = q_current.copy()\n",
    "            q_cmd[0] = float(\n",
    "                input(\n",
    "                    f\"Please enter value for first movable joint (current value: {q_current[0]:.3f})\"\n",
    "                )\n",
    "            )\n",
    "            q_cmd[1] = float(\n",
    "                input(\n",
    "                    f\"Please enter value for second movable joint (current value: {q_current[1]:.3f})\"\n",
    "                )\n",
    "            )\n",
    "            q_cmd[2] = input(\n",
    "                f\"Please enter value for third movable joint (current value: {q_current[2]:.3f})\"\n",
    "            )\n",
    "            self._q_cmd = q_cmd\n",
    "        else:\n",
    "            q_cmd = self._q_cmd\n",
    "\n",
    "        if q_cmd is None:\n",
    "            q_cmd = np.zeros(3)\n",
    "\n",
    "        # Write to the output port.\n",
    "        output.SetFromVector(q_cmd)\n",
    "\n",
    "    def reset(self):\n",
    "        self._q_cmd = None\n",
    "\n",
    "\n",
    "def teleop_2d_direct(interactive=False, q_cmd=None):\n",
    "    \"\"\"\n",
    "    Joint position control of the Kuka iiwa robot, without using teleop sliders or differential IK.\n",
    "\n",
    "    Args:\n",
    "        interactive (bool): If True, function will query the user to manually set the desired joint positions\n",
    "            while running the simulator. Otherwise, function will use \"q_cmd\" as the target joint position.\n",
    "        q_cmd (np.ndarray, list): Shape (3,). Desired positions of the three movable joints on the 2D robot.\n",
    "            \"q_cmd\" cannot be None if \"interactive\" is set to False.\n",
    "    \"\"\"\n",
    "    assert (\n",
    "        not interactive and q_cmd is not None\n",
    "    ) or interactive, 'Variable \"q_cmd\" must not be None if the function is run in non-interactive mode'\n",
    "\n",
    "    builder = DiagramBuilder()\n",
    "\n",
    "    station = builder.AddSystem(MakeHardwareStation(scenario, meshcat=meshcat))\n",
    "\n",
    "    command_input_system = builder.AddSystem(CommandInputSystem(interactive, q_cmd))\n",
    "\n",
    "    #######################################################################\n",
    "    # Your code here\n",
    "    # (connect the input and output port of `command_input_system` to the `station` ports)\n",
    "    # (hint: what output ports does the `station` instance have available?)\n",
    "\n",
    "    #######################################################################\n",
    "\n",
    "    diagram = builder.Build()\n",
    "\n",
    "    #######################################################################\n",
    "    # Your code here. We wish to construct the following:\n",
    "    # 1. simulator\n",
    "    # 2. context: The context variable is set to the context owned by the simulator. What public member function can we use to get this context? See https://drake.mit.edu/doxygen_cxx/classdrake_1_1systems_1_1_simulator.html\n",
    "    # 3. station_context: We want a context for the station that is retrieved from the context owned by the simulator. See \"Subcontext access\" at https://drake.mit.edu/doxygen_cxx/classdrake_1_1systems_1_1_system.html\n",
    "\n",
    "    simulator = None\n",
    "    context = None\n",
    "    station_context = None\n",
    "    #######################################################################\n",
    "\n",
    "    if simulator is None:\n",
    "        print(\"You must set the simulator variable above\")\n",
    "        return station, station_context\n",
    "\n",
    "    simulator.set_target_realtime_rate(1.0 if interactive else 0)\n",
    "    meshcat.AddButton(\"Stop Simulation\")\n",
    "    while meshcat.GetButtonClicks(\"Stop Simulation\") < 1:\n",
    "        # Command the desired positions for 2s while simulating.\n",
    "        simulator.AdvanceTo(simulator.get_context().get_time() + 2.0)\n",
    "\n",
    "        q_current_cmd = station.GetOutputPort(\"iiwa.position_commanded\").Eval(\n",
    "            station_context\n",
    "        )\n",
    "        print(f\"Current commanded joint angles: {q_current_cmd}\")\n",
    "\n",
    "        if not interactive or not running_as_notebook:\n",
    "            break\n",
    "        else:\n",
    "            # Reset the input system so that it asks for user input.\n",
    "            command_input_system.reset()\n",
    "\n",
    "    meshcat.DeleteButton(\"Stop Simulation\")\n",
    "\n",
    "    return station, station_context"
   ]
  },
  {
   "cell_type": "markdown",
   "metadata": {},
   "source": [
    "Run the cell below to use the function you wrote in an interactive mode, but note that the autograder will test the functionality of your code in non-interactive mode."
   ]
  },
  {
   "cell_type": "code",
   "execution_count": null,
   "metadata": {},
   "outputs": [],
   "source": [
    "teleop_2d_direct(interactive=True)"
   ]
  },
  {
   "cell_type": "markdown",
   "metadata": {},
   "source": [
    "## How will this notebook be Graded?\n",
    "\n",
    "If you are enrolled in the class, this notebook will be graded using [Gradescope](www.gradescope.com). You should have gotten the enrollement code on our announcement in Piazza.\n",
    "\n",
    "For submission of this assignment, you must do as follows:.\n",
    "- Download and submit the notebook `direct_joint_control.ipynb` to Gradescope's notebook submission section, along with your notebook for the other problems.\n",
    "\n",
    "We will evaluate the local functions in the notebook to see if the function behaves as we have expected. For this exercise, the rubric is as follows:\n",
    "- [5pts] `teleop_2d_direct` must be implemented correctly (i.e., we will check if you are properly sending position commands to the robot)\n",
    "\n",
    "Below is our autograder where you can check your score!"
   ]
  },
  {
   "cell_type": "code",
   "execution_count": null,
   "metadata": {},
   "outputs": [],
   "source": [
    "Grader.grade_output([TestDirectJointControl], [locals()], \"results.json\")\n",
    "Grader.print_test_results(\"results.json\")"
   ]
  }
 ],
 "metadata": {
  "language_info": {
   "name": "python"
  }
 },
 "nbformat": 4,
 "nbformat_minor": 0
}