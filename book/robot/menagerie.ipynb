{
 "cells": [
  {
   "cell_type": "markdown",
   "id": "05124c35",
   "metadata": {
    "colab_type": "text",
    "id": "EgiF12Hf1Dhs"
   },
   "source": [
    "This notebook provides examples to go along with the [textbook](http://manipulation.csail.mit.edu/robot.html).  I recommend having both windows open, side-by-side!"
   ]
  },
  {
   "cell_type": "code",
   "execution_count": 3,
   "id": "99268d0c",
   "metadata": {
    "colab": {},
    "colab_type": "code",
    "id": "eeMrMI0-1Dhu",
    "lines_to_end_of_cell_marker": 2
   },
   "outputs": [],
   "source": [
    "import logging\n",
    "\n",
    "import numpy as np\n",
    "from IPython.display import Image, clear_output, display\n",
    "from pydrake.all import Parser, RobotDiagramBuilder, Simulator, StartMeshcat\n",
    "\n",
    "from manipulation import running_as_notebook\n",
    "from manipulation.make_drake_compatible_model import MakeDrakeCompatibleModel\n",
    "from manipulation.utils import AddMujocoMenagerie, ApplyDefaultVisualization"
   ]
  },
  {
   "cell_type": "code",
   "execution_count": null,
   "id": "3db6138d",
   "metadata": {},
   "outputs": [],
   "source": [
    "# Start the visualizer.\n",
    "meshcat = StartMeshcat()"
   ]
  },
  {
   "cell_type": "markdown",
   "id": "074ad941",
   "metadata": {},
   "source": [
    "## MuJoCo Menagerie\n"
   ]
  },
  {
   "cell_type": "code",
   "execution_count": null,
   "id": "0163ee04",
   "metadata": {},
   "outputs": [],
   "source": [
    "logging.getLogger(\"drake\").setLevel(logging.ERROR)\n",
    "\n",
    "\n",
    "def show_model(model: str):\n",
    "    \"\"\"For `model` as one of the keys in the `model_data` defined below, this will load the model in Drake and display it in Meshcat, and it will display the corresponding render from the Menagerie documentation.\"\"\"\n",
    "    model_url = f\"package://mujoco_menagerie/{model}/{model_data[model][0]}\"\n",
    "    image_url = f\"package://mujoco_menagerie/{model}/{model_data[model][1]}\"\n",
    "\n",
    "    meshcat.Delete()\n",
    "    builder = RobotDiagramBuilder()\n",
    "    plant = builder.plant()\n",
    "    parser = Parser(plant)\n",
    "    package_map = parser.package_map()\n",
    "    AddMujocoMenagerie(package_map)\n",
    "    model_path = package_map.ResolveUrl(model_url)\n",
    "    image_path = package_map.ResolveUrl(image_url)\n",
    "    drake_model_path = model_path.replace(\".xml\", \".drake.xml\")\n",
    "    MakeDrakeCompatibleModel(model_path, drake_model_path, overwrite=True)\n",
    "    model_instances = parser.AddModels(drake_model_path)\n",
    "    plant.Finalize()\n",
    "    ApplyDefaultVisualization(builder.builder(), meshcat=meshcat)\n",
    "    diagram = builder.Build()\n",
    "    simulator = Simulator(diagram)\n",
    "\n",
    "    # Workaround for drake#22444: set the desired state to zero.\n",
    "    for model_instance in model_instances:\n",
    "        desired_state_port = plant.get_desired_state_input_port(model_instance)\n",
    "        if desired_state_port.size() > 0:\n",
    "            desired_state_port.FixValue(\n",
    "                plant.GetMyContextFromRoot(simulator.get_context()),\n",
    "                np.zeros(desired_state_port.size()),\n",
    "            )\n",
    "\n",
    "    diagram.ForcedPublish(simulator.get_context())\n",
    "    display(Image(filename=image_path))\n",
    "\n",
    "\n",
    "model_data = {\n",
    "    \"agility_cassie\": (\"scene.xml\", \"cassie.png\"),  # Drake#22462\n",
    "    \"aloha\": (\"scene.xml\", \"aloha.png\"),\n",
    "    \"anybotics_anymal_b\": (\"scene.xml\", \"anymal_b.png\"),\n",
    "    \"anybotics_anymal_c\": (\"scene.xml\", \"anymal_c.png\"),\n",
    "    \"berkeley_humanoid\": (\n",
    "        \"scene.xml\",\n",
    "        \"berkeley_humanoid.png\",\n",
    "    ),\n",
    "    \"bitcraze_crazyflie_2\": (\"scene.xml\", \"cf2.png\"),\n",
    "    \"boston_dynamics_spot\": (\"scene_arm.xml\", \"spot.png\"),\n",
    "    #    \"flybody\": (\"scene.xml\", \"flybody.png\"), # Drake#22372\n",
    "    \"franka_emika_panda\": (\"scene.xml\", \"panda.png\"),\n",
    "    \"franka_fr3\": (\"scene.xml\", \"fr3.png\"),\n",
    "    \"google_barkour_v0\": (\"scene.xml\", \"barkour_v0.png\"),\n",
    "    \"google_barkour_vb\": (\"scene.xml\", \"barkour_vb.png\"),\n",
    "    \"google_robot\": (\"scene.xml\", \"robot.png\"),\n",
    "    \"hello_robot_stretch\": (\"scene.xml\", \"stretch.png\"),\n",
    "    \"hello_robot_stretch_3\": (\"scene.xml\", \"stretch.png\"),\n",
    "    \"kinova_gen3\": (\"scene.xml\", \"gen3.png\"),\n",
    "    \"kuka_iiwa_14\": (\"scene.xml\", \"iiwa_14.png\"),\n",
    "    \"leap_hand\": (\"scene_right.xml\", \"right_hand.png\"),\n",
    "    \"pal_talos\": (\"scene_motor.xml\", \"talos.png\"),\n",
    "    \"pal_tiago\": (\"scene_motor.xml\", \"tiago.png\"),\n",
    "    \"pal_tiago_dual\": (\"scene_motor.xml\", \"tiago_dual.png\"),\n",
    "    #    \"realsense_d435i\": (\"d435i.xml\", \"d435i.png\"), # Drake#22372\n",
    "    \"rethink_robotics_sawyer\": (\"scene.xml\", \"sawyer.png\"),\n",
    "    \"robotiq_2f85\": (\"scene.xml\", \"2f85.png\"),\n",
    "    \"robotiq_2f85_v4\": (\"scene.xml\", \"2f85.png\"),\n",
    "    \"robotis_op3\": (\"scene.xml\", \"op3.png\"),\n",
    "    \"shadow_dexee\": (\"scene.xml\", \"shadow_dexee.png\"),  # Drake#22488\n",
    "    \"skydio_x2\": (\"scene.xml\", \"x2.png\"),\n",
    "    \"trs_so_arm100\": (\"scene.xml\", \"so_arm100.png\"),\n",
    "    \"trossen_vx300s\": (\"scene.xml\", \"vx300s.png\"),\n",
    "    \"trossen_wx250s\": (\"scene.xml\", \"wx250s.png\"),\n",
    "    \"ufactory_lite6\": (\"scene.xml\", \"lite6.png\"),\n",
    "    \"ufactory_xarm7\": (\"scene.xml\", \"xarm7.png\"),\n",
    "    \"unitree_a1\": (\"scene.xml\", \"a1.png\"),\n",
    "    \"unitree_g1\": (\"scene_with_hands.xml\", \"g1.png\"),\n",
    "    \"unitree_go1\": (\"scene.xml\", \"go1.png\"),\n",
    "    \"unitree_go2\": (\"scene.xml\", \"go2.png\"),\n",
    "    \"unitree_h1\": (\"scene.xml\", \"h1.png\"),\n",
    "    \"unitree_z1\": (\"scene.xml\", \"z1.png\"),\n",
    "    \"universal_robots_ur10e\": (\"scene.xml\", \"ur10e.png\"),\n",
    "    \"universal_robots_ur5e\": (\"scene.xml\", \"ur5e.png\"),\n",
    "    \"wonik_allegro\": (\"scene_left.xml\", \"allegro_hand.png\"),\n",
    "}\n",
    "\n",
    "if running_as_notebook:\n",
    "    # Loop through and display all of the models, one at a time.\n",
    "    for model in model_data.keys():\n",
    "        clear_output(wait=True)\n",
    "        print(f\"Showing model: {model}\")\n",
    "        show_model(model)\n",
    "        print(\"\\nContinue (y/n)...\", end=\"\", flush=True)\n",
    "        answer = input()\n",
    "        if answer.lower() == \"n\":\n",
    "            break"
   ]
  },
  {
   "cell_type": "code",
   "execution_count": null,
   "id": "1fc30a41",
   "metadata": {},
   "outputs": [],
   "source": []
  }
 ],
 "metadata": {
  "kernelspec": {
   "display_name": "Python 3 (ipykernel)",
   "language": "python",
   "name": "python3"
  },
  "language_info": {
   "codemirror_mode": {
    "name": "ipython",
    "version": 3
   },
   "file_extension": ".py",
   "mimetype": "text/x-python",
   "name": "python",
   "nbconvert_exporter": "python",
   "pygments_lexer": "ipython3",
   "version": "3.10.12"
  }
 },
 "nbformat": 4,
 "nbformat_minor": 5
}
