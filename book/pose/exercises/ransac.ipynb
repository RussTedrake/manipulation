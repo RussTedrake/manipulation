{
 "cells": [
  {
   "cell_type": "markdown",
   "id": "096ec6f3",
   "metadata": {
    "colab_type": "text",
    "id": "9CagYlhclDR4"
   },
   "source": [
    "# Ransac and Outlier Removal"
   ]
  },
  {
   "cell_type": "code",
   "execution_count": null,
   "id": "455e0cab",
   "metadata": {
    "colab": {},
    "colab_type": "code",
    "id": "3kqzbo_AlDR6",
    "lines_to_end_of_cell_marker": 2
   },
   "outputs": [],
   "source": [
    "from typing import Callable, Optional\n",
    "\n",
    "import numpy as np\n",
    "from numpy.random import Generator\n",
    "from pydrake.all import (\n",
    "    Cylinder,\n",
    "    PointCloud,\n",
    "    Rgba,\n",
    "    RigidTransform,\n",
    "    RollPitchYaw,\n",
    "    RotationMatrix,\n",
    "    StartMeshcat,\n",
    ")\n",
    "\n",
    "from manipulation import FindResource\n",
    "from manipulation.exercises.grader import Grader\n",
    "from manipulation.exercises.pose.test_ransac import TestRANSAC"
   ]
  },
  {
   "cell_type": "code",
   "execution_count": null,
   "id": "73ac0dce",
   "metadata": {},
   "outputs": [],
   "source": [
    "# Start the visualizer.\n",
    "meshcat = StartMeshcat()\n",
    "meshcat.SetProperty(\"/Background\", \"visible\", False)\n",
    "meshcat.SetProperty(\"/Cameras/default/rotated/<object>\", \"zoom\", 10.5)"
   ]
  },
  {
   "cell_type": "code",
   "execution_count": null,
   "id": "9e404a38",
   "metadata": {},
   "outputs": [],
   "source": [
    "# Visualize Stanford Bunny\n",
    "xyzs = np.load(FindResource(\"models/bunny/bunny.npy\"))\n",
    "\n",
    "# point clouds of planar surface\n",
    "grid_spec = 50\n",
    "xy_axis = np.linspace(-0.5, 0.5, grid_spec)\n",
    "plane_x, plane_y = np.meshgrid(xy_axis, xy_axis)\n",
    "points_plane_xy = np.c_[plane_x.flatten(), plane_y.flatten(), np.zeros(grid_spec**2)]\n",
    "bunny_w_plane = np.c_[points_plane_xy.T, xyzs]\n",
    "\n",
    "\n",
    "def fit_plane(xyzs: np.ndarray) -> np.ndarray:\n",
    "    \"\"\"\n",
    "    Fits a plane to a set of 3D points using Singular Value Decomposition (SVD).\n",
    "\n",
    "    Args:\n",
    "        xyzs (numpy.ndarray): A (3, N) numpy array where N is the number of points.\n",
    "\n",
    "    Returns:\n",
    "        numpy.ndarray: A (4,) numpy array representing the plane equation coefficients [a, b, c, d]\n",
    "                       such that ax + by + cz + d = 0.\n",
    "    \"\"\"\n",
    "    # Ensure the input is a numpy array\n",
    "    xyzs = np.asarray(xyzs)\n",
    "\n",
    "    # Check if the input has the correct shape\n",
    "    if xyzs.shape[0] != 3:\n",
    "        raise ValueError(\"Input array must have shape (3, N)\")\n",
    "\n",
    "    # Compute the centroid of the point cloud\n",
    "    center = np.mean(xyzs, axis=1)\n",
    "\n",
    "    # Center the point cloud at the origin\n",
    "    centered_xyzs = xyzs.T - center\n",
    "\n",
    "    # Perform Singular Value Decomposition\n",
    "    U, S, Vt = np.linalg.svd(centered_xyzs)\n",
    "\n",
    "    # The normal to the plane is the last row of Vt (or the last column of V)\n",
    "    normal = Vt[-1]\n",
    "\n",
    "    # Compute the plane equation coefficient d\n",
    "    d = -center.dot(normal)\n",
    "\n",
    "    # Combine the normal vector and d to form the plane equation\n",
    "    plane_equation = np.hstack([normal, d])\n",
    "\n",
    "    return plane_equation\n",
    "\n",
    "\n",
    "def visualize_plane(\n",
    "    abcd: np.ndarray, name: str, center: Optional[np.ndarray] = None\n",
    ") -> None:\n",
    "    \"\"\"\n",
    "    Visualizes a plane and its normal vector in the MeshCat environment.\n",
    "\n",
    "    Args:\n",
    "        abcd (numpy.ndarray): A (4,) numpy array representing the plane equation coefficients [a, b, c, d]\n",
    "                              such that ax + by + cz + d = 0.\n",
    "        name (str): The name of the visualization object.\n",
    "        center (numpy.ndarray, optional): The center of the plane. Defaults to None.\n",
    "    \"\"\"\n",
    "    # The normal to the plane is the first three elements of the plane equation coefficients\n",
    "    normal = np.array(abcd[:3]).astype(float)\n",
    "    # Normalize the normal vector\n",
    "    normal /= np.linalg.norm(normal)\n",
    "    # The distance from the origin to the plane is the last element of the plane equation coefficients\n",
    "    d = -abcd[3] / np.linalg.norm(normal)\n",
    "\n",
    "    # Create a rotation matrix R with the normal as the third column\n",
    "    z = normal\n",
    "    R = np.eye(3)\n",
    "    R[:, 2] = z\n",
    "    # If the x component of the normal is close to zero, choose a different vector for x\n",
    "    if abs(z[0]) < 1e-8:\n",
    "        x = np.array([0, -z[2], z[1]])\n",
    "    else:\n",
    "        x = np.array([-z[1], z[0], 0])\n",
    "    # Normalize the x vector\n",
    "    x /= np.linalg.norm(x)\n",
    "    # The y vector is the cross product of z and x\n",
    "    R[:, 0] = x\n",
    "    R[:, 1] = np.cross(z, x)\n",
    "    X = RigidTransform(RotationMatrix(R), d * normal)\n",
    "\n",
    "    # Set the visualization objects in the MeshCat environment\n",
    "    meshcat.SetObject(name + \"/plane\", Cylinder(0.1, 0.005))\n",
    "    meshcat.SetTransform(name + \"/plane\", X)\n",
    "\n",
    "    meshcat.SetObject(name + \"/normal\", Cylinder(0.001, 0.2), Rgba(0, 0, 1))\n",
    "    meshcat.SetTransform(name + \"/normal\", X @ RigidTransform([0, 0, 0.1]))\n",
    "\n",
    "\n",
    "def visualize_point_clouds(points, name):\n",
    "    cloud = PointCloud(points.shape[1])\n",
    "    cloud.mutable_xyzs()[:] = points\n",
    "    meshcat.SetObject(name, cloud, point_size=0.01, rgba=Rgba(1.0, 0, 0))"
   ]
  },
  {
   "cell_type": "markdown",
   "id": "1888bced",
   "metadata": {
    "colab_type": "text",
    "id": "Bva0aj0GlDSI"
   },
   "source": [
    "# Problem Description\n",
    "In the lecture, we learned about the RANSAC algorithm. In this exercise, you will implement the RANSAC algorithm to separate the Stanford bunny from its environment!\n",
    "\n",
    "**These are the main steps of the exercise:**\n",
    "1. Implement the `ransac` method.\n",
    "2. Implement the `remove_plane` method to remove the points that belong to the planar surface.\n",
    "\n",
    "Let's first visualize the point clouds of Stanford bunny in meshcat!"
   ]
  },
  {
   "cell_type": "code",
   "execution_count": null,
   "id": "37abd444",
   "metadata": {
    "colab": {},
    "colab_type": "code",
    "id": "XtPLYaZhlDSJ"
   },
   "outputs": [],
   "source": [
    "visualize_point_clouds(bunny_w_plane, \"bunny_w_plane\")"
   ]
  },
  {
   "cell_type": "markdown",
   "id": "a13f1d07",
   "metadata": {
    "colab_type": "text",
    "id": "zF54ocy-lDSR"
   },
   "source": [
    "You should notice that now there is a planar surface underneath the bunny. You may assume the bunny is currently placed on a table, where the planar surface is the tabletop. In this exercise, your objective is to remove the planar surface."
   ]
  },
  {
   "cell_type": "markdown",
   "id": "fd9a5a5f",
   "metadata": {
    "colab_type": "text",
    "id": "ki2f7sxZlDSS"
   },
   "source": [
    "A straightforward way to achieve a better fit is to remove the planar surface underneath the bunny. To do so, we provide you a function to fit a planar surface.\n",
    "\n",
    "Recall that a plane equation is of the form\n",
    "$$a x + b y + c z + d = 0$$\n",
    "where $[a,b,c]^T$ is a vector normal to the plane and (if it's a unit normal) $d$ is the negative of the distance from the origin to the plane in the direction of the normal.  We'll represent a plane by the vector $[a,b,c,d]$.\n",
    "\n",
    "The fitted planes are shown as translucent disks of radius $r$ centered at the points. The gray lines represent the planes' normals."
   ]
  },
  {
   "cell_type": "code",
   "execution_count": null,
   "id": "71a56dac",
   "metadata": {
    "colab": {},
    "colab_type": "code",
    "id": "g2tMdp5PlDSS"
   },
   "outputs": [],
   "source": [
    "plane_equation = fit_plane(bunny_w_plane)\n",
    "print(plane_equation)\n",
    "visualize_plane(plane_equation, \"naive_plane\")"
   ]
  },
  {
   "cell_type": "markdown",
   "id": "da9fefa1",
   "metadata": {
    "colab_type": "text",
    "id": "HQs47D9SlDSX"
   },
   "source": [
    "You should notice that the planar surface cannot be fitted exactly either. This is because it takes account of all points in the scene to fit the plane. Since a significant portion of the point cloud belongs to the bunny, the fitted plane is noticeably elevated above the ground.\n",
    "\n",
    "To improve the result of the fitted plane, you will use RANSAC!"
   ]
  },
  {
   "cell_type": "markdown",
   "id": "c6471d11",
   "metadata": {
    "colab_type": "text",
    "id": "8VB5_NrqlDSX"
   },
   "source": [
    "## RANSAC\n",
    "With the presence of outliers (bunny), we can use RANSAC to get more reliable estimates. The idea is to fit a plane using many random choices of a minimal set of points (3), fit a plane for each one, count how many points are within a distance tolerance to that plane (the inliers), and return the estimate with the most inliers.\n",
    "\n",
    "**Complete the function `ransac`.  It takes a data matrix, a tolerance, a value of iterations, and a model regressor. It returns an equation constructed by the model regressor and a count of inliers.**"
   ]
  },
  {
   "cell_type": "code",
   "execution_count": null,
   "id": "6061c8c9",
   "metadata": {
    "colab": {},
    "colab_type": "code",
    "id": "8PZI0rU_lDSY"
   },
   "outputs": [],
   "source": [
    "def ransac(\n",
    "    point_cloud: np.ndarray,\n",
    "    model_fit_func: Callable,\n",
    "    rng: Generator,\n",
    "    tolerance: float = 1e-3,\n",
    "    max_iterations: int = 500,\n",
    ") -> tuple[int, np.ndarray | None]:\n",
    "    \"\"\"\n",
    "    Args:\n",
    "      point_cloud is (3, N) numpy array\n",
    "      tolerance is a float\n",
    "      rng is a random number generator\n",
    "      max_iterations is a (small) integer\n",
    "      model_fit_func: the function to fit the model (point clouds)\n",
    "\n",
    "    Returns:\n",
    "      (4,) numpy array\n",
    "    \"\"\"\n",
    "    best_ic = 0  # inlier count\n",
    "    best_model = np.ones(4)  # plane equation ((4,) array)\n",
    "\n",
    "    ##################\n",
    "    # your code here\n",
    "    ##################\n",
    "\n",
    "    return best_ic, best_model"
   ]
  },
  {
   "cell_type": "markdown",
   "id": "d98d4356",
   "metadata": {
    "colab_type": "text",
    "id": "ubTmMUnelDSi"
   },
   "source": [
    "Now you should have a lot better estimate of the planar surface with the use of RANSAC! Let's visualize the plane now!"
   ]
  },
  {
   "cell_type": "code",
   "execution_count": null,
   "id": "32815c41",
   "metadata": {
    "colab": {},
    "colab_type": "code",
    "id": "OST0NACZlDSi"
   },
   "outputs": [],
   "source": [
    "rng = np.random.default_rng(135)  # random number generator\n",
    "inlier_count, ransac_plane = ransac(bunny_w_plane, fit_plane, rng, 0.001, 500)\n",
    "print(ransac_plane)\n",
    "visualize_plane(ransac_plane, \"ransac_plane\", center=[0, 0, -ransac_plane[-1]])"
   ]
  },
  {
   "cell_type": "markdown",
   "id": "0062eae2",
   "metadata": {
    "colab_type": "text",
    "id": "IjB0y8hAlDSm"
   },
   "source": [
    "## Remove Planar Surface\n",
    "\n",
    "Now all you need to do is to remove the points that belong to the planar surface. You may do so by rejecting all points that are\n",
    "$$|| a x + b y + c z + d || < tol$$\n",
    "\n",
    "Note that since you are fitting a plane, the bunny is this case is the \"outlier\". Your job, however, is to keep the bunny and remove the planar surface.\n",
    "\n",
    "**Complete the function below to remove the points that belongs to the planar surface**."
   ]
  },
  {
   "cell_type": "code",
   "execution_count": null,
   "id": "5db68f35",
   "metadata": {
    "colab": {},
    "colab_type": "code",
    "id": "M7Bt0qYqlDSn"
   },
   "outputs": [],
   "source": [
    "def remove_plane(\n",
    "    point_cloud: np.ndarray, ransac: Callable, rng: Generator, tol: float = 1e-4\n",
    ") -> np.ndarray:\n",
    "    \"\"\"\n",
    "    Args:\n",
    "        point_cloud: 3xN numpy array of points\n",
    "        ransac: The RANSAC function to use (call ransac(args))\n",
    "        rng is a random number generator\n",
    "        tol: points less than this distance tolerance should be removed\n",
    "    Returns:\n",
    "        point_cloud_wo_plane: 3xN numpy array of points\n",
    "    \"\"\"\n",
    "    point_cloud_wo_plane = np.zeros((3, 100))\n",
    "    return point_cloud_wo_plane"
   ]
  },
  {
   "cell_type": "code",
   "execution_count": null,
   "id": "26a41c8c",
   "metadata": {
    "colab": {},
    "colab_type": "code",
    "id": "oizYYZ1KlDSw"
   },
   "outputs": [],
   "source": [
    "meshcat.Delete()\n",
    "rng = np.random.default_rng(135)  # random number generator\n",
    "bunny_wo_plane = remove_plane(bunny_w_plane, ransac, rng)\n",
    "visualize_point_clouds(bunny_wo_plane, \"bunny\")"
   ]
  },
  {
   "cell_type": "code",
   "execution_count": null,
   "id": "37ba9421",
   "metadata": {
    "colab": {},
    "colab_type": "code",
    "id": "xj5nAh4g8VQO"
   },
   "outputs": [],
   "source": [
    "# Use this to test your implementation if you want!\n",
    "Grader.grade_output([TestRANSAC], [locals()], \"results.json\")\n",
    "Grader.print_test_results(\"results.json\")"
   ]
  },
  {
   "cell_type": "markdown",
   "id": "1898debc",
   "metadata": {},
   "source": [
    "---\n",
    "\n",
    "# VERIFICATION IN GRADESCOPE \n",
    "\n",
    "**Prerequisites:** You must complete ALL the TODOs above before these verification exercises will work!\n",
    "\n",
    "**Instructions:** Implement the exercises below. Copy the exact numerical values (to 4 decimal places) for your verification keys, which you can copy/paste to Gradescope."
   ]
  },
  {
   "cell_type": "markdown",
   "id": "e52554b8",
   "metadata": {},
   "source": [
    "## Verification 1: RANSAC function\n",
    "\n",
    "**Task:** Compute the RANSAC algorithm result for the same bunny point cloud as defined above (`bunny_w_plane`), with\n",
    "- `rng = np.random.default_rng(120)` as random number generator\n",
    "- tolerance = 1e-2\n",
    "- max num of iterations = 200\n",
    "\n",
    "**Question:** For the condition above, run the RANSAC algorithm, what is the count of inliers and the parameter of the equation constructed by the model regressor?"
   ]
  },
  {
   "cell_type": "code",
   "execution_count": null,
   "id": "1a0b9b68",
   "metadata": {},
   "outputs": [],
   "source": [
    "rng = np.random.default_rng(120)  # random number generator\n",
    "ransac(bunny_w_plane, fit_plane, rng, 1e-2, 200)"
   ]
  },
  {
   "cell_type": "markdown",
   "id": "4f7d022c",
   "metadata": {},
   "source": [
    "## Verification 2: Remove Planar Surface function\n",
    "\n",
    "**Task:** Now still with the same bunny point cloud as defined above (`bunny_w_plane`), we want to remove points that belongs to the planar surface, with\n",
    "- `rng = np.random.default_rng(120)` as random number generator\n",
    "- distance tolerance = 2e-4 (points less than this distance tolerance should be removed)\n",
    "\n",
    "**Question:** For the condition above, how many points that belongs to the planar surface should be removed?"
   ]
  },
  {
   "cell_type": "code",
   "execution_count": null,
   "id": "ef33def7",
   "metadata": {},
   "outputs": [],
   "source": [
    "rng = np.random.default_rng(120)  # random number generator\n",
    "bunny_wo_plane2 = remove_plane(bunny_w_plane, ransac, rng, tol=2e-4)\n",
    "bunny_w_plane.shape[1] - bunny_wo_plane2.shape[1]"
   ]
  }
 ],
 "metadata": {
  "kernelspec": {
   "display_name": ".venv",
   "language": "python",
   "name": "python3"
  },
  "language_info": {
   "codemirror_mode": {
    "name": "ipython",
    "version": 3
   },
   "file_extension": ".py",
   "mimetype": "text/x-python",
   "name": "python",
   "nbconvert_exporter": "python",
   "pygments_lexer": "ipython3",
   "version": "3.13.7"
  }
 },
 "nbformat": 4,
 "nbformat_minor": 5
}