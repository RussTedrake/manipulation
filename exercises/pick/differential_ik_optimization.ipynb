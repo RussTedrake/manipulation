{
 "cells": [
  {
   "cell_type": "markdown",
   "metadata": {
    "colab_type": "text",
    "id": "1VDev4CDWBdP"
   },
   "source": [
    "## **Differential IK as Optimization**"
   ]
  },
  {
   "cell_type": "code",
   "execution_count": null,
   "metadata": {
    "colab": {},
    "colab_type": "code",
    "id": "tFMmTfbHWQfh"
   },
   "outputs": [],
   "source": [
    "import matplotlib.pyplot as plt\n",
    "import mpld3\n",
    "import numpy as np\n",
    "import pydot\n",
    "from IPython.display import HTML, SVG, display\n",
    "from manipulation import running_as_notebook, FindResource\n",
    "from manipulation.scenarios import MakeManipulationStation\n",
    "from pydrake.all import (BasicVector, ConstantVectorSource, DiagramBuilder,\n",
    "                         GenerateHtml, Integrator, JacobianWrtVariable,\n",
    "                         LeafSystem, MathematicalProgram, MeshcatVisualizer,\n",
    "                         Simulator, SnoptSolver, Solve, StartMeshcat, eq, ge,\n",
    "                         le)\n"
   ]
  },
  {
   "cell_type": "code",
   "execution_count": null,
   "metadata": {},
   "outputs": [],
   "source": [
    "# Start the visualizer.\n",
    "meshcat = StartMeshcat()"
   ]
  },
  {
   "cell_type": "markdown",
   "metadata": {
    "colab_type": "text",
    "id": "mcSz0hOVtBd5"
   },
   "source": [
    "## Problem Description\n",
    "In the lecture, we learned about how to view Differential inverse kinematics as an instance of optimization. In this exercise, we will actually define and solve these optimization problems!\n",
    "\n",
    "The goal of the exercise is to see if you can apply the optimization techniques we learned in class to design your own controller.\n",
    "\n",
    "**These are the main steps of the exercise:**\n",
    "1. Write down the JacobianPseudoinverse controller as an optimization-based framework with joint-velocity constraints. \n",
    "2. Design and implement a virtual wall for the manipulator through constraints in the end-effector space. "
   ]
  },
  {
   "cell_type": "markdown",
   "metadata": {
    "colab_type": "text",
    "id": "f6M3qJIHVQ-y"
   },
   "source": [
    "## The Differential IK System \n",
    "\n",
    "As we've seen in the lecture, a differential IK converts a desired end-effector velocity to joint velocities. From drake's system view of the world, how should we abstract this?\n",
    "\n",
    "It would be reasonable to make it a `LeafSystem`, where the input is `spatial velocity_desired`, and the output is `iiwa_velocity_commanded`. We might also need an input port of `iiwa_position_measured` since our Jacobian is a function of the joint angles, and `iiwa_velocity_esimated` in case we want to use that information. \n",
    "\n",
    "<img src=\"https://raw.githubusercontent.com/RussTedrake/manipulation/master/figures/exercises/diffik_system.png\" width=\"700\">\n",
    "\n",
    "Since we will be going through different implementations of DifferentialIK, let's set up a DifferentialIKSystem that accepts a function to compute joint velocities upon getting the Jacobian, desired spatial velocity, and other information from the robot."
   ]
  },
  {
   "cell_type": "markdown",
   "metadata": {
    "colab_type": "text",
    "id": "gfcK2R9WgnPe"
   },
   "source": [
    "We will also abstract all the Drake workings into a wrapper `BuildAndSimulate`, which constructs and connects the following systems:\n",
    "- `ManipulationStation`\n",
    "- `DifferentialIKSystem` \n",
    "- `ConstantVectorSource` for commanding desired velocity to controller.\n",
    "- `Integrator` to go from `iiwa_velocity` output of controller to `iiwa_position` input of `ManipulationStation`. \n",
    "\n",
    "The purpose of this function is to swap out different implementations of spatial-to-joint velocity mappings on the fly and simulate! \n"
   ]
  },
  {
   "cell_type": "code",
   "execution_count": null,
   "metadata": {
    "colab": {},
    "colab_type": "code",
    "id": "F24X_misbTFj"
   },
   "outputs": [],
   "source": [
    "class DifferentialIKSystem(LeafSystem):\n",
    "    \"\"\"Wrapper system for Differential IK. \n",
    "        @param plant MultibodyPlant of the simulated plant. \n",
    "        @param diffik_fun function object that handles diffik. Must have the signature \n",
    "               diffik_fun(J_G, V_G_desired, q_now, v_now, X_now)\n",
    "    \"\"\"\n",
    "    def __init__(self, plant, diffik_fun):\n",
    "        LeafSystem.__init__(self)\n",
    "        self._plant = plant\n",
    "        self._plant_context = plant.CreateDefaultContext()\n",
    "        self._iiwa = plant.GetModelInstanceByName(\"iiwa\")\n",
    "        self._G = plant.GetBodyByName(\"body\").body_frame()\n",
    "        self._W = plant.world_frame()\n",
    "        self._diffik_fun = diffik_fun\n",
    "\n",
    "        self.DeclareVectorInputPort(\"spatial_velocity\", BasicVector(6))\n",
    "        self.DeclareVectorInputPort(\"iiwa_position_measured\", BasicVector(7))\n",
    "        self.DeclareVectorInputPort(\"iiwa_velocity_measured\", BasicVector(7))\n",
    "        self.DeclareVectorOutputPort(\"iiwa_velocity_command\", BasicVector(7),\n",
    "                                     self.CalcOutput)\n",
    "\n",
    "    def CalcOutput(self, context, output):\n",
    "        V_G_desired = self.get_input_port(0).Eval(context)\n",
    "        q_now = self.get_input_port(1).Eval(context)\n",
    "        v_now = self.get_input_port(2).Eval(context)\n",
    "\n",
    "        self._plant.SetPositions(self._plant_context, self._iiwa, q_now)\n",
    "        J_G = self._plant.CalcJacobianSpatialVelocity(\n",
    "            self._plant_context, JacobianWrtVariable.kQDot,\n",
    "            self._G, [0,0,0], self._W, self._W)\n",
    "        J_G = J_G[:,0:7] # Ignore gripper terms\n",
    "\n",
    "        X_now = self._plant.CalcRelativeTransform(self._plant_context,\n",
    "                                                     self._W, self._G)\n",
    "        p_now = X_now.translation()\n",
    "\n",
    "        v = self._diffik_fun(J_G, V_G_desired, q_now, v_now, p_now)\n",
    "        output.SetFromVector(v)\n",
    "\n",
    "def BuildAndSimulate(diffik_fun, V_d, plot_system_diagram=False):\n",
    "    builder = DiagramBuilder()\n",
    "\n",
    "    station = builder.AddSystem(\n",
    "        MakeManipulationStation(\n",
    "            filename=FindResource(\"models/clutter.dmd.yaml\"), time_step=4e-3))\n",
    "    plant = station.GetSubsystemByName(\"plant\")\n",
    "\n",
    "    controller = builder.AddSystem(DifferentialIKSystem(plant, diffik_fun))\n",
    "    integrator = builder.AddSystem(Integrator(7))\n",
    "    desired_vel = builder.AddSystem(ConstantVectorSource(V_d))\n",
    "\n",
    "    builder.Connect(controller.get_output_port(),\n",
    "                    integrator.get_input_port())\n",
    "    builder.Connect(integrator.get_output_port(),\n",
    "                    station.GetInputPort(\"iiwa_position\"))\n",
    "    builder.Connect(station.GetOutputPort(\"iiwa_position_measured\"),\n",
    "                    controller.get_input_port(1))\n",
    "    builder.Connect(station.GetOutputPort(\"iiwa_velocity_estimated\"),\n",
    "                    controller.get_input_port(2))\n",
    "    builder.Connect(desired_vel.get_output_port(),\n",
    "                    controller.get_input_port(0))\n",
    "\n",
    "    visualizer = MeshcatVisualizer.AddToBuilder(builder,\n",
    "        station.GetOutputPort(\"query_object\"), meshcat)\n",
    "\n",
    "    diagram = builder.Build()\n",
    "    diagram.set_name(\"diagram\")\n",
    "    if (running_as_notebook and plot_system_diagram):\n",
    "        display(SVG(pydot.graph_from_dot_data(diagram.GetGraphvizString())[0].create_svg()))\n",
    "\n",
    "    simulator = Simulator(diagram)\n",
    "    context = simulator.get_mutable_context()\n",
    "    station_context = station.GetMyContextFromRoot(\n",
    "        context)\n",
    "    station.GetInputPort(\"iiwa_feedforward_torque\").FixValue(\n",
    "        station_context, np.zeros((7, 1)))\n",
    "    station.GetInputPort(\"wsg_position\").FixValue(station_context, [0.1])\n",
    "\n",
    "    integrator.set_integral_value(\n",
    "        integrator.GetMyMutableContextFromRoot(context),\n",
    "        plant.GetPositions(plant.GetMyContextFromRoot(context),\n",
    "                           plant.GetModelInstanceByName(\"iiwa\")))\n",
    "\n",
    "    simulator.set_target_realtime_rate(1.0)\n",
    "    simulator.AdvanceTo(0.01);\n",
    "\n",
    "    return simulator\n"
   ]
  },
  {
   "cell_type": "markdown",
   "metadata": {
    "colab_type": "text",
    "id": "1bRwOKRrrdQw"
   },
   "source": [
    "Let's just make sure we've got all the systems and connections right by hooking this up with out Baseclass controller `DifferentialIKBaseSystem` that outputs zero velocities, and looking at the diagram. \n",
    "\n",
    "For differential IK, we'll just set it up with a function that always outputs zeroes for now."
   ]
  },
  {
   "cell_type": "code",
   "execution_count": null,
   "metadata": {
    "colab": {},
    "colab_type": "code",
    "id": "Bd5544l6rhVI"
   },
   "outputs": [],
   "source": [
    "def DiffIK_Zero(J_G, V_G_desired, q_now, v_now, p_now):\n",
    "  return np.zeros(7)\n",
    "\n",
    "V_d = np.zeros(6)\n",
    "simulator = BuildAndSimulate(DiffIK_Zero, V_d, plot_system_diagram=True)"
   ]
  },
  {
   "cell_type": "markdown",
   "metadata": {
    "colab_type": "text",
    "id": "8we5cXEJs-jg"
   },
   "source": [
    "If you wait until the simulation is set up and advance the simulator by running the below cell, you should see that the manipulator just stays still since our base class keeps sending zero-velocity. "
   ]
  },
  {
   "cell_type": "code",
   "execution_count": null,
   "metadata": {
    "colab": {},
    "colab_type": "code",
    "id": "_-9A2-VltKPr"
   },
   "outputs": [],
   "source": [
    "simulator.AdvanceTo(5.0 if running_as_notebook else 0.1)"
   ]
  },
  {
   "cell_type": "markdown",
   "metadata": {
    "colab_type": "text",
    "id": "Y90FlVastwCq"
   },
   "source": [
    "## Differential IK through Inverse Jacobian\n",
    "\n",
    "That was some setup to get through the basic tools, but now we're onto the main part of the set! In class, we've seen that in order to map a desired spatial velocity $V^G$ to desired joint velocities, we can use the relation \n",
    "\n",
    "$$V^G = J^G(q) v$$\n",
    "\n",
    "and \"invert\" this with a Moore-Penrose pseudoinverse to achieve differential kinematics:\n",
    "\n",
    "$$v = [J^G(q)]^{+} V^{G}$$\n",
    "\n",
    "We can implement this controller fairly easily:"
   ]
  },
  {
   "cell_type": "code",
   "execution_count": null,
   "metadata": {
    "colab": {},
    "colab_type": "code",
    "id": "q6Ko4z4UZ-ZZ"
   },
   "outputs": [],
   "source": [
    "def DiffIKPseudoInverse(J_G, V_G_desired, q_now, v_now, p_now):\n",
    "  v = np.linalg.pinv(J_G).dot(V_G_desired)\n",
    "  return v"
   ]
  },
  {
   "cell_type": "markdown",
   "metadata": {
    "colab_type": "text",
    "id": "uT0E0rrwwVfV"
   },
   "source": [
    "Let's simulate this system forward. Run the cell below, and when the simulator is ready in Meshcat, advance the simulator in the second cell below. "
   ]
  },
  {
   "cell_type": "code",
   "execution_count": null,
   "metadata": {
    "colab": {},
    "colab_type": "code",
    "id": "6aVPMECDxmwm"
   },
   "outputs": [],
   "source": [
    "# Corresponds to [wx, wy, wz, vx, vy, vz]\n",
    "V_d = np.array([0., 0., 0., 0.1, 0.0, 0])\n",
    "simulator = BuildAndSimulate(DiffIKPseudoInverse, V_d)"
   ]
  },
  {
   "cell_type": "code",
   "execution_count": null,
   "metadata": {
    "colab": {},
    "colab_type": "code",
    "id": "N7XEJlnrx-cR"
   },
   "outputs": [],
   "source": [
    "simulator.AdvanceTo(7.0 if running_as_notebook else 0.1)"
   ]
  },
  {
   "cell_type": "markdown",
   "metadata": {
    "colab_type": "text",
    "id": "73VXtApc0fCO"
   },
   "source": [
    "Wow - what just happened? There are several things you should have noticed.\n",
    "- The robot did its job by going 0.1m/s in the x-direction (for anyone not familiar, there is a 'world-frame' axis colored by RGB. The usual convention is that RGB corresponds respectively to XYZ axii. Note that the robot is moving in the direction of the red axis as expected) \n",
    "- When the robot reached the end of its workspace, it freaked out, jerking unexpectedly.\n",
    "\n",
    "Imagine thinking the PseudoInverse method was a good idea, implementing the controller, then running this in a real robot - something might have gone badly wrong! "
   ]
  },
  {
   "cell_type": "markdown",
   "metadata": {
    "colab_type": "text",
    "id": "q7r1Fa3B2AWk"
   },
   "source": [
    "## Pseudoinverse as Optimization\n",
    "\n",
    "Even though the method got unreliable at the limits of the kinematic workspace (i.e. under kinematic singularities), it worked reasonably well. How do we keep the benefits of the original method while improving behavior near singularities?\n",
    "\n",
    "One idea presented in class is to stick to a certain **joint velocity limit**. This will at least prevent the manipulator from doing something crazy. \n",
    "\n",
    "**Now it's your turn to code!**\n",
    "\n",
    "In the language of optimization, the problem we are trying to solve will look like: \n",
    "\n",
    "$$\\begin{aligned} \\min_v \\quad & \\|\\mathbf{J}(q)v - V_d\\|^2_2 \\\\ \\textrm{s.t.} \\quad &  |v|\\leq v_{max} \\end{aligned}$$\n",
    "\n",
    "Below, you must transcribe and solve this optimization problem through `MathematicalProgram`. \n",
    "\n",
    "NOTE: The absolute value is taken element wise, so the last constraint is really saying \"for all $i$, make sure none of the elements of $|v[i]|$ exceed $v_{max}[i]$. Such constraints are also called Bounding Box constraints. \n",
    "\n",
    "HINT: We can't directly enter absolute values as a constraint in `MathematicalProgram`, but we can break down the absolute value constraint into two separate constraints. \n",
    "\n",
    "NOTE: If you're not familiar with how to write down mathematical program, make sure you do the `intro_to_qp` exercise on the textbook first. If you're still stuck, feel free to get more practice from [this notebook tutorial](https://mybinder.org/v2/gh/RobotLocomotion/drake/nightly-release-binder?filepath=tutorials/mathematical_program.ipynb), or look at the [`pydrake` documentation on `MathematicalProgram`](https://drake.mit.edu/pydrake/pydrake.solvers.mathematicalprogram.html). "
   ]
  },
  {
   "cell_type": "code",
   "execution_count": null,
   "metadata": {
    "colab": {},
    "colab_type": "code",
    "id": "4YKMRp3gDY0R"
   },
   "outputs": [],
   "source": [
    "def DiffIKQP(J_G, V_G_desired, q_now, v_now, p_now):\n",
    "\n",
    "  prog = MathematicalProgram()\n",
    "  v = prog.NewContinuousVariables(7, 'v')\n",
    "  v_max = 3.0 # do not modify \n",
    "\n",
    "  # Add cost and constraints to prog here.\n",
    "  \n",
    "  solver = SnoptSolver()\n",
    "  result = solver.Solve(prog)\n",
    "\n",
    "  if not (result.is_success()):\n",
    "    raise ValueError(\"Could not find the optimal solution.\")\n",
    "\n",
    "  v_solution = result.GetSolution(v)\n",
    "\n",
    "  return v_solution"
   ]
  },
  {
   "cell_type": "markdown",
   "metadata": {
    "colab_type": "text",
    "id": "QTplFYdQ-Gps"
   },
   "source": [
    "When you're ready to test out your new method, you can run the simulator to see what happens. Similar to last time, wait until everything loads on Meshcat and run the second cell below to simulate forward. "
   ]
  },
  {
   "cell_type": "code",
   "execution_count": null,
   "metadata": {
    "colab": {},
    "colab_type": "code",
    "id": "UD-ZLidi-Pul"
   },
   "outputs": [],
   "source": [
    "V_d = np.array([0., 0., 0., 0.1, 0., 0.]) # Feel free to play around with different V_desired\n",
    "simulator = BuildAndSimulate(DiffIKQP, V_d)"
   ]
  },
  {
   "cell_type": "code",
   "execution_count": null,
   "metadata": {
    "colab": {},
    "colab_type": "code",
    "id": "-uVQJfs6-cML"
   },
   "outputs": [],
   "source": [
    "simulator.AdvanceTo(7.0 if running_as_notebook else 0.1)"
   ]
  },
  {
   "cell_type": "markdown",
   "metadata": {
    "colab_type": "text",
    "id": "ZggOGhgPXFLj"
   },
   "source": [
    "When you have implemented things correctly, you should see we behave much better near singularities now, since we're constraining joint velocities. This is nice - even if the Jacobian becomes singular, we can guard against sudden jerky movements because we've put limits."
   ]
  },
  {
   "cell_type": "markdown",
   "metadata": {
    "colab_type": "text",
    "id": "ktjkAZmd5M4h"
   },
   "source": [
    "## An Virtual Wall in End-Effector Space\n",
    "\n",
    "In class, we saw that in addition to doing joint velocity constraints, we can also put constraints on **joint positions** and **accelerations** through first-order Euler finite difference. Given $v_{now}$ and $q_{now}$, we can find $v$ that satisfies the following program:\n",
    "\n",
    "$$\\begin{aligned} \\min_v \\quad & \\|\\mathbf{J}(q_{now})v - V_d\\|^2_2 \\\\ \\textrm{s.t.} \\quad &  |v|\\leq v_{max} \\\\  \\quad & q_{min} \\leq q_{now} + h v \\leq q_{max} \\\\ \\quad & a_{min} \\leq (v-v_{now})/h \\leq a_{max}\\end{aligned}$$\n",
    "\n",
    "All of these constraints are formulated in the joint-space. But could we also end up with a linear constraint if we try to impose a constraint in the end-effector space? \n",
    "\n",
    "**Now it's your time to code!**\n",
    "\n",
    "You must program a robot in a factory, but you would like to implement a virtual wall that the robot is not allowed to put its hand in, since you have limited space and a human will be working there, or there are some obstacles there. \n",
    "\n",
    "To do this, you decide to write an optimization-based controller that minimizes $\\|\\mathbf{J}(q_{now})v - V_d\\|_2^2$ and has two constraints:\n",
    "1. Joint velocity constraint $|v|\\leq v_{max}$\n",
    "2. A constraint that the **position** of the end-effector must be inside the following box:\n",
    "  - `lower_bound = [-0.3, -1.0, -1.0]`\n",
    "  - `upper_bound = [0.3, 1.0, 1.0]`\n",
    "\n",
    "You can access the current position of the robot by using `p_now` (found by running forward kinematics). \n",
    "\n",
    "HINT: We can similarly use first-order approximations to query what the next position will be given the current position and velocities in the end-effector space. "
   ]
  },
  {
   "cell_type": "code",
   "execution_count": null,
   "metadata": {
    "colab": {},
    "colab_type": "code",
    "id": "J3Eel-kEddGU"
   },
   "outputs": [],
   "source": [
    "def DiffIKQP_Wall(J_G, V_G_desired, q_now, v_now, p_now):\n",
    "      prog = MathematicalProgram()\n",
    "      v = prog.NewContinuousVariables(7, 'joint_velocities')\n",
    "      v_max = 3.0 # do not modify\n",
    "      h = 4e-3 # do not modify\n",
    "      lower_bound = np.array([-0.3, -1.0, -1.0]) # do not modify\n",
    "      upper_bound = np.array([0.3, 1.0, 1.0]) # do not modify\n",
    "\n",
    "      # Fill in your code here. \n",
    "\n",
    "      solver = SnoptSolver()\n",
    "      result = solver.Solve(prog)\n",
    "        \n",
    "      if not (result.is_success()):\n",
    "        raise ValueError(\"Could not find the optimal solution.\")\n",
    "\n",
    "      v_solution = result.GetSolution(v)\n",
    "      return v_solution"
   ]
  },
  {
   "cell_type": "code",
   "execution_count": null,
   "metadata": {
    "colab": {},
    "colab_type": "code",
    "id": "yl128hSMdGJW"
   },
   "outputs": [],
   "source": [
    "V_d = np.array([0.0, 0., 0., 0.1, 0.05, 0])\n",
    "simulator = BuildAndSimulate(DiffIKQP_Wall, V_d)"
   ]
  },
  {
   "cell_type": "code",
   "execution_count": null,
   "metadata": {
    "colab": {},
    "colab_type": "code",
    "id": "vtxXUrxvaC8w"
   },
   "outputs": [],
   "source": [
    "# Wait for the model to load in the visualizer, then run this cell to see the interesting part...\n",
    "simulator.AdvanceTo(7.0 if running_as_notebook else 0.1)"
   ]
  },
  {
   "cell_type": "markdown",
   "metadata": {
    "colab_type": "text",
    "id": "Gl0rgvvV6DjW"
   },
   "source": [
    "If you implemented this correctly, it will seem like the robot has a virtual wall that it cannot cross! \n"
   ]
  },
  {
   "cell_type": "markdown",
   "metadata": {
    "colab_type": "text",
    "id": "zPmeRLtJk410"
   },
   "source": [
    "## How will this notebook be Graded?##\n",
    "\n",
    "If you are enrolled in the class, this notebook will be graded using [Gradescope](www.gradescope.com). You should have gotten the enrollement code on our announcement in Piazza. \n",
    "\n",
    "For submission of this assignment, you must do as follows:. \n",
    "- Download and submit the notebook `differential_ik_optimization.ipynb` to Gradescope's notebook submission section, along with your notebook for the other problems.\n",
    "\n",
    "We will evaluate the local functions in the notebook to see if the function behaves as we have expected. For this exercise, the rubric is as follows:\n",
    "- [4 pts] `DiffIKQP` must be implemented correctly. \n",
    "- [6 pts] `DiffIKQP_Wall` must be implemented correctly. "
   ]
  },
  {
   "cell_type": "markdown",
   "metadata": {
    "colab_type": "text",
    "id": "RiIaH2YlTcmc"
   },
   "source": [
    "Below is our autograder where you can check the correctness of all your implementations. "
   ]
  },
  {
   "cell_type": "code",
   "execution_count": null,
   "metadata": {
    "colab": {},
    "colab_type": "code",
    "id": "ZXZateGeTlKX"
   },
   "outputs": [],
   "source": [
    "from manipulation.exercises.pick.test_differential_ik import TestDifferentialIK\n",
    "from manipulation.exercises.grader import Grader \n",
    "\n",
    "Grader.grade_output([TestDifferentialIK], [locals()], 'results.json')\n",
    "Grader.print_test_results('results.json')"
   ]
  }
 ],
 "metadata": {
  "celltoolbar": "Tags",
  "colab": {
   "collapsed_sections": [],
   "name": "differential_ik_optimization.ipynb",
   "provenance": []
  },
  "kernelspec": {
   "display_name": "Python 3",
   "language": "python",
   "name": "python3"
  },
  "language_info": {
   "codemirror_mode": {
    "name": "ipython",
    "version": 3
   },
   "file_extension": ".py",
   "mimetype": "text/x-python",
   "name": "python",
   "nbconvert_exporter": "python",
   "pygments_lexer": "ipython3",
   "version": "3.8.10"
  },
  "vscode": {
   "interpreter": {
    "hash": "b0fa6594d8f4cbf19f97940f81e996739fb7646882a419484c72d19e05852a7e"
   }
  }
 },
 "nbformat": 4,
 "nbformat_minor": 1
}