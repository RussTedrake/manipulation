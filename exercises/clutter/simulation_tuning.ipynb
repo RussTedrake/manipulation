{
 "cells": [
  {
   "cell_type": "code",
   "execution_count": null,
   "metadata": {
    "cell_id": "00001-a00535fe-716d-487c-ae39-d3fc9a9714e5",
    "deepnote_cell_height": 408.04998779296875,
    "deepnote_cell_type": "code",
    "deepnote_output_heights": [
     null,
     20
    ],
    "deepnote_to_be_reexecuted": false,
    "execution_millis": 1413,
    "execution_start": 1665697791579,
    "id": "opM0QN-CPwry",
    "source_hash": "6f0d79be"
   },
   "outputs": [],
   "source": [
    "import numpy as np\n",
    "\n",
    "from manipulation import running_as_notebook\n",
    "\n",
    "from pydrake.all import (\n",
    "    AddMultibodyPlantSceneGraph, Box, DiagramBuilder, ContactVisualizerParams,\n",
    "    LeafSystem, MeshcatVisualizer, ContactVisualizer, MeshcatVisualizerParams, \n",
    "    MultibodyPlant, FixedOffsetFrame, Role, AbstractValue, EventStatus,\n",
    "    PlanarJoint, ContactResults, BodyIndex, RigidTransform, RotationMatrix, \n",
    "    SceneGraph, JointSliders, Simulator, SpatialInertia, Sphere, UnitInertia, \n",
    "    StartMeshcat, CoulombFriction, RollPitchYaw\n",
    ")\n",
    "\n",
    "# Start the visualizer.\n",
    "meshcat = StartMeshcat()"
   ]
  },
  {
   "cell_type": "markdown",
   "metadata": {
    "cell_id": "d1ecc126-f4ff-4a01-95a4-644e1138b85c",
    "deepnote_cell_height": 69.26666259765625,
    "deepnote_cell_type": "markdown",
    "id": "l8Rm5122dy2R"
   },
   "source": [
    "## **Tuning MultibodyPlant for Contact Simulation**"
   ]
  },
  {
   "cell_type": "markdown",
   "metadata": {
    "cell_id": "00002-f029c1d2-78a1-481d-be3a-c471b90256fe",
    "deepnote_cell_height": 428.066650390625,
    "deepnote_cell_type": "markdown",
    "tags": []
   },
   "source": [
    "# Problem Description\n",
    "\n",
    "In earlier homework problems, you were given the simulation environment to start with. It is your turn to design and understand how simulation environment models the real world and is used in robotic software development (important topic!). In the lecture, we learned about contact modeling and what are the important parameters for a stable simulation. For this exercise, you will investigate the underlying simulation details and get prepared for your project. \n",
    "\n",
    "Evaluating simulation is sometimes more difficult than writing unit tests for software, in the sense that people often need empirical system-level inspections at the outputs of the simulation to judge the simulation quality. Drake is one of the simulators that has all sorts of closed-form solutions to multibody plant equations that it use as tests. In this exercise, we will learn both how to reproduce desired simulation output and pinpoint simulation issues, in a classic physics example of two blocks stacking on a slope.\n",
    "\n",
    "**These are the learning goals of this exercise:**\n",
    "1. Inspecting the contact forces of two interpenetrating boxes and capture the discontinuity of the contact forces. \n",
    "2. Learning to debug and engineer collision geometries.\n",
    "3. Reproduce the output of a feasible simulation by tuning parameters."
   ]
  },
  {
   "cell_type": "code",
   "execution_count": null,
   "metadata": {
    "cell_id": "00003-13e26566-a101-4299-8797-ea67db5c4450",
    "deepnote_cell_height": 201.26666259765625,
    "deepnote_cell_type": "code",
    "deepnote_to_be_reexecuted": false,
    "execution_millis": 1,
    "execution_start": 1665697792462,
    "source_hash": "58aad2ef",
    "tags": []
   },
   "outputs": [],
   "source": [
    "# initial state of the boxes and the slope\n",
    "slope  = 0.1 \n",
    "q1 = [0.0, 0.15, 0]  \n",
    "q2 = [0.0, 0.20, 0]  \n",
    "\n",
    "# box sizes\n",
    "box_size1 = [0.05, 0.05, 0.05]\n",
    "box_size2 = [0.05, 0.05, 0.05]"
   ]
  },
  {
   "cell_type": "code",
   "execution_count": null,
   "metadata": {
    "cell_id": "00004-c722c325-eae1-4033-b3f0-bd505778106c",
    "deepnote_cell_height": 525.2666625976562,
    "deepnote_cell_type": "code",
    "deepnote_to_be_reexecuted": false,
    "execution_millis": 39,
    "execution_start": 1665697792464,
    "source_hash": "5814eb27",
    "tags": []
   },
   "outputs": [],
   "source": [
    "##############################################\n",
    "### Don't change/remove! For visualization ###\n",
    "\n",
    "nonstack_pose1 = [[ 9.94885056e-01, -1.55900179e-02,  9.98031851e-02,  1.95741356e-02],\n",
    " [ 1.56650268e-02,  9.99877295e-01,  3.21017596e-05, -1.15839339e-04],\n",
    " [-9.97914393e-02,  1.53148200e-03,  9.95007198e-01,  5.83171660e-02],\n",
    " [ 0.00000000e+00,  0.00000000e+00,  0.00000000e+00,  1.00000000e+00]]\n",
    "\n",
    "nonstack_pose2 = [[-1.00114398e-01,  5.89905683e-03,  9.94958446e-01,  2.11092651e-01],\n",
    " [ 4.44194866e-04,  9.99982590e-01, -5.88414908e-03,  2.24353720e-03],\n",
    " [-9.94975834e-01, -1.47132606e-04, -1.00115275e-01,  3.89206165e-02],\n",
    " [ 0.00000000e+00,  0.00000000e+00,  0.00000000e+00,  1.00000000e+00]]\n",
    "\n",
    "\n",
    "stack_pose1 = [[ 9.94996362e-01, -3.77459725e-05,  9.99111553e-02,  2.64605688e-01],\n",
    " [ 3.79942503e-05,  9.99999999e-01, -5.82200282e-07, -1.13024604e-06],\n",
    " [-9.99111552e-02,  4.37533660e-06,  9.94996362e-01,  3.33522993e-02],\n",
    " [ 0.00000000e+00,  0.00000000e+00,  0.00000000e+00,  1.00000000e+00]]\n",
    "\n",
    "stack_pose2 = [[ 9.94996470e-01, -1.41453220e-05,  9.99100858e-02,  2.66676737e-01],\n",
    " [ 1.41925281e-05,  1.00000000e+00,  2.38281298e-07, -9.14267754e-07],\n",
    " [-9.99100858e-02,  1.18088765e-06,  9.94996470e-01,  5.22415534e-02],\n",
    " [ 0.00000000e+00,  0.00000000e+00,  0.00000000e+00,  1.00000000e+00]]\n",
    " \n",
    "##############################################\n",
    " "
   ]
  },
  {
   "cell_type": "code",
   "execution_count": null,
   "metadata": {
    "cell_id": "00005-4e28493c-4823-489d-a4cf-c658a7a6106c",
    "deepnote_cell_height": 620.2666625976562,
    "deepnote_cell_type": "code",
    "deepnote_to_be_reexecuted": false,
    "execution_millis": 0,
    "execution_start": 1665697792505,
    "source_hash": "a614cd26",
    "tags": []
   },
   "outputs": [],
   "source": [
    "class PrintContactResults(LeafSystem):\n",
    "    \"\"\" Helpers for printing contact results\n",
    "    \"\"\"\n",
    "    def __init__(self):\n",
    "        LeafSystem.__init__(self)\n",
    "        self.DeclareAbstractInputPort(\"contact_results\",\n",
    "                                      AbstractValue.Make(ContactResults()))\n",
    "        self.DeclareForcedPublishEvent(self.Publish)\n",
    "\n",
    "    def Publish(self, context):\n",
    "        formatter = {'float': lambda x: '{:5.2f}'.format(x)}\n",
    "        results = self.get_input_port().Eval(context)\n",
    "\n",
    "        clear_output(wait=True)\n",
    "        if results.num_point_pair_contacts()==0:\n",
    "            print(\"no contact\")\n",
    "        for i in range(results.num_point_pair_contacts()):\n",
    "            info = results.point_pair_contact_info(i)\n",
    "            pair = info.point_pair()\n",
    "            force_string = np.array2string(\n",
    "                info.contact_force(), formatter=formatter)\n",
    "            print(\n",
    "              f\"slip speed:{info.slip_speed():.4f}, \"\n",
    "              f\"depth:{pair.depth:.4f}, \"\n",
    "              f\"force:{force_string}\\n\")\n",
    "        return EventStatus.Succeeded()\n",
    "\n",
    "def AddGTBox(plant, visual_shape, name, pose, color=[.5, .5, .9, 1.0]):\n",
    "    instance = plant.AddModelInstance(name + \"gt\")\n",
    "    plant.RegisterVisualGeometry(plant.world_body(), RigidTransform(pose), visual_shape, name + \"gt\", color)\n",
    "     "
   ]
  },
  {
   "cell_type": "markdown",
   "metadata": {
    "cell_id": "00006-0edbfb3e-3980-4fc5-8602-057b0a52da4c",
    "deepnote_cell_height": 81.26666259765625,
    "deepnote_cell_type": "markdown",
    "tags": []
   },
   "source": [
    "# Inspect geometry and contact forces"
   ]
  },
  {
   "cell_type": "markdown",
   "metadata": {
    "cell_id": "00007-b9fd2fbe-a41b-469e-b0f0-15db16789343",
    "deepnote_cell_height": 96.46665954589844,
    "deepnote_cell_type": "markdown",
    "tags": []
   },
   "source": [
    "Remember in lecture we discuss how visual geometry is separated from collision geometry in scene graph. The first thing we will do is to set up the visual and collision geometry of the objects and have sanity check on their geometry, for instance, visualizing them and inspecting contact forces. "
   ]
  },
  {
   "cell_type": "code",
   "execution_count": null,
   "metadata": {
    "cell_id": "00008-f5cedb2c-4a92-441f-b51b-c4330f9766fa",
    "deepnote_cell_height": 368.26666259765625,
    "deepnote_cell_type": "code",
    "deepnote_to_be_reexecuted": false,
    "execution_millis": 2,
    "execution_start": 1665697792506,
    "source_hash": "de4e9b53",
    "tags": []
   },
   "outputs": [],
   "source": [
    "def AddBoxDifferentGeometry(plant, visual_shape, collision_shape, name, mass=1, mu=1, color=[.5, .5, .9, 1.0]):\n",
    "    instance = plant.AddModelInstance(name)\n",
    "    inertia = UnitInertia.SolidBox(visual_shape.width(), visual_shape.depth(),\n",
    "                                       visual_shape.height())\n",
    "     \n",
    "    body = plant.AddRigidBody(\n",
    "        name, instance,\n",
    "        SpatialInertia(mass=mass,\n",
    "                       p_PScm_E=np.array([0., 0., 0.]),\n",
    "                       G_SP_E=inertia))\n",
    "    if plant.geometry_source_is_registered():\n",
    "        \"\"\" register collision geometry\"\"\"       \n",
    "        plant.RegisterCollisionGeometry(body, RigidTransform(), collision_shape, name,\n",
    "                                        CoulombFriction(mu, mu))\n",
    "        \"\"\" register visual geometry\"\"\"\n",
    "        plant.RegisterVisualGeometry(body, RigidTransform(), visual_shape, name, color)\n",
    "    return "
   ]
  },
  {
   "cell_type": "code",
   "execution_count": null,
   "metadata": {
    "cell_id": "48c3d79f376a472686fe1bcb27fd13d5",
    "deepnote_cell_height": 1664.2666015625,
    "deepnote_cell_type": "code",
    "deepnote_to_be_reexecuted": false,
    "execution_millis": 17,
    "execution_start": 1665697792525,
    "source_hash": "391501b2",
    "tags": []
   },
   "outputs": [],
   "source": [
    "q1_teleop = [0.0, 0.15, 0]  \n",
    "q2_teleop = [0.0, 0.20, 0]  \n",
    "\n",
    "# box sizes\n",
    "box_size1_teleop = [0.05, 0.05, 0.05]\n",
    "box_size2_teleop = [0.05, 0.05, 0.05]\n",
    "\n",
    "def make_teleop_simulation(time_step, mass, mu, slope_size=[10,10,0.1], mu_g=0.1, interactive=True):\n",
    "    \"\"\"\n",
    "    a nice interface to inspect contact forces\n",
    "    YOUR CODE HERE\n",
    "    \"\"\"\n",
    "    builder = DiagramBuilder()\n",
    "    plant, scene_graph = AddMultibodyPlantSceneGraph(builder, time_step=0.01)\n",
    "    box = Box(*slope_size) \n",
    "    X_WBox = RigidTransform(RotationMatrix.MakeYRotation(slope), [0, 0, 0])\n",
    "    plant.RegisterCollisionGeometry(plant.world_body(), X_WBox, box, \"ground\",\n",
    "                                    CoulombFriction(mu_g, mu_g))\n",
    "    plant.RegisterVisualGeometry(plant.world_body(), X_WBox, box, \"ground\",\n",
    "                                    [.9, .9, .9, 1.0])\n",
    "\n",
    "    box_instance = AddBoxDifferentGeometry(plant, Box(*box_size1_teleop), Box([x*0.5 for x in box_size1_teleop]), \"box\", \n",
    "                        mass[0], mu[0], color=[0.8, 0, 0, 1.0])\n",
    "\n",
    "    frame = plant.AddFrame(\n",
    "        FixedOffsetFrame(\n",
    "            \"planar_joint_frame\", plant.world_frame(),\n",
    "            RigidTransform(RotationMatrix.MakeXRotation(np.pi / 2))))\n",
    "    plant.AddJoint(\n",
    "        PlanarJoint(\"box\",\n",
    "                    frame,\n",
    "                    plant.GetFrameByName(\"box\"),\n",
    "                    damping=[0, 0, 0]))\n",
    "\n",
    "    box_instance_2 = AddBoxDifferentGeometry(plant, Box(*box_size2_teleop), Box([x*0.5 for x in box_size2_teleop]), \"box_2\",\n",
    "                        mass[1], mu[1], color=[0, 0.8, 0, 1.0])\n",
    "    \n",
    "    frame_2 = plant.AddFrame(\n",
    "        FixedOffsetFrame(\n",
    "            \"planar_joint_frame_2\", plant.world_frame(),\n",
    "            RigidTransform(RotationMatrix.MakeXRotation(np.pi / 2))))\n",
    "    plant.AddJoint(\n",
    "        PlanarJoint(\"box_2\",\n",
    "                    frame_2,\n",
    "                    plant.GetFrameByName(\"box_2\"),\n",
    "                    damping=[0, 0, 0]))\n",
    "    plant.Finalize()\n",
    "\n",
    "    \"\"\" meshcat visualization \"\"\"\n",
    "    meshcat.Delete()\n",
    "    meshcat.DeleteAddedControls()\n",
    "    meshcat_param = MeshcatVisualizerParams()\n",
    "    \n",
    "    \"\"\" kProximity for collision geometry and kIllustration for visual geometry \"\"\"\n",
    "    meshcat_param.role = Role.kIllustration \n",
    "    visualizer = MeshcatVisualizer.AddToBuilder(\n",
    "        builder, scene_graph, meshcat, meshcat_param)\n",
    "    meshcat.Set2dRenderMode(xmin=-.2, xmax=.2, ymin=-.2, ymax=0.3)\n",
    "    print_contact_results = builder.AddSystem(PrintContactResults())\n",
    "    builder.Connect(plant.get_contact_results_output_port(),\n",
    "                    print_contact_results.get_input_port())\n",
    "\n",
    "    \"\"\" visualize contact force \"\"\"               \n",
    "    cparams = ContactVisualizerParams()\n",
    "    cparams.force_threshold = 1e-4\n",
    "    cparams.newtons_per_meter = 2\n",
    "    cparams.radius = 0.001\n",
    "    contact_visualizer = ContactVisualizer.AddToBuilder(\n",
    "        builder, plant, meshcat, cparams)   \n",
    "\n",
    "    \"\"\" add joint slider \"\"\"\n",
    "    default_interactive_timeout = None if running_as_notebook else 1.0\n",
    "    lower_limit = [-0.2, -0.2, -np.pi/2.0]\n",
    "    upper_limit = [0.2, 0.2, np.pi/2.0]\n",
    "    lower_limit += lower_limit\n",
    "    upper_limit += upper_limit    \n",
    "    sliders = builder.AddSystem(\n",
    "        JointSliders(meshcat,\n",
    "                        plant,\n",
    "                        initial_value=q1_teleop+q2_teleop,\n",
    "                        lower_limit=lower_limit,\n",
    "                        upper_limit=upper_limit,\n",
    "                        step=0.001))\n",
    "             \n",
    "    diagram = builder.Build()\n",
    "    if running_as_notebook and interactive:\n",
    "        sliders.Run(diagram, default_interactive_timeout)\n",
    "        meshcat.DeleteAddedControls() \n",
    "    return plant, diagram"
   ]
  },
  {
   "cell_type": "markdown",
   "metadata": {
    "cell_id": "00010-fada76b6-d5a1-41ed-92b5-0b40381a348e",
    "deepnote_cell_height": 118.86666870117188,
    "deepnote_cell_type": "markdown",
    "tags": []
   },
   "source": [
    "(2pt) a. Try running the teleop simulation and try to make two boxes collide. Is there contact forces between the box when two boxes just touch each other? Actually, your evil TA leave a small bug in one line in `make_teleop_simulation` that causes geometry mismatch and we should fix it! HINT: Visualize the collision geometry by setting `meshcat_param.role = Role.kProximity`. You can use Stop_JointSliders in the meshcat to terminate the simulation block."
   ]
  },
  {
   "cell_type": "code",
   "execution_count": null,
   "metadata": {
    "cell_id": "00011-796a6509-273e-432d-91b9-00df2428536c",
    "deepnote_cell_height": 105.26666259765625,
    "deepnote_cell_type": "code",
    "deepnote_to_be_reexecuted": false,
    "execution_millis": 6337,
    "execution_start": 1665697792634,
    "source_hash": "f9d05dae",
    "tags": []
   },
   "outputs": [],
   "source": [
    "plant_a, diagram_a = make_teleop_simulation(0.01, (0.1, 0.1), (0.1, 0.1))"
   ]
  },
  {
   "cell_type": "markdown",
   "metadata": {
    "cell_id": "00013-75aeb813-ea49-4baa-9117-4087a5a47f36",
    "deepnote_cell_height": 231.6999969482422,
    "deepnote_cell_type": "markdown",
    "tags": []
   },
   "source": [
    "(2pt) b. Change parameters in the function `set_block_2d_poses` such that there is an instantaneous change of contact forces in your visualization. You will need to find two sets of values for the block 2D pose that are very close to each other but cause a discontinuous jump in the contact force. Recall the point contact discussion the [lecture](https://youtu.be/N19SU7vgX7c?t=4550). \n",
    "\n",
    "Hints:\n",
    "- Use the meshcat sliders and the contact force visualizer to find (x, y, theta) values for both blocks.\n",
    "- Find one set of values that causes a contact force in one direction, and a nearby set of values that causes a contact force in a very different direction. Note that there is just one contact between the [surfaces](https://drake.mit.edu/doxygen_cxx/group__contact__engineering.html)."
   ]
  },
  {
   "cell_type": "code",
   "execution_count": null,
   "metadata": {
    "cell_id": "00014-1c2f9e1b-e605-44fe-a251-6a60c1617e54",
    "deepnote_cell_height": 255.26666259765625,
    "deepnote_cell_type": "code",
    "deepnote_to_be_reexecuted": true,
    "execution_millis": 12,
    "execution_start": 1665697130882,
    "source_hash": "e1cc831a",
    "tags": []
   },
   "outputs": [],
   "source": [
    "def set_block_2d_poses():\n",
    "    \"\"\"\n",
    "    fill the 2D pose of the blocks that causes a discontinuous force change\n",
    "    YOUR CODE HERE\n",
    "    \"\"\"\n",
    "    box1_pos1 = [0., 0.12, 0.]\n",
    "    box2_pos1 = [0., 0.2, 0.]\n",
    "    \n",
    "    box1_pos2 = [0., 0.13, 0.]\n",
    "    box2_pos2 = [0., 0.2, 0.]\n",
    "    return box1_pos1, box2_pos1, box1_pos2, box2_pos2"
   ]
  },
  {
   "cell_type": "markdown",
   "metadata": {
    "cell_id": "00015-37133919-d71a-4d48-b6ab-a99649d53f3b",
    "deepnote_cell_height": 164.46665954589844,
    "deepnote_cell_type": "markdown",
    "tags": []
   },
   "source": [
    "#  Set up your MultibodyPlant\n",
    "In practice, you often have a simulation engine that is doing its job and an intuition on what the simulation outcomes would be. However, to make the simulation performant, you often need to set the right physics parameters, e.g. mass and frictions, in addition to have a correct geometry. Run the code below to set up the simulation testing code."
   ]
  },
  {
   "cell_type": "code",
   "execution_count": null,
   "metadata": {
    "cell_id": "00016-a24fede7-7dde-491f-b54f-19ab3ccd9615",
    "deepnote_cell_height": 201.26666259765625,
    "deepnote_cell_type": "code",
    "deepnote_to_be_reexecuted": true,
    "execution_millis": 12,
    "execution_start": 1665697130901,
    "source_hash": "dcbfe058",
    "tags": []
   },
   "outputs": [],
   "source": [
    "# use a new set of hyperparameters for the remaining sections\n",
    "slope  = 0.1\n",
    "q1 = [0.0, 0,  0.15]  \n",
    "q2 = [0.0, 0,  0.20]  \n",
    "\n",
    "# box sizes\n",
    "box_size1 = [0.02, 0.02, 0.02]\n",
    "box_size2 = [0.02, 0.02, 0.02]"
   ]
  },
  {
   "cell_type": "code",
   "execution_count": null,
   "metadata": {
    "cell_id": "00017-9f7112c0-f631-4b15-a4e4-6703ce1afee9",
    "deepnote_cell_height": 345.26666259765625,
    "deepnote_cell_type": "code",
    "deepnote_to_be_reexecuted": true,
    "execution_millis": 56,
    "execution_start": 1665697130914,
    "source_hash": "a13067b",
    "tags": []
   },
   "outputs": [],
   "source": [
    "def AddBox(plant, shape, name, mass=1, mu=1, color=[.5, .5, .9, 1.0]):\n",
    "    instance = plant.AddModelInstance(name)\n",
    "    inertia = UnitInertia.SolidBox(shape.width(), shape.depth(),\n",
    "                                       shape.height())\n",
    "     \n",
    "    body = plant.AddRigidBody(\n",
    "        name, instance,\n",
    "        SpatialInertia(mass=mass,\n",
    "                       p_PScm_E=np.array([0., 0., 0.]),\n",
    "                       G_SP_E=inertia))\n",
    "    if plant.geometry_source_is_registered():\n",
    "        plant.RegisterCollisionGeometry(body, RigidTransform(), shape, name,\n",
    "                                        CoulombFriction(mu, mu))\n",
    "        plant.RegisterVisualGeometry(body, RigidTransform(), shape, name, color)\n",
    "    return \n"
   ]
  },
  {
   "cell_type": "code",
   "execution_count": null,
   "metadata": {
    "cell_id": "00018-9438cff7-7e3e-45a4-af3d-b2ed74b15fec",
    "deepnote_cell_height": 1466.2666015625,
    "deepnote_cell_type": "code",
    "deepnote_to_be_reexecuted": true,
    "execution_millis": 0,
    "execution_start": 1665697130970,
    "source_hash": "c7781bb0",
    "tags": []
   },
   "outputs": [],
   "source": [
    "class SimulationMaker:\n",
    "    def __init__(self, add_box_func=None):\n",
    "        self.add_box_func = add_box_func\n",
    "\n",
    "    def set_add_box_func(self, add_box_func):\n",
    "        self.add_box_func = add_box_func\n",
    "\n",
    "    def make_simulation(self, time_step, mass, mu, slope_size=[10,10,0.1], mu_g=0.1, \n",
    "                    simulation_time=1., vis_contact_force=False):\n",
    "        assert self.add_box_func is not None, 'Must set our self.add_box_func! Please call self.set_add_box_func with a user-defined function'\n",
    "        builder = DiagramBuilder()\n",
    "        plant, scene_graph = AddMultibodyPlantSceneGraph(builder, time_step=time_step)\n",
    "        box = Box(*slope_size)\n",
    "        X_WBox = RigidTransform(RotationMatrix.MakeYRotation(slope), [0, 0, 0]) # -5.05\n",
    "        plant.RegisterCollisionGeometry(plant.world_body(), X_WBox, box, \"ground\",\n",
    "                                        CoulombFriction(mu_g, mu_g))\n",
    "        plant.RegisterVisualGeometry(plant.world_body(), X_WBox, box, \"ground\",\n",
    "                                        [.9, .9, .9, 1.0])\n",
    "        box_instance = self.add_box_func(plant, Box(*box_size1), \"box\", mass[0], mu[0], color=[0.8, 0, 0, 1.0])\n",
    "        box_instance_2 = self.add_box_func(plant, Box(*box_size2), \"box_2\", mass[1], mu[1], color=[0, 0.8, 0, 1.0])\n",
    "        nonstacking = (simulation_time == 1)\n",
    "        if nonstacking:\n",
    "            AddGTBox(plant, Box(*box_size1), \"box\", pose=nonstack_pose1, color=[0.8, 0, 0, 0.3] )\n",
    "            AddGTBox(plant, Box(*box_size1), \"box_2\", pose=nonstack_pose2, color=[0, 0.8, 0, 0.3] )\n",
    "        else:\n",
    "            AddGTBox(plant, Box(*box_size1), \"box\", pose=stack_pose1, color=[0.8, 0, 0, 0.3] )\n",
    "            AddGTBox(plant, Box(*box_size1), \"box_2\", pose=stack_pose2, color=[0, 0.8, 0, 0.3] )\n",
    "\n",
    "        # build the plant and meshcat\n",
    "        plant.Finalize()\n",
    "        meshcat.Delete()\n",
    "        meshcat.DeleteAddedControls()\n",
    "        meshcat_param = MeshcatVisualizerParams()\n",
    "\n",
    "        \"\"\" kProximity for collision geometry and kIllustration for visual geometry \"\"\"\n",
    "        meshcat_param.role = Role.kIllustration \n",
    "        visualizer = MeshcatVisualizer.AddToBuilder(\n",
    "            builder, scene_graph, meshcat, meshcat_param)\n",
    "\n",
    "        meshcat.Set2dRenderMode(xmin=-.2, xmax=.2, ymin=-.2, ymax=0.3)\n",
    "        print_contact_results = builder.AddSystem(PrintContactResults())\n",
    "        builder.Connect(plant.get_contact_results_output_port(),\n",
    "                        print_contact_results.get_input_port())\n",
    "\n",
    "        if vis_contact_force:\n",
    "            \"\"\" visualize contact force \"\"\"               \n",
    "            cparams = ContactVisualizerParams()\n",
    "            cparams.force_threshold = 1e-4\n",
    "            cparams.newtons_per_meter = 2\n",
    "            cparams.radius = 0.001\n",
    "            contact_visualizer = ContactVisualizer.AddToBuilder(\n",
    "                builder, plant, meshcat, cparams)  \n",
    "            meshcat.SetRealtimeRate(0.01) \n",
    "\n",
    "        # initialize simulation\n",
    "        diagram = builder.Build()\n",
    "        simulator = Simulator(diagram)\n",
    "        if  nonstacking: \n",
    "            simulator.set_target_realtime_rate(.5)  # slow motion!\n",
    "        else:\n",
    "            simulator.set_target_realtime_rate(3)  # fast motion!\n",
    "\n",
    "        tf1 = RigidTransform(RollPitchYaw(0, 0, 0), q1)\n",
    "        tf2 = RigidTransform(RollPitchYaw(0, 0, 0), q2)     \n",
    "        context = simulator.get_context()\n",
    "        plant_context = diagram.GetSubsystemContext(plant, context)\n",
    "        plant.SetFreeBodyPose(plant_context, plant.get_body(BodyIndex(1)), tf1)\n",
    "        plant.SetFreeBodyPose(plant_context, plant.get_body(BodyIndex(2)), tf2)\n",
    "\n",
    "        # simulate and visualize\n",
    "        visualizer.StartRecording()\n",
    "        simulator.AdvanceTo(simulation_time)\n",
    "\n",
    "        visualizer.StopRecording()\n",
    "        visualizer.PublishRecording()\n",
    "        return simulator, diagram\n",
    "\n",
    "sim_maker = SimulationMaker(AddBox)"
   ]
  },
  {
   "cell_type": "markdown",
   "metadata": {
    "cell_id": "00019-5b12a63b-233d-4bd4-97af-6a1ec72de0c2",
    "deepnote_cell_height": 177.6666717529297,
    "deepnote_cell_type": "markdown",
    "id": "_4KTk534ex9e"
   },
   "source": [
    "(2pt) c. Run the code block below. We notice that the green block is falling below the red block as well as the thin slope. Why? Anwer in your written submission.\n",
    "\n",
    "(2pt) d. One way to mitigate this issue is to make the slope thicker. But a more common approach to improve the simulation quality is tuning the timesteps. Try tuning the timestep and the mass in `set_parameter_d` such that the both block falls on (but not inside) the slope. Note that if the simulation advances too fast, you can pause and reset simulation to check the initial state. Write your answer in written submission."
   ]
  },
  {
   "cell_type": "code",
   "execution_count": null,
   "metadata": {
    "cell_id": "9ea215398a614ae18f978de029b49093",
    "deepnote_cell_height": 255.26666259765625,
    "deepnote_cell_type": "code",
    "deepnote_to_be_reexecuted": true,
    "execution_millis": 1968,
    "execution_start": 1665697130970,
    "source_hash": "e051ad6f",
    "tags": []
   },
   "outputs": [],
   "source": [
    "def set_parameter_d():\n",
    "    \"\"\"\n",
    "    fill your choice of parameters here to make the box \n",
    "    not fall under the slope\n",
    "    YOUR CODE HERE\n",
    "    \"\"\"\n",
    "    time_step = 0.1\n",
    "    mass1, mass2 = 0.01, 5\n",
    "    return time_step, (mass1, mass2), (0.1, 0.1)\n",
    "\n",
    "simulator_d, diagram_d = sim_maker.make_simulation(*set_parameter_d())"
   ]
  },
  {
   "cell_type": "markdown",
   "metadata": {
    "cell_id": "00021-453e9ba1-ad16-4c1a-9ea9-7c10123e0838",
    "deepnote_cell_height": 335.26666259765625,
    "deepnote_cell_type": "markdown",
    "tags": []
   },
   "source": [
    "# Improve contact geometry\n",
    "\n",
    "Contact geometry, especially for complex meshes, plays an important role for your manipulation simulation to accurately model the real world (or even just remain stable). In your project, you might find this [package](https://github.com/gizatt/convex_decomp_to_sdf) useful for generating convex decomposition of complex mesh. \n",
    "\n",
    "(4pt) e. When it is not falling below the slope (with timestep 0.001), you might observe an unexpected out-of-plane rotation of the box on the slope.  In lectures and the exercise above, we discuss that simulation quality depends on the geometry. Although a more general approach for contact dynamics simulation is often prefered, such as [hydroelastic](https://drake.mit.edu/doxygen_cxx/group__hydroelastic__user__guide.html), we consider a simple \"hacky\" way to make the simulation of box on the slope more [accurate](https://drake.mit.edu/doxygen_cxx/group__contact__engineering.html). We will make the box to be of smaller size ($1e-7$ m at each dimension) and adding a small `Sphere(radius=1e-7)` around the 8 corners of the box. Please re-implement the function `AddBox` below and make the blocks do not rotate out-of-plane. Note that you can set `vis_contact_force=True` in `set_simulation` to visualize the contact force. "
   ]
  },
  {
   "cell_type": "code",
   "execution_count": null,
   "metadata": {
    "cell_id": "a5c54dfaa34145aba39e22b9e0f40346",
    "deepnote_cell_height": 543.2666625976562,
    "deepnote_cell_type": "code",
    "deepnote_to_be_reexecuted": true,
    "execution_millis": 5,
    "execution_start": 1665697134968,
    "source_hash": "53a5d617",
    "tags": []
   },
   "outputs": [],
   "source": [
    "def AddBox(plant, shape, name, mass=1, mu=1, color=[.5, .5, .9, 1.0]):\n",
    "    instance = plant.AddModelInstance(name)\n",
    "    inertia = UnitInertia.SolidBox(shape.width(), shape.depth(),\n",
    "                                       shape.height())\n",
    "     \n",
    "    body = plant.AddRigidBody(\n",
    "        name, instance,\n",
    "        SpatialInertia(mass=mass,\n",
    "                       p_PScm_E=np.array([0., 0., 0.]),\n",
    "                       G_SP_E=inertia))\n",
    "    if plant.geometry_source_is_registered():\n",
    "        #######################################\n",
    "        \"\"\" \n",
    "        replace the line below and reimplement your code for collsion geometry here \n",
    "        step 1: make a smaller box\n",
    "        step 2: put small spheres at each of the corners\n",
    "        \"\"\"\n",
    "        plant.RegisterCollisionGeometry(body, RigidTransform(), shape, name,\n",
    "                                        CoulombFriction(mu, mu))        \n",
    "        plant.RegisterVisualGeometry(body, RigidTransform(), shape, name, color)\n",
    "    return \n",
    "\n",
    "### Don't remove ###\n",
    "\n",
    "sim_maker.set_add_box_func(AddBox)\n",
    "\n",
    "####################"
   ]
  },
  {
   "cell_type": "code",
   "execution_count": null,
   "metadata": {
    "cell_id": "00023-b6f28470-27f0-42b1-8012-4f53d3ffa863",
    "deepnote_cell_height": 75.26666259765625,
    "deepnote_cell_type": "code",
    "deepnote_to_be_reexecuted": true,
    "execution_millis": 8,
    "execution_start": 1665697137017,
    "source_hash": "d5a76359",
    "tags": []
   },
   "outputs": [],
   "source": [
    "simulator_e, diagram_e = sim_maker.make_simulation(0.001, (1, 1), (0.1, 0.1)) # parameters for grading"
   ]
  },
  {
   "cell_type": "markdown",
   "metadata": {
    "cell_id": "00024-9034edd5-5e1f-4e43-9ab2-9b23b456bcde",
    "deepnote_cell_height": 318.066650390625,
    "deepnote_cell_type": "markdown",
    "tags": []
   },
   "source": [
    "(2pt) f. Finally, try to reproduce the image of the groundtruth simulation at time T=1.0 by tuning the friction parameters and the masses of the boxes in `set_parameter_f`  \n",
    "\n",
    "<img src=\"https://raw.githubusercontent.com/anthonysimeonov/manipulation/master/figures/exercises/sim_tuning_final_state1.gif\" width=\"700\"> "
   ]
  },
  {
   "cell_type": "code",
   "execution_count": null,
   "metadata": {
    "cell_id": "425002d5f8e04ed2a61a6c28c37e6bc7",
    "deepnote_cell_height": 255.26666259765625,
    "deepnote_cell_type": "code",
    "deepnote_to_be_reexecuted": true,
    "execution_millis": 1979,
    "execution_start": 1665697137065,
    "source_hash": "523447de",
    "tags": []
   },
   "outputs": [],
   "source": [
    "q1 = [0.0, 0,  0.065]  \n",
    "q2 = [0.0, 0,  0.087]\n",
    "def set_parameter_f():\n",
    "    \"\"\"\n",
    "    fill your choice of parameters here to match the gif above\n",
    "    YOUR CODE HERE\n",
    "    \"\"\"\n",
    "    mass1, mass2 = 0.01, 5\n",
    "    mu1, mu2     = 0., 1\n",
    "    return 0.001, (mass1, mass2), (mu1, mu2)\n",
    "simulator_f, diagram_f = sim_maker.make_simulation(*set_parameter_f())"
   ]
  },
  {
   "cell_type": "markdown",
   "metadata": {
    "cell_id": "00026-5744237e-0606-41ec-94ef-789475c2d982",
    "deepnote_cell_height": 663.2666625976562,
    "deepnote_cell_type": "markdown",
    "tags": []
   },
   "source": [
    "# Stacking blocks\n",
    "(3pt) g. Define the slope angle as $p$ and the friction between all surfaces is $\\mu$. Assume that two boxes are on top of each other on the slope, what constraint needs to be on the friction parameter $\\mu$ such that the top block is sticking (no relative velocity) and the bottom block is sliding at the constant speed, does it depend on the mass of the blocks? Draw out the free-body [diagram](https://youtu.be/N19SU7vgX7c?t=3394). Write your answer in written submission.\n",
    "\n",
    "(3pt) h. Try to reproduce the goal image in simulation below at time step 1.0 by changing the parameters in `set_parameter_h`. \n",
    "\n",
    "<img src=\"https://raw.githubusercontent.com/anthonysimeonov/manipulation/master/figures/exercises/sim_tuning_final_state2.gif\" width=\"700\"> "
   ]
  },
  {
   "cell_type": "code",
   "execution_count": null,
   "metadata": {
    "cell_id": "4ebbf0e30d494b5886d0709155bec3f9",
    "deepnote_cell_height": 345.26666259765625,
    "deepnote_cell_type": "code",
    "deepnote_to_be_reexecuted": true,
    "execution_millis": 1697,
    "execution_start": 1665697141066,
    "source_hash": "3b06269c",
    "tags": []
   },
   "outputs": [],
   "source": [
    "q1 = [0.0, 0,  0.065]  \n",
    "q2 = [0.0, 0,  0.087] \n",
    "\n",
    "def set_parameter_h():\n",
    "    \"\"\"\n",
    "    fill your choice of parameters here to make the blocks stack and move as above\n",
    "    YOUR CODE HERE\n",
    "    \"\"\"\n",
    "    time_step = 0.1 \n",
    "    mass1, mass2 = 0.1, 5\n",
    "    mu1, mu2     = 0.4, 1 \n",
    "    return time_step, (mass1, mass2), (mu1, mu2)\n",
    "\n",
    "# you might have to make simulator timestep really small, and it would still be sliding. Why?\n",
    "# Check the last section here https://drake.mit.edu/doxygen_cxx/group__contact__engineering.html\n",
    "simulator_h, diagram_h = sim_maker.make_simulation(*set_parameter_h(), simulation_time=5.)"
   ]
  },
  {
   "cell_type": "markdown",
   "metadata": {
    "cell_id": "00028-02a2f40b-4f60-41f6-981a-41c544fc214f",
    "deepnote_cell_height": 540.8333129882812,
    "deepnote_cell_type": "markdown",
    "id": "MwE8yNg58VQN"
   },
   "source": [
    "## How will this notebook be Graded?\n",
    "\n",
    "If you are enrolled in the class, this notebook will be graded using [Gradescope](www.gradescope.com). You should have gotten the enrollement code on our announcement in Piazza. \n",
    "\n",
    "For submission of this assignment, you must do two things. \n",
    "- Download and submit the notebook `simulation_tuning.ipynb` to Gradescope's notebook submission section, along with your notebook for the other problems.\n",
    "- Write down your answers to 5.6 to a separately pdf file and submit it to Gradescope's written submission section. \n",
    "\n",
    "We will evaluate the local functions in the notebook to see if the function behaves as we have expected. For this exercise, the rubric is as follows:\n",
    "- [2 pts] 5.6.a the bug in `make_teleop_simulation` is fixed correctly.\n",
    "- [2 pts] 5.6.b `set_block_2d_poses` is implemented correctly.\n",
    "- [2 pts] 5.6.c the reason for block falling is answered correctly and attached to written solution. \n",
    "- [2 pts] 5.6.d `set_parameter_d` is implemented correctly. \n",
    "- [4 pts] 5.6.e `AddBox` is implemented correctly. \n",
    "- [2 pts] 5.6.f `set_parameter_f` is implemented correctly.\n",
    "- [3 pts] 5.6.g  the analysis is answered correctly.\n",
    "- [3 pts] 5.6.h `set_parameter_h` is implemented correctly."
   ]
  },
  {
   "cell_type": "code",
   "execution_count": null,
   "metadata": {
    "cell_id": "00029-963d5131-c568-408e-93b9-c630bc6474f2",
    "deepnote_cell_height": 254.53334045410156,
    "deepnote_cell_type": "code",
    "deepnote_to_be_reexecuted": true,
    "execution_millis": 825,
    "execution_start": 1665697197682,
    "id": "xj5nAh4g8VQO",
    "source_hash": "9571c437"
   },
   "outputs": [],
   "source": [
    "from manipulation.exercises.clutter.test_simulation_tuning import TestSimulationTuning\n",
    "from manipulation.exercises.grader import Grader \n",
    "\n",
    "Grader.grade_output([TestSimulationTuning], [locals()], 'results.json')\n",
    "Grader.print_test_results('results.json')"
   ]
  }
 ],
 "metadata": {
  "celltoolbar": "Tags",
  "colab": {
   "collapsed_sections": [],
   "name": "analytic_antipodal_grasps.ipynb",
   "provenance": []
  },
  "deepnote": {},
  "deepnote_execution_queue": [
   {
    "cellId": "00011-796a6509-273e-432d-91b9-00df2428536c",
    "msgId": "1eed1b67-4ee0-4d28-a4fe-9c034885e64a",
    "sessionId": "3672865d-4588-445f-9770-f1de5b6fab18"
   },
   {
    "cellId": "00014-1c2f9e1b-e605-44fe-a251-6a60c1617e54",
    "msgId": "f919ab91-d74a-4710-8e4e-c8309d163b82",
    "sessionId": "3672865d-4588-445f-9770-f1de5b6fab18"
   },
   {
    "cellId": "aaca56bb2788409eb0d6326a5c7c93ae",
    "msgId": "2eca61db-3ccc-411b-94f7-a5ff99cc20bc",
    "sessionId": "3672865d-4588-445f-9770-f1de5b6fab18"
   },
   {
    "cellId": "00016-a24fede7-7dde-491f-b54f-19ab3ccd9615",
    "msgId": "58d7d8fe-6957-4a8d-9a65-e9462fca5aaa",
    "sessionId": "3672865d-4588-445f-9770-f1de5b6fab18"
   },
   {
    "cellId": "00017-9f7112c0-f631-4b15-a4e4-6703ce1afee9",
    "msgId": "bdb930e3-ebda-4590-aa38-4eb217485d25",
    "sessionId": "3672865d-4588-445f-9770-f1de5b6fab18"
   },
   {
    "cellId": "00018-9438cff7-7e3e-45a4-af3d-b2ed74b15fec",
    "msgId": "f48b6f27-3e76-4ad3-aed6-2a5aacbe2143",
    "sessionId": "3672865d-4588-445f-9770-f1de5b6fab18"
   },
   {
    "cellId": "9ea215398a614ae18f978de029b49093",
    "msgId": "d7c85bd2-93b0-429d-b39a-ad4455f4de16",
    "sessionId": "3672865d-4588-445f-9770-f1de5b6fab18"
   },
   {
    "cellId": "00020-c2c7f813-3e0d-455e-9006-d3cb53d8b609",
    "msgId": "2761df7c-2111-4913-983b-a6d6851e7061",
    "sessionId": "3672865d-4588-445f-9770-f1de5b6fab18"
   },
   {
    "cellId": "a5c54dfaa34145aba39e22b9e0f40346",
    "msgId": "aaad47d9-913c-4061-a03d-795138afef59",
    "sessionId": "3672865d-4588-445f-9770-f1de5b6fab18"
   },
   {
    "cellId": "00022-278acda9-77b6-40c2-b476-ee216218b137",
    "msgId": "f9e9d8bd-51c0-42d5-8442-0c0069af7da4",
    "sessionId": "3672865d-4588-445f-9770-f1de5b6fab18"
   },
   {
    "cellId": "00023-b6f28470-27f0-42b1-8012-4f53d3ffa863",
    "msgId": "8d757101-27ea-4ce8-b93e-297c1132e8ba",
    "sessionId": "3672865d-4588-445f-9770-f1de5b6fab18"
   },
   {
    "cellId": "425002d5f8e04ed2a61a6c28c37e6bc7",
    "msgId": "d65947cc-d5c8-484d-8fdb-26a0db5ae7df",
    "sessionId": "3672865d-4588-445f-9770-f1de5b6fab18"
   },
   {
    "cellId": "00025-855a9555-9786-4131-9427-ae611ba8fcab",
    "msgId": "e7a41807-a77b-468b-8d09-ceeb5c3cedc7",
    "sessionId": "3672865d-4588-445f-9770-f1de5b6fab18"
   },
   {
    "cellId": "4ebbf0e30d494b5886d0709155bec3f9",
    "msgId": "6745ef5a-a0b6-4d2c-87ab-05733c7c1530",
    "sessionId": "3672865d-4588-445f-9770-f1de5b6fab18"
   },
   {
    "cellId": "00027-5e0f441d-33f5-461d-8d2f-bdb5ee64ec9b",
    "msgId": "45587375-b5cd-4b12-8a8d-16b8c069570b",
    "sessionId": "3672865d-4588-445f-9770-f1de5b6fab18"
   },
   {
    "cellId": "00029-963d5131-c568-408e-93b9-c630bc6474f2",
    "msgId": "c31675c5-7bf6-411d-89f2-99fa530ebf9b",
    "sessionId": "3672865d-4588-445f-9770-f1de5b6fab18"
   },
   {
    "cellId": "00030-e6dbd700-0ee0-4c56-b1af-f1a81b4288a5",
    "msgId": "90081981-a580-421c-bd1c-891ad2ddc166",
    "sessionId": "3672865d-4588-445f-9770-f1de5b6fab18"
   }
  ],
  "deepnote_notebook_id": "6b55a0fd-8b2f-4d07-9a60-d1da6e62e925",
  "interpreter": {
   "hash": "31f2aee4e71d21fbe5cf8b01ff0e069b9275f58929596ceb00d14d90e3e16cd6"
  },
  "kernelspec": {
   "display_name": "Python 3",
   "language": "python",
   "name": "python3"
  },
  "language_info": {
   "codemirror_mode": {
    "name": "ipython",
    "version": 3
   },
   "file_extension": ".py",
   "mimetype": "text/x-python",
   "name": "python",
   "nbconvert_exporter": "python",
   "pygments_lexer": "ipython3",
   "version": "3.8.10"
  }
 },
 "nbformat": 4,
 "nbformat_minor": 1
}
