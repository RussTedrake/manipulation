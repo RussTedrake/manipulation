{
 "cells": [
  {
   "cell_type": "markdown",
   "metadata": {
    "id": "w7C_Q2UbkGas"
   },
   "source": [
    "## **Hybrid Force Position Control**"
   ]
  },
  {
   "cell_type": "code",
   "execution_count": null,
   "metadata": {
    "id": "7FZmK21O-JI_"
   },
   "outputs": [],
   "source": [
    "import matplotlib.pyplot as plt\n",
    "import mpld3\n",
    "import numpy as np\n",
    "from IPython.display import HTML, display\n",
    "from manipulation import running_as_notebook\n",
    "from pydrake.all import (Box, ConnectPlanarSceneGraphVisualizer,\n",
    "                         CoulombFriction, DiagramBuilder, JacobianWrtVariable,\n",
    "                         LeafSystem, RigidTransform, RollPitchYaw, Simulator,\n",
    "                         SpatialInertia, UnitInertia, VectorLogSink)\n",
    "from pydrake.examples.manipulation_station import ManipulationStation\n",
    "\n",
    "if running_as_notebook:\n",
    "    mpld3.enable_notebook()\n",
    "\n",
    "\n",
    "class TorqueController(LeafSystem):\n",
    "    \"\"\"Wrapper System for Commanding Pure Torques to planar iiwa.\n",
    "    @param plant MultibodyPlant of the simulated plant.\n",
    "    @param ctrl_fun function object to implement torque control law.\n",
    "    @param vx Velocity towards the linear direction. \n",
    "    \"\"\"\n",
    "    def __init__(self, plant, ctrl_fun, vx):\n",
    "        LeafSystem.__init__(self)\n",
    "        self._plant = plant\n",
    "        self._plant_context = plant.CreateDefaultContext()\n",
    "        self._iiwa = plant.GetModelInstanceByName(\"iiwa\")\n",
    "        self._G = plant.GetBodyByName(\"body\").body_frame()\n",
    "        self._W = plant.world_frame()\n",
    "        self._ctrl_fun = ctrl_fun\n",
    "        self._vx = vx\n",
    "        self._joint_indices = [\n",
    "            plant.GetJointByName(j).position_start()\n",
    "            for j in (\"iiwa_joint_2\", \"iiwa_joint_4\", \"iiwa_joint_6\")\n",
    "        ]\n",
    "\n",
    "        self.DeclareVectorInputPort(\"iiwa_position_measured\", 3)\n",
    "        self.DeclareVectorInputPort(\"iiwa_velocity_measured\", 3)\n",
    "\n",
    "        # If we want, we can add this in to do closed-loop force control on z.\n",
    "        #self.DeclareVectorInputPort(\"iiwa_torque_external\", 3)\n",
    "\n",
    "        self.DeclareVectorOutputPort(\"iiwa_position_command\", 3,\n",
    "                                     self.CalcPositionOutput)\n",
    "        self.DeclareVectorOutputPort(\"iiwa_torque_cmd\", 3,\n",
    "                                     self.CalcTorqueOutput)\n",
    "        # Compute foward kinematics so we can log the wsg position for grading.\n",
    "        self.DeclareVectorOutputPort(\"wsg_position\", 3,\n",
    "                                     self.CalcWsgPositionOutput)\n",
    "\n",
    "    def CalcPositionOutput(self, context, output):\n",
    "        \"\"\"Set q_d = q_now. This ensures the iiwa goes into pure torque mode in sim by setting the position control torques in InverseDynamicsController to zero. \n",
    "        NOTE(terry-suh): Do not use this method on hardware or deploy this notebook on hardware. \n",
    "        We can only simulate pure torque control mode for iiwa on sim. \n",
    "        \"\"\"\n",
    "        q_now = self.get_input_port(0).Eval(context)\n",
    "        output.SetFromVector(q_now)\n",
    "\n",
    "    def CalcTorqueOutput(self, context, output):\n",
    "        # Hard-coded position and force profiles. Can be connected from Trajectory class.\n",
    "        if (context.get_time() < 2.0):\n",
    "            px_des = 0.65\n",
    "        else:\n",
    "            px_des = 0.65 + self._vx * (context.get_time() - 2.0)\n",
    "\n",
    "        fz_des = 10\n",
    "\n",
    "        # Read inputs\n",
    "        q_now = self.get_input_port(0).Eval(context)\n",
    "        v_now = self.get_input_port(1).Eval(context)\n",
    "        #tau_now = self.get_input_port(2).Eval(context)\n",
    "\n",
    "        self._plant.SetPositions(self._plant_context, self._iiwa, q_now)\n",
    "\n",
    "        # 1. Convert joint space quantities to Cartesian quantities.\n",
    "        X_now = self._plant.CalcRelativeTransform(self._plant_context, self._W,\n",
    "                                                  self._G)\n",
    "\n",
    "        rpy_now = RollPitchYaw(X_now.rotation()).vector()\n",
    "        p_xyz_now = X_now.translation()\n",
    "\n",
    "        J_G = self._plant.CalcJacobianSpatialVelocity(\n",
    "            self._plant_context, JacobianWrtVariable.kQDot,\n",
    "            self._G, [0,0,0], self._W, self._W)\n",
    "\n",
    "        # Only select relevant terms. We end up with J_G of shape (3,3).\n",
    "        # Rows correspond to (pitch, x, z).\n",
    "        # Columns correspond to (q0, q1, q2).\n",
    "        J_G = J_G[np.ix_([1,3,5],self._joint_indices)]\n",
    "        v_pxz_now = J_G.dot(v_now)\n",
    "\n",
    "        p_pxz_now = np.array([rpy_now[1], p_xyz_now[0], p_xyz_now[2]])\n",
    "\n",
    "        # 2. Apply ctrl_fun\n",
    "        F_pxz = self._ctrl_fun(p_pxz_now, v_pxz_now, px_des, fz_des)\n",
    "\n",
    "        # 3. Convert back to joint coordinates\n",
    "        tau_cmd = J_G.T.dot(F_pxz)\n",
    "        output.SetFromVector(tau_cmd)\n",
    "\n",
    "    def CalcWsgPositionOutput(self, context, output):\n",
    "        \"\"\"\n",
    "        Compute Forward kinematics. Needed to log the position trajectory for grading.  TODO(russt): Could use MultibodyPlant's body_poses output port for this.\n",
    "        \"\"\"\n",
    "        q_now = self.get_input_port(0).Eval(context)\n",
    "        self._plant.SetPositions(self._plant_context, self._iiwa, q_now)\n",
    "        X_now = self._plant.CalcRelativeTransform(self._plant_context, self._W,\n",
    "                                                  self._G)\n",
    "\n",
    "        rpy_now = RollPitchYaw(X_now.rotation()).vector()\n",
    "        p_xyz_now = X_now.translation()\n",
    "        p_pxz_now = np.array([rpy_now[1], p_xyz_now[0], p_xyz_now[2]])\n",
    "\n",
    "        output.SetFromVector(p_pxz_now)\n",
    "\n",
    "def AddBook(plant):\n",
    "    mu = 10.0\n",
    "    book = plant.AddModelInstance(\"book\")\n",
    "    book_body = plant.AddRigidBody(\"book_body\", book,\n",
    "                                   SpatialInertia(\n",
    "                                       mass = 0.2,\n",
    "                                       p_PScm_E=np.array([0., 0., 0.]),\n",
    "                                       G_SP_E = UnitInertia(1.0, 1.0, 1.0)))\n",
    "    shape = Box(0.3, 0.1, 0.05)\n",
    "    if plant.geometry_source_is_registered():\n",
    "        plant.RegisterCollisionGeometry(book_body, RigidTransform(), shape, \"book_body\", CoulombFriction(mu, mu))\n",
    "        plant.RegisterVisualGeometry(book_body, RigidTransform(), shape, \"book_body\", [.9, .2, .2, 1.0])\n",
    "\n",
    "    return book\n",
    "\n",
    "def BuildAndSimulate(ctrl_fun, velocity, duration):\n",
    "    builder = DiagramBuilder()\n",
    "\n",
    "    # Add ManipulationStation\n",
    "    station = builder.AddSystem(ManipulationStation(time_step = 5e-4))\n",
    "    station.SetupPlanarIiwaStation()\n",
    "    book = AddBook(station.get_mutable_multibody_plant())\n",
    "\n",
    "    station.Finalize()\n",
    "\n",
    "    controller = builder.AddSystem(\n",
    "        TorqueController(station.get_multibody_plant(), ctrl_fun, velocity))\n",
    "\n",
    "    logger = builder.AddSystem(VectorLogSink(3))\n",
    "\n",
    "    builder.Connect(controller.get_output_port(0),\n",
    "                    station.GetInputPort(\"iiwa_position\"))\n",
    "    builder.Connect(controller.get_output_port(1),\n",
    "                    station.GetInputPort(\"iiwa_feedforward_torque\"))\n",
    "    builder.Connect(controller.get_output_port(2),\n",
    "                    logger.get_input_port(0))\n",
    "\n",
    "    builder.Connect(station.GetOutputPort(\"iiwa_position_measured\"),\n",
    "                    controller.get_input_port(0))\n",
    "    builder.Connect(station.GetOutputPort(\"iiwa_velocity_estimated\"),\n",
    "                    controller.get_input_port(1))\n",
    "\n",
    "    if running_as_notebook:\n",
    "        vis = ConnectPlanarSceneGraphVisualizer(\n",
    "            builder,\n",
    "            station.get_scene_graph(),\n",
    "            output_port=station.GetOutputPort(\"query_object\"),\n",
    "            xlim=[-0.5, 1.2],\n",
    "            ylim=[-0.8, 2],\n",
    "            show=False)\n",
    "\n",
    "    diagram = builder.Build()\n",
    "\n",
    "    # Initialize default positions for plant.\n",
    "    plant = station.get_mutable_multibody_plant()\n",
    "    simulator = Simulator(diagram)\n",
    "    plant_context = plant.GetMyContextFromRoot(simulator.get_mutable_context())\n",
    "    plant.SetFreeBodyPose(plant_context, plant.GetBodyByName(\"book_body\"),\n",
    "                          RigidTransform([0.65, 0.0, 0.03\n",
    "                                         ]))  # limit is between 0.5 and 0.55\n",
    "    plant.SetPositions(plant_context,\n",
    "                       plant.GetModelInstanceByName(\"iiwa\"),\n",
    "                       np.array([np.pi/4, -np.pi/3, np.pi/3]))\n",
    "\n",
    "    station_context = station.GetMyContextFromRoot(\n",
    "        simulator.get_mutable_context())\n",
    "    station.GetInputPort(\"wsg_position\").FixValue(station_context, [0.02])\n",
    "\n",
    "    if running_as_notebook:\n",
    "        vis.start_recording()\n",
    "        simulator.AdvanceTo(duration)\n",
    "        vis.stop_recording()\n",
    "\n",
    "        ani = vis.get_recording_as_animation(repeat=False)\n",
    "        display(HTML(ani.to_jshtml()))\n",
    "\n",
    "    else:\n",
    "        # TODO(terry-suh): we need to simulate this fully to grade student's answers, but CI won't be happy.\n",
    "        simulator.AdvanceTo(duration)\n",
    "\n",
    "    pose = plant.GetFreeBodyPose(plant_context,\n",
    "                                 plant.GetBodyByName(\"book_body\"))\n",
    "\n",
    "    # Return these so that we can check the pose of each object.\n",
    "    return logger.FindLog(simulator.get_context()), plant, plant_context\n"
   ]
  },
  {
   "cell_type": "markdown",
   "metadata": {
    "id": "uq3SgP3Msvjh"
   },
   "source": [
    "# Book Dragging\n",
    "\n",
    "In the lecture, we've written a controller that does non-prehensile manipulation by flipping a cheez-it box using external contacts. In this example, we will examine another example of non-prehensile manipulation that relies on pushing with friction. \n",
    "\n",
    "We have seen a wonderful example of non-prehensile manipulation on this example during lecture: \n",
    "\n",
    "[![Jiaji_book_pushing](http://img.youtube.com/vi/PngdQGEUi7w/0.jpg)](http://www.youtube.com/watch?v=PngdQGEUi7w \"Video Title\")\n",
    "\n",
    "\n",
    "Throughout this notebook, we will implement a hybrid force-position controller to achieve this dragging motion. \n"
   ]
  },
  {
   "cell_type": "markdown",
   "metadata": {
    "id": "qspTRfliwv6J"
   },
   "source": [
    "# Analysis of Frictional Forces\n",
    "\n",
    "Let's take some time to first think about the physics of what is going on. What causes the book to move when we drag it with some downwards force? This particular example is interesting because how much we rely on friction. If we were to draw a rough diagram of forces, we would end up with the below figure. Note that we've summarized the interaction forces with the book and the ground with a point contact model, but the story can be more complicated.  \n",
    "\n",
    "<img src=\"https://raw.githubusercontent.com/RussTedrake/manipulation/master/figures/exercises/friction.png\" width=\"700\">\n",
    "\n",
    "In class we saw the Coulomb model of friction, where the frictional forces must lie inside the friction cone that relates the normal force:\n",
    "$$|f_x| \\leq \\mu f_z$$\n",
    "\n",
    "where $\\mu$ is the static coefficient of friction. \n",
    "\n",
    "**Problem 9.3.a** [3pts]: Under the Coloumb friction model, write down the conditions for the ratio of friction coefficients $\\mu^C/\\mu^A$ that enables us to drag the book, as a function of $m,g$, and $f^{book_C}_{gripper,C_z}$ (HINT: don't forget about gravity!)  \n"
   ]
  },
  {
   "cell_type": "markdown",
   "metadata": {
    "id": "dC6orgfm5fLx"
   },
   "source": [
    "**Problem 9.3.b** [1pts] Based on the answer to 9.3.a, do you agree with the following statement? \n",
    "\n",
    "**Using a smoother surface on the gripper (lower $\\mu^C$) will make this motion more feasible.**\n",
    "\n",
    "Why or why not? \n",
    "\n",
    "**Problem 9.3.c** [1pts] Based on the answer to 9.3.a, do you agree with the following statement? \n",
    "\n",
    "**Pressing down harder (higher $f^{book_C}_{gripper,C_z}$) will make this motion more feasible**. \n",
    "\n",
    "Why or why not?"
   ]
  },
  {
   "cell_type": "markdown",
   "metadata": {
    "id": "_yS_ENWy8O33"
   },
   "source": [
    "# Hybrid Force-Position Control \n",
    "\n",
    "How should we write this type of a controller? We know how to do position control, and we know how to do force control, and we know it's hard to do both. But this task seems to require both. Namely, \n",
    "\n",
    "- We want to achieve desired position along the x-direction. \n",
    "- We want to achieve desired force along the z-direction. \n",
    "\n",
    "The key idea of hybrid force/position control is that when the force-controlled directions and the position-controlled directions are orthonormal, it is possible to control both in different directions! \n",
    "\n",
    "NOTE: We will do an axis-aligned version of orthonormal forces here, but with a bit more math, the rich theory of linear algebra allows us to generalize to arbitrary orthonormal planes as well. "
   ]
  },
  {
   "cell_type": "markdown",
   "metadata": {
    "id": "pyqaeXt8-Drp"
   },
   "source": [
    "#### **Problem 9.3.d** [4pts] Below, you will write a function `compute_ctrl` that implements a feedback policy which computes spatial forces $u=[\\tau_y,f_x,f_z]$ upon given current and desired position along the $x,\\theta_y$ direction, while achieving desired forces along the $z$ direction. \n",
    "\n",
    "You can implement each direction independently as follows:\n",
    "- Implement a PD controller in x-direction which drives `x_now` to `x_des`. You are free to set and tune the gains. \n",
    "- Implement a PD controller in $\\theta_y$-direction which drives `theta_now` to 0. \n",
    "- Implement an open-loop force controller in the $z$-direction which applies forces along the z-direction, such that `f_des` is the force applied on the book. \n",
    "\n",
    "NOTE: If we had a point finger, we wouldn't have had to regulate `theta_now` at all - but why was this necessary for the rigid-body gripper? After implementing everything, try setting only tau_y (`u[0]`) to zero and see what happens! "
   ]
  },
  {
   "cell_type": "code",
   "execution_count": null,
   "metadata": {
    "id": "Zq-0NNKEPqYn"
   },
   "outputs": [],
   "source": [
    "def compute_ctrl(p_pxz_now, v_pxz_now, x_des, f_des):\n",
    "  \"\"\"Compute control action given current position and velocities, as well as \n",
    "  desired x-direction position p_des(t) / desired z-direction force f_des. \n",
    "  You may set theta_des yourself, though we recommend regulating it to zero. \n",
    "  Input:\n",
    "    - p_pxz_now: np.array (dim 3), position of the finger. [thetay, px, pz] \n",
    "    - v_pxz_now: np.array (dim 3), velocity of the finger. [wy, vx, vz] \n",
    "    - x_des: float, desired position of the finger along the x-direction. \n",
    "    - f_des: float, desired force on the book along the z-direction. \n",
    "  Output:\n",
    "    - u    : np.array (dim 3), spatial torques to send to the manipulator. [tau_y, fx, fz] \n",
    "  \"\"\"\n",
    "\n",
    "  u = np.zeros(3)\n",
    "  return u"
   ]
  },
  {
   "cell_type": "markdown",
   "metadata": {
    "id": "Lr2X9EEK9G92"
   },
   "source": [
    "You can run the below cell to check your implementation. Using your controller, we will be tracking a linear position trajectory in the $x$-direction specified as:\n",
    "\n",
    "`x_des(t) = 0.65 + velocity * max(t - 2.0, 0.0)`\n",
    "\n",
    "In the below cell, you are free to set the velocity, and the $t_f$ (the end time of the trajectory). For grading, we will be checking for the following:\n",
    "\n",
    "- At the end of the time, the left edge of the book lies between the gap of the two tables. \n",
    "- At each timestep, the gripper fingers stays above the book. (we specifically want you to drag the book, so pushing it from the side is not allowed).  "
   ]
  },
  {
   "cell_type": "code",
   "execution_count": null,
   "metadata": {
    "colab": {
     "base_uri": "https://localhost:8080/",
     "height": 807
    },
    "id": "iLrlpmw_uftD",
    "outputId": "bf3c31f4-57ec-4472-f956-3a8ff7e38f96"
   },
   "outputs": [],
   "source": [
    "# NOTE: you may tune the velocity and duration to achieve the above specification. \n",
    "velocity = -0.125  # p_des = 0.65 + velocity * max\\{time - 2.0, 0\\}\n",
    "duration = 0.1     # duration to simulate. We check the book pose at the end of duration. set to 5~10.\n",
    "log, plant, plant_context = BuildAndSimulate(compute_ctrl, velocity, duration)"
   ]
  },
  {
   "cell_type": "markdown",
   "metadata": {
    "id": "MwE8yNg58VQN"
   },
   "source": [
    "## How will this notebook be Graded?\n",
    "\n",
    "If you are enrolled in the class, this notebook will be graded using [Gradescope](www.gradescope.com). You should have gotten the enrollement code on our announcement in Piazza. \n",
    "\n",
    "For submission of this assignment, you must do two things. \n",
    "- Download and submit the notebook `hybrid_force_position.ipynb` to Gradescope.\n",
    "- Write down your answers to 9.3.a, 9.3.b, and 9.3.c in your PDF submission to Gradescope. \n",
    "\n",
    "We will evaluate the local functions in the notebook to see if the function behaves as we have expected. For this exercise, the rubric is as follows:\n",
    "- [3 pts] 9.3.a is answered correctly.\n",
    "- [1 pts] 9.3.b is answered correctly. \n",
    "- [1 pts] 9.3.c is answered correctly.\n",
    "- [4 pts] `compute_ctrl` must be implemented correctly.\n"
   ]
  },
  {
   "cell_type": "code",
   "execution_count": null,
   "metadata": {
    "colab": {
     "base_uri": "https://localhost:8080/",
     "height": 363
    },
    "id": "pQISVdEG9NoN",
    "outputId": "57ed887c-5edc-4516-9e98-3c4a57d58f0e"
   },
   "outputs": [],
   "source": [
    "from manipulation.exercises.force.test_hybrid import TestHybrid\n",
    "from manipulation.exercises.grader import Grader \n",
    "\n",
    "Grader.grade_output([TestHybrid], [locals()], 'results.json')\n",
    "Grader.print_test_results('results.json')"
   ]
  },
  {
   "cell_type": "code",
   "execution_count": null,
   "metadata": {},
   "outputs": [],
   "source": []
  }
 ],
 "metadata": {
  "celltoolbar": "Tags",
  "colab": {
   "collapsed_sections": [],
   "name": "hybrid_force_position.ipynb",
   "provenance": []
  },
  "kernelspec": {
   "display_name": "Python 3.8.10 64-bit",
   "language": "python",
   "name": "python3"
  },
  "language_info": {
   "codemirror_mode": {
    "name": "ipython",
    "version": 3
   },
   "file_extension": ".py",
   "mimetype": "text/x-python",
   "name": "python",
   "nbconvert_exporter": "python",
   "pygments_lexer": "ipython3",
   "version": "3.8.10"
  },
  "vscode": {
   "interpreter": {
    "hash": "e7370f93d1d0cde622a1f8e1c04877d8463912d04d973331ad4851f04de6915a"
   }
  }
 },
 "nbformat": 4,
 "nbformat_minor": 1
}