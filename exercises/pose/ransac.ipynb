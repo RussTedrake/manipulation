{
 "cells": [
  {
   "cell_type": "markdown",
   "metadata": {
    "colab_type": "text",
    "id": "9CagYlhclDR4"
   },
   "source": [
    "# Ransac and Outlier Removal"
   ]
  },
  {
   "cell_type": "code",
   "execution_count": null,
   "metadata": {
    "colab": {},
    "colab_type": "code",
    "id": "3kqzbo_AlDR6"
   },
   "outputs": [],
   "source": [
    "import numpy as np\n",
    "from manipulation import FindResource, running_as_notebook\n",
    "from pydrake.all import (Cylinder, PointCloud, Rgba, RigidTransform,\n",
    "                         RollPitchYaw, RotationMatrix, StartMeshcat)\n"
   ]
  },
  {
   "cell_type": "code",
   "execution_count": null,
   "metadata": {},
   "outputs": [],
   "source": [
    "# Start the visualizer.\n",
    "meshcat = StartMeshcat()\n",
    "meshcat.SetProperty(\"/Background\",'visible', False)\n",
    "meshcat.SetProperty(\"/Cameras/default/rotated/<object>\",\"zoom\", 10.5)"
   ]
  },
  {
   "cell_type": "code",
   "execution_count": null,
   "metadata": {},
   "outputs": [],
   "source": [
    "# Visualize Stanford Bunny \n",
    "xyzs = np.load(FindResource('models/bunny/bunny.npy'))\n",
    "\n",
    "# point clouds of planar surface\n",
    "grid_spec = 50\n",
    "xy_axis = np.linspace(-0.5, 0.5, grid_spec)\n",
    "plane_x, plane_y = np.meshgrid(xy_axis, xy_axis)\n",
    "points_plane_xy = np.c_[plane_x.flatten(), plane_y.flatten(), \n",
    "                        np.zeros(grid_spec**2)]\n",
    "bunny_w_plane = np.c_[points_plane_xy.T, xyzs]\n",
    "\n",
    "def fit_plane(xyzs):\n",
    "    '''\n",
    "    Args:\n",
    "      xyzs is (3, N) numpy array\n",
    "    Returns:\n",
    "      (4,) numpy array\n",
    "    '''\n",
    "    center = np.mean(xyzs, axis=1)\n",
    "    cxyzs = xyzs.T - center\n",
    "    U, S, V = np.linalg.svd(cxyzs)\n",
    "    normal = V[-1]              # last row of V\n",
    "    d = -center.dot(normal)\n",
    "    plane_equation = np.hstack([normal, d])\n",
    "    return plane_equation\n",
    "\n",
    "# visualize a facet\n",
    "def DrawFacet(abcd, name, center=None):\n",
    "    # TODO(russt): Clean up the math in here.\n",
    "    normal = np.array(abcd[:3]).astype(float)\n",
    "    normal /= np.linalg.norm(normal)\n",
    "    d = -abcd[3] / np.linalg.norm(normal)\n",
    "\n",
    "    R = np.eye(3)\n",
    "    R[:, 2] = normal\n",
    "    z = normal\n",
    "    if abs(z[0]) < 1e-8:\n",
    "        x = np.array([0, -normal[2], normal[1]])\n",
    "    else:\n",
    "        x = np.array([-normal[1], normal[0], 0])\n",
    "    x /= np.linalg.norm(x)\n",
    "    R[:, 0] = x\n",
    "    R[:, 1] = np.cross(z, x)\n",
    "\n",
    "    X = np.eye(4)\n",
    "    Rz = RollPitchYaw(np.pi/2, 0, 0).ToRotationMatrix().matrix()\n",
    "    X[:3, :3] = R.dot(Rz)\n",
    "    if center is None:\n",
    "        X[:3, 3] = d * normal\n",
    "    else:\n",
    "        X[:3, 3] = center\n",
    "              \n",
    "    meshcat.SetObject(\"facets/\"+name+\"/plane\", Cylinder(0.1, 0.005))\n",
    "    meshcat.SetTransform(\"facets/\"+name+\"/plane\", RigidTransform(X) @ RigidTransform(RotationMatrix.MakeXRotation(np.pi / 2.0)))\n",
    "    \n",
    "    meshcat.SetObject(\"facets/\" + name + \"/normal\",\n",
    "                      Cylinder(0.001, 0.2), Rgba(0, 0, 1))\n",
    "    meshcat.SetTransform(\"facets/\" + name + \"/normal\", RigidTransform(X) @ RigidTransform(RotationMatrix.MakeXRotation(np.pi / 2.0), [0, .1, 0]))\n",
    "\n",
    "def visualize_point_clouds(points, name):\n",
    "  cloud = PointCloud(points.shape[1])\n",
    "  cloud.mutable_xyzs()[:] = points\n",
    "  meshcat.SetObject(name, cloud, point_size=0.01, rgba=Rgba(1.0, 0, 0))\n"
   ]
  },
  {
   "cell_type": "markdown",
   "metadata": {
    "colab_type": "text",
    "id": "Bva0aj0GlDSI"
   },
   "source": [
    "# Problem Description\n",
    "In the lecture, we learned about the RANSAC algorithm. In this exercise, you will implement the RANSAC algorithm to separate the Stanford bunny from its environment!\n",
    "\n",
    "**These are the main steps of the exercise:**\n",
    "1. Implement the `ransac` method.\n",
    "2. Implement the `remove_plane` method to remove the points that belong to the planar surface.\n",
    "\n",
    "Let's first visualize the point clouds of Stanford bunny in meshcat!"
   ]
  },
  {
   "cell_type": "code",
   "execution_count": null,
   "metadata": {
    "colab": {},
    "colab_type": "code",
    "id": "XtPLYaZhlDSJ"
   },
   "outputs": [],
   "source": [
    "visualize_point_clouds(bunny_w_plane, \"bunny_w_plane\")"
   ]
  },
  {
   "cell_type": "markdown",
   "metadata": {
    "colab_type": "text",
    "id": "zF54ocy-lDSR"
   },
   "source": [
    "You should notice that now there is a planar surface underneath the bunny. You may assume the bunny is currently placed on a table, where the planar surface is the tabletop. In this exercise, your objective is to remove the planar surface."
   ]
  },
  {
   "cell_type": "markdown",
   "metadata": {
    "colab_type": "text",
    "id": "ki2f7sxZlDSS"
   },
   "source": [
    "A straightforward way to achieve a better fit is to remove the planar surface underneath the bunny. To do so, we provide you a function to fit a planar surface. \n",
    "\n",
    "Recall that a plane equation is of the form\n",
    "$$a x + b y + c z + d = 0$$\n",
    "where $[a,b,c]^T$ is a vector normal to the plane and (if it's a unit normal) $d$ is the negative of the distance from the origin to the plane in the direction of the normal.  We'll represent a plane by the vector $[a,b,c,d]$.\n",
    "\n",
    "The fitted planes are shown as translucent disks of radius $r$ centered at the points. The gray lines represent the planes' normals."
   ]
  },
  {
   "cell_type": "code",
   "execution_count": null,
   "metadata": {
    "colab": {},
    "colab_type": "code",
    "id": "g2tMdp5PlDSS"
   },
   "outputs": [],
   "source": [
    "plane_equation = fit_plane(bunny_w_plane)\n",
    "print(plane_equation)\n",
    "DrawFacet(plane_equation, 'naive_plane', center=[0,0,-plane_equation[-1]])"
   ]
  },
  {
   "cell_type": "markdown",
   "metadata": {
    "colab_type": "text",
    "id": "HQs47D9SlDSX"
   },
   "source": [
    "You should notice that the planar surface cannot be fitted exactly either. This is because it takes account of all points in the scene to fit the plane. Since a significant portion of the point cloud belongs to the bunny, the fitted plane is noticeably elevated above the ground. \n",
    "\n",
    "To improve the result of the fitted plane, you will use RANSAC!"
   ]
  },
  {
   "cell_type": "markdown",
   "metadata": {
    "colab_type": "text",
    "id": "8VB5_NrqlDSX"
   },
   "source": [
    "## RANSAC\n",
    "With the presence of outliers (bunny), we can use RANSAC to get more reliable estimates. The idea is to fit a plane using many random choices of a minimal set of points (3), fit a plane for each one, count how many points are within a distance tolerance to that plane (the inliers), and return the estimate with the most inliers.\n",
    "\n",
    "**Complete the function `ransac`.  It takes a data matrix, a tolerance, a value of iterations, and a model regressor. It returns an equation constructed by the model regressor and a count of inliers.**"
   ]
  },
  {
   "cell_type": "code",
   "execution_count": null,
   "metadata": {
    "colab": {},
    "colab_type": "code",
    "id": "8PZI0rU_lDSY"
   },
   "outputs": [],
   "source": [
    "def ransac(point_cloud, model_fit_func, tolerance=1e-3, max_iterations=500):\n",
    "    \"\"\"\n",
    "    Args:\n",
    "      point_cloud is (3, N) numpy array\n",
    "      tolerance is a float\n",
    "      max_iterations is a (small) integer\n",
    "      model_fit_func: the function to fit the model (point clouds)\n",
    "\n",
    "    Returns:\n",
    "      (4,) numpy array\n",
    "    \"\"\"\n",
    "    best_ic = 0                 # inlier count\n",
    "    best_model = np.ones(4)     # plane equation ((4,) array)\n",
    "\n",
    "    ##################\n",
    "    # your code here\n",
    "    ##################\n",
    "\n",
    "    return  best_ic, best_model"
   ]
  },
  {
   "cell_type": "markdown",
   "metadata": {
    "colab_type": "text",
    "id": "ubTmMUnelDSi"
   },
   "source": [
    "Now you should have a lot better estimate of the planar surface with the use of RANSAC! Let's visualize the plane now!"
   ]
  },
  {
   "cell_type": "code",
   "execution_count": null,
   "metadata": {
    "colab": {},
    "colab_type": "code",
    "id": "OST0NACZlDSi"
   },
   "outputs": [],
   "source": [
    "inlier_count, ransac_plane = ransac(bunny_w_plane, fit_plane, 0.001, 500)\n",
    "print(ransac_plane)\n",
    "DrawFacet(ransac_plane, 'ransac_plane', center=[0,0,-ransac_plane[-1]])"
   ]
  },
  {
   "cell_type": "markdown",
   "metadata": {
    "colab_type": "text",
    "id": "IjB0y8hAlDSm"
   },
   "source": [
    "## Remove Planar Surface\n",
    "\n",
    "Now all you need to do is to remove the points that belong to the planar surface. You may do so by rejecting all points that are \n",
    "$$|| a x + b y + c z + d || < tol$$\n",
    "\n",
    "Note that since you are fitting a plane, the bunny is this case is the \"outlier\". Your job, however, is to keep the bunny and remove the planar surface.\n",
    "\n",
    "**Complete the function below to remove the points that belongs to the planar surface**."
   ]
  },
  {
   "cell_type": "code",
   "execution_count": null,
   "metadata": {
    "colab": {},
    "colab_type": "code",
    "id": "M7Bt0qYqlDSn"
   },
   "outputs": [],
   "source": [
    "def remove_plane(point_cloud, ransac, tol=1e-4):\n",
    "    \"\"\"\n",
    "    Args:\n",
    "        point_cloud: 3xN numpy array of points\n",
    "        ransac: The RANSAC function to use (call ransac(args))\n",
    "        tol: points less than this distance tolerance should be removed\n",
    "    Returns:\n",
    "        point_cloud_wo_plane: 3xN numpy array of points\n",
    "    \"\"\"\n",
    "    point_cloud_wo_plane = np.zeros((3,100))\n",
    "    return point_cloud_wo_plane"
   ]
  },
  {
   "cell_type": "code",
   "execution_count": null,
   "metadata": {
    "colab": {},
    "colab_type": "code",
    "id": "oizYYZ1KlDSw"
   },
   "outputs": [],
   "source": [
    "meshcat.Delete()\n",
    "bunny_wo_plane = remove_plane(bunny_w_plane, ransac)\n",
    "visualize_point_clouds(bunny_wo_plane, \"bunny\")"
   ]
  },
  {
   "cell_type": "markdown",
   "metadata": {
    "colab_type": "text",
    "id": "MwE8yNg58VQN"
   },
   "source": [
    "## How will this notebook be Graded?##\n",
    "\n",
    "If you are enrolled in the class, this notebook will be graded using [Gradescope](www.gradescope.com). You should have gotten the enrollement code on our announcement in Piazza. \n",
    "\n",
    "For submission of this assignment, you must: \n",
    "- Download and submit the notebook `ransac.ipynb` to Gradescope's notebook submission section, along with your notebook for the other problems.\n",
    "\n",
    "We will evaluate the local functions in the notebook to see if the function behaves as we have expected. For this exercise, the rubric is as follows:\n",
    "- [4 pts] `ransac` must be implemented correctly. \n",
    "- [2 pts] `remove_plane` must be implemented correctly."
   ]
  },
  {
   "cell_type": "code",
   "execution_count": null,
   "metadata": {
    "colab": {},
    "colab_type": "code",
    "id": "xj5nAh4g8VQO"
   },
   "outputs": [],
   "source": [
    "from manipulation.exercises.pose.test_ransac import TestRANSAC\n",
    "from manipulation.exercises.grader import Grader \n",
    "\n",
    "Grader.grade_output([TestRANSAC], [locals()], 'results.json')\n",
    "Grader.print_test_results('results.json')"
   ]
  },
  {
   "cell_type": "code",
   "execution_count": null,
   "metadata": {},
   "outputs": [],
   "source": []
  }
 ],
 "metadata": {
  "celltoolbar": "Tags",
  "colab": {
   "collapsed_sections": [],
   "name": "ransac.ipynb",
   "provenance": [],
   "toc_visible": true
  },
  "kernelspec": {
   "display_name": "Python 3.8.10 64-bit",
   "language": "python",
   "name": "python3"
  },
  "language_info": {
   "codemirror_mode": {
    "name": "ipython",
    "version": 3
   },
   "file_extension": ".py",
   "mimetype": "text/x-python",
   "name": "python",
   "nbconvert_exporter": "python",
   "pygments_lexer": "ipython3",
   "version": "3.8.10"
  },
  "vscode": {
   "interpreter": {
    "hash": "e7370f93d1d0cde622a1f8e1c04877d8463912d04d973331ad4851f04de6915a"
   }
  }
 },
 "nbformat": 4,
 "nbformat_minor": 1
}