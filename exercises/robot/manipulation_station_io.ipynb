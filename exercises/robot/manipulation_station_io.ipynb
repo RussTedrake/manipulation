{
 "cells": [
  {
   "cell_type": "markdown",
   "metadata": {
    "colab_type": "text",
    "id": "EgiF12Hf1Dhs"
   },
   "source": [
    "# **Input and Output Ports of the Manipulation Station**\n"
   ]
  },
  {
   "cell_type": "code",
   "execution_count": null,
   "metadata": {},
   "outputs": [],
   "source": [
    "import numpy as np\n",
    "from IPython.display import HTML\n",
    "from manipulation import FindResource\n",
    "from manipulation.scenarios import MakeManipulationStation\n",
    "from pydrake.all import StartMeshcat\n",
    "from pydrake.geometry import MeshcatVisualizer\n",
    "from pydrake.systems.analysis import Simulator\n",
    "from pydrake.systems.framework import DiagramBuilder, GenerateHtml\n"
   ]
  },
  {
   "cell_type": "code",
   "execution_count": null,
   "metadata": {},
   "outputs": [],
   "source": [
    "meshcat = StartMeshcat()"
   ]
  },
  {
   "cell_type": "markdown",
   "metadata": {
    "colab_type": "text",
    "id": "bClJCCHTKBb5"
   },
   "source": [
    "## Access System Input/Output Values\n",
    "In this exercise, you will explore the [ManipulationStation](http://manipulation.mit.edu/robot.html#manipulation_station) that was mentioned during the lecture. You should recall that the orange ports are the ones that do not exist for the actual hardware platform.\n",
    "\n",
    "<html>\n",
    "<table align=\"center\" cellpadding=\"0\" cellspacing=\"0\"><tbody><tr align=\"center\"><td style=\"vertical-align:middle\"><table cellspacing=\"0\" cellpadding=\"0\"><tbody><tr><td align=\"right\" style=\"padding:5px 0px 5px 0px\">iiwa_position\u2192</td></tr><tr><td align=\"right\" style=\"padding:5px 0px 5px 0px\">iiwa_feedforward_torque (optional)\u2192</td></tr><tr><td align=\"right\" style=\"padding:5px 0px 5px 0px\">wsg_position\u2192</td></tr><tr><td align=\"right\" style=\"padding:5px 0px 5px 0px\">wsg_force_limit (optional)\u2192</td></tr></tbody></table></td><td align=\"center\" style=\"border:solid;padding-left:20px;padding-right:20px;vertical-align:middle\" bgcolor=\"#F0F0F0\"><a href=\"https://github.com/RussTedrake/manipulation/blob/ceb817b527cbf1826c5b9a573ffbef415cb0f013/manipulation/scenarios.py#L453\">ManipulationStation</a></td><td style=\"vertical-align:middle\"><table cellspacing=\"0\" cellpadding=\"0\"><tbody><tr><td align=\"left\" style=\"padding:5px 0px 5px 0px\">\u2192 iiwa_position_commanded</td></tr><tr><td align=\"left\" style=\"padding:5px 0px 5px 0px\">\u2192 iiwa_position_measured</td></tr><tr><td align=\"left\" style=\"padding:5px 0px 5px 0px\">\u2192 iiwa_velocity_estimated</td></tr><tr><td align=\"left\" style=\"padding:5px 0px 5px 0px\">\u2192 iiwa_state_estimated</td></tr><tr><td align=\"left\" style=\"padding:5px 0px 5px 0px\">\u2192 iiwa_torque_commanded</td></tr><tr><td align=\"left\" style=\"padding:5px 0px 5px 0px\">\u2192 iiwa_torque_measured</td></tr><tr><td align=\"left\" style=\"padding:5px 0px 5px 0px\">\u2192 iiwa_torque_external</td></tr><tr><td align=\"left\" style=\"padding:5px 0px 5px 0px\">\u2192 wsg_state_measured</td></tr><tr><td align=\"left\" style=\"padding:5px 0px 5px 0px\">\u2192 wsg_force_measured</td></tr><tr><td align=\"left\" style=\"padding:5px 0px 5px 0px\">\u2192 camera_[NAME]_rgb_image</td></tr><tr><td align=\"left\" style=\"padding:5px 0px 5px 0px\">\u2192 camera_[NAME]_depth_image</td></tr><tr><td align=\"left\" style=\"padding:5px 0px 5px 0px\">\u2192 <b style=\"color:orange\">camera_[NAME]_label_image</b></td></tr><tr><td align=\"left\" style=\"padding:5px 0px 5px 0px\">\u2192 ...</td></tr><tr><td align=\"left\" style=\"padding:5px 0px 5px 0px\">\u2192 camera_[NAME]_rgb_image</td></tr><tr><td align=\"left\" style=\"padding:5px 0px 5px 0px\">\u2192 camera_[NAME]_depth_image</td></tr><tr><td align=\"left\" style=\"padding:5px 0px 5px 0px\">\u2192 <b style=\"color:orange\">camera_[NAME]_label_image</b></td></tr><tr><td align=\"left\" style=\"padding:5px 0px 5px 0px\">\u2192 <b style=\"color:orange\">query_object</b></td></tr><tr><td align=\"left\" style=\"padding:5px 0px 5px 0px\">\u2192 <b style=\"color:orange\">contact_results</b></td></tr><tr><td align=\"left\" style=\"padding:5px 0px 5px 0px\">\u2192 <b style=\"color:orange\">plant_continuous_state</b></td></tr><tr><td align=\"left\" style=\"padding:5px 0px 5px 0px\">\u2192 <b style=\"color:orange\">body_poses</b></td></tr></tbody></table></td></tr></tbody></table>\n",
    "</html>\n",
    "\n",
    "Now we construct a ManipulationStation object and finalize the system setting. To get a sense of what this manipulation station looks like, you can open the meshcat viewer from the generated link as usual. There should be a bookshelf and a Kuka arm with a gripper attached (it might take a few seconds to load)."
   ]
  },
  {
   "cell_type": "code",
   "execution_count": null,
   "metadata": {
    "colab": {},
    "colab_type": "code",
    "id": "SN1HkYCy8VJo"
   },
   "outputs": [],
   "source": [
    "station = MakeManipulationStation(\n",
    "    filename=FindResource(\"models/clutter.dmd.yaml\"))\n",
    "plant = station.GetSubsystemByName(\"plant\")\n",
    "\n",
    "builder = DiagramBuilder()\n",
    "builder.AddSystem(station)\n",
    "MeshcatVisualizer.AddToBuilder(\n",
    "      builder, station.GetOutputPort(\"query_object\"), meshcat)\n",
    "diagram = builder.Build()\n",
    "simulator = Simulator(diagram)\n",
    "simulator.Initialize()"
   ]
  },
  {
   "cell_type": "markdown",
   "metadata": {
    "colab_type": "text",
    "id": "82VsgQ938k7v"
   },
   "source": [
    "[**Context**](https://drake.mit.edu/pydrake/pydrake.systems.framework.html?highlight=context#pydrake.systems.framework.Context_) is an abstract class template that represents all the typed values that are used in a System\u2019s computations: time, numeric-valued input ports, numerical state, and numerical parameters. There are also type-erased abstract state variables, abstract-valued input ports, abstract parameters, and a double accuracy setting. It is important to note that a **Context** is designed to be used only with the System that created it. State and Parameter data can be copied between contexts for compatible systems as necessary. One of the most common mistakes is to pass the wrong context. Although most methods in drake should throw an error if you pass a context from the wrong system, but not all of them do yet. \n",
    "\n",
    "In the cell below, we first create a root context from the diagram, and then we retrieve the contexts of the subsystems from the root context."
   ]
  },
  {
   "cell_type": "code",
   "execution_count": null,
   "metadata": {
    "colab": {},
    "colab_type": "code",
    "id": "BS7uvKcIjwp0"
   },
   "outputs": [],
   "source": [
    "# initialize context\n",
    "context = diagram.CreateDefaultContext()\n",
    "plant_context = plant.GetMyContextFromRoot(context)\n",
    "station_context = station.GetMyContextFromRoot(context)"
   ]
  },
  {
   "cell_type": "markdown",
   "metadata": {
    "colab_type": "text",
    "id": "_AuF4TWGlbFp"
   },
   "source": [
    "In this exercise, you will familiarize yourself with the input and output mechanism from the manipulation station system. Remember you can always generate a schematic view of your system by running the cell below. By clicking the \"+\" sign on the manipulation_station, you can get a more detailed view of the diverse modules within the manipulation station. (You might need to run the cell twice to see the diagram)"
   ]
  },
  {
   "cell_type": "code",
   "execution_count": null,
   "metadata": {
    "colab": {},
    "colab_type": "code",
    "id": "OvSvFZH4_9Ni"
   },
   "outputs": [],
   "source": [
    "diagram.set_name(\"diagram\")\n",
    "HTML('<script src=\"https://unpkg.com/gojs/release/go.js\"></script>' + GenerateHtml(diagram))"
   ]
  },
  {
   "cell_type": "markdown",
   "metadata": {
    "colab_type": "text",
    "id": "FKDGlrCFqb15"
   },
   "source": [
    "Now if we set the joint position of the Kuka arm, we should expect to get the same values from the iiwa_position_measured port, which can be found from the output ports of **manipulation_station** object. Below we demonstrate how this can be done using **drake**'s syntax. You may also find it useful to review the **system** class documentation [here](https://drake.mit.edu/pydrake/pydrake.systems.framework.html?highlight=output_port#pydrake.systems.framework.System_)."
   ]
  },
  {
   "cell_type": "code",
   "execution_count": null,
   "metadata": {
    "colab": {},
    "colab_type": "code",
    "id": "PwWvrx1_cPLl"
   },
   "outputs": [],
   "source": [
    "# provide initial states\n",
    "q0 = np.array([-1.57, 0.1, 0, -1.2, 0, 1.6, 0])\n",
    "iiwa = plant.GetModelInstanceByName(\"iiwa\")\n",
    "# set the joint positions of the kuka arm\n",
    "plant.SetPositions(plant_context, iiwa, q0)\n",
    "# examine the output port\n",
    "station.GetOutputPort(\"iiwa_position_measured\").Eval(station_context)"
   ]
  },
  {
   "cell_type": "markdown",
   "metadata": {
    "colab_type": "text",
    "id": "8d7sH3kzrnYL"
   },
   "source": [
    "Note that the [output port](https://drake.mit.edu/pydrake/pydrake.systems.framework.html?highlight=outputport#pydrake.systems.framework.OutputPort) named \"iiwa_position_measured\" is first retrieved from the station and then evaluated using **Eval** method. This is a very common approach to read the values of a selected output port.\n",
    "\n",
    "Alternatively, you may retrieve the joint angles from the **plant**, which is a subsystem of the manipulation station."
   ]
  },
  {
   "cell_type": "code",
   "execution_count": null,
   "metadata": {
    "colab": {},
    "colab_type": "code",
    "id": "gbpZuVa_axTY"
   },
   "outputs": [],
   "source": [
    "joint_angles = []\n",
    "for i in range(1, 8):\n",
    "    joint_angles.append(\n",
    "        plant.GetJointByName(\n",
    "            'iiwa_joint_{}'.format(i)).get_angle(plant_context))\n",
    "\n",
    "# alternatively, use GetPositions to obtain the generalized positions\n",
    "# from the plant context\n",
    "q_general = plant.GetPositions(plant_context, iiwa)\n",
    "\n",
    "print(joint_angles)\n",
    "print(q_general)"
   ]
  },
  {
   "cell_type": "markdown",
   "metadata": {
    "colab_type": "text",
    "id": "Ey-t3M_Usun3"
   },
   "source": [
    "# Exercise a: Code Submission\n",
    "Now, it's your time to code! Use **GetOutputPort** and **Eval** to retrieve the joint velocities from the \"iiwa_velocity_estimated\" output port. Note that we have set the velocities for you. "
   ]
  },
  {
   "cell_type": "code",
   "execution_count": null,
   "metadata": {
    "colab": {},
    "colab_type": "code",
    "id": "A34DVaMRcVKV"
   },
   "outputs": [],
   "source": [
    "plant.SetVelocities(plant_context, iiwa, np.zeros(7,))"
   ]
  },
  {
   "cell_type": "markdown",
   "metadata": {
    "colab_type": "text",
    "id": "449kizGfUuwR"
   },
   "source": [
    "Below, `get_velocity(station, station_context)` is the function you must modify to query values from \"iiwa_velocity_estimated\"."
   ]
  },
  {
   "cell_type": "code",
   "execution_count": null,
   "metadata": {
    "colab": {},
    "colab_type": "code",
    "id": "RWa-mQwKRG4z"
   },
   "outputs": [],
   "source": [
    "def get_velocity(station, station_context):\n",
    "    \"\"\"\n",
    "    fill in your code in this method\n",
    "    \"\"\"\n",
    "    velocity_estimated = None\n",
    "    return velocity_estimated\n"
   ]
  },
  {
   "cell_type": "markdown",
   "metadata": {
    "colab_type": "text",
    "id": "X8FLrTP-U3bH"
   },
   "source": [
    "You can check if you got the implementation correct by running the below autograder."
   ]
  },
  {
   "cell_type": "code",
   "execution_count": null,
   "metadata": {
    "colab": {},
    "colab_type": "code",
    "id": "fVShh5kyRG44"
   },
   "outputs": [],
   "source": [
    "from manipulation.exercises.robot.test_manipulation_io import TestManipulationIO\n",
    "from manipulation.exercises.grader import Grader\n",
    "\n",
    "Grader.grade_output([TestManipulationIO], [locals()], 'results.json')\n",
    "Grader.print_test_results('results.json')\n"
   ]
  },
  {
   "cell_type": "markdown",
   "metadata": {
    "colab_type": "text",
    "id": "EEbQAd8SuvzQ"
   },
   "source": [
    "Please note that the *iiwa_position_commanded* and the *iiwa position* are NOT the same variable. The *iiwa_position_commanded* are the commanded positions sent to the robot, whereas the *iiwa_positions* are the current positions of the simulated robot. We also expect to have different values for the feedforward torque (system input) and the commanded torque (system output). Next, you will investigate why. First, let us provide a zero feedforward torque to the \"iiwa_feedforward_torque\" port."
   ]
  },
  {
   "cell_type": "code",
   "execution_count": null,
   "metadata": {
    "colab": {},
    "colab_type": "code",
    "id": "gDV6v7YMlKzl"
   },
   "outputs": [],
   "source": [
    "station.GetInputPort(\"iiwa_feedforward_torque\").FixValue(\n",
    "    station_context, np.zeros(7,))\n",
    "tau_no_ff = station.GetOutputPort(\"iiwa_torque_commanded\").Eval(station_context)\n",
    "print('feedforward torque: {}'.format(np.zeros(7,)))\n",
    "print('commanded torque with no feedforward torque:{}'.format(tau_no_ff))"
   ]
  },
  {
   "cell_type": "markdown",
   "metadata": {
    "colab_type": "text",
    "id": "WDP0uoxtvtrq"
   },
   "source": [
    "Now try the same experiment with a non-zero feedforward torque as shown below."
   ]
  },
  {
   "cell_type": "code",
   "execution_count": null,
   "metadata": {
    "colab": {},
    "colab_type": "code",
    "id": "zRxNOJKTfDbT"
   },
   "outputs": [],
   "source": [
    "tau_ff = np.linspace(3.1, 3.7, 7)\n",
    "print('feedforward torque: {}'.format(tau_ff))\n",
    "station.GetInputPort(\"iiwa_feedforward_torque\").FixValue(\n",
    "    station_context, tau_ff)\n",
    "torque_commanded = station.GetOutputPort(\"iiwa_torque_commanded\").Eval(\n",
    "    station_context)\n",
    "print('the commanded torque: {}'.format(torque_commanded))"
   ]
  },
  {
   "cell_type": "markdown",
   "metadata": {
    "colab_type": "text",
    "id": "WKh2ETazw5-W"
   },
   "source": [
    "# Exercise b: Written Problem.\n",
    "Below, we have a question for you.\n",
    "\n",
    "**In this exercise, please explain what causes the discrepancy between the feedforward torque and the commanded torque.**\n",
    "\n",
    "HINT: can you find any relationship among *tau_ff*, *tau_no_ff*, *torque_commanded*?"
   ]
  },
  {
   "cell_type": "markdown",
   "metadata": {
    "colab_type": "text",
    "id": "U2cjfMsITgVF"
   },
   "source": [
    "## Your Answer\n",
    "\n",
    "Answer the Question here, and copy-paste to the Gradescope 'written submission' section!\n"
   ]
  },
  {
   "cell_type": "markdown",
   "metadata": {
    "colab_type": "text",
    "id": "SCvUhPHMTqiH"
   },
   "source": [
    "## How will this notebook be graded?"
   ]
  },
  {
   "cell_type": "markdown",
   "metadata": {
    "colab_type": "text",
    "id": "l5OAsgvJTt1M"
   },
   "source": [
    "We will evaluate the local functions in the notebook to see if the function behaves as we have expected. For this exercise, the rubric is as follows:\n",
    "- [5pts] `get_velocity` must be implemented correctly. \n",
    "- [5pts] You must answer correctly why there is a difference between feed-forward torque and commanded torque. "
   ]
  },
  {
   "cell_type": "markdown",
   "metadata": {
    "colab_type": "text",
    "id": "w48SCV0HUbcJ"
   },
   "source": [
    "## Additional Note."
   ]
  },
  {
   "cell_type": "markdown",
   "metadata": {
    "colab_type": "text",
    "id": "R324XG0CvLiN"
   },
   "source": [
    "So far we have not looked into the outputs of simulated camera sensors. Fortunately, accessing the camera data can be done in an almost exactly the same way as we have shown above. We will get to it soon! "
   ]
  }
 ],
 "metadata": {
  "celltoolbar": "Tags",
  "colab": {
   "collapsed_sections": [
    "c2xGOvKCuQkd"
   ],
   "name": "manipulation_station_io.ipynb",
   "provenance": [],
   "toc_visible": true
  },
  "kernelspec": {
   "display_name": "Python 3.10.6 64-bit",
   "language": "python",
   "name": "python3"
  },
  "language_info": {
   "codemirror_mode": {
    "name": "ipython",
    "version": 3
   },
   "file_extension": ".py",
   "mimetype": "text/x-python",
   "name": "python",
   "nbconvert_exporter": "python",
   "pygments_lexer": "ipython3",
   "version": "3.10.6"
  },
  "vscode": {
   "interpreter": {
    "hash": "b0fa6594d8f4cbf19f97940f81e996739fb7646882a419484c72d19e05852a7e"
   }
  }
 },
 "nbformat": 4,
 "nbformat_minor": 1
}