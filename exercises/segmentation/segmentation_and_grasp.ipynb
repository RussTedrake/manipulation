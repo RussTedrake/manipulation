{
 "cells": [
  {
   "cell_type": "markdown",
   "metadata": {
    "cell_id": "00000-920cf414-0bf7-4133-b265-04f55b6c5ad9",
    "deepnote_cell_type": "markdown",
    "id": "VEYe67K6E6j0"
   },
   "source": [
    "# Antipodal grasp with deep segmentation\n",
    "In this problem, you will use same the antipodal grasp strategy we used with geometric perception, but you'll use deep perception to restrict your grasps to a single object (the mustard bottle).\n",
    "\n",
    "We'll be using the Mask RCNN model that's trained in [this script](https://colab.research.google.com/github/RussTedrake/manipulation/blob/master/segmentation_train.ipynb) from the textbook. As an input, the model takes an image, and it outputs a series of masks showing where the objects we've trained it on are in the image. (In this case, those objects are images in the YCB dataset.) Once we know which pixels contain the object we wish to grasp, then we can project them back out to point clouds using the depth image and select an antipodal grasp using just those data points.\n",
    "\n",
    "Your job in this notebook will be to use the masks output by our neural network to filter the point cloud to only include points on the mustart bottle. Once we have a filtered point cloud, we'll be able to use them to generate antipodal grasps just on our object of interest."
   ]
  },
  {
   "cell_type": "code",
   "execution_count": null,
   "metadata": {
    "cell_id": "00001-0c67af8c-9b86-4865-8896-124b095f8bd7",
    "deepnote_cell_type": "code",
    "deepnote_to_be_reexecuted": false,
    "execution_millis": 910,
    "execution_start": 1634775608309,
    "id": "v5OrhpSmxkGH",
    "source_hash": "ac7c30ed"
   },
   "outputs": [],
   "source": [
    "import os\n",
    "from copy import deepcopy\n",
    "from urllib.request import urlretrieve\n",
    "\n",
    "import matplotlib.pyplot as plt\n",
    "import numpy as np\n",
    "import torch\n",
    "import torch.utils.data\n",
    "import torchvision\n",
    "import torchvision.transforms.functional as Tf\n",
    "from IPython.display import clear_output, display\n",
    "from manipulation import running_as_notebook\n",
    "from manipulation.clutter import GenerateAntipodalGraspCandidate\n",
    "from manipulation.scenarios import AddRgbdSensors\n",
    "from manipulation.utils import AddPackagePaths, FindResource, LoadDataResource\n",
    "from pydrake.all import (BaseField, Concatenate, Fields, MeshcatVisualizer,\n",
    "                         MeshcatVisualizerParams, PointCloud, Quaternion, Rgba,\n",
    "                         RigidTransform, RotationMatrix, StartMeshcat)\n",
    "from pydrake.multibody.parsing import (LoadModelDirectives, Parser,\n",
    "                                       ProcessModelDirectives)\n",
    "from pydrake.multibody.plant import AddMultibodyPlantSceneGraph\n",
    "from pydrake.systems.framework import DiagramBuilder\n",
    "from torchvision.models.detection import MaskRCNN_ResNet50_FPN_Weights\n",
    "from torchvision.models.detection.faster_rcnn import FastRCNNPredictor\n",
    "from torchvision.models.detection.mask_rcnn import MaskRCNNPredictor\n"
   ]
  },
  {
   "cell_type": "code",
   "execution_count": null,
   "metadata": {
    "cell_id": "00002-01dba1b8-8757-420a-9d1f-a2ced800e090",
    "deepnote_cell_type": "code",
    "deepnote_to_be_reexecuted": false,
    "execution_millis": 5,
    "execution_start": 1634775265327,
    "source_hash": "6d42057f"
   },
   "outputs": [],
   "source": [
    "# Start the visualizer.\n",
    "meshcat = StartMeshcat()"
   ]
  },
  {
   "cell_type": "markdown",
   "metadata": {
    "cell_id": "00002-b652ea38-6691-4cbc-a79e-f354c265451a",
    "deepnote_cell_type": "markdown",
    "tags": []
   },
   "source": [
    "## Load model\n",
    "To avoid making you wait and train the model yourself, we'll use the pre-trained model from the textbook. First, we need to load it."
   ]
  },
  {
   "cell_type": "code",
   "execution_count": null,
   "metadata": {
    "cell_id": "00002-618b2559-af15-4389-8a57-4a48e19ebabb",
    "deepnote_cell_type": "code",
    "deepnote_to_be_reexecuted": false,
    "execution_millis": 1,
    "execution_start": 1634775259173,
    "source_hash": "dfb97091",
    "tags": []
   },
   "outputs": [],
   "source": [
    "if running_as_notebook:\n",
    "    model_file = 'clutter_maskrcnn_model.pt'\n",
    "    if not os.path.exists(model_file):\n",
    "        urlretrieve(\n",
    "            \"https://groups.csail.mit.edu/locomotion/clutter_maskrcnn_model.pt\", model_file)"
   ]
  },
  {
   "cell_type": "code",
   "execution_count": null,
   "metadata": {
    "cell_id": "00004-31a83327-6649-450a-8f0f-9c0d07268a4f",
    "deepnote_cell_type": "code",
    "deepnote_to_be_reexecuted": false,
    "execution_millis": 5153,
    "execution_start": 1634775259179,
    "source_hash": "8da585f9",
    "tags": []
   },
   "outputs": [],
   "source": [
    "mustard_ycb_idx = 3\n",
    "if running_as_notebook:\n",
    "    def get_instance_segmentation_model(num_classes):\n",
    "        # load an instance segmentation model pre-trained on COCO\n",
    "        model = torchvision.models.detection.maskrcnn_resnet50_fpn(\n",
    "            weights=MaskRCNN_ResNet50_FPN_Weights.DEFAULT, progress=False)\n",
    "\n",
    "        # get the number of input features for the classifier\n",
    "        in_features = model.roi_heads.box_predictor.cls_score.in_features\n",
    "        # replace the pre-trained head with a new one\n",
    "        model.roi_heads.box_predictor = FastRCNNPredictor(in_features, num_classes)\n",
    "\n",
    "        # now get the number of input features for the mask classifier\n",
    "        in_features_mask = model.roi_heads.mask_predictor.conv5_mask.in_channels\n",
    "        hidden_layer = 256\n",
    "        # and replace the mask predictor with a new one\n",
    "        model.roi_heads.mask_predictor = MaskRCNNPredictor(in_features_mask,\n",
    "                                                        hidden_layer,\n",
    "                                                        num_classes)\n",
    "\n",
    "        return model\n",
    "\n",
    "    num_classes = 7\n",
    "    model = get_instance_segmentation_model(num_classes)\n",
    "    device = torch.device(\n",
    "        'cuda') if torch.cuda.is_available() else torch.device('cpu')\n",
    "    model.load_state_dict(\n",
    "        torch.load('clutter_maskrcnn_model.pt', map_location=device))\n",
    "    model.eval()\n",
    "\n",
    "    model.to(device)"
   ]
  },
  {
   "cell_type": "markdown",
   "metadata": {
    "cell_id": "00005-62942de5-8106-48b0-a145-b4bc58840231",
    "deepnote_cell_type": "markdown",
    "tags": []
   },
   "source": [
    "## Set up camera system\n",
    "Now that we've loaded our network, we need to set up the Drake model for our system. It has several objects from the YCB data set and two cameras."
   ]
  },
  {
   "cell_type": "code",
   "execution_count": null,
   "metadata": {
    "cell_id": "00007-364e871f-95a0-4ea6-8668-b176a902edbd",
    "deepnote_cell_type": "code",
    "deepnote_to_be_reexecuted": false,
    "execution_millis": 3,
    "execution_start": 1634775269991,
    "source_hash": "bd2f0581",
    "tags": []
   },
   "outputs": [],
   "source": [
    "def ClutteredSceneSystem():\n",
    "    builder = DiagramBuilder()\n",
    "\n",
    "    # Create the physics engine + scene graph.\n",
    "    plant, scene_graph = AddMultibodyPlantSceneGraph(builder, time_step=0.0)\n",
    "    parser = Parser(plant)\n",
    "    AddPackagePaths(parser)\n",
    "    ProcessModelDirectives(\n",
    "        LoadModelDirectives(FindResource(\"models/segmentation_and_grasp_scene.dmd.yaml\")),\n",
    "        plant, parser)\n",
    "    \n",
    "    plant.Finalize()\n",
    "\n",
    "    AddRgbdSensors(builder, plant, scene_graph)\n",
    "\n",
    "    diagram = builder.Build()\n",
    "    diagram.set_name(\"depth_camera_demo_system\")\n",
    "    context = diagram.CreateDefaultContext()\n",
    "    return diagram, context"
   ]
  },
  {
   "cell_type": "code",
   "execution_count": null,
   "metadata": {
    "cell_id": "00006-744be7ee-0dfb-4121-a1f1-da60dc7452d7",
    "deepnote_cell_type": "code",
    "deepnote_to_be_reexecuted": false,
    "execution_millis": 2974,
    "execution_start": 1634775312935,
    "source_hash": "b566af18",
    "tags": []
   },
   "outputs": [],
   "source": [
    "class CameraSystem:\n",
    "    def __init__(self, idx, meshcat, diagram, context):\n",
    "        self.idx = idx\n",
    "\n",
    "        # Read images\n",
    "        depth_im_read = diagram.GetOutputPort(\"camera{}_depth_image\".format(idx)).Eval(context).data.squeeze()\n",
    "        self.depth_im = deepcopy(depth_im_read)\n",
    "        self.depth_im[self.depth_im == np.inf] = 10.0\n",
    "        self.rgb_im = diagram.GetOutputPort('camera{}_rgb_image'.format(idx)).Eval(context).data\n",
    "\n",
    "        # Visualize\n",
    "        point_cloud = diagram.GetOutputPort(\"camera{}_point_cloud\".format(idx)).Eval(context)\n",
    "        meshcat.SetObject(f\"Camera {idx} point cloud\", point_cloud)\n",
    "\n",
    "        # Get other info about the camera\n",
    "        cam = diagram.GetSubsystemByName('camera' +str(idx))\n",
    "        cam_context = cam.GetMyMutableContextFromRoot(context)\n",
    "        self.X_WC = cam.body_pose_in_world_output_port().Eval(cam_context)\n",
    "        self.cam_info = cam.depth_camera_info()\n",
    "\n",
    "    def project_depth_to_pC(self, depth_pixel):\n",
    "        \"\"\"\n",
    "        project depth pixels to points in camera frame\n",
    "        using pinhole camera model\n",
    "        Input:\n",
    "            depth_pixels: numpy array of (nx3) or (3,)\n",
    "        Output:\n",
    "            pC: 3D point in camera frame, numpy array of (nx3)\n",
    "        \"\"\"\n",
    "        # switch u,v due to python convention\n",
    "        v = depth_pixel[:,0]\n",
    "        u = depth_pixel[:,1]\n",
    "        Z = depth_pixel[:,2]\n",
    "        cx = self.cam_info.center_x()\n",
    "        cy = self.cam_info.center_y()\n",
    "        fx = self.cam_info.focal_x()\n",
    "        fy = self.cam_info.focal_y()\n",
    "        X = (u-cx) * Z/fx\n",
    "        Y = (v-cy) * Z/fy\n",
    "        pC = np.c_[X,Y,Z]\n",
    "        return pC\n",
    "\n",
    "environment_diagram, environment_context = ClutteredSceneSystem()\n",
    "cameras = []\n",
    "cameras.append(\n",
    "    CameraSystem(0, meshcat, environment_diagram, environment_context))\n",
    "cameras.append(\n",
    "    CameraSystem(1, meshcat, environment_diagram, environment_context))\n"
   ]
  },
  {
   "cell_type": "markdown",
   "metadata": {
    "cell_id": "00009-aee25f24-10f0-497d-a986-fabdc70d21ef",
    "deepnote_cell_type": "markdown",
    "tags": []
   },
   "source": [
    "### Examining camera views\n",
    "If you take a look at meshcat, under \"scene > drake,\" you'll find two check boxes: one labeled \"Camera 0 point cloud\" and one labeled \"Camera 1 point cloud.\" Toggle these to see the different views the two cameras get.\n",
    "\n",
    "We can also look directly at the images captured by each camera:"
   ]
  },
  {
   "cell_type": "code",
   "execution_count": null,
   "metadata": {
    "cell_id": "00009-ec9221b8-cd7c-40df-b7e9-341c48471772",
    "deepnote_cell_type": "code",
    "deepnote_to_be_reexecuted": false,
    "execution_millis": 735,
    "execution_start": 1634775333501,
    "source_hash": "435da067",
    "tags": []
   },
   "outputs": [],
   "source": [
    "plt.imshow(cameras[0].rgb_im)\n",
    "plt.title(\"View from camera 0\")\n",
    "plt.show()\n",
    "\n",
    "plt.imshow(cameras[1].rgb_im)\n",
    "plt.title(\"View from camera 1\")\n",
    "plt.show()"
   ]
  },
  {
   "cell_type": "markdown",
   "metadata": {
    "cell_id": "00010-b805f9aa-396d-40ff-ba92-8be4fb8a3ebe",
    "deepnote_cell_type": "markdown",
    "tags": []
   },
   "source": [
    "## Generate masks for each image\n",
    "Now that we have a network and camera inputs, we can start processing our inputs. First, we will evaluate the mask (which is the output from our network) for each image."
   ]
  },
  {
   "cell_type": "code",
   "execution_count": null,
   "metadata": {
    "cell_id": "00011-0ae55ef2-9d2f-42e1-b9bb-abbd949955c4",
    "deepnote_cell_type": "code",
    "deepnote_to_be_reexecuted": false,
    "execution_millis": 33005,
    "execution_start": 1634775338291,
    "source_hash": "66ca9127",
    "tags": []
   },
   "outputs": [],
   "source": [
    "if running_as_notebook:\n",
    "    with torch.no_grad():\n",
    "        predictions = []\n",
    "        predictions.append(\n",
    "            model([Tf.to_tensor(cameras[0].rgb_im[:, :, :3]).to(device)]))\n",
    "        predictions.append(\n",
    "            model([Tf.to_tensor(cameras[1].rgb_im[:, :, :3]).to(device)]))\n",
    "    for i in range(2):\n",
    "        for k in predictions[i][0].keys():\n",
    "            if k == \"masks\":\n",
    "                predictions[i][0][k] = predictions[i][0][k].mul(\n",
    "                    255).byte().cpu().numpy()\n",
    "            else:\n",
    "                predictions[i][0][k] = predictions[i][0][k].cpu().numpy()\n",
    "else:\n",
    "    predictions = []\n",
    "    for i in range(2):\n",
    "        prediction = []\n",
    "        prediction.append(\n",
    "            np.load(LoadDataResource(\"prediction_{}.npz\".format(i))))\n",
    "        predictions.append(prediction)"
   ]
  },
  {
   "cell_type": "markdown",
   "metadata": {
    "cell_id": "00013-2a5173f9-5b60-4e65-8d32-448d6f2b5b27",
    "deepnote_cell_type": "markdown",
    "tags": []
   },
   "source": [
    "`predictions[0]` was run on the image from Camera 0, while `predictions[1]` was run on the image from Camera 1. \n",
    "\n",
    "Lets take a minute to understand this output. Breaking it down by each key in the output dictionary:\n",
    "* The \"boxes\" correspond to bounding boxes on the regions containing the object\n",
    "* The \"labels\" tell us which class the model has associated with the (as in, whether it's the mustard bottle, the Cheez-it box, the spam container, etc. Each model is identified by a number.)\n",
    "* The \"scores\" are a measure of confidence in the model predictions\n",
    "* The \"masks\" are arrays which indicate which pixels belong to the corresponding class"
   ]
  },
  {
   "cell_type": "code",
   "execution_count": null,
   "metadata": {
    "cell_id": "00012-e4772258-294a-4dc0-a9d5-24fdbbf64535",
    "deepnote_cell_type": "code",
    "deepnote_to_be_reexecuted": false,
    "execution_millis": 13,
    "execution_start": 1634775371302,
    "source_hash": "2f700070",
    "tags": []
   },
   "outputs": [],
   "source": [
    "predictions[0]"
   ]
  },
  {
   "cell_type": "markdown",
   "metadata": {
    "cell_id": "00016-a6e730fc-27a0-4a8c-b006-5900d30916dc",
    "deepnote_cell_type": "markdown",
    "tags": []
   },
   "source": [
    "The two most important elements for our task are `labels`, which tells us which class the mask corresponds to, and `mask`, which gives a higher score for pixels that more likely correspond to points on the mustard bottle.\n",
    "\n",
    "Note that we defined `mustard_ycb_idx = 3` at the top of the notebook; that's the value of the label for the class we care about.\n",
    "\n",
    "The following cells visualize the masks we get:"
   ]
  },
  {
   "cell_type": "code",
   "execution_count": null,
   "metadata": {
    "cell_id": "00015-dcc1e7ac-81d1-4ee3-ad03-70e9f91a68d2",
    "deepnote_cell_type": "code",
    "deepnote_to_be_reexecuted": false,
    "execution_millis": 714,
    "execution_start": 1634764705722,
    "source_hash": "d6e382b2",
    "tags": []
   },
   "outputs": [],
   "source": [
    "for i, prediction in enumerate(predictions):\n",
    "    mask_idx = np.argmax(predictions[i][0]['labels'] == mustard_ycb_idx)\n",
    "    mask = predictions[i][0]['masks'][mask_idx,0]\n",
    "\n",
    "    plt.imshow(mask)\n",
    "    plt.title(\"Mask from Camera \" + str(i))\n",
    "    plt.colorbar()\n",
    "    plt.show()"
   ]
  },
  {
   "cell_type": "markdown",
   "metadata": {
    "cell_id": "00014-4f1f90bd-b2e9-415a-a3bb-bbb0920105ae",
    "deepnote_cell_type": "markdown",
    "tags": []
   },
   "source": [
    "## Generate point cloud\n",
    "### 6.2a\n",
    "Using the masks we've found, generate a filtered point cloud that includes images from both cameras but only includes points within the mustard. (You will fill in code to return both points and colors; technically, we only need the points for finding an antipodal grasp, but the colors are helpful for visualization.)\n",
    "\n",
    "You will write code that does the following for each camera and image:\n",
    "1. Extract the pixels from the mask that we consider to be within the mustard bottle (specifically: take values that are above `mask_threshold`)\n",
    "2. Select points in the depth image corresponding to those pixels\n",
    "3. Using the depth values, project those selected pixels back out to be points in the camera frame. You'll use the camera's `project_depth_to_pC` image to do this; refer back to problem 5.2 for how this is used.\n",
    "4. Convert the points to the world frame\n",
    "5. Select color values from the RGB image that correspond to your mask pixels. "
   ]
  },
  {
   "cell_type": "code",
   "execution_count": null,
   "metadata": {
    "cell_id": "00018-757ddfc4-b93d-4e38-be05-63fea943c8ce",
    "deepnote_cell_type": "code",
    "deepnote_to_be_reexecuted": false,
    "execution_millis": 0,
    "execution_start": 1634775642499,
    "source_hash": "a659f42e",
    "tags": []
   },
   "outputs": [],
   "source": [
    "def get_merged_masked_pcd(predictions, rgb_ims, depth_ims, project_depth_to_pC_funcs, X_WCs, mask_threshold=150):\n",
    "    \"\"\"\n",
    "    predictions: The output of the trained network (one for each camera)\n",
    "    rgb_ims: RGBA images from each camera\n",
    "    depth_ims: Depth images from each camera\n",
    "    project_depth_to_pC_funcs: Functions that perform the pinhole camera operations to convert pixels\n",
    "        into points. See the analogous function in problem 5.2 to see how to use it.\n",
    "    X_WCs: Poses of the cameras in the world frame\n",
    "    \"\"\"\n",
    "\n",
    "    pcd = []\n",
    "    for prediction, rgb_im, depth_im, project_depth_to_pC_func, X_WC in \\\n",
    "            zip(predictions, rgb_ims, depth_ims, project_depth_to_pC_funcs, X_WCs):\n",
    "        # These arrays aren't the same size as the correct outputs, but we're\n",
    "        # just initializing them to something valid for now.\n",
    "        spatial_points = np.zeros((3, 1))\n",
    "        rgb_points = np.zeros((3, 1))\n",
    "\n",
    "        ######################################\n",
    "        # Your code here (populate spatial_points and rgb_points)\n",
    "        ######################################\n",
    "\n",
    "        # You get an unhelpful RunTime error if your arrays are the wrong\n",
    "        # shape, so we'll check beforehand that they're the correct shapes.\n",
    "        assert len(spatial_points.shape\n",
    "                  ) == 2, \"Spatial points is the wrong size -- should be 3 x N\"\n",
    "        assert spatial_points.shape[\n",
    "            0] == 3, \"Spatial points is the wrong size -- should be 3 x N\"\n",
    "        assert len(rgb_points.shape\n",
    "                  ) == 2, \"RGB points is the wrong size -- should be 3 x N\"\n",
    "        assert rgb_points.shape[\n",
    "            0] == 3, \"RGB points is the wrong size -- should be 3 x N\"\n",
    "        assert rgb_points.shape[1] == spatial_points.shape[1]\n",
    "\n",
    "        N = spatial_points.shape[1]\n",
    "        pcd.append(PointCloud(N, Fields(BaseField.kXYZs | BaseField.kRGBs)))\n",
    "        pcd[-1].mutable_xyzs()[:] = spatial_points\n",
    "        pcd[-1].mutable_rgbs()[:] = rgb_points\n",
    "        # Estimate normals\n",
    "        pcd[-1].EstimateNormals(radius=0.1, num_closest=30)\n",
    "        # Flip normals toward camera\n",
    "        pcd[-1].FlipNormalsTowardPoint(X_WC.translation())\n",
    "\n",
    "    # Merge point clouds.\n",
    "    merged_pcd = Concatenate(pcd)\n",
    "\n",
    "    # Voxelize down-sample.  (Note that the normals still look reasonable)\n",
    "    return merged_pcd.VoxelizedDownSample(voxel_size=0.005)"
   ]
  },
  {
   "cell_type": "markdown",
   "metadata": {
    "cell_id": "00020-ed664400-7d74-479c-8283-826c1dc1fe04",
    "deepnote_cell_type": "markdown",
    "tags": []
   },
   "source": [
    "Now let's use this function to visualize the output of `get_merged_masked_pcd`."
   ]
  },
  {
   "cell_type": "code",
   "execution_count": null,
   "metadata": {
    "cell_id": "00019-2970c0b1-0d69-47a0-8ea0-b58d33be190d",
    "deepnote_cell_type": "code",
    "deepnote_to_be_reexecuted": false,
    "execution_millis": 636,
    "execution_start": 1634775649507,
    "source_hash": "a7245486",
    "tags": []
   },
   "outputs": [],
   "source": [
    "rgb_ims = [c.rgb_im for c in cameras]\n",
    "depth_ims = [c.depth_im for c in cameras]\n",
    "project_depth_to_pC_funcs = [c.project_depth_to_pC for c in cameras]\n",
    "X_WCs = [c.X_WC for c in cameras]\n",
    "\n",
    "pcd = get_merged_masked_pcd(predictions, rgb_ims, depth_ims, project_depth_to_pC_funcs, X_WCs)\n",
    "meshcat.SetObject(\"masked_cloud\", pcd, point_size=0.003)"
   ]
  },
  {
   "cell_type": "markdown",
   "metadata": {
    "cell_id": "00022-77955a70-4e3b-433e-b889-3fdaeaa6de9f",
    "deepnote_cell_type": "markdown",
    "tags": []
   },
   "source": [
    "## Select a grasp\n",
    "The following code uses your point cloud function to find an antipodal grasp, similar to the previous problem set (PSet 6)."
   ]
  },
  {
   "cell_type": "code",
   "execution_count": null,
   "metadata": {
    "cell_id": "00012-68407111-65bb-4d35-8774-f031944d846b",
    "deepnote_cell_type": "code",
    "deepnote_to_be_reexecuted": false,
    "execution_millis": 2856,
    "execution_start": 1634775673810,
    "source_hash": "e12f6757",
    "tags": []
   },
   "outputs": [],
   "source": [
    "def find_antipodal_grasp(environment_diagram, environment_context, cameras):\n",
    "    rng = np.random.default_rng()\n",
    "\n",
    "    # Another diagram for the objects the robot \"knows about\": gripper, cameras, bins.  Think of this as the model in the robot's head.\n",
    "    builder = DiagramBuilder()\n",
    "    plant, scene_graph = AddMultibodyPlantSceneGraph(builder, time_step=0.001)\n",
    "    parser = Parser(plant)\n",
    "    AddPackagePaths(parser)\n",
    "    ProcessModelDirectives(LoadModelDirectives(FindResource(\"models/schunk_wsg_50_welded_fingers.dmd.yaml\")), plant, parser)\n",
    "    plant.Finalize()\n",
    "    \n",
    "    params = MeshcatVisualizerParams()\n",
    "    params.prefix = \"planning\"\n",
    "    visualizer = MeshcatVisualizer.AddToBuilder(\n",
    "        builder, scene_graph, meshcat, params)\n",
    "    diagram = builder.Build()\n",
    "    context = diagram.CreateDefaultContext()\n",
    "    diagram.Publish(context)\n",
    "\n",
    "    rgb_ims = [c.rgb_im for c in cameras]\n",
    "    depth_ims = [c.depth_im for c in cameras]\n",
    "    project_depth_to_pC_funcs = [c.project_depth_to_pC for c in cameras]\n",
    "    X_WCs = [c.X_WC for c in cameras]\n",
    "\n",
    "    cloud = get_merged_masked_pcd(\n",
    "        predictions, rgb_ims, depth_ims, project_depth_to_pC_funcs, X_WCs)\n",
    "\n",
    "    plant_context = plant.GetMyContextFromRoot(context)\n",
    "    scene_graph_context = scene_graph.GetMyContextFromRoot(context)\n",
    "\n",
    "    min_cost = np.inf\n",
    "    best_X_G = None\n",
    "    for i in range(100):\n",
    "        cost, X_G = GenerateAntipodalGraspCandidate(diagram, context, cloud, rng)\n",
    "        if np.isfinite(cost) and cost < min_cost:\n",
    "            min_cost = cost\n",
    "            best_X_G = X_G\n",
    "    \n",
    "    plant.SetFreeBodyPose(plant_context, plant.GetBodyByName(\"body\"), best_X_G)\n",
    "    diagram.Publish(context)\n",
    "\n",
    "\n",
    "if running_as_notebook:\n",
    "    find_antipodal_grasp(environment_diagram, environment_context, cameras)"
   ]
  },
  {
   "cell_type": "markdown",
   "metadata": {
    "cell_id": "00024-34ea2152-8485-47d3-9220-a631c2b4b5dd",
    "deepnote_cell_type": "markdown",
    "tags": []
   },
   "source": [
    "## Summary\n",
    "If you take a look at meshcat, we've reached our end goal of generating an antipodal grasp! We've now shown that we can leverage the RGB data and our trained network to filter our point clouds and get an antipodal grasp for a specific object. Now, let's think about the implications of some of the design choices we made along the way."
   ]
  },
  {
   "cell_type": "markdown",
   "metadata": {
    "cell_id": "00025-7372c0a0-1338-4698-88d0-a441dc9fbc63",
    "deepnote_cell_type": "markdown",
    "tags": []
   },
   "source": [
    "## Written questions\n",
    "Answer the following  questions in your written submission for this problem set.\n",
    "\n",
    "### 6.2b\n",
    "Let's think back to the \"Examining camera views\" section. Toggling between the views of the two cameras, each of the cameras contributes different information about the scene. Why do we need the information from both of them to find antipodal grasps?"
   ]
  },
  {
   "cell_type": "markdown",
   "metadata": {
    "cell_id": "00026-9d77d75b-1372-433c-a316-6f325798d3a2",
    "deepnote_cell_type": "markdown",
    "tags": []
   },
   "source": [
    "### 6.2c\n",
    "Our goal in this task is to grasp the mustard bottle. The first step of get_merged_masked_pcd() was to extract the pixels that correspond to the mustard bottle. If we skipped this step and instead considered the entire point cloud, what type of \"undesirable\" grasps might we select?"
   ]
  },
  {
   "cell_type": "markdown",
   "metadata": {
    "cell_id": "00028-3aab55cc-f1ff-4377-b1fc-38fd53324d15",
    "deepnote_cell_type": "markdown",
    "tags": []
   },
   "source": [
    "### 6.2d\n",
    "In this notebook, after we mask the point clouds based on the segmentation results, we don't use the other point clouds again (including when we evaluate our grasp candidates). Think about how we have checked whether or not a grasp is feasible. How might discarding the point cloud data for the other objects inadvertently lead us to select an invalid grasp?"
   ]
  },
  {
   "cell_type": "markdown",
   "metadata": {
    "cell_id": "00030-217ead8e-a18a-479d-9e1b-750ff9d7f3ee",
    "deepnote_cell_type": "markdown",
    "tags": []
   },
   "source": [
    "## How will this notebook be Graded?\n",
    "\n",
    "If you are enrolled in the class, this notebook will be graded using [Gradescope](www.gradescope.com). You should have gotten the enrollement code on our announcement in Piazza. \n",
    "\n",
    "For submission of this assignment, you must do two things. \n",
    "- Download and submit the notebook `segmentation_and_grasp.ipynb` to Gradescope's notebook submission section, along with your notebook for the other problems.\n",
    "- Answer parts (b) through (d) in the written section of Gradescope as a part of your `pdf` submission. \n",
    "\n",
    "We will evaluate the local functions in the notebook to see if the function behaves as we have expected. For this exercise, the rubric is as follows:\n",
    "- [4 pts] `get_merged_masked_pcd` must be implemented correctly. \n",
    "- [2 pts] Correct answer for 6.2b\n",
    "- [2 pts] Correct answer for 6.2c\n",
    "- [2 pts] Correct answer for 6.2d"
   ]
  },
  {
   "cell_type": "code",
   "execution_count": null,
   "metadata": {
    "cell_id": "00031-3b982245-2b72-4581-9494-7f0a290ec2ef",
    "deepnote_cell_type": "code",
    "deepnote_to_be_reexecuted": false,
    "execution_millis": 993,
    "execution_start": 1634764711838,
    "source_hash": "68fcc6d0",
    "tags": []
   },
   "outputs": [],
   "source": [
    "from manipulation.exercises.segmentation.test_segmentation_and_grasp import (\n",
    "  TestSegmentationAndGrasp\n",
    ")\n",
    "from manipulation.exercises.grader import Grader\n",
    "\n",
    "Grader.grade_output([TestSegmentationAndGrasp], [locals()], 'results.json')\n",
    "Grader.print_test_results('results.json')"
   ]
  },
  {
   "cell_type": "code",
   "execution_count": null,
   "metadata": {},
   "outputs": [],
   "source": []
  }
 ],
 "metadata": {
  "celltoolbar": "Tags",
  "colab": {
   "collapsed_sections": [],
   "name": "grasp_candidate.ipynb",
   "provenance": []
  },
  "deepnote": {},
  "deepnote_execution_queue": [],
  "deepnote_notebook_id": "2c62120f-ab45-454a-9b55-d6a6ff674234",
  "kernelspec": {
   "display_name": "Python 3.10.8 64-bit",
   "language": "python",
   "name": "python3"
  },
  "language_info": {
   "codemirror_mode": {
    "name": "ipython",
    "version": 3
   },
   "file_extension": ".py",
   "mimetype": "text/x-python",
   "name": "python",
   "nbconvert_exporter": "python",
   "pygments_lexer": "ipython3",
   "version": "3.10.8"
  },
  "vscode": {
   "interpreter": {
    "hash": "b0fa6594d8f4cbf19f97940f81e996739fb7646882a419484c72d19e05852a7e"
   }
  }
 },
 "nbformat": 4,
 "nbformat_minor": 1
}