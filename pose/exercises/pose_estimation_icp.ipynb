{
 "cells": [
  {
   "cell_type": "markdown",
   "id": "77564c06",
   "metadata": {
    "colab_type": "text",
    "id": "Fi0-b4FfOFDm"
   },
   "source": [
    "## Pose Estimation with ICP"
   ]
  },
  {
   "cell_type": "code",
   "execution_count": null,
   "id": "e34ed39c",
   "metadata": {
    "colab": {},
    "colab_type": "code",
    "id": "0pI7YvFePCOG",
    "lines_to_end_of_cell_marker": 2
   },
   "outputs": [],
   "source": [
    "import numpy as np\n",
    "from pydrake.all import (\n",
    "    AddMultibodyPlantSceneGraph,\n",
    "    BaseField,\n",
    "    DiagramBuilder,\n",
    "    Fields,\n",
    "    MeshcatVisualizer,\n",
    "    Parser,\n",
    "    PointCloud,\n",
    "    Rgba,\n",
    "    RigidTransform,\n",
    "    RollPitchYaw,\n",
    "    RotationMatrix,\n",
    "    StartMeshcat,\n",
    ")\n",
    "\n",
    "from manipulation import running_as_notebook\n",
    "from manipulation.exercises.grader import Grader\n",
    "from manipulation.exercises.pose.test_pose_estimation import TestPoseEstimation\n",
    "from manipulation.icp import IterativeClosestPoint\n",
    "from manipulation.scenarios import AddMultibodyTriad\n",
    "from manipulation.station import (\n",
    "    AddPointClouds,\n",
    "    MakeHardwareStation,\n",
    "    load_scenario,\n",
    ")"
   ]
  },
  {
   "cell_type": "code",
   "execution_count": null,
   "id": "00adcffe",
   "metadata": {},
   "outputs": [],
   "source": [
    "# Start the visualizer.\n",
    "meshcat = StartMeshcat()"
   ]
  },
  {
   "cell_type": "markdown",
   "id": "e202e774",
   "metadata": {
    "colab_type": "text",
    "id": "mcSz0hOVtBd5"
   },
   "source": [
    "## Problem Description\n",
    "Last lecture, we designed pick and place trajectories **assuming** that the object pose ${}^W X^O$ was known. With all the tools we have learned for goemetric perception, it is time to relax this assumption and finally do pose estimation from sensor data.\n",
    "\n",
    "The goal of the exercise is to give you some real-world experience into what dealing with depth cameras, and what it takes to go from a real depth image to the clean ICP formulation we learned.\n",
    "\n",
    "**These are the main steps of the exercise:**\n",
    "1. Perform Segmentation on the raw pointcloud of the scene to extract pointcloud from the object.\n",
    "2. Tune an off-the-shelf ICP solver and estimate the pose of the object."
   ]
  },
  {
   "cell_type": "markdown",
   "id": "fd52e3cf",
   "metadata": {
    "colab_type": "text",
    "id": "NowURj8YP9qb"
   },
   "source": [
    "Before jumping into the main exercise, how should we computationally represent a pointcloud? If we say that pointcloud has $N$ points, then each point has a position in 3D, ${}^Cp^i$, as well as an associated color. Throughout this exercise, we will tend to store them as separate arrays of:\n",
    "- `3xN` numpy array where each row stores the XYZ position of the point in meters.\n",
    "- `3xN` numpy array where each row stores the RGB information of the point in `uint8` format.\n",
    "\n",
    "Unfortunately, numpy prefers a rowwise representation, so you might find yourself using the `.T` transpose operator to make numpy operations more natural/efficient."
   ]
  },
  {
   "cell_type": "code",
   "execution_count": null,
   "id": "b90d37be",
   "metadata": {},
   "outputs": [],
   "source": [
    "def ToPointCloud(xyzs, rgbs=None):\n",
    "    if rgbs:\n",
    "        cloud = PointCloud(\n",
    "            xyzs.shape[1], Fields(BaseField.kXYZs | BaseField.kRGBs)\n",
    "        )\n",
    "        cloud.mutable_rgbs()[:] = rgbs\n",
    "    else:\n",
    "        cloud = PointCloud(xyzs.shape[1])\n",
    "    cloud.mutable_xyzs()[:] = xyzs\n",
    "    return cloud"
   ]
  },
  {
   "cell_type": "markdown",
   "id": "582b33b2",
   "metadata": {
    "colab_type": "text",
    "id": "e9fQyeITSQkD"
   },
   "source": [
    "## Getting a Pointcloud of the Model ##\n",
    "\n",
    "Before taking a pointcloud of the **scene**, we will need a pointcloud of the **model** to compare against. Generally, this can be done by using existing tools that convert 3D representations (meshes, signed distance functions, etc.) into pointclouds.\n",
    "\n",
    "Since our red foam brick is of rectangular shape, we'll cheat a bit and generate the points procedurally. When you click the cell below, you should be able to see the red brick and our pointcloud representation of the brick as blue dots.\n",
    "\n",
    "We will save the model pointcloud in the variable `model_pcl_np`."
   ]
  },
  {
   "cell_type": "code",
   "execution_count": null,
   "id": "7addd0af",
   "metadata": {
    "colab": {},
    "colab_type": "code",
    "id": "kfyNbppxqGhr"
   },
   "outputs": [],
   "source": [
    "def visualize_red_foam_brick():\n",
    "    \"\"\"\n",
    "    Visualize red foam brick in Meshcat.\n",
    "    \"\"\"\n",
    "    builder = DiagramBuilder()\n",
    "    plant, scene_graph = AddMultibodyPlantSceneGraph(builder, time_step=0.0)\n",
    "    parser = Parser(plant)\n",
    "    parser.AddModelsFromUrl(\n",
    "        \"package://drake/examples/manipulation_station/models/061_foam_brick.sdf\"\n",
    "    )\n",
    "    AddMultibodyTriad(plant.GetFrameByName(\"base_link\"), scene_graph)\n",
    "    plant.Finalize()\n",
    "\n",
    "    # Setup Meshcat\n",
    "    MeshcatVisualizer.AddToBuilder(builder, scene_graph, meshcat)\n",
    "    diagram = builder.Build()\n",
    "    context = diagram.CreateDefaultContext()\n",
    "    diagram.ForcedPublish(context)\n",
    "\n",
    "\n",
    "def generate_model_pointcloud(xrange, yrange, zrange, res):\n",
    "    \"\"\"\n",
    "    Procedurally generate pointcloud of a rectangle for each side.\n",
    "    \"\"\"\n",
    "    # Decide on how many samples\n",
    "    x_lst = np.linspace(\n",
    "        xrange[0], xrange[1], int((xrange[1] - xrange[0]) / res)\n",
    "    )\n",
    "    y_lst = np.linspace(\n",
    "        yrange[0], yrange[1], int((yrange[1] - yrange[0]) / res)\n",
    "    )\n",
    "    z_lst = np.linspace(\n",
    "        zrange[0], zrange[1], int((zrange[1] - zrange[0]) / res)\n",
    "    )\n",
    "\n",
    "    pcl_lst = []\n",
    "    # Do XY Plane\n",
    "    for x in x_lst:\n",
    "        for y in y_lst:\n",
    "            pcl_lst.append([x, y, zrange[0]])\n",
    "            pcl_lst.append([x, y, zrange[1]])\n",
    "\n",
    "    # Do YZ Plane\n",
    "    for y in y_lst:\n",
    "        for z in z_lst:\n",
    "            pcl_lst.append([xrange[0], y, z])\n",
    "            pcl_lst.append([xrange[1], y, z])\n",
    "\n",
    "    # Do XZ Plane\n",
    "    for x in x_lst:\n",
    "        for z in z_lst:\n",
    "            pcl_lst.append([x, yrange[0], z])\n",
    "            pcl_lst.append([x, yrange[1], z])\n",
    "\n",
    "    return np.array(pcl_lst).T\n",
    "\n",
    "\n",
    "visualize_red_foam_brick()\n",
    "model_pcl_np = generate_model_pointcloud(\n",
    "    [-0.0375, 0.0375], [-0.025, 0.025], [0.0, 0.05], 0.002\n",
    ")\n",
    "meshcat.SetObject(\n",
    "    \"pcl_model\", ToPointCloud(model_pcl_np), rgba=Rgba(0, 0, 1, 1)\n",
    ")"
   ]
  },
  {
   "cell_type": "markdown",
   "id": "f731af39",
   "metadata": {
    "colab_type": "text",
    "id": "g6yaPL78TUhD"
   },
   "source": [
    "## Getting the Scene Pointcloud\n",
    "\n",
    "Now let's set up the ClutteringStation from last lecture and actually take a pointcloud snapshot of the scene with the `red_foam_brick`. We'll place the camera where we have good coverage of the bin. We'll also take a pointcloud snapshot without the `red_foam_brick` so that we can use it for segmentation later.\n",
    "\n",
    "NOTE: There are around `3e7` points that are trying to be published to the visualizer, so things might load slowly, and occasionally the Colab session might crash. Keep calm and run the cells from the beginning!"
   ]
  },
  {
   "cell_type": "code",
   "execution_count": null,
   "id": "64ee7406",
   "metadata": {
    "colab": {},
    "colab_type": "code",
    "id": "lA_9j_2pSsTY"
   },
   "outputs": [],
   "source": [
    "meshcat.Delete()\n",
    "\n",
    "\n",
    "def setup_clutter_station(with_brick=True):\n",
    "    builder = DiagramBuilder()\n",
    "\n",
    "    scenario_data = \"\"\"\n",
    "directives:\n",
    "- add_model:\n",
    "    name: bin0\n",
    "    file: package://manipulation/hydro/bin.sdf\n",
    "\n",
    "- add_weld:\n",
    "    parent: world\n",
    "    child: bin0::bin_base\n",
    "    X_PC:\n",
    "      rotation: !Rpy { deg: [0.0, 0.0, 90.0 ]}\n",
    "      translation: [-0.145, -0.63, 0.075]\n",
    "\n",
    "- add_model:\n",
    "    name: bin1\n",
    "    file: package://manipulation/hydro/bin.sdf\n",
    "\n",
    "- add_weld:\n",
    "    parent: world\n",
    "    child: bin1::bin_base\n",
    "    X_PC:\n",
    "      rotation: !Rpy { deg: [0.0, 0.0, 180.0 ]}\n",
    "      translation: [0.5, -0.1, 0.075]\n",
    "\"\"\"\n",
    "    if with_brick:\n",
    "        scenario_data += \"\"\"\n",
    "- add_model:\n",
    "    name: brick\n",
    "    file: package://manipulation/hydro/061_foam_brick.sdf\n",
    "    default_free_body_pose:\n",
    "        base_link:\n",
    "            translation: [-0.1, -0.6, 0.09]\n",
    "            rotation: !Rpy { deg: [0, 0, 18] }    \n",
    "\"\"\"\n",
    "    scenario_data += \"\"\"\n",
    "- add_model:\n",
    "    name: camera\n",
    "    file: package://manipulation/camera_box.sdf\n",
    "- add_weld:\n",
    "    parent: world\n",
    "    child: camera::base\n",
    "    X_PC:\n",
    "        translation: [-0.1, -0.8, 0.5]\n",
    "        rotation: !Rpy { deg: [-150, 0, 0] }\n",
    "cameras:\n",
    "    main_camera:\n",
    "        name: camera0\n",
    "        depth: True\n",
    "        X_PB:\n",
    "            base_frame: camera::base\n",
    "\"\"\"\n",
    "\n",
    "    scenario = load_scenario(data=scenario_data)\n",
    "    station = builder.AddSystem(MakeHardwareStation(scenario, meshcat))\n",
    "    plant = station.GetSubsystemByName(\"plant\")\n",
    "    scene_graph = station.GetSubsystemByName(\"scene_graph\")\n",
    "    AddMultibodyTriad(\n",
    "        plant.GetFrameByName(\"base\", plant.GetModelInstanceByName(\"camera\")),\n",
    "        scene_graph,\n",
    "    )\n",
    "\n",
    "    # Send the point cloud to meshcat for visualization, too.\n",
    "    to_point_cloud = AddPointClouds(\n",
    "        scenario=scenario, station=station, builder=builder, meshcat=meshcat\n",
    "    )\n",
    "    if isinstance(to_point_cloud, list):\n",
    "        # TODO(russt): Remove this after Fall 2023 pset 4 is safely wrapped up\n",
    "        builder.ExportOutput(\n",
    "            to_point_cloud[0].get_output_port(), \"camera_point_cloud\"\n",
    "        )\n",
    "    else:\n",
    "        builder.ExportOutput(\n",
    "            to_point_cloud[\"camera0\"].get_output_port(), \"camera_point_cloud\"\n",
    "        )\n",
    "\n",
    "    diagram = builder.Build()\n",
    "    diagram.set_name(\"clutter_station\")\n",
    "    return diagram\n",
    "\n",
    "\n",
    "# Take a pointcloud snapshot of the background to use for subtraction\n",
    "diagram = setup_clutter_station(with_brick=False)\n",
    "context = diagram.CreateDefaultContext()\n",
    "diagram.ForcedPublish(context)\n",
    "# Note: Use PointCloud here to make a copy of the data, since the diagram that\n",
    "# owns it will be garbage collected.\n",
    "scene_pcl_drake_background = PointCloud(\n",
    "    diagram.GetOutputPort(\"camera_point_cloud\").Eval(context)\n",
    ")\n",
    "\n",
    "# Take a pointcloud snapshot of the scene with the brick.\n",
    "diagram = setup_clutter_station(with_brick=True)\n",
    "context = diagram.CreateDefaultContext()\n",
    "diagram.ForcedPublish(context)\n",
    "scene_pcl_drake = diagram.GetOutputPort(\"camera_point_cloud\").Eval(context)\n",
    "\n",
    "plant = diagram.GetSubsystemByName(\"station\").GetSubsystemByName(\"plant\")\n",
    "plant_context = plant.GetMyContextFromRoot(context)\n",
    "X_WO = plant.EvalBodyPoseInWorld(\n",
    "    plant_context, plant.GetBodyByName(\"base_link\")\n",
    ")"
   ]
  },
  {
   "cell_type": "markdown",
   "id": "80f0694f",
   "metadata": {
    "colab_type": "text",
    "id": "MbgWqzgcUaAX"
   },
   "source": [
    "## Visualizing the Problem ##\n",
    "\n",
    "That was a lot of work, but if you run the below cell, Meshcat will finally show you a clean formulation of the main problem. We have 3 pointcloud objects in Meshcat:\n",
    "\n",
    "- `pcl_model`: Pointcloud of models\n",
    "- `pcl_scene`: Raw pointcloud of the foam-brick scene obtained from a RGBD camera.\n",
    "- `pcl_scene_background`: Raw pointcloud of the background obtained from a RGBD camera.\n",
    "\n",
    "In case you forgot, In Meshcat's menu you can go into the `meshcat` tab and turn different objects on and off so that you can see what the background pointcloud looks like as well.\n",
    "\n",
    "NOTE: You might have to wait a bit until the bin pointcloud shows up.\n",
    "\n"
   ]
  },
  {
   "cell_type": "code",
   "execution_count": null,
   "id": "e3b930de",
   "metadata": {
    "colab": {},
    "colab_type": "code",
    "id": "0zMWmIMh5upv"
   },
   "outputs": [],
   "source": [
    "meshcat.Delete()\n",
    "\n",
    "meshcat.SetObject(\n",
    "    \"pcl_model\", ToPointCloud(model_pcl_np), rgba=Rgba(0, 0, 1, 1)\n",
    ")\n",
    "meshcat.SetObject(\"pcl_scene\", scene_pcl_drake)\n",
    "meshcat.SetObject(\"pcl_scene_background\", scene_pcl_drake_background)"
   ]
  },
  {
   "cell_type": "markdown",
   "id": "e4c828e8",
   "metadata": {
    "colab_type": "text",
    "id": "TriejkVOWlsN"
   },
   "source": [
    "If we simply run ICP with `pcl_model` and `pcl_scene`, we might get a terrible result because there might be features in the background that the model is trying to run correspondence with. So we'd like to vet the problem a bit and perform **segmentation**: which parts of the scene pointcloud corresponds to an actual point on the `red_foam_brick`?\n",
    "\n",
    "\n",
    "**Now it's your turn to code!**\n",
    "\n",
    "Below, you will implement a function `segment_scene_pcl` that takes in a pointcloud of the scene and return the relevant points that are actually on the `red_foam_brick`. But here are the rules of the game:\n",
    "- You **may** use color data, the background pointcloud, and any outlier detection algorithm that you can write to perform segmentation.\n",
    "- You may **not** explicitly impose conditions on the position to filter out the data. Remember that our goal is to estimate the pose in the first place, so using position will be considered cheating.\n",
    "- You may **not** use external libraries that are not in this notebook already.\n",
    "\n",
    "In order to get full score for this assignment, you need to satisfy both criteria:\n",
    "- The number of false outliers (points which are not on the red brick but was caught by segmentation) must not exceed 80 points.\n",
    "- The number of missed inliers (points that are on the red brick but was not caught by segmentation) must not exceed 80 points.\n",
    "\n",
    "You will be able to visualize your segmented pointclouds on Meshcat by running the cell."
   ]
  },
  {
   "cell_type": "code",
   "execution_count": null,
   "id": "b8ae8137",
   "metadata": {
    "colab": {},
    "colab_type": "code",
    "id": "2OY3fQjJGU3A"
   },
   "outputs": [],
   "source": [
    "def segment_scene_pcl(\n",
    "    scene_pcl_np,\n",
    "    scene_rgb_np,\n",
    "    scene_pcl_np_background,\n",
    "    scene_rgb_np_background,\n",
    "):\n",
    "    \"\"\"\n",
    "    Inputs:\n",
    "    scene_pcl_np: 3xN np.float32 array of pointclouds, each row containing xyz\n",
    "                    position of each point in meters.\n",
    "    scene_rgb_np: 3xN np.uint8   array of pointclouds, each row containing rgb\n",
    "                    color data of each point.\n",
    "    scene_pcl_np_background: 3xN np.float32 array of pointclouds, each row\n",
    "                    containing xyz position of each point in meters.\n",
    "    scene_rgb_np_background: 3xN np.uint8   array of pointclouds, each row\n",
    "                    containing rgb color data of each point.\n",
    "\n",
    "    Outputs:\n",
    "    scene_pcl_np_filtered: 3xM np.float32 array of pointclouds that are on the\n",
    "                    foam brick.\n",
    "    \"\"\"\n",
    "    ####################\n",
    "    # Fill your code here.\n",
    "\n",
    "    scene_pcl_np_filtered = scene_pcl_np\n",
    "    ####################\n",
    "\n",
    "    return scene_pcl_np_filtered\n",
    "\n",
    "\n",
    "scene_pcl_np_filtered = segment_scene_pcl(\n",
    "    scene_pcl_drake.xyzs(),\n",
    "    scene_pcl_drake.rgbs(),\n",
    "    scene_pcl_drake_background.xyzs(),\n",
    "    scene_pcl_drake_background.rgbs(),\n",
    ")\n",
    "meshcat.SetObject(\n",
    "    \"pcl_scene_filtered\",\n",
    "    ToPointCloud(scene_pcl_np_filtered),\n",
    "    rgba=Rgba(0, 1, 0, 1),\n",
    ")"
   ]
  },
  {
   "cell_type": "markdown",
   "id": "39c495a9",
   "metadata": {
    "colab_type": "text",
    "id": "FiZex_EDa-RC"
   },
   "source": [
    "## ICP for Pose Estimation\n",
    "\n",
    "Now that we have a subset of scene points that we want to use to estimate the pose, let's do ICP to figure out what ${}^W X^O$ is. Instead of implementing your own ICP this time, we will use the version we developed in the chapter notes.\n",
    "\n",
    "We know that ICP can't work very well without even a rough initialization. Let's assume that we at least know that the `red_foam_brick` is inside the bin, so that we can initialize the ${}^W X^O$ to be at the center of the bin with an identity rotation."
   ]
  },
  {
   "cell_type": "code",
   "execution_count": null,
   "id": "ece074f4",
   "metadata": {
    "colab": {},
    "colab_type": "code",
    "id": "XADq9uCGK2rV"
   },
   "outputs": [],
   "source": [
    "initial_guess = RigidTransform()\n",
    "initial_guess.set_translation([-0.145, -0.63, 0.09])\n",
    "initial_guess.set_rotation(RotationMatrix.MakeZRotation(np.pi / 2))"
   ]
  },
  {
   "cell_type": "markdown",
   "id": "dea201ac",
   "metadata": {
    "colab_type": "text",
    "id": "Cr4AkNyohLYF"
   },
   "source": [
    "Let's run the algorithm on your processed point cloud and see how we do!\n"
   ]
  },
  {
   "cell_type": "code",
   "execution_count": null,
   "id": "7c854557",
   "metadata": {
    "colab": {},
    "colab_type": "code",
    "id": "n-wijftedyAH"
   },
   "outputs": [],
   "source": [
    "X_MS_hat, chat = IterativeClosestPoint(\n",
    "    p_Om=model_pcl_np,\n",
    "    p_Ws=scene_pcl_np_filtered,\n",
    "    X_Ohat=initial_guess,\n",
    "    meshcat=meshcat,\n",
    "    meshcat_scene_path=\"icp\",\n",
    "    max_iterations=25 if running_as_notebook else 2,\n",
    ")\n",
    "meshcat.SetObject(\n",
    "    \"pcl_estimated\", ToPointCloud(model_pcl_np), rgba=Rgba(1, 0, 1, 1)\n",
    ")\n",
    "meshcat.SetTransform(\"pcl_estimated\", X_MS_hat)\n",
    "\n",
    "np.set_printoptions(precision=3, suppress=True)\n",
    "X_OOhat = X_MS_hat.inverse().multiply(X_WO)\n",
    "\n",
    "rpy = RollPitchYaw(X_OOhat.rotation()).vector()\n",
    "xyz = X_OOhat.translation()\n",
    "\n",
    "print(\"RPY Error: \" + str(rpy))\n",
    "print(\"XYZ Error: \" + str(xyz))"
   ]
  },
  {
   "cell_type": "markdown",
   "id": "e9e8cd62",
   "metadata": {
    "colab_type": "text",
    "id": "zPmeRLtJk410"
   },
   "source": [
    "## How will this notebook be Graded?\n",
    "\n",
    "If you are enrolled in the class, this notebook will be graded using [Gradescope](www.gradescope.com). You should have gotten the enrollement code on our announcement in Piazza.\n",
    "\n",
    "For submission of this assignment, you must do as follows:.\n",
    "- Download and submit the notebook `pose_estimation_icp.ipynb` to Gradescope's notebook submission section, along with your notebook for the other problems.\n",
    "\n",
    "We will evaluate the local functions in the notebook to see if the function behaves as we have expected. For this exercise, the rubric is as follows:\n",
    "- [4 pts] `segment_scene_pcl` correctly segments the scene by having less than 80 missed inliers and 80 false outliers.\n",
    "\n",
    "Below is our autograder where you can check your score!"
   ]
  },
  {
   "cell_type": "code",
   "execution_count": null,
   "id": "bba161b0",
   "metadata": {
    "colab": {},
    "colab_type": "code",
    "id": "WrTSDUHk3S_J"
   },
   "outputs": [],
   "source": [
    "Grader.grade_output([TestPoseEstimation], [locals()], \"results.json\")\n",
    "Grader.print_test_results(\"results.json\")"
   ]
  }
 ],
 "metadata": {
  "kernelspec": {
   "display_name": "Python 3.10.6 64-bit",
   "language": "python",
   "name": "python3"
  },
  "language_info": {
   "name": "python",
   "version": "3.11.5"
  }
 },
 "nbformat": 4,
 "nbformat_minor": 5
}